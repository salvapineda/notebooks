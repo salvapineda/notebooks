{
  "nbformat": 4,
  "nbformat_minor": 0,
  "metadata": {
    "colab": {
      "name": "StochasticProgramming.ipynb",
      "provenance": [],
      "authorship_tag": "ABX9TyOj34YCa2pm1Yp/FV/mzS6e",
      "include_colab_link": true
    },
    "kernelspec": {
      "name": "python3",
      "display_name": "Python 3"
    }
  },
  "cells": [
    {
      "cell_type": "markdown",
      "metadata": {
        "id": "view-in-github",
        "colab_type": "text"
      },
      "source": [
        "<a href=\"https://colab.research.google.com/github/salvapineda/notebooks/blob/main/StochasticProgramming.ipynb\" target=\"_parent\"><img src=\"https://colab.research.google.com/assets/colab-badge.svg\" alt=\"Open In Colab\"/></a>"
      ]
    },
    {
      "cell_type": "markdown",
      "metadata": {
        "id": "mC7_5EHu4JCz"
      },
      "source": [
        "## Requirements\n",
        "\n"
      ]
    },
    {
      "cell_type": "code",
      "metadata": {
        "colab": {
          "base_uri": "https://localhost:8080/"
        },
        "id": "WdBEA2_v5fea",
        "outputId": "d02f9641-e81a-4f65-dee1-d4b8265d12c3"
      },
      "source": [
        "!pip install pyomo\n",
        "!apt-get install -y -qq glpk-utils\n",
        "import pyomo.environ as pe\n",
        "glpk = pe.SolverFactory('glpk', executable='/usr/bin/glpsol')"
      ],
      "execution_count": null,
      "outputs": [
        {
          "output_type": "stream",
          "text": [
            "Requirement already satisfied: pyomo in /usr/local/lib/python3.7/dist-packages (5.7.3)\n",
            "Requirement already satisfied: PyUtilib>=6.0.0 in /usr/local/lib/python3.7/dist-packages (from pyomo) (6.0.0)\n",
            "Requirement already satisfied: six>=1.4 in /usr/local/lib/python3.7/dist-packages (from pyomo) (1.15.0)\n",
            "Requirement already satisfied: ply in /usr/local/lib/python3.7/dist-packages (from pyomo) (3.11)\n",
            "Requirement already satisfied: nose in /usr/local/lib/python3.7/dist-packages (from PyUtilib>=6.0.0->pyomo) (1.3.7)\n"
          ],
          "name": "stdout"
        }
      ]
    },
    {
      "cell_type": "markdown",
      "metadata": {
        "id": "mwamfbFzGkp9"
      },
      "source": [
        "## Deterministic model"
      ]
    },
    {
      "cell_type": "code",
      "metadata": {
        "id": "wdHcz4CQ4Ca8",
        "colab": {
          "base_uri": "https://localhost:8080/"
        },
        "outputId": "480d37f3-cbcb-469c-8cdb-1a7c20551cc2"
      },
      "source": [
        "# Model\n",
        "m_det = pe.ConcreteModel()\n",
        "# Parameters\n",
        "m_det.dem_desk = 150\n",
        "m_det.dem_table = 125\n",
        "m_det.dem_chair = 300\n",
        "# Variables\n",
        "m_det.desk = pe.Var(within=pe.NonNegativeIntegers)\n",
        "m_det.table = pe.Var(within=pe.NonNegativeIntegers)\n",
        "m_det.chair = pe.Var(within=pe.NonNegativeIntegers)\n",
        "m_det.lumber = pe.Var(within=pe.NonNegativeReals)\n",
        "m_det.finish = pe.Var(within=pe.NonNegativeReals)\n",
        "m_det.carpen = pe.Var(within=pe.NonNegativeReals)\n",
        "# Objective function\n",
        "m_det.obj = pe.Objective(expr = 60*m_det.desk+40*m_det.table+10*m_det.chair-2*m_det.lumber-4*m_det.finish-5.2*m_det.carpen,sense=pe.maximize)\n",
        "# Constraints\n",
        "m_det.constraints = pe.ConstraintList()\n",
        "m_det.constraints.add(m_det.lumber >= 8*m_det.desk + 6*m_det.table + 1*m_det.chair)\n",
        "m_det.constraints.add(m_det.finish >= 4*m_det.desk + 2*m_det.table + 1.5*m_det.chair)\n",
        "m_det.constraints.add(m_det.carpen >= 2*m_det.desk + 1.5*m_det.table + 0.5*m_det.chair)\n",
        "m_det.constraints.add(m_det.desk <= m_det.dem_desk)\n",
        "m_det.constraints.add(m_det.table <= m_det.dem_table)\n",
        "m_det.constraints.add(m_det.chair <= m_det.dem_chair)\n",
        "# Solve problem using GLPK\n",
        "glpk.solve(m_det).write()\n",
        "# Print results\n",
        "print('Desks =',m_det.desk.value)\n",
        "print('Tables =',m_det.table.value)\n",
        "print('Chairs =',m_det.chair.value)\n",
        "print('Lumber =',m_det.lumber.value)\n",
        "print('Finishing =',m_det.finish.value)\n",
        "print('Carpentry =',m_det.carpen.value)\n",
        "print('Profit =',m_det.obj())  "
      ],
      "execution_count": null,
      "outputs": [
        {
          "output_type": "stream",
          "text": [
            "# ==========================================================\n",
            "# = Solver Results                                         =\n",
            "# ==========================================================\n",
            "# ----------------------------------------------------------\n",
            "#   Problem Information\n",
            "# ----------------------------------------------------------\n",
            "Problem: \n",
            "- Name: unknown\n",
            "  Lower bound: 4165.0\n",
            "  Upper bound: 4165.0\n",
            "  Number of objectives: 1\n",
            "  Number of constraints: 7\n",
            "  Number of variables: 7\n",
            "  Number of nonzeros: 16\n",
            "  Sense: maximize\n",
            "# ----------------------------------------------------------\n",
            "#   Solver Information\n",
            "# ----------------------------------------------------------\n",
            "Solver: \n",
            "- Status: ok\n",
            "  Termination condition: optimal\n",
            "  Statistics: \n",
            "    Branch and bound: \n",
            "      Number of bounded subproblems: 0\n",
            "      Number of created subproblems: 0\n",
            "  Error rc: 0\n",
            "  Time: 0.011560916900634766\n",
            "# ----------------------------------------------------------\n",
            "#   Solution Information\n",
            "# ----------------------------------------------------------\n",
            "Solution: \n",
            "- number of solutions: 0\n",
            "  number of solutions displayed: 0\n",
            "Desks = 150.0\n",
            "Tables = 125.0\n",
            "Chairs = 0.0\n",
            "Lumber = 1950.0\n",
            "Finishing = 850.0\n",
            "Carpentry = 487.5\n",
            "Profit = 4165.0\n"
          ],
          "name": "stdout"
        }
      ]
    },
    {
      "cell_type": "markdown",
      "metadata": {
        "id": "cBgPIcdwICWq"
      },
      "source": [
        "## Low demand scenario"
      ]
    },
    {
      "cell_type": "code",
      "metadata": {
        "colab": {
          "base_uri": "https://localhost:8080/"
        },
        "id": "6SL_jye5Hp-a",
        "outputId": "86b6762f-bae5-49e6-ff21-602488fdac48"
      },
      "source": [
        "# Model\n",
        "m_low = pe.ConcreteModel()\n",
        "# Parameters\n",
        "m_low.dem_desk = 50\n",
        "m_low.dem_table = 20\n",
        "m_low.dem_chair = 200\n",
        "m_low.lumber = 1950\n",
        "m_low.finish = 850\n",
        "m_low.carpen = 487.5\n",
        "# Variables\n",
        "m_low.desk = pe.Var(within=pe.NonNegativeIntegers)\n",
        "m_low.table = pe.Var(within=pe.NonNegativeIntegers)\n",
        "m_low.chair = pe.Var(within=pe.NonNegativeIntegers)\n",
        "# Objective function\n",
        "m_low.obj = pe.Objective(expr = 60*m_low.desk+40*m_low.table+10*m_low.chair-2*m_low.lumber-4*m_low.finish-5.2*m_low.carpen,sense=pe.maximize)\n",
        "# Constraints\n",
        "m_low.constraints = pe.ConstraintList()\n",
        "m_low.constraints.add(m_low.lumber >= 8*m_low.desk + 6*m_low.table + 1*m_low.chair)\n",
        "m_low.constraints.add(m_low.finish >= 4*m_low.desk + 2*m_low.table + 1.5*m_low.chair)\n",
        "m_low.constraints.add(m_low.carpen >= 2*m_low.desk + 1.5*m_low.table + 0.5*m_low.chair)\n",
        "m_low.constraints.add(m_low.desk <= m_low.dem_desk)\n",
        "m_low.constraints.add(m_low.table <= m_low.dem_table)\n",
        "m_low.constraints.add(m_low.chair <= m_low.dem_chair)\n",
        "# Solve problem using GLPK\n",
        "glpk.solve(m_low).write()\n",
        "profit_low = float(m_low.obj())\n",
        "# Print results\n",
        "print('Desks =',m_low.desk.value)\n",
        "print('Tables =',m_low.table.value)\n",
        "print('Chairs =',m_low.chair.value)\n",
        "print('Profit =',profit_low)  "
      ],
      "execution_count": null,
      "outputs": [
        {
          "output_type": "stream",
          "text": [
            "# ==========================================================\n",
            "# = Solver Results                                         =\n",
            "# ==========================================================\n",
            "# ----------------------------------------------------------\n",
            "#   Problem Information\n",
            "# ----------------------------------------------------------\n",
            "Problem: \n",
            "- Name: unknown\n",
            "  Lower bound: -4035.0\n",
            "  Upper bound: -4035.0\n",
            "  Number of objectives: 1\n",
            "  Number of constraints: 7\n",
            "  Number of variables: 4\n",
            "  Number of nonzeros: 13\n",
            "  Sense: maximize\n",
            "# ----------------------------------------------------------\n",
            "#   Solver Information\n",
            "# ----------------------------------------------------------\n",
            "Solver: \n",
            "- Status: ok\n",
            "  Termination condition: optimal\n",
            "  Statistics: \n",
            "    Branch and bound: \n",
            "      Number of bounded subproblems: 0\n",
            "      Number of created subproblems: 0\n",
            "  Error rc: 0\n",
            "  Time: 0.01070094108581543\n",
            "# ----------------------------------------------------------\n",
            "#   Solution Information\n",
            "# ----------------------------------------------------------\n",
            "Solution: \n",
            "- number of solutions: 0\n",
            "  number of solutions displayed: 0\n",
            "Desks = 50.0\n",
            "Tables = 20.0\n",
            "Chairs = 200.0\n",
            "Profit = -4035.0\n"
          ],
          "name": "stdout"
        }
      ]
    },
    {
      "cell_type": "markdown",
      "metadata": {
        "id": "eV_Cu_rEIIZ8"
      },
      "source": [
        "## Medium-demand scenario"
      ]
    },
    {
      "cell_type": "code",
      "metadata": {
        "colab": {
          "base_uri": "https://localhost:8080/"
        },
        "id": "1LfZrNFnIHh0",
        "outputId": "699bf2d2-b1f2-4dde-dc18-df1f6b7bf400"
      },
      "source": [
        "# Model\n",
        "m_med = pe.ConcreteModel()\n",
        "# Parameters\n",
        "m_med.dem_desk = 150\n",
        "m_med.dem_table = 110\n",
        "m_med.dem_chair = 225\n",
        "m_med.lumber = 1950\n",
        "m_med.finish = 850\n",
        "m_med.carpen = 487.5\n",
        "# Variables\n",
        "m_med.desk = pe.Var(within=pe.NonNegativeIntegers)\n",
        "m_med.table = pe.Var(within=pe.NonNegativeIntegers)\n",
        "m_med.chair = pe.Var(within=pe.NonNegativeIntegers)\n",
        "# Objective function\n",
        "m_med.obj = pe.Objective(expr = 60*m_med.desk+40*m_med.table+10*m_med.chair-2*m_med.lumber-4*m_med.finish-5.2*m_med.carpen,sense=pe.maximize)\n",
        "# Constraints\n",
        "m_med.constraints = pe.ConstraintList()\n",
        "m_med.constraints.add(m_med.lumber >= 8*m_med.desk + 6*m_med.table + 1*m_med.chair)\n",
        "m_med.constraints.add(m_med.finish >= 4*m_med.desk + 2*m_med.table + 1.5*m_med.chair)\n",
        "m_med.constraints.add(m_med.carpen >= 2*m_med.desk + 1.5*m_med.table + 0.5*m_med.chair)\n",
        "m_med.constraints.add(m_med.desk <= m_med.dem_desk)\n",
        "m_med.constraints.add(m_med.table <= m_med.dem_table)\n",
        "m_med.constraints.add(m_med.chair <= m_med.dem_chair)\n",
        "# Solve problem using GLPK\n",
        "glpk.solve(m_med).write()\n",
        "profit_med = float(m_med.obj())\n",
        "# Print results\n",
        "print('Desks =',m_med.desk.value)\n",
        "print('Tables =',m_med.table.value)\n",
        "print('Chairs =',m_med.chair.value)\n",
        "print('Profit =',profit_med)  "
      ],
      "execution_count": null,
      "outputs": [
        {
          "output_type": "stream",
          "text": [
            "# ==========================================================\n",
            "# = Solver Results                                         =\n",
            "# ==========================================================\n",
            "# ----------------------------------------------------------\n",
            "#   Problem Information\n",
            "# ----------------------------------------------------------\n",
            "Problem: \n",
            "- Name: unknown\n",
            "  Lower bound: 3765.0\n",
            "  Upper bound: 3765.0\n",
            "  Number of objectives: 1\n",
            "  Number of constraints: 7\n",
            "  Number of variables: 4\n",
            "  Number of nonzeros: 13\n",
            "  Sense: maximize\n",
            "# ----------------------------------------------------------\n",
            "#   Solver Information\n",
            "# ----------------------------------------------------------\n",
            "Solver: \n",
            "- Status: ok\n",
            "  Termination condition: optimal\n",
            "  Statistics: \n",
            "    Branch and bound: \n",
            "      Number of bounded subproblems: 1\n",
            "      Number of created subproblems: 1\n",
            "  Error rc: 0\n",
            "  Time: 0.011071205139160156\n",
            "# ----------------------------------------------------------\n",
            "#   Solution Information\n",
            "# ----------------------------------------------------------\n",
            "Solution: \n",
            "- number of solutions: 0\n",
            "  number of solutions displayed: 0\n",
            "Desks = 150.0\n",
            "Tables = 110.0\n",
            "Chairs = 20.0\n",
            "Profit = 3765.0\n"
          ],
          "name": "stdout"
        }
      ]
    },
    {
      "cell_type": "markdown",
      "metadata": {
        "id": "fq-GSdfKI5O4"
      },
      "source": [
        "## High-demand scenario"
      ]
    },
    {
      "cell_type": "code",
      "metadata": {
        "colab": {
          "base_uri": "https://localhost:8080/"
        },
        "id": "hB6CxqlxIebB",
        "outputId": "4c6bc307-67f4-4a8d-d2e4-cbf096631ed4"
      },
      "source": [
        "# Model\n",
        "m_hig = pe.ConcreteModel()\n",
        "# Parameters\n",
        "m_hig.dem_desk = 250\n",
        "m_hig.dem_table = 250\n",
        "m_hig.dem_chair = 500\n",
        "m_hig.lumber = 1950\n",
        "m_hig.finish = 850\n",
        "m_hig.carpen = 487.5\n",
        "# Variables\n",
        "m_hig.desk = pe.Var(within=pe.NonNegativeIntegers)\n",
        "m_hig.table = pe.Var(within=pe.NonNegativeIntegers)\n",
        "m_hig.chair = pe.Var(within=pe.NonNegativeIntegers)\n",
        "# Objective function\n",
        "m_hig.obj = pe.Objective(expr = 60*m_hig.desk+40*m_hig.table+10*m_hig.chair-2*m_hig.lumber-4*m_hig.finish-5.2*m_hig.carpen,sense=pe.maximize)\n",
        "# Constraints\n",
        "m_hig.constraints = pe.ConstraintList()\n",
        "m_hig.constraints.add(m_hig.lumber >= 8*m_hig.desk + 6*m_hig.table + 1*m_hig.chair)\n",
        "m_hig.constraints.add(m_hig.finish >= 4*m_hig.desk + 2*m_hig.table + 1.5*m_hig.chair)\n",
        "m_hig.constraints.add(m_hig.carpen >= 2*m_hig.desk + 1.5*m_hig.table + 0.5*m_hig.chair)\n",
        "m_hig.constraints.add(m_hig.desk <= m_hig.dem_desk)\n",
        "m_hig.constraints.add(m_hig.table <= m_hig.dem_table)\n",
        "m_hig.constraints.add(m_hig.chair <= m_hig.dem_chair)\n",
        "# Solve problem using GLPK\n",
        "glpk.solve(m_hig).write()\n",
        "profit_hig = float(m_hig.obj())\n",
        "# Print results\n",
        "print('Desks =',m_hig.desk.value)\n",
        "print('Tables =',m_hig.table.value)\n",
        "print('Chairs =',m_hig.chair.value)\n",
        "print('Profit =',profit_hig)"
      ],
      "execution_count": null,
      "outputs": [
        {
          "output_type": "stream",
          "text": [
            "# ==========================================================\n",
            "# = Solver Results                                         =\n",
            "# ==========================================================\n",
            "# ----------------------------------------------------------\n",
            "#   Problem Information\n",
            "# ----------------------------------------------------------\n",
            "Problem: \n",
            "- Name: unknown\n",
            "  Lower bound: 4165.0\n",
            "  Upper bound: 4165.0\n",
            "  Number of objectives: 1\n",
            "  Number of constraints: 7\n",
            "  Number of variables: 4\n",
            "  Number of nonzeros: 13\n",
            "  Sense: maximize\n",
            "# ----------------------------------------------------------\n",
            "#   Solver Information\n",
            "# ----------------------------------------------------------\n",
            "Solver: \n",
            "- Status: ok\n",
            "  Termination condition: optimal\n",
            "  Statistics: \n",
            "    Branch and bound: \n",
            "      Number of bounded subproblems: 1\n",
            "      Number of created subproblems: 1\n",
            "  Error rc: 0\n",
            "  Time: 0.011442422866821289\n",
            "# ----------------------------------------------------------\n",
            "#   Solution Information\n",
            "# ----------------------------------------------------------\n",
            "Solution: \n",
            "- number of solutions: 0\n",
            "  number of solutions displayed: 0\n",
            "Desks = 150.0\n",
            "Tables = 125.0\n",
            "Chairs = 0.0\n",
            "Profit = 4165.0\n"
          ],
          "name": "stdout"
        }
      ]
    },
    {
      "cell_type": "markdown",
      "metadata": {
        "id": "emkA3gsAI9vN"
      },
      "source": [
        "## Compute average profit"
      ]
    },
    {
      "cell_type": "code",
      "metadata": {
        "colab": {
          "base_uri": "https://localhost:8080/"
        },
        "id": "ogxh0ikT9OaK",
        "outputId": "fd3f6b74-e611-4888-d4fa-ede8676bd215"
      },
      "source": [
        "profit_ave = 0.3*profit_low + 0.4*profit_med + 0.3*profit_hig\n",
        "print('Average profit =',profit_ave)"
      ],
      "execution_count": null,
      "outputs": [
        {
          "output_type": "stream",
          "text": [
            "Average profit = 1545.0\n"
          ],
          "name": "stdout"
        }
      ]
    },
    {
      "cell_type": "markdown",
      "metadata": {
        "id": "IFGBG0iaJA-4"
      },
      "source": [
        "## Stochastic problem"
      ]
    },
    {
      "cell_type": "code",
      "metadata": {
        "colab": {
          "base_uri": "https://localhost:8080/"
        },
        "id": "bLOnwlih_why",
        "outputId": "70013637-d684-4d5b-c1fd-01afe51eedd6"
      },
      "source": [
        "# Model\n",
        "m_sto = pe.ConcreteModel()\n",
        "# Sets\n",
        "m_sto.w = pe.Set(initialize=range(3),ordered=True)\n",
        "# Parameters\n",
        "m_sto.dem_desk = [50,150,250]\n",
        "m_sto.dem_table = [20,110,250]\n",
        "m_sto.dem_chair = [200,225,500]\n",
        "m_sto.prob = [0.3,0.4,0.3]\n",
        "# First-stage variables\n",
        "m_sto.lumber = pe.Var(within=pe.NonNegativeReals)\n",
        "m_sto.finish = pe.Var(within=pe.NonNegativeReals)\n",
        "m_sto.carpen = pe.Var(within=pe.NonNegativeReals)\n",
        "# Second-stage variables\n",
        "m_sto.desk = pe.Var(m_sto.w,within=pe.NonNegativeIntegers)\n",
        "m_sto.table = pe.Var(m_sto.w,within=pe.NonNegativeIntegers)\n",
        "m_sto.chair = pe.Var(m_sto.w,within=pe.NonNegativeIntegers)\n",
        "# Objective function\n",
        "m_sto.obj = pe.Objective(expr = sum(m_sto.prob[w]*(60*m_sto.desk[w]+40*m_sto.table[w]+10*m_sto.chair[w]) for w in m_sto.w) - 2*m_sto.lumber - 4*m_sto.finish - 5.2*m_sto.carpen,sense=pe.maximize)\n",
        "# Constraints\n",
        "m_sto.constraints = pe.ConstraintList()\n",
        "for w in m_sto.w:\n",
        "  m_sto.constraints.add(m_sto.lumber >= 8*m_sto.desk[w] + 6*m_sto.table[w] + 1*m_sto.chair[w])\n",
        "  m_sto.constraints.add(m_sto.finish >= 4*m_sto.desk[w] + 2*m_sto.table[w] + 1.5*m_sto.chair[w])\n",
        "  m_sto.constraints.add(m_sto.carpen >= 2*m_sto.desk[w] + 1.5*m_sto.table[w] + 0.5*m_sto.chair[w])\n",
        "  m_sto.constraints.add(m_sto.desk[w] <= m_sto.dem_desk[w])\n",
        "  m_sto.constraints.add(m_sto.table[w] <= m_sto.dem_table[w])\n",
        "  m_sto.constraints.add(m_sto.chair[w] <= m_sto.dem_chair[w])\n",
        "# Solve problem using GLPK\n",
        "glpk.solve(m_sto).write()\n",
        "profit_sto = float(m_sto.obj())\n",
        "# Print results\n",
        "print('Lumber =',m_sto.lumber.value)\n",
        "print('Finishing =',m_sto.finish.value)\n",
        "print('Carpentry =',m_sto.carpen.value)\n",
        "print('Profit =',profit_sto) "
      ],
      "execution_count": null,
      "outputs": [
        {
          "output_type": "stream",
          "text": [
            "# ==========================================================\n",
            "# = Solver Results                                         =\n",
            "# ==========================================================\n",
            "# ----------------------------------------------------------\n",
            "#   Problem Information\n",
            "# ----------------------------------------------------------\n",
            "Problem: \n",
            "- Name: unknown\n",
            "  Lower bound: 1730.0\n",
            "  Upper bound: 1730.0\n",
            "  Number of objectives: 1\n",
            "  Number of constraints: 19\n",
            "  Number of variables: 13\n",
            "  Number of nonzeros: 46\n",
            "  Sense: maximize\n",
            "# ----------------------------------------------------------\n",
            "#   Solver Information\n",
            "# ----------------------------------------------------------\n",
            "Solver: \n",
            "- Status: ok\n",
            "  Termination condition: optimal\n",
            "  Statistics: \n",
            "    Branch and bound: \n",
            "      Number of bounded subproblems: 1\n",
            "      Number of created subproblems: 1\n",
            "  Error rc: 0\n",
            "  Time: 0.013987541198730469\n",
            "# ----------------------------------------------------------\n",
            "#   Solution Information\n",
            "# ----------------------------------------------------------\n",
            "Solution: \n",
            "- number of solutions: 0\n",
            "  number of solutions displayed: 0\n",
            "Lumber = 1300.0\n",
            "Finishing = 540.0\n",
            "Carpentry = 325.0\n",
            "Profit = 1730.0\n"
          ],
          "name": "stdout"
        }
      ]
    },
    {
      "cell_type": "markdown",
      "metadata": {
        "id": "q1pGlI-nKIZb"
      },
      "source": [
        "## Value of Stochastic Solution (VSS)"
      ]
    },
    {
      "cell_type": "code",
      "metadata": {
        "colab": {
          "base_uri": "https://localhost:8080/"
        },
        "id": "TN1RZ8jMK6wy",
        "outputId": "2e3feba7-b360-4fb0-b102-c5fda57e1abc"
      },
      "source": [
        "vss = 100*(profit_sto-profit_ave)/profit_ave\n",
        "print('VSS =',round(vss))"
      ],
      "execution_count": null,
      "outputs": [
        {
          "output_type": "stream",
          "text": [
            "VSS = 11.974110032362459\n"
          ],
          "name": "stdout"
        }
      ]
    }
  ]
}