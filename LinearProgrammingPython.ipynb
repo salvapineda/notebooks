{
  "nbformat": 4,
  "nbformat_minor": 0,
  "metadata": {
    "colab": {
      "name": "LinearProgrammingPython.ipynb",
      "provenance": [],
      "authorship_tag": "ABX9TyP6u8meaPZ0Ku/MAlrVNZ/M",
      "include_colab_link": true
    },
    "kernelspec": {
      "name": "python3",
      "display_name": "Python 3"
    }
  },
  "cells": [
    {
      "cell_type": "markdown",
      "metadata": {
        "id": "view-in-github",
        "colab_type": "text"
      },
      "source": [
        "<a href=\"https://colab.research.google.com/github/salvapineda/notebooks/blob/main/LinearProgrammingPython.ipynb\" target=\"_parent\"><img src=\"https://colab.research.google.com/assets/colab-badge.svg\" alt=\"Open In Colab\"/></a>"
      ]
    },
    {
      "cell_type": "markdown",
      "metadata": {
        "id": "vjSEzfYjDcXK"
      },
      "source": [
        "# Linear Programming in Python\n",
        "\n",
        "This notebook compares different Python alternatives to solve the following standar linear programming problems \n",
        "\n",
        "$$\n",
        "\\begin{align}\n",
        "\\underset{x}{\\min} \\quad & c^Tx \\\\\n",
        "\\text{s.t.} \\quad & Ax \\leq b\\\\\n",
        " & l \\leq x \\leq u\\\n",
        "\\end{align}\n",
        "$$\n",
        "\n",
        "where $x\\in\\mathbb{R}^n$, $c\\in\\mathbb{R}^n$, $l\\in\\mathbb{R}^n$, $u\\in\\mathbb{R}^n$, $A\\in\\mathbb{R}^{m\\times n}$, $b\\in\\mathbb{R}^m$. Elements of $A,b,c,l,u$ are randomly generating using normal or uniform distributions."
      ]
    },
    {
      "cell_type": "markdown",
      "metadata": {
        "id": "Iv9DqQ2XSRj7"
      },
      "source": [
        "## Requirements"
      ]
    },
    {
      "cell_type": "code",
      "metadata": {
        "id": "tFpa-JQbR-tv"
      },
      "source": [
        "!pip install -q pyomo\n",
        "!pip install -q gurobipy\n",
        "!pip install -q docplex\n",
        "!pip install -q pulp\n",
        "!pip install -q cplex\n",
        "!apt-get install -y -qq glpk-utils\n",
        "import time\n",
        "import pulp as pu\n",
        "import numpy as np\n",
        "import cplex\n",
        "import pyomo.environ as pe\n",
        "import pyomo.kernel as pk\n",
        "import gurobipy as gp\n",
        "from scipy.optimize import linprog\n",
        "from pyomo.core.expr.numeric_expr import LinearExpression\n",
        "from gurobipy import GRB\n",
        "from docplex.mp.model import Model\n",
        "glpk = pe.SolverFactory('glpk', executable='/usr/bin/glpsol')"
      ],
      "execution_count": 4,
      "outputs": []
    },
    {
      "cell_type": "markdown",
      "metadata": {
        "id": "BT3FQmJt_gin"
      },
      "source": [
        "## Create random vectors and matrix of linear problem"
      ]
    },
    {
      "cell_type": "code",
      "metadata": {
        "id": "P5Areoe857kc"
      },
      "source": [
        "# Number of variables (nvar) and constraints (ncon)\n",
        "nvar = 1000\n",
        "ncon = 200\n",
        "# Random vectors and matrix of linear problem\n",
        "c = np.random.normal(0,1,size=nvar)\n",
        "A = np.random.normal(0,5,size=(ncon,nvar))\n",
        "b = np.random.uniform(0,30,ncon)\n",
        "u = np.random.uniform(10,20,nvar)\n",
        "l = np.random.uniform(0,10,nvar)"
      ],
      "execution_count": 5,
      "outputs": []
    },
    {
      "cell_type": "markdown",
      "metadata": {
        "id": "cBRj109D_m6N"
      },
      "source": [
        "## SCIPY ([link](https://docs.scipy.org/doc/scipy/reference/generated/scipy.optimize.linprog.html))"
      ]
    },
    {
      "cell_type": "code",
      "metadata": {
        "id": "i1RuqhGs6SKS",
        "colab": {
          "base_uri": "https://localhost:8080/"
        },
        "outputId": "59e80227-4942-4cb3-9906-4a35a96b0a55"
      },
      "source": [
        "start = time.time()\n",
        "# Solve problem\n",
        "res = linprog(c, A_ub=A, b_ub=b, bounds=[(l[i],u[i]) for i in range(nvar)])\n",
        "# Print results\n",
        "print('obj =',res.fun)\n",
        "print('time =',time.time()-start)\n"
      ],
      "execution_count": 6,
      "outputs": [
        {
          "output_type": "stream",
          "text": [
            "/usr/local/lib/python3.7/dist-packages/numpy/core/fromnumeric.py:87: VisibleDeprecationWarning: Creating an ndarray from ragged nested sequences (which is a list-or-tuple of lists-or-tuples-or ndarrays with different lengths or shapes) is deprecated. If you meant to do this, you must specify 'dtype=object' when creating the ndarray\n",
            "  return ufunc.reduce(obj, axis, dtype, out, **passkwargs)\n"
          ],
          "name": "stderr"
        },
        {
          "output_type": "stream",
          "text": [
            "obj = -1931.9489022809098\n",
            "time = 9.434518337249756\n"
          ],
          "name": "stdout"
        }
      ]
    },
    {
      "cell_type": "markdown",
      "metadata": {
        "id": "s7G8_UyA_rDY"
      },
      "source": [
        "## PULP ([link](https://coin-or.github.io/pulp/))"
      ]
    },
    {
      "cell_type": "code",
      "metadata": {
        "id": "aaPSPO1Y6pEo",
        "colab": {
          "base_uri": "https://localhost:8080/"
        },
        "outputId": "db4bca44-ccda-4b94-9813-d8c2dd096a82"
      },
      "source": [
        "start = time.time()\n",
        "# Model\n",
        "m = pu.LpProblem('LinearProblem',pu.LpMinimize)\n",
        "# Variables\n",
        "x = [pu.LpVariable('x'+str(i+1), lowBound=l[i], upBound=u[i], cat=\"Continuous\") for i in range(nvar)]\n",
        "# Objective function\n",
        "m += sum(c[i]*x[i] for i in range(nvar))\n",
        "# Constraints\n",
        "for j in range(ncon):\n",
        "  m += sum(A[j,i]*x[i] for i in range(nvar)) <= b[j]\n",
        "# Solve problem\n",
        "m.solve()\n",
        "# Princ results\n",
        "print('obj =',pu.value(m.objective))\n",
        "print('time =',time.time()-start)"
      ],
      "execution_count": 7,
      "outputs": [
        {
          "output_type": "stream",
          "text": [
            "obj = -1931.9534827988464\n",
            "time = 57.86502552032471\n"
          ],
          "name": "stdout"
        }
      ]
    },
    {
      "cell_type": "markdown",
      "metadata": {
        "id": "ffF4QCfKCklH"
      },
      "source": [
        "## PYOMO + GLPK ([link](https://pyomo.readthedocs.io/en/stable/))\n",
        "\n"
      ]
    },
    {
      "cell_type": "markdown",
      "metadata": {
        "id": "0uYeph88DM2h"
      },
      "source": [
        "### Enviroment mode"
      ]
    },
    {
      "cell_type": "code",
      "metadata": {
        "id": "p4l5jqeB_wtC",
        "colab": {
          "base_uri": "https://localhost:8080/"
        },
        "outputId": "90220fee-7138-4d48-cc90-ba4d4bde2bac"
      },
      "source": [
        "start = time.time()\n",
        "# Model\n",
        "m = pe.ConcreteModel()\n",
        "# Sets\n",
        "m.i = pe.Set(initialize=range(nvar),ordered=True)\n",
        "m.j = pe.Set(initialize=range(ncon),ordered=True)\n",
        "# Variables\n",
        "def bounds_x(m,i):\n",
        "  return (l[i], u[i])\n",
        "m.x = pe.Var(m.i,bounds=bounds_x)\n",
        "# Objective function\n",
        "def obj_rule(m):\n",
        "  #return sum(c[i]*m.x[i] for i in m.i)\n",
        "  #return pe.quicksum(c[i]*m.x[i] for i in m.i)\n",
        "  return LinearExpression(constant=0, linear_coefs=[c[i] for i in m.i], linear_vars=[m.x[i] for i in m.i])\n",
        "m.obj = pe.Objective(rule=obj_rule)\n",
        "# Constraints\n",
        "def con_rule(m,j):\n",
        "  #return sum(A[j,i]*m.x[i] for i in m.i) <= b[j]\n",
        "  #return pe.quicksum(A[j,i]*m.x[i] for i in m.i) <= b[j]\n",
        "  return LinearExpression(constant=0, linear_coefs=[A[j,i] for i in m.i], linear_vars=[m.x[i] for i in m.i]) <= b[j]\n",
        "m.con = pe.Constraint(m.j,rule=con_rule)\n",
        "# Solve the problem\n",
        "glpk.solve(m)\n",
        "# Print results\n",
        "print('obj =',m.obj())\n",
        "print('time =',time.time()-start)"
      ],
      "execution_count": 8,
      "outputs": [
        {
          "output_type": "stream",
          "text": [
            "obj = -1931.9534884056823\n",
            "time = 2.2824199199676514\n"
          ],
          "name": "stdout"
        }
      ]
    },
    {
      "cell_type": "markdown",
      "metadata": {
        "id": "kdMa_xTDDQaj"
      },
      "source": [
        "### Kernel mode"
      ]
    },
    {
      "cell_type": "code",
      "metadata": {
        "colab": {
          "base_uri": "https://localhost:8080/"
        },
        "id": "Pj3vwIQKDSfv",
        "outputId": "60289e64-1d1b-4e1e-880a-1cdf9be2b786"
      },
      "source": [
        "start = time.time()\n",
        "# Model\n",
        "m = pk.block()\n",
        "# Sets\n",
        "m.i = [i for i in range(nvar)]\n",
        "m.j = [j for j in range(ncon)]\n",
        "# Variables\n",
        "m.x = pk.variable_list()\n",
        "for i in m.i:\n",
        "  m.x.append(pk.variable(lb=l[i],ub=u[i]))\n",
        "# Objective function\n",
        "m.obj = pk.objective(LinearExpression(constant=0, linear_coefs=[c[i] for i in m.i], linear_vars=[m.x[i] for i in m.i]))\n",
        "# Constraints\n",
        "m.con = pk.matrix_constraint(A, ub=b, x=[m.x[i] for i in m.i])\n",
        "# Solve the problem\n",
        "glpk.solve(m)\n",
        "# Print results\n",
        "print('obj =',m.obj())\n",
        "print('time =',time.time()-start)"
      ],
      "execution_count": 9,
      "outputs": [
        {
          "output_type": "stream",
          "text": [
            "obj = -1931.9534884056823\n",
            "time = 2.5167713165283203\n"
          ],
          "name": "stdout"
        }
      ]
    },
    {
      "cell_type": "markdown",
      "metadata": {
        "id": "gz3UJ2RL8JXj"
      },
      "source": [
        "## GUROBIPY ([link](https://pypi.org/project/gurobipy/))"
      ]
    },
    {
      "cell_type": "markdown",
      "metadata": {
        "id": "dKek1lmV9u3M"
      },
      "source": [
        "### Matrix notation"
      ]
    },
    {
      "cell_type": "code",
      "metadata": {
        "colab": {
          "base_uri": "https://localhost:8080/"
        },
        "id": "psmH_Hxe8azS",
        "outputId": "21bb1ca9-cc8b-4cb0-971f-d0708c868457"
      },
      "source": [
        " start = time.time()\n",
        " # Model\n",
        " m = gp.Model()\n",
        " # Variables\n",
        " x = m.addMVar(shape=nvar,lb=l,ub=u,vtype=GRB.CONTINUOUS)\n",
        " # Objective function\n",
        " m.setObjective(c @ x, GRB.MINIMIZE)\n",
        " # Constraints\n",
        " m.addConstr(A @ x <= b)\n",
        " # Solve the problem\n",
        " m.optimize()\n",
        " # Print results\n",
        " print('obj =',m.ObjVal)\n",
        " print('time =',time.time()-start)\n"
      ],
      "execution_count": 10,
      "outputs": [
        {
          "output_type": "stream",
          "text": [
            "Restricted license - for non-production use only - expires 2022-01-13\n",
            "Gurobi Optimizer version 9.1.2 build v9.1.2rc0 (linux64)\n",
            "Thread count: 1 physical cores, 2 logical processors, using up to 2 threads\n",
            "Optimize a model with 200 rows, 1000 columns and 200000 nonzeros\n",
            "Model fingerprint: 0x180fd1dc\n",
            "Coefficient statistics:\n",
            "  Matrix range     [8e-05, 2e+01]\n",
            "  Objective range  [4e-04, 4e+00]\n",
            "  Bounds range     [3e-03, 2e+01]\n",
            "  RHS range        [5e-02, 3e+01]\n",
            "Presolve time: 0.09s\n",
            "Presolved: 200 rows, 1000 columns, 200000 nonzeros\n",
            "\n",
            "Iteration    Objective       Primal Inf.    Dual Inf.      Time\n",
            "       0   -1.4296535e+06   7.927222e+06   0.000000e+00      0s\n",
            "     549   -1.9319535e+03   0.000000e+00   0.000000e+00      0s\n",
            "\n",
            "Solved in 549 iterations and 0.26 seconds\n",
            "Optimal objective -1.931953488e+03\n",
            "obj = -1931.9534884057082\n",
            "time = 0.3106820583343506\n"
          ],
          "name": "stdout"
        }
      ]
    },
    {
      "cell_type": "markdown",
      "metadata": {
        "id": "NILiAkus_Dbj"
      },
      "source": [
        "### Constraint notation"
      ]
    },
    {
      "cell_type": "code",
      "metadata": {
        "colab": {
          "base_uri": "https://localhost:8080/"
        },
        "id": "UjrIQ56H-F26",
        "outputId": "45a11c59-369c-4608-9319-42c74693ca5d"
      },
      "source": [
        "start = time.time()\n",
        "# Model\n",
        "m = gp.Model()\n",
        "# Variables\n",
        "x = m.addVars(nvar,lb=l,ub=u,vtype=GRB.CONTINUOUS)\n",
        "# Objective function\n",
        "m.setObjective(gp.LinExpr(c,x.values()),GRB.MINIMIZE)\n",
        "# Constraints\n",
        "m.addConstrs((gp.LinExpr(A[j,:],x.values()) <= b[j] for j in range(ncon)))\n",
        "# Solve the problem\n",
        "m.optimize()\n",
        "# Print results\n",
        "print('obj = ',m.ObjVal)\n",
        "print('time =',time.time()-start)"
      ],
      "execution_count": 11,
      "outputs": [
        {
          "output_type": "stream",
          "text": [
            "Gurobi Optimizer version 9.1.2 build v9.1.2rc0 (linux64)\n",
            "Thread count: 1 physical cores, 2 logical processors, using up to 2 threads\n",
            "Optimize a model with 200 rows, 1000 columns and 200000 nonzeros\n",
            "Model fingerprint: 0x180fd1dc\n",
            "Coefficient statistics:\n",
            "  Matrix range     [8e-05, 2e+01]\n",
            "  Objective range  [4e-04, 4e+00]\n",
            "  Bounds range     [3e-03, 2e+01]\n",
            "  RHS range        [5e-02, 3e+01]\n",
            "Presolve time: 0.10s\n",
            "Presolved: 200 rows, 1000 columns, 200000 nonzeros\n",
            "\n",
            "Iteration    Objective       Primal Inf.    Dual Inf.      Time\n",
            "       0   -1.4296535e+06   7.927222e+06   0.000000e+00      0s\n",
            "     549   -1.9319535e+03   0.000000e+00   0.000000e+00      0s\n",
            "\n",
            "Solved in 549 iterations and 0.26 seconds\n",
            "Optimal objective -1.931953488e+03\n",
            "obj =  -1931.9534884057082\n",
            "time = 0.48479795455932617\n"
          ],
          "name": "stdout"
        }
      ]
    },
    {
      "cell_type": "markdown",
      "metadata": {
        "id": "oy6jZJHvA85R"
      },
      "source": [
        "## DOCPLEX ([link](https://pypi.org/project/docplex/))"
      ]
    },
    {
      "cell_type": "code",
      "metadata": {
        "colab": {
          "base_uri": "https://localhost:8080/"
        },
        "id": "mqxk43rBBNOp",
        "outputId": "00c8a341-b767-4e7f-fc26-d4a46af78476"
      },
      "source": [
        "start = time.time()\n",
        "# Model\n",
        "m = Model(name='LP')\n",
        "# Sets\n",
        "m.i = range(nvar)\n",
        "m.j = range(ncon)\n",
        "# Variables\n",
        "x = m.continuous_var_list(m.i,lb=l,ub=u)\n",
        "# Objective function\n",
        "m.minimize(m.sum(c[i]*x[i] for i in m.i))\n",
        "# Constraints\n",
        "for j in m.j:\n",
        "  m.add_constraint(m.sum(A[j,i]*x[i] for i in m.i) <= b[j])\n",
        "# Solve the problem\n",
        "res = m.solve()\n",
        "# Print results\n",
        "print('obj =',res.objective_value)\n",
        "print('time =',time.time()-start)"
      ],
      "execution_count": 12,
      "outputs": [
        {
          "output_type": "stream",
          "text": [
            "obj = -1931.9534884057075\n",
            "time = 1.2735075950622559\n"
          ],
          "name": "stdout"
        }
      ]
    }
  ]
}