{
  "nbformat": 4,
  "nbformat_minor": 0,
  "metadata": {
    "colab": {
      "name": "LinearProgrammingPython.ipynb",
      "provenance": [],
      "authorship_tag": "ABX9TyOPhKXIlVQQqkSxx+XhbD1b",
      "include_colab_link": true
    },
    "kernelspec": {
      "name": "python3",
      "display_name": "Python 3"
    }
  },
  "cells": [
    {
      "cell_type": "markdown",
      "metadata": {
        "id": "view-in-github",
        "colab_type": "text"
      },
      "source": [
        "<a href=\"https://colab.research.google.com/github/salvapineda/notebooks/blob/main/LinearProgrammingPython.ipynb\" target=\"_parent\"><img src=\"https://colab.research.google.com/assets/colab-badge.svg\" alt=\"Open In Colab\"/></a>"
      ]
    },
    {
      "cell_type": "markdown",
      "metadata": {
        "id": "vjSEzfYjDcXK"
      },
      "source": [
        "# Linear Programming in Python\n",
        "\n",
        "This notebook compares different Python alternatives to solve the following standar linear programming problems \n",
        "\n",
        "$$\n",
        "\\begin{align}\n",
        "\\underset{x}{\\min} \\quad & c^Tx \\\\\n",
        "\\text{s.t.} \\quad & Ax \\leq b\\\\\n",
        " & l \\leq x \\leq u\\\n",
        "\\end{align}\n",
        "$$\n",
        "\n",
        "where $x\\in\\mathbb{R}^n$, $c\\in\\mathbb{R}^n$, $l\\in\\mathbb{R}^n$, $u\\in\\mathbb{R}^n$, $A\\in\\mathbb{R}^{m\\times n}$, $b\\in\\mathbb{R}^m$. Elements of $A,b,c,l,u$ are randomly generating using normal or uniform distributions."
      ]
    },
    {
      "cell_type": "markdown",
      "metadata": {
        "id": "Iv9DqQ2XSRj7"
      },
      "source": [
        "## Requirements"
      ]
    },
    {
      "cell_type": "code",
      "metadata": {
        "id": "tFpa-JQbR-tv"
      },
      "source": [
        "!pip install -q pyomo\n",
        "!pip install -q gurobipy\n",
        "!pip install -q docplex\n",
        "!pip install -q pulp\n",
        "!pip install -q cplex\n",
        "!apt-get install -y -qq glpk-utils\n",
        "import time\n",
        "import pulp as pu\n",
        "import numpy as np\n",
        "import pyomo.environ as pe\n",
        "import pyomo.kernel as pk\n",
        "import gurobipy as gp\n",
        "from scipy.optimize import linprog\n",
        "from pyomo.core.expr.numeric_expr import LinearExpression\n",
        "from gurobipy import GRB\n",
        "from docplex.mp.model import Model\n",
        "glpk = pe.SolverFactory('glpk', executable='/usr/bin/glpsol')"
      ],
      "execution_count": 39,
      "outputs": []
    },
    {
      "cell_type": "markdown",
      "metadata": {
        "id": "BT3FQmJt_gin"
      },
      "source": [
        "## Create random vectors and matrix of linear problem"
      ]
    },
    {
      "cell_type": "code",
      "metadata": {
        "id": "P5Areoe857kc"
      },
      "source": [
        "# Number of variables (nvar) and constraints (ncon)\n",
        "nvar = 1000\n",
        "ncon = 200\n",
        "# Random vectors and matrix of linear problem\n",
        "c = np.random.normal(0,1,size=nvar)\n",
        "A = np.random.normal(0,5,size=(ncon,nvar))\n",
        "b = np.random.uniform(0,30,ncon)\n",
        "u = np.random.uniform(10,20,nvar)\n",
        "l = np.random.uniform(0,10,nvar)"
      ],
      "execution_count": 40,
      "outputs": []
    },
    {
      "cell_type": "markdown",
      "metadata": {
        "id": "cBRj109D_m6N"
      },
      "source": [
        "## SCIPY ([link](https://docs.scipy.org/doc/scipy/reference/generated/scipy.optimize.linprog.html))"
      ]
    },
    {
      "cell_type": "code",
      "metadata": {
        "id": "i1RuqhGs6SKS",
        "colab": {
          "base_uri": "https://localhost:8080/"
        },
        "outputId": "c31b9b69-e273-4300-8784-10446576d495"
      },
      "source": [
        "start = time.time()\n",
        "# Solve problem\n",
        "res = linprog(c, A_ub=A, b_ub=b, bounds=[(l[i],u[i]) for i in range(nvar)])\n",
        "# Print results\n",
        "print('obj =',res.fun)\n",
        "print('time =',time.time()-start)\n"
      ],
      "execution_count": 41,
      "outputs": [
        {
          "output_type": "stream",
          "text": [
            "/usr/local/lib/python3.7/dist-packages/numpy/core/fromnumeric.py:87: VisibleDeprecationWarning: Creating an ndarray from ragged nested sequences (which is a list-or-tuple of lists-or-tuples-or ndarrays with different lengths or shapes) is deprecated. If you meant to do this, you must specify 'dtype=object' when creating the ndarray\n",
            "  return ufunc.reduce(obj, axis, dtype, out, **passkwargs)\n"
          ],
          "name": "stderr"
        },
        {
          "output_type": "stream",
          "text": [
            "obj = -2333.7525201519093\n",
            "time = 10.143281936645508\n"
          ],
          "name": "stdout"
        }
      ]
    },
    {
      "cell_type": "markdown",
      "metadata": {
        "id": "s7G8_UyA_rDY"
      },
      "source": [
        "## PULP ([link](https://coin-or.github.io/pulp/))"
      ]
    },
    {
      "cell_type": "code",
      "metadata": {
        "id": "aaPSPO1Y6pEo",
        "colab": {
          "base_uri": "https://localhost:8080/"
        },
        "outputId": "edd88ec7-8a0e-4036-c7d5-88a55dcbf781"
      },
      "source": [
        "start = time.time()\n",
        "# Model\n",
        "m = pu.LpProblem('LinearProblem',pu.LpMinimize)\n",
        "# Variables\n",
        "x = [pu.LpVariable('x'+str(i+1), lowBound=l[i], upBound=u[i], cat=\"Continuous\") for i in range(nvar)]\n",
        "# Objective function\n",
        "m += sum(c[i]*x[i] for i in range(nvar))\n",
        "# Constraints\n",
        "for j in range(ncon):\n",
        "  m += sum(A[j,i]*x[i] for i in range(nvar)) <= b[j]\n",
        "# Solve problem\n",
        "m.solve()\n",
        "# Princ results\n",
        "print('obj =',pu.value(m.objective))\n",
        "print('time =',time.time()-start)"
      ],
      "execution_count": 42,
      "outputs": [
        {
          "output_type": "stream",
          "text": [
            "obj = -2333.7546913763476\n",
            "time = 61.67071056365967\n"
          ],
          "name": "stdout"
        }
      ]
    },
    {
      "cell_type": "markdown",
      "metadata": {
        "id": "ffF4QCfKCklH"
      },
      "source": [
        "## PYOMO + GLPK ([link](https://pyomo.readthedocs.io/en/stable/))\n",
        "\n"
      ]
    },
    {
      "cell_type": "markdown",
      "metadata": {
        "id": "0uYeph88DM2h"
      },
      "source": [
        "### Enviroment mode"
      ]
    },
    {
      "cell_type": "code",
      "metadata": {
        "id": "p4l5jqeB_wtC",
        "colab": {
          "base_uri": "https://localhost:8080/"
        },
        "outputId": "23755d13-5819-4014-be2f-700b591ee3d5"
      },
      "source": [
        "start = time.time()\n",
        "mode = 'linearexpression' #(sum, quicksum, linearexpression)\n",
        "# Model\n",
        "m = pe.ConcreteModel()\n",
        "# Sets\n",
        "m.i = pe.Set(initialize=range(nvar),ordered=True)\n",
        "m.j = pe.Set(initialize=range(ncon),ordered=True)\n",
        "# Variables\n",
        "def bounds_x(m,i):\n",
        "  return (l[i], u[i])\n",
        "m.x = pe.Var(m.i,bounds=bounds_x)\n",
        "# Objective function\n",
        "def obj_rule(m):\n",
        "  if mode == 'sum':\n",
        "    return sum(c[i]*m.x[i] for i in m.i)\n",
        "  elif mode == 'quicksum':\n",
        "    return pe.quicksum(c[i]*m.x[i] for i in m.i)\n",
        "  elif mode == 'linearexpression':\n",
        "    return LinearExpression(constant=0, linear_coefs=[c[i] for i in m.i], linear_vars=[m.x[i] for i in m.i])\n",
        "m.obj = pe.Objective(rule=obj_rule)\n",
        "# Constraints\n",
        "def con_rule(m,j):\n",
        "  if mode == 'sum':\n",
        "    return sum(A[j,i]*m.x[i] for i in m.i) <= b[j]\n",
        "  elif mode == 'quicksum':\n",
        "    return pe.quicksum(A[j,i]*m.x[i] for i in m.i) <= b[j]\n",
        "  elif mode == 'linearexpression':\n",
        "    return LinearExpression(constant=0, linear_coefs=[A[j,i] for i in m.i], linear_vars=[m.x[i] for i in m.i]) <= b[j]\n",
        "m.con = pe.Constraint(m.j,rule=con_rule)\n",
        "# Solve the problem\n",
        "glpk.solve(m)\n",
        "# Print results\n",
        "print('obj =',m.obj())\n",
        "print('time =',time.time()-start)"
      ],
      "execution_count": 43,
      "outputs": [
        {
          "output_type": "stream",
          "text": [
            "obj = -2333.7546949804046\n",
            "time = 2.3203322887420654\n"
          ],
          "name": "stdout"
        }
      ]
    },
    {
      "cell_type": "markdown",
      "metadata": {
        "id": "kdMa_xTDDQaj"
      },
      "source": [
        "### Kernel mode"
      ]
    },
    {
      "cell_type": "code",
      "metadata": {
        "colab": {
          "base_uri": "https://localhost:8080/"
        },
        "id": "Pj3vwIQKDSfv",
        "outputId": "ab38b805-3a10-498b-b1f6-b3ae3a4d138d"
      },
      "source": [
        "start = time.time()\n",
        "# Model\n",
        "m = pk.block()\n",
        "# Sets\n",
        "m.i = [i for i in range(nvar)]\n",
        "m.j = [j for j in range(ncon)]\n",
        "# Variables\n",
        "m.x = pk.variable_list()\n",
        "for i in m.i:\n",
        "  m.x.append(pk.variable(lb=l[i],ub=u[i]))\n",
        "# Objective function\n",
        "m.obj = pk.objective(LinearExpression(constant=0, linear_coefs=[c[i] for i in m.i], linear_vars=[m.x[i] for i in m.i]))\n",
        "# Constraints\n",
        "m.con = pk.matrix_constraint(A, ub=b, x=[m.x[i] for i in m.i])\n",
        "# Solve the problem\n",
        "glpk.solve(m)\n",
        "# Print results\n",
        "print('obj =',m.obj())\n",
        "print('time =',time.time()-start)"
      ],
      "execution_count": 44,
      "outputs": [
        {
          "output_type": "stream",
          "text": [
            "obj = -2333.7546949804046\n",
            "time = 2.3231828212738037\n"
          ],
          "name": "stdout"
        }
      ]
    },
    {
      "cell_type": "markdown",
      "metadata": {
        "id": "gz3UJ2RL8JXj"
      },
      "source": [
        "## GUROBIPY ([link](https://pypi.org/project/gurobipy/))"
      ]
    },
    {
      "cell_type": "markdown",
      "metadata": {
        "id": "dKek1lmV9u3M"
      },
      "source": [
        "### Matrix notation"
      ]
    },
    {
      "cell_type": "code",
      "metadata": {
        "colab": {
          "base_uri": "https://localhost:8080/"
        },
        "id": "psmH_Hxe8azS",
        "outputId": "6f1db3c0-6403-4293-ce87-e96650a85fb4"
      },
      "source": [
        " start = time.time()\n",
        " # Model\n",
        " m = gp.Model()\n",
        " # Variables\n",
        " x = m.addMVar(shape=nvar,lb=l,ub=u,vtype=GRB.CONTINUOUS)\n",
        " # Objective function\n",
        " m.setObjective(c @ x, GRB.MINIMIZE)\n",
        " # Constraints\n",
        " m.addConstr(A @ x <= b)\n",
        " # Solve the problem\n",
        " m.optimize()\n",
        " # Print results\n",
        " print('obj =',m.ObjVal)\n",
        " print('time =',time.time()-start)\n"
      ],
      "execution_count": 45,
      "outputs": [
        {
          "output_type": "stream",
          "text": [
            "Gurobi Optimizer version 9.1.2 build v9.1.2rc0 (linux64)\n",
            "Thread count: 1 physical cores, 2 logical processors, using up to 2 threads\n",
            "Optimize a model with 200 rows, 1000 columns and 200000 nonzeros\n",
            "Model fingerprint: 0x6b15f9c9\n",
            "Coefficient statistics:\n",
            "  Matrix range     [2e-05, 3e+01]\n",
            "  Objective range  [9e-04, 3e+00]\n",
            "  Bounds range     [1e-03, 2e+01]\n",
            "  RHS range        [1e-01, 3e+01]\n",
            "Presolve time: 0.09s\n",
            "Presolved: 200 rows, 1000 columns, 200000 nonzeros\n",
            "\n",
            "Iteration    Objective       Primal Inf.    Dual Inf.      Time\n",
            "       0   -1.6616115e+06   1.862798e+07   0.000000e+00      0s\n",
            "     535   -2.3337547e+03   0.000000e+00   0.000000e+00      0s\n",
            "\n",
            "Solved in 535 iterations and 0.24 seconds\n",
            "Optimal objective -2.333754695e+03\n",
            "obj = -2333.754694980406\n",
            "time = 0.285297155380249\n"
          ],
          "name": "stdout"
        }
      ]
    },
    {
      "cell_type": "markdown",
      "metadata": {
        "id": "NILiAkus_Dbj"
      },
      "source": [
        "### Constraint notation"
      ]
    },
    {
      "cell_type": "code",
      "metadata": {
        "colab": {
          "base_uri": "https://localhost:8080/"
        },
        "id": "UjrIQ56H-F26",
        "outputId": "119938e6-e0d9-4f3d-a3e4-6732680e35f6"
      },
      "source": [
        "start = time.time()\n",
        "# Model\n",
        "m = gp.Model()\n",
        "# Variables\n",
        "x = m.addVars(nvar,lb=l,ub=u,vtype=GRB.CONTINUOUS)\n",
        "# Objective function\n",
        "m.setObjective(gp.LinExpr(c,x.values()),GRB.MINIMIZE)\n",
        "# Constraints\n",
        "m.addConstrs((gp.LinExpr(A[j,:],x.values()) <= b[j] for j in range(ncon)))\n",
        "# Solve the problem\n",
        "m.optimize()\n",
        "# Print results\n",
        "print('obj = ',m.ObjVal)\n",
        "print('time =',time.time()-start)"
      ],
      "execution_count": 46,
      "outputs": [
        {
          "output_type": "stream",
          "text": [
            "Gurobi Optimizer version 9.1.2 build v9.1.2rc0 (linux64)\n",
            "Thread count: 1 physical cores, 2 logical processors, using up to 2 threads\n",
            "Optimize a model with 200 rows, 1000 columns and 200000 nonzeros\n",
            "Model fingerprint: 0x6b15f9c9\n",
            "Coefficient statistics:\n",
            "  Matrix range     [2e-05, 3e+01]\n",
            "  Objective range  [9e-04, 3e+00]\n",
            "  Bounds range     [1e-03, 2e+01]\n",
            "  RHS range        [1e-01, 3e+01]\n",
            "Presolve time: 0.09s\n",
            "Presolved: 200 rows, 1000 columns, 200000 nonzeros\n",
            "\n",
            "Iteration    Objective       Primal Inf.    Dual Inf.      Time\n",
            "       0   -1.6616115e+06   1.862798e+07   0.000000e+00      0s\n",
            "     535   -2.3337547e+03   0.000000e+00   0.000000e+00      0s\n",
            "\n",
            "Solved in 535 iterations and 0.24 seconds\n",
            "Optimal objective -2.333754695e+03\n",
            "obj =  -2333.754694980406\n",
            "time = 0.45255541801452637\n"
          ],
          "name": "stdout"
        }
      ]
    },
    {
      "cell_type": "markdown",
      "metadata": {
        "id": "oy6jZJHvA85R"
      },
      "source": [
        "## DOCPLEX ([link](https://pypi.org/project/docplex/))"
      ]
    },
    {
      "cell_type": "code",
      "metadata": {
        "colab": {
          "base_uri": "https://localhost:8080/",
          "height": 374
        },
        "id": "mqxk43rBBNOp",
        "outputId": "eaf1a0f6-4c29-42ba-ddba-afcb9ba4f63c"
      },
      "source": [
        "start = time.time()\n",
        "# Model\n",
        "m = Model(name='LP')\n",
        "# Sets\n",
        "m.i = range(nvar)\n",
        "m.j = range(ncon)\n",
        "# Variables\n",
        "x = m.continuous_var_list(m.i,lb=l,ub=u)\n",
        "# Objective function\n",
        "m.minimize(m.sum(c[i]*x[i] for i in m.i))\n",
        "# Constraints\n",
        "for j in m.j:\n",
        "  m.add_constraint(m.sum(A[j,i]*x[i] for i in m.i) <= b[j])\n",
        "# Solve the problem\n",
        "res = m.solve()\n",
        "# Print results\n",
        "print('obj =',res.objective_value)\n",
        "print('time =',time.time()-start)"
      ],
      "execution_count": 47,
      "outputs": [
        {
          "output_type": "error",
          "ename": "DOcplexException",
          "evalue": "ignored",
          "traceback": [
            "\u001b[0;31m---------------------------------------------------------------------------\u001b[0m",
            "\u001b[0;31mDOcplexException\u001b[0m                          Traceback (most recent call last)",
            "\u001b[0;32m<ipython-input-47-32260ece2ee6>\u001b[0m in \u001b[0;36m<module>\u001b[0;34m()\u001b[0m\n\u001b[1;32m     13\u001b[0m   \u001b[0mm\u001b[0m\u001b[0;34m.\u001b[0m\u001b[0madd_constraint\u001b[0m\u001b[0;34m(\u001b[0m\u001b[0mm\u001b[0m\u001b[0;34m.\u001b[0m\u001b[0msum\u001b[0m\u001b[0;34m(\u001b[0m\u001b[0mA\u001b[0m\u001b[0;34m[\u001b[0m\u001b[0mj\u001b[0m\u001b[0;34m,\u001b[0m\u001b[0mi\u001b[0m\u001b[0;34m]\u001b[0m\u001b[0;34m*\u001b[0m\u001b[0mx\u001b[0m\u001b[0;34m[\u001b[0m\u001b[0mi\u001b[0m\u001b[0;34m]\u001b[0m \u001b[0;32mfor\u001b[0m \u001b[0mi\u001b[0m \u001b[0;32min\u001b[0m \u001b[0mm\u001b[0m\u001b[0;34m.\u001b[0m\u001b[0mi\u001b[0m\u001b[0;34m)\u001b[0m \u001b[0;34m<=\u001b[0m \u001b[0mb\u001b[0m\u001b[0;34m[\u001b[0m\u001b[0mj\u001b[0m\u001b[0;34m]\u001b[0m\u001b[0;34m)\u001b[0m\u001b[0;34m\u001b[0m\u001b[0;34m\u001b[0m\u001b[0m\n\u001b[1;32m     14\u001b[0m \u001b[0;31m# Solve the problem\u001b[0m\u001b[0;34m\u001b[0m\u001b[0;34m\u001b[0m\u001b[0;34m\u001b[0m\u001b[0m\n\u001b[0;32m---> 15\u001b[0;31m \u001b[0mres\u001b[0m \u001b[0;34m=\u001b[0m \u001b[0mm\u001b[0m\u001b[0;34m.\u001b[0m\u001b[0msolve\u001b[0m\u001b[0;34m(\u001b[0m\u001b[0;34m)\u001b[0m\u001b[0;34m\u001b[0m\u001b[0;34m\u001b[0m\u001b[0m\n\u001b[0m\u001b[1;32m     16\u001b[0m \u001b[0;31m# Print results\u001b[0m\u001b[0;34m\u001b[0m\u001b[0;34m\u001b[0m\u001b[0;34m\u001b[0m\u001b[0m\n\u001b[1;32m     17\u001b[0m \u001b[0mprint\u001b[0m\u001b[0;34m(\u001b[0m\u001b[0;34m'obj ='\u001b[0m\u001b[0;34m,\u001b[0m\u001b[0mres\u001b[0m\u001b[0;34m.\u001b[0m\u001b[0mobjective_value\u001b[0m\u001b[0;34m)\u001b[0m\u001b[0;34m\u001b[0m\u001b[0;34m\u001b[0m\u001b[0m\n",
            "\u001b[0;32m/usr/local/lib/python3.7/dist-packages/docplex/mp/model.py\u001b[0m in \u001b[0;36msolve\u001b[0;34m(self, **kwargs)\u001b[0m\n\u001b[1;32m   4575\u001b[0m             \u001b[0;32melse\u001b[0m\u001b[0;34m:\u001b[0m\u001b[0;34m\u001b[0m\u001b[0;34m\u001b[0m\u001b[0m\n\u001b[1;32m   4576\u001b[0m                 \u001b[0;31m# no way to solve.. really\u001b[0m\u001b[0;34m\u001b[0m\u001b[0;34m\u001b[0m\u001b[0;34m\u001b[0m\u001b[0m\n\u001b[0;32m-> 4577\u001b[0;31m                 \u001b[0;32mreturn\u001b[0m \u001b[0mself\u001b[0m\u001b[0;34m.\u001b[0m\u001b[0mfatal\u001b[0m\u001b[0;34m(\u001b[0m\u001b[0;34m\"Cannot solve model: no CPLEX runtime found.\"\u001b[0m\u001b[0;34m)\u001b[0m\u001b[0;34m\u001b[0m\u001b[0;34m\u001b[0m\u001b[0m\n\u001b[0m\u001b[1;32m   4578\u001b[0m \u001b[0;34m\u001b[0m\u001b[0m\n\u001b[1;32m   4579\u001b[0m \u001b[0;34m\u001b[0m\u001b[0m\n",
            "\u001b[0;32m/usr/local/lib/python3.7/dist-packages/docplex/mp/model.py\u001b[0m in \u001b[0;36mfatal\u001b[0;34m(self, msg, *args)\u001b[0m\n\u001b[1;32m    970\u001b[0m \u001b[0;34m\u001b[0m\u001b[0m\n\u001b[1;32m    971\u001b[0m     \u001b[0;32mdef\u001b[0m \u001b[0mfatal\u001b[0m\u001b[0;34m(\u001b[0m\u001b[0mself\u001b[0m\u001b[0;34m,\u001b[0m \u001b[0mmsg\u001b[0m\u001b[0;34m,\u001b[0m \u001b[0;34m*\u001b[0m\u001b[0margs\u001b[0m\u001b[0;34m)\u001b[0m\u001b[0;34m:\u001b[0m\u001b[0;34m\u001b[0m\u001b[0;34m\u001b[0m\u001b[0m\n\u001b[0;32m--> 972\u001b[0;31m         \u001b[0mself\u001b[0m\u001b[0;34m.\u001b[0m\u001b[0m_error_handler\u001b[0m\u001b[0;34m.\u001b[0m\u001b[0mfatal\u001b[0m\u001b[0;34m(\u001b[0m\u001b[0mmsg\u001b[0m\u001b[0;34m,\u001b[0m \u001b[0margs\u001b[0m\u001b[0;34m)\u001b[0m\u001b[0;34m\u001b[0m\u001b[0;34m\u001b[0m\u001b[0m\n\u001b[0m\u001b[1;32m    973\u001b[0m \u001b[0;34m\u001b[0m\u001b[0m\n\u001b[1;32m    974\u001b[0m     \u001b[0;32mdef\u001b[0m \u001b[0mfatal_ce_limits\u001b[0m\u001b[0;34m(\u001b[0m\u001b[0mself\u001b[0m\u001b[0;34m,\u001b[0m \u001b[0;34m*\u001b[0m\u001b[0margs\u001b[0m\u001b[0;34m)\u001b[0m\u001b[0;34m:\u001b[0m\u001b[0;34m\u001b[0m\u001b[0;34m\u001b[0m\u001b[0m\n",
            "\u001b[0;32m/usr/local/lib/python3.7/dist-packages/docplex/mp/error_handler.py\u001b[0m in \u001b[0;36mfatal\u001b[0;34m(self, msg, args)\u001b[0m\n\u001b[1;32m    209\u001b[0m         \u001b[0mresolved_message\u001b[0m \u001b[0;34m=\u001b[0m \u001b[0mresolve_pattern\u001b[0m\u001b[0;34m(\u001b[0m\u001b[0mmsg\u001b[0m\u001b[0;34m,\u001b[0m \u001b[0margs\u001b[0m\u001b[0;34m)\u001b[0m\u001b[0;34m\u001b[0m\u001b[0;34m\u001b[0m\u001b[0m\n\u001b[1;32m    210\u001b[0m         \u001b[0mdocplex_error_stop_here\u001b[0m\u001b[0;34m(\u001b[0m\u001b[0;34m)\u001b[0m\u001b[0;34m\u001b[0m\u001b[0;34m\u001b[0m\u001b[0m\n\u001b[0;32m--> 211\u001b[0;31m         \u001b[0;32mraise\u001b[0m \u001b[0mDOcplexException\u001b[0m\u001b[0;34m(\u001b[0m\u001b[0mresolved_message\u001b[0m\u001b[0;34m)\u001b[0m\u001b[0;34m\u001b[0m\u001b[0;34m\u001b[0m\u001b[0m\n\u001b[0m\u001b[1;32m    212\u001b[0m \u001b[0;34m\u001b[0m\u001b[0m\n\u001b[1;32m    213\u001b[0m     \u001b[0;32mdef\u001b[0m \u001b[0mfatal_limits_exceeded\u001b[0m\u001b[0;34m(\u001b[0m\u001b[0mself\u001b[0m\u001b[0;34m)\u001b[0m\u001b[0;34m:\u001b[0m\u001b[0;34m\u001b[0m\u001b[0;34m\u001b[0m\u001b[0m\n",
            "\u001b[0;31mDOcplexException\u001b[0m: Cannot solve model: no CPLEX runtime found."
          ]
        }
      ]
    }
  ]
}