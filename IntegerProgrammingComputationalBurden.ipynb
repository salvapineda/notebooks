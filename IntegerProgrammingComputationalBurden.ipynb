{
  "nbformat": 4,
  "nbformat_minor": 0,
  "metadata": {
    "colab": {
      "provenance": [],
      "authorship_tag": "ABX9TyOAn9JLZFq/AF8midsrEFgf",
      "include_colab_link": true
    },
    "kernelspec": {
      "name": "python3",
      "display_name": "Python 3"
    }
  },
  "cells": [
    {
      "cell_type": "markdown",
      "metadata": {
        "id": "view-in-github",
        "colab_type": "text"
      },
      "source": [
        "<a href=\"https://colab.research.google.com/github/salvapineda/notebooks/blob/main/IntegerProgrammingComputationalBurden.ipynb\" target=\"_parent\"><img src=\"https://colab.research.google.com/assets/colab-badge.svg\" alt=\"Open In Colab\"/></a>"
      ]
    },
    {
      "cell_type": "markdown",
      "metadata": {
        "id": "21rXZnamoWlz"
      },
      "source": [
        "# Linear Programming in Pyomo"
      ]
    },
    {
      "cell_type": "markdown",
      "metadata": {
        "id": "bmyKHC66opCZ"
      },
      "source": [
        "## Requirements"
      ]
    },
    {
      "cell_type": "code",
      "metadata": {
        "id": "nlLoj5JcokpP",
        "colab": {
          "base_uri": "https://localhost:8080/"
        },
        "outputId": "4e7a3ddc-8782-45b7-cbae-530fa4cec8da"
      },
      "source": [
        "# PYOMO\n",
        "!pip install pyomo \n",
        "import pyomo.environ as pe\n",
        "# CBC\n",
        "!apt-get install -y -qq coinor-cbc\n",
        "cbc = pe.SolverFactory('cbc', executable='/usr/bin/cbc')\n",
        "# OTHER\n",
        "import random"
      ],
      "execution_count": 4,
      "outputs": [
        {
          "output_type": "stream",
          "name": "stdout",
          "text": [
            "Looking in indexes: https://pypi.org/simple, https://us-python.pkg.dev/colab-wheels/public/simple/\n",
            "Requirement already satisfied: pyomo in /usr/local/lib/python3.9/dist-packages (6.5.0)\n",
            "Requirement already satisfied: ply in /usr/local/lib/python3.9/dist-packages (from pyomo) (3.11)\n"
          ]
        }
      ]
    },
    {
      "cell_type": "markdown",
      "metadata": {
        "id": "jDvMRF6FouDG"
      },
      "source": [
        "## General LP"
      ]
    },
    {
      "cell_type": "markdown",
      "metadata": {
        "id": "_mNsyQcipOqs"
      },
      "source": [
        "We create a function to solve a general linear programming problem formulated below\n",
        "\n",
        "$$\n",
        "\\begin{align}\n",
        "\\underset{x\\geq 0}{\\min} \\quad & c^Tx \\\\\n",
        "\\text{s.t.} \\quad & Ax \\leq b\\\n",
        "\\end{align}\n",
        "$$\n",
        "\n",
        "where $x\\in\\mathbb{R}^n$, $c\\in\\mathbb{R}^n$, $A\\in\\mathbb{R}^{m\\times n}$, $b\\in\\mathbb{R}^m$. Elements of $A,b,c$ are randomly generating using standard normal distributions."
      ]
    },
    {
      "cell_type": "code",
      "metadata": {
        "id": "eAcotqCzoyUu"
      },
      "source": [
        "def mip(nvar=40,ncon=20):\n",
        "  # Random vector and matrixes\n",
        "  c = [round(random.uniform(0,1),2) for i in range(nvar)]\n",
        "  A = [[round(random.uniform(-1,1),2) for i in range(nvar)] for j in range(ncon)]\n",
        "  b = [round(random.uniform(-10,10),2) for j in range(ncon)]\n",
        "  # Model\n",
        "  m = pe.ConcreteModel()\n",
        "  # Sets\n",
        "  m.i = pe.Set(initialize=range(nvar),ordered=True)\n",
        "  m.j = pe.Set(initialize=range(ncon),ordered=True)\n",
        "  # Variables\n",
        "  m.x = pe.Var(m.i,within=pe.NonNegativeIntegers)\n",
        "  # Objective function\n",
        "  def obj_rule(m):\n",
        "    return sum(c[i]*m.x[i] for i in m.i)\n",
        "  m.obj = pe.Objective(rule=obj_rule)\n",
        "  # Constraints\n",
        "  def con_rule(m,j):\n",
        "    return sum(A[j][i]*m.x[i] for i in m.i) <= b[j]\n",
        "  m.con = pe.Constraint(m.j,rule=con_rule)\n",
        "  return m"
      ],
      "execution_count": 5,
      "outputs": []
    },
    {
      "cell_type": "code",
      "metadata": {
        "colab": {
          "base_uri": "https://localhost:8080/"
        },
        "id": "cbJKrD0Vdl-m",
        "outputId": "71152ad6-f0c5-4ba1-f583-ca7c0e1d587b"
      },
      "source": [
        "m = mip(nvar=40,ncon=20)\n",
        "for gap in [1,1e-1,1e-2,1e-3]:      \n",
        "  cbc.options['ratioGap']=gap\n",
        "  cbc.solve(m).write() "
      ],
      "execution_count": 6,
      "outputs": [
        {
          "output_type": "stream",
          "name": "stdout",
          "text": [
            "# ==========================================================\n",
            "# = Solver Results                                         =\n",
            "# ==========================================================\n",
            "# ----------------------------------------------------------\n",
            "#   Problem Information\n",
            "# ----------------------------------------------------------\n",
            "Problem: \n",
            "- Name: unknown\n",
            "  Lower bound: 12.103159\n",
            "  Upper bound: 31.37\n",
            "  Number of objectives: 1\n",
            "  Number of constraints: 20\n",
            "  Number of variables: 40\n",
            "  Number of binary variables: 0\n",
            "  Number of integer variables: 40\n",
            "  Number of nonzeros: 40\n",
            "  Sense: minimize\n",
            "# ----------------------------------------------------------\n",
            "#   Solver Information\n",
            "# ----------------------------------------------------------\n",
            "Solver: \n",
            "- Status: ok\n",
            "  User time: -1.0\n",
            "  System time: 1.67\n",
            "  Wallclock time: 1.96\n",
            "  Termination condition: optimal\n",
            "  Termination message: Model was solved to optimality (subject to tolerances), and an optimal solution is available.\n",
            "  Statistics: \n",
            "    Branch and bound: \n",
            "      Number of bounded subproblems: 17737\n",
            "      Number of created subproblems: 17737\n",
            "    Black box: \n",
            "      Number of iterations: 47847\n",
            "  Error rc: 0\n",
            "  Time: 1.9963486194610596\n",
            "# ----------------------------------------------------------\n",
            "#   Solution Information\n",
            "# ----------------------------------------------------------\n",
            "Solution: \n",
            "- number of solutions: 0\n",
            "  number of solutions displayed: 0\n",
            "# ==========================================================\n",
            "# = Solver Results                                         =\n",
            "# ==========================================================\n",
            "# ----------------------------------------------------------\n",
            "#   Problem Information\n",
            "# ----------------------------------------------------------\n",
            "Problem: \n",
            "- Name: unknown\n",
            "  Lower bound: 12.103159\n",
            "  Upper bound: 13.31\n",
            "  Number of objectives: 1\n",
            "  Number of constraints: 20\n",
            "  Number of variables: 40\n",
            "  Number of binary variables: 0\n",
            "  Number of integer variables: 40\n",
            "  Number of nonzeros: 40\n",
            "  Sense: minimize\n",
            "# ----------------------------------------------------------\n",
            "#   Solver Information\n",
            "# ----------------------------------------------------------\n",
            "Solver: \n",
            "- Status: ok\n",
            "  User time: -1.0\n",
            "  System time: 7.89\n",
            "  Wallclock time: 14.97\n",
            "  Termination condition: optimal\n",
            "  Termination message: Model was solved to optimality (subject to tolerances), and an optimal solution is available.\n",
            "  Statistics: \n",
            "    Branch and bound: \n",
            "      Number of bounded subproblems: 51725\n",
            "      Number of created subproblems: 51725\n",
            "    Black box: \n",
            "      Number of iterations: 164999\n",
            "  Error rc: 0\n",
            "  Time: 14.994528770446777\n",
            "# ----------------------------------------------------------\n",
            "#   Solution Information\n",
            "# ----------------------------------------------------------\n",
            "Solution: \n",
            "- number of solutions: 0\n",
            "  number of solutions displayed: 0\n",
            "# ==========================================================\n",
            "# = Solver Results                                         =\n",
            "# ==========================================================\n",
            "# ----------------------------------------------------------\n",
            "#   Problem Information\n",
            "# ----------------------------------------------------------\n",
            "Problem: \n",
            "- Name: unknown\n",
            "  Lower bound: 13.31\n",
            "  Upper bound: 13.31\n",
            "  Number of objectives: 1\n",
            "  Number of constraints: 20\n",
            "  Number of variables: 40\n",
            "  Number of binary variables: 0\n",
            "  Number of integer variables: 40\n",
            "  Number of nonzeros: 40\n",
            "  Sense: minimize\n",
            "# ----------------------------------------------------------\n",
            "#   Solver Information\n",
            "# ----------------------------------------------------------\n",
            "Solver: \n",
            "- Status: ok\n",
            "  User time: -1.0\n",
            "  System time: 8.89\n",
            "  Wallclock time: 10.65\n",
            "  Termination condition: optimal\n",
            "  Termination message: Model was solved to optimality (subject to tolerances), and an optimal solution is available.\n",
            "  Statistics: \n",
            "    Branch and bound: \n",
            "      Number of bounded subproblems: 54345\n",
            "      Number of created subproblems: 54345\n",
            "    Black box: \n",
            "      Number of iterations: 177199\n",
            "  Error rc: 0\n",
            "  Time: 10.66705584526062\n",
            "# ----------------------------------------------------------\n",
            "#   Solution Information\n",
            "# ----------------------------------------------------------\n",
            "Solution: \n",
            "- number of solutions: 0\n",
            "  number of solutions displayed: 0\n",
            "# ==========================================================\n",
            "# = Solver Results                                         =\n",
            "# ==========================================================\n",
            "# ----------------------------------------------------------\n",
            "#   Problem Information\n",
            "# ----------------------------------------------------------\n",
            "Problem: \n",
            "- Name: unknown\n",
            "  Lower bound: 13.31\n",
            "  Upper bound: 13.31\n",
            "  Number of objectives: 1\n",
            "  Number of constraints: 20\n",
            "  Number of variables: 40\n",
            "  Number of binary variables: 0\n",
            "  Number of integer variables: 40\n",
            "  Number of nonzeros: 40\n",
            "  Sense: minimize\n",
            "# ----------------------------------------------------------\n",
            "#   Solver Information\n",
            "# ----------------------------------------------------------\n",
            "Solver: \n",
            "- Status: ok\n",
            "  User time: -1.0\n",
            "  System time: 9.02\n",
            "  Wallclock time: 10.99\n",
            "  Termination condition: optimal\n",
            "  Termination message: Model was solved to optimality (subject to tolerances), and an optimal solution is available.\n",
            "  Statistics: \n",
            "    Branch and bound: \n",
            "      Number of bounded subproblems: 54345\n",
            "      Number of created subproblems: 54345\n",
            "    Black box: \n",
            "      Number of iterations: 177199\n",
            "  Error rc: 0\n",
            "  Time: 11.017751932144165\n",
            "# ----------------------------------------------------------\n",
            "#   Solution Information\n",
            "# ----------------------------------------------------------\n",
            "Solution: \n",
            "- number of solutions: 0\n",
            "  number of solutions displayed: 0\n"
          ]
        }
      ]
    },
    {
      "cell_type": "code",
      "metadata": {
        "colab": {
          "base_uri": "https://localhost:8080/"
        },
        "id": "TnhelRZ5rBMs",
        "outputId": "1992f453-8526-46fe-b823-71a3e05a79a6"
      },
      "source": [
        "m = mip(nvar=60,ncon=30)\n",
        "for gap in [1,1e-1,1e-2,1e-3]:     \n",
        "  cbc.options['ratioGap']=gap\n",
        "  cbc.solve(m).write() "
      ],
      "execution_count": null,
      "outputs": [
        {
          "output_type": "stream",
          "name": "stdout",
          "text": [
            "# ==========================================================\n",
            "# = Solver Results                                         =\n",
            "# ==========================================================\n",
            "# ----------------------------------------------------------\n",
            "#   Problem Information\n",
            "# ----------------------------------------------------------\n",
            "Problem: \n",
            "- Name: unknown\n",
            "  Lower bound: 16.597357\n",
            "  Upper bound: 20.47\n",
            "  Number of objectives: 1\n",
            "  Number of constraints: 30\n",
            "  Number of variables: 60\n",
            "  Number of binary variables: 0\n",
            "  Number of integer variables: 60\n",
            "  Number of nonzeros: 59\n",
            "  Sense: minimize\n",
            "# ----------------------------------------------------------\n",
            "#   Solver Information\n",
            "# ----------------------------------------------------------\n",
            "Solver: \n",
            "- Status: ok\n",
            "  User time: -1.0\n",
            "  System time: 0.67\n",
            "  Wallclock time: 0.61\n",
            "  Termination condition: optimal\n",
            "  Termination message: Model was solved to optimality (subject to tolerances), and an optimal solution is available.\n",
            "  Statistics: \n",
            "    Branch and bound: \n",
            "      Number of bounded subproblems: 69\n",
            "      Number of created subproblems: 69\n",
            "    Black box: \n",
            "      Number of iterations: 961\n",
            "  Error rc: 0\n",
            "  Time: 0.629464864730835\n",
            "# ----------------------------------------------------------\n",
            "#   Solution Information\n",
            "# ----------------------------------------------------------\n",
            "Solution: \n",
            "- number of solutions: 0\n",
            "  number of solutions displayed: 0\n",
            "# ==========================================================\n",
            "# = Solver Results                                         =\n",
            "# ==========================================================\n",
            "# ----------------------------------------------------------\n",
            "#   Problem Information\n",
            "# ----------------------------------------------------------\n",
            "Problem: \n",
            "- Name: unknown\n",
            "  Lower bound: 17.698319\n",
            "  Upper bound: 19.46\n",
            "  Number of objectives: 1\n",
            "  Number of constraints: 30\n",
            "  Number of variables: 60\n",
            "  Number of binary variables: 0\n",
            "  Number of integer variables: 60\n",
            "  Number of nonzeros: 59\n",
            "  Sense: minimize\n",
            "# ----------------------------------------------------------\n",
            "#   Solver Information\n",
            "# ----------------------------------------------------------\n",
            "Solver: \n",
            "- Status: ok\n",
            "  User time: -1.0\n",
            "  System time: 40.09\n",
            "  Wallclock time: 46.91\n",
            "  Termination condition: optimal\n",
            "  Termination message: Model was solved to optimality (subject to tolerances), and an optimal solution is available.\n",
            "  Statistics: \n",
            "    Branch and bound: \n",
            "      Number of bounded subproblems: 186506\n",
            "      Number of created subproblems: 186506\n",
            "    Black box: \n",
            "      Number of iterations: 970992\n",
            "  Error rc: 0\n",
            "  Time: 46.931654930114746\n",
            "# ----------------------------------------------------------\n",
            "#   Solution Information\n",
            "# ----------------------------------------------------------\n",
            "Solution: \n",
            "- number of solutions: 0\n",
            "  number of solutions displayed: 0\n"
          ]
        }
      ]
    }
  ]
}