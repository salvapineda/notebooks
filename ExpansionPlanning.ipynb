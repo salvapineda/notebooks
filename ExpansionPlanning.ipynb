{
  "nbformat": 4,
  "nbformat_minor": 0,
  "metadata": {
    "colab": {
      "name": "ExpansionPlanning.ipynb",
      "provenance": [],
      "authorship_tag": "ABX9TyM0YlUf9juiwdJQpufUUM61",
      "include_colab_link": true
    },
    "kernelspec": {
      "name": "python3",
      "display_name": "Python 3"
    }
  },
  "cells": [
    {
      "cell_type": "markdown",
      "metadata": {
        "id": "view-in-github",
        "colab_type": "text"
      },
      "source": [
        "<a href=\"https://colab.research.google.com/github/salvapineda/notebooks/blob/main/ExpansionPlanning.ipynb\" target=\"_parent\"><img src=\"https://colab.research.google.com/assets/colab-badge.svg\" alt=\"Open In Colab\"/></a>"
      ]
    },
    {
      "cell_type": "markdown",
      "metadata": {
        "id": "ZIEfHxwno5u5"
      },
      "source": [
        "# Economic Dispatch \n",
        "\n",
        "This Jupyter Notebook solves an instance of the Economic Dispatch Problem described in XXX"
      ]
    },
    {
      "cell_type": "markdown",
      "metadata": {
        "id": "-1vOQpFioj3O"
      },
      "source": [
        "## Requirements"
      ]
    },
    {
      "cell_type": "code",
      "metadata": {
        "id": "OHOKuwI6UisB",
        "colab": {
          "base_uri": "https://localhost:8080/"
        },
        "outputId": "1e95a011-1d60-4022-f1c7-65f47a4d5ea4"
      },
      "source": [
        "!pip install -q pyomo\n",
        "!wget -N -q \"https://ampl.com/dl/open/ipopt/ipopt-linux64.zip\"\n",
        "!unzip -o -q ipopt-linux64\n",
        "import pyomo.environ as pe\n",
        "import pandas as pd\n",
        "import numpy as np\n",
        "ipopt = pe.SolverFactory('ipopt', executable='/content/ipopt')"
      ],
      "execution_count": 1,
      "outputs": [
        {
          "output_type": "stream",
          "name": "stdout",
          "text": [
            "\u001b[K     |████████████████████████████████| 9.1 MB 4.2 MB/s \n",
            "\u001b[K     |████████████████████████████████| 49 kB 5.7 MB/s \n",
            "\u001b[?25h"
          ]
        }
      ]
    },
    {
      "cell_type": "markdown",
      "metadata": {
        "id": "o4jSX0peop7j"
      },
      "source": [
        "## Input Data"
      ]
    },
    {
      "cell_type": "code",
      "metadata": {
        "id": "sLj2JfYhTWyT"
      },
      "source": [
        "gen = pd.DataFrame({\n",
        "       'unit': [1,   2], \n",
        "       'q_cost': [0.01,  0.02], \n",
        "       'l_cost': [10,  20],\n",
        "       'pmax': [200, 200]})\n",
        "inv_cost = 14\n",
        "dem = [50,100,150]\n",
        "ngen = len(gen)\n",
        "ntime = len(dem)"
      ],
      "execution_count": 17,
      "outputs": []
    },
    {
      "cell_type": "markdown",
      "metadata": {
        "id": "HS_EfbXuowM9"
      },
      "source": [
        "## Solving the Expansion Planning Model"
      ]
    },
    {
      "cell_type": "code",
      "metadata": {
        "id": "HdyhOqpGWMfC",
        "colab": {
          "base_uri": "https://localhost:8080/"
        },
        "outputId": "ef0e87a2-7031-482a-bf26-cc88ead333f9"
      },
      "source": [
        "# Model\n",
        "m = pe.ConcreteModel()\n",
        "# Sets\n",
        "m.g = pe.Set(initialize=list(range(ngen)))\n",
        "m.t = pe.Set(initialize=list(range(ntime)))\n",
        "# Variables\n",
        "m.p = pe.Var(m.g,m.t,within=pe.NonNegativeReals)\n",
        "m.cap = pe.Var(m.g,within=pe.NonNegativeReals)\n",
        "m.alpha = pe.Var(m.g,m.t,within=pe.NonNegativeReals)\n",
        "m.beta = pe.Var(m.g,m.t,within=pe.NonNegativeReals)\n",
        "m.lamda = pe.Var(m.t)\n",
        "def obj_rule(m):\n",
        "  return sum((gen.loc[0,'q_cost']*gen.loc[0,'q_cost']-2*gen.loc[0,'q_cost'])*m.p[0,t]*m.p[0,t] + (inv_cost-m.beta[0,t])*m.cap[0] for t in m.t)\n",
        "m.obj = pe.Objective(rule=obj_rule)\n",
        "# Energy balance\n",
        "def bal_rule(m,t):\n",
        "  return sum(m.p[g,t] for g in m.g) == dem[t]\n",
        "m.bal = pe.Constraint(m.t,rule=bal_rule)\n",
        "# Maximum generation\n",
        "def max_gen_rule(m,g,t):\n",
        "  return m.p[g,t] <= m.cap[g]\n",
        "m.max_gen = pe.Constraint(m.g,m.t, rule=max_gen_rule)\n",
        "# Stationarity\n",
        "def stat_rule(m,g,t):\n",
        "  return 2*gen.loc[g,'q_cost']*m.p[g,t] + gen.loc[g,'l_cost'] - m.lamda[t] - m.alpha[g,t] + m.beta[g,t] == 0\n",
        "m.stat = pe.Constraint(m.g,m.t,rule=stat_rule)\n",
        "# Complementarity 1\n",
        "def com1_rule(m,g,t):\n",
        "  return m.p[g,t]*m.alpha[g,t] <= 0\n",
        "m.com1 = pe.Constraint(m.g,m.t,rule=com1_rule)\n",
        "# Complementarity 2\n",
        "def com2_rule(m,g,t):\n",
        "  return (m.cap[g]-m.p[g,t])*m.beta[g,t] <= 0\n",
        "m.com2 = pe.Constraint(m.g,m.t,rule=com2_rule)\n",
        "# Fix capacity unit 2\n",
        "def fix_cap_rule(m):\n",
        "  return m.cap[1] == gen.loc[1,'pmax']\n",
        "m.fix_cap = pe.Constraint(rule=fix_cap_rule)\n",
        "# We solve the optimization problem using IPOPT\n",
        "pe.SolverFactory('ipopt').solve(m,tee=True).write()\n",
        "print(m.cap[0].value)"
      ],
      "execution_count": 18,
      "outputs": [
        {
          "output_type": "stream",
          "name": "stdout",
          "text": [
            "Ipopt 3.12.13: \n",
            "\n",
            "******************************************************************************\n",
            "This program contains Ipopt, a library for large-scale nonlinear optimization.\n",
            " Ipopt is released as open source code under the Eclipse Public License (EPL).\n",
            "         For more information visit http://projects.coin-or.org/Ipopt\n",
            "******************************************************************************\n",
            "\n",
            "This is Ipopt version 3.12.13, running with linear solver mumps.\n",
            "NOTE: Other linear solvers might be more efficient (see Ipopt documentation).\n",
            "\n",
            "Number of nonzeros in equality constraint Jacobian...:       31\n",
            "Number of nonzeros in inequality constraint Jacobian.:       42\n",
            "Number of nonzeros in Lagrangian Hessian.............:       21\n",
            "\n",
            "Total number of variables............................:       23\n",
            "                     variables with only lower bounds:       20\n",
            "                variables with lower and upper bounds:        0\n",
            "                     variables with only upper bounds:        0\n",
            "Total number of equality constraints.................:       10\n",
            "Total number of inequality constraints...............:       18\n",
            "        inequality constraints with only lower bounds:        0\n",
            "   inequality constraints with lower and upper bounds:        0\n",
            "        inequality constraints with only upper bounds:       18\n",
            "\n",
            "iter    objective    inf_pr   inf_du lg(mu)  ||d||  lg(rg) alpha_du alpha_pr  ls\n",
            "   0  4.1969361e-01 2.00e+02 1.17e+01  -1.0 0.00e+00    -  0.00e+00 0.00e+00   0\n",
            "   1  4.2094683e-01 2.00e+02 1.17e+01  -1.0 2.00e+02    -  4.95e-05 3.95e-04f  1\n",
            "   2  4.9870536e-01 1.99e+02 1.15e+01  -1.0 2.00e+02    -  3.93e-04 2.09e-03f  1\n",
            "   3  4.8810593e-01 1.99e+02 1.15e+01  -1.0 1.99e+02    -  1.57e-03 1.83e-03h  1\n",
            "   4  4.6739031e-01 1.98e+02 1.15e+01  -1.0 1.99e+02    -  2.06e-03 4.17e-03f  1\n",
            "   5  4.7238952e-01 1.97e+02 1.15e+01  -1.0 1.98e+02    -  5.70e-03 5.67e-03h  1\n",
            "   6  4.9015521e-01 1.95e+02 1.14e+01  -1.0 1.97e+02    -  1.53e-02 1.16e-02f  1\n",
            "   7  5.1766294e-01 1.91e+02 6.66e+01  -1.0 1.95e+02    -  5.51e-02 2.13e-02h  1\n",
            "   8  7.4415115e-01 1.82e+02 2.40e+02  -1.0 1.91e+02    -  9.42e-02 4.51e-02f  1\n",
            "   9  1.0314091e+00 1.68e+02 5.14e+03  -1.0 1.82e+02    -  3.86e-01 7.65e-02h  1\n",
            "iter    objective    inf_pr   inf_du lg(mu)  ||d||  lg(rg) alpha_du alpha_pr  ls\n",
            "  10  1.6422572e+00 1.42e+02 3.31e+02  -1.0 1.68e+02    -  2.06e-01 1.55e-01h  1\n",
            "  11  1.9086393e+00 1.10e+02 9.11e+04  -1.0 1.42e+02    -  1.00e+00 2.27e-01h  1\n",
            "  12  1.1096851e+00 6.65e+01 7.35e+04  -1.0 1.10e+02    -  6.37e-01 3.95e-01h  1\n",
            "  13  6.9207738e-01 4.12e+01 4.82e+05  -1.0 6.65e+01    -  1.00e+00 3.81e-01h  1\n",
            "  14  2.6627894e-01 1.74e+01 6.97e+05  -1.0 4.12e+01    -  1.00e+00 5.78e-01h  1\n",
            "  15  1.2441134e-01 8.04e+00 1.82e+06  -1.0 1.74e+01    -  1.00e+00 5.37e-01h  1\n",
            "  16  4.5405153e-02 2.83e+00 2.27e+06  -1.0 8.04e+00    -  1.00e+00 6.49e-01h  1\n",
            "  17  1.6620011e-02 8.69e-01 2.32e+06  -1.0 2.83e+00    -  1.00e+00 6.93e-01h  1\n",
            "  18  5.6691558e-03 1.96e-01 1.78e+06  -1.0 8.69e-01    -  1.00e+00 7.75e-01h  1\n",
            "  19  4.4804869e-03 1.12e-01 4.91e+06  -1.0 1.96e-01    -  1.00e+00 4.30e-01h  1\n",
            "iter    objective    inf_pr   inf_du lg(mu)  ||d||  lg(rg) alpha_du alpha_pr  ls\n",
            "  20  7.1406563e-04 2.54e-02 2.11e+06  -1.0 1.63e-01    -  1.00e+00 7.72e-01h  1\n",
            "  21  8.8803834e-04 1.33e-02 4.28e+06  -1.0 5.51e-02    -  1.00e+00 4.75e-01h  1\n",
            "  22  8.9842861e-04 9.34e-03 5.57e+06  -1.0 2.19e-02    -  1.00e+00 3.00e-01f  2\n",
            "  23  4.8458874e-04 1.77e-03 1.27e+06  -1.0 2.77e-02    -  1.00e+00 8.10e-01h  1\n",
            "  24  5.1578024e-04 1.33e-03 1.25e+06  -1.0 1.09e-02    -  1.00e+00 2.48e-01f  2\n",
            "  25  2.4744800e-04 1.13e-04 2.64e+05  -1.0 2.19e-02    -  1.00e+00 9.15e-01h  1\n",
            "  26  2.9176316e-04 8.11e-05 6.41e+06  -1.0 1.39e-02    -  1.00e+00 2.85e-01f  2\n",
            "  27  3.0198150e-04 1.14e-13 7.08e+03  -1.0 9.84e-04    -  1.00e+00 1.00e+00h  1\n",
            "  28  3.0923112e-04 9.52e-13 6.81e+03  -2.5 5.98e-04    -  1.00e+00 1.00e+00f  1\n",
            "  29  1.0959772e-03 1.98e-12 6.90e+03  -2.5 4.11e-02    -  1.00e+00 1.00e+00F  1\n",
            "iter    objective    inf_pr   inf_du lg(mu)  ||d||  lg(rg) alpha_du alpha_pr  ls\n",
            "  30  2.2424387e-03 6.82e-13 1.30e+03  -2.5 4.62e-02    -  1.00e+00 1.00e+00F  1\n",
            "  31  2.4757185e-03 1.42e-14 3.29e+02  -2.5 6.93e-03    -  1.00e+00 1.00e+00h  1\n",
            "  32  2.4734569e-03 2.84e-14 1.07e-01  -2.5 6.55e-05    -  1.00e+00 1.00e+00h  1\n",
            "  33  3.6725042e-04 2.21e-10 1.97e+05  -5.7 8.81e-02    -  6.51e-01 1.00e+00f  1\n",
            "  34  1.8295679e-04 5.68e-14 2.65e+03  -5.7 1.63e-02    -  9.87e-01 1.00e+00f  1\n",
            "  35  3.0582249e-05 1.42e-14 3.15e+03  -5.7 2.31e-02    -  5.99e-01 1.00e+00f  1\n",
            "  36  7.6364807e-06 1.78e-15 1.66e+03  -5.7 2.14e-02    -  1.00e+00 3.73e-01h  2\n",
            "  37  5.5580723e-06 2.84e-14 3.29e+03  -5.7 1.16e-03   0.0 6.18e-01 1.00e+00h  1\n",
            "  38  3.6522698e-06 1.42e-14 2.38e-01  -5.7 1.28e-03    -  1.00e+00 1.00e+00h  1\n",
            "  39  1.5206063e-06 7.11e-15 3.52e-02  -5.7 1.95e-03    -  1.00e+00 1.00e+00h  1\n",
            "iter    objective    inf_pr   inf_du lg(mu)  ||d||  lg(rg) alpha_du alpha_pr  ls\n",
            "  40  9.9495216e-07 3.55e-15 6.27e-03  -5.7 6.77e-04    -  1.00e+00 1.00e+00H  1\n",
            "  41  9.2357419e-07 3.55e-15 9.01e-04  -5.7 1.04e-04    -  1.00e+00 1.00e+00h  1\n",
            "  42  9.2279467e-07 1.78e-15 9.35e-08  -5.7 1.13e-06    -  1.00e+00 1.00e+00h  1\n",
            "  43  2.2002773e-07 7.11e-15 1.23e+02  -8.6 1.41e-03    -  6.66e-01 1.00e+00f  1\n",
            "  44  1.4932278e-07 2.84e-14 5.15e-05  -8.6 2.20e-04    -  1.00e+00 1.00e+00h  1\n",
            "  45  2.7573464e-08 2.84e-14 1.31e-01  -8.6 5.79e-04    -  7.82e-01 1.00e+00h  1\n",
            "  46 -5.3435979e-09 3.55e-15 1.19e-04  -8.6 2.61e-04    -  1.00e+00 1.00e+00h  1\n",
            "  47 -1.4111291e-08 2.84e-14 1.42e-01  -8.6 1.29e-04    -  7.78e-01 1.00e+00h  1\n",
            "  48 -1.9392106e-08 2.84e-14 2.18e-05  -8.6 5.10e-05    -  1.00e+00 1.00e+00h  1\n",
            "  49 -2.0921927e-08 2.84e-14 4.51e-06  -8.6 3.34e-05    -  1.00e+00 1.00e+00h  1\n",
            "iter    objective    inf_pr   inf_du lg(mu)  ||d||  lg(rg) alpha_du alpha_pr  ls\n",
            "  50 -2.2652399e-08 7.11e-15 8.12e-07  -8.6 1.32e-05    -  1.00e+00 1.00e+00h  1\n",
            "  51 -2.3004482e-08 3.55e-15 1.43e-08  -8.6 1.26e-06    -  1.00e+00 1.00e+00h  1\n",
            "  52 -2.5150757e-08 1.78e-15 5.14e-02  -9.0 3.58e-05    -  8.38e-01 1.00e+00H  1\n",
            "  53 -2.6763298e-08 0.00e+00 1.29e-06  -9.0 1.87e-05    -  1.00e+00 1.00e+00h  1\n",
            "  54 -2.7002300e-08 1.78e-15 7.46e-08  -9.0 7.41e-06    -  1.00e+00 1.00e+00h  1\n",
            "  55 -2.7061061e-08 3.55e-15 1.17e-10  -9.0 2.93e-07    -  1.00e+00 1.00e+00h  1\n",
            "\n",
            "Number of Iterations....: 55\n",
            "\n",
            "                                   (scaled)                 (unscaled)\n",
            "Objective...............:  -2.7061061313142379e-08   -2.7061061313142379e-08\n",
            "Dual infeasibility......:   1.1664786232881740e-10    1.1664786232881740e-10\n",
            "Constraint violation....:   3.5527136788005009e-15    3.5527136788005009e-15\n",
            "Complementarity.........:   9.0910649179067000e-10    9.0910649179067000e-10\n",
            "Overall NLP error.......:   9.0910649179067000e-10    9.0910649179067000e-10\n",
            "\n",
            "\n",
            "Number of objective function evaluations             = 65\n",
            "Number of objective gradient evaluations             = 56\n",
            "Number of equality constraint evaluations            = 65\n",
            "Number of inequality constraint evaluations          = 65\n",
            "Number of equality constraint Jacobian evaluations   = 56\n",
            "Number of inequality constraint Jacobian evaluations = 56\n",
            "Number of Lagrangian Hessian evaluations             = 55\n",
            "Total CPU secs in IPOPT (w/o function evaluations)   =      0.021\n",
            "Total CPU secs in NLP function evaluations           =      0.001\n",
            "\n",
            "EXIT: Optimal Solution Found.\n",
            "\b\b\b\b\b\b\b\b\b\b\b\b\b\b\b# ==========================================================\n",
            "# = Solver Results                                         =\n",
            "# ==========================================================\n",
            "# ----------------------------------------------------------\n",
            "#   Problem Information\n",
            "# ----------------------------------------------------------\n",
            "Problem: \n",
            "- Lower bound: -inf\n",
            "  Upper bound: inf\n",
            "  Number of objectives: 1\n",
            "  Number of constraints: 28\n",
            "  Number of variables: 23\n",
            "  Sense: unknown\n",
            "# ----------------------------------------------------------\n",
            "#   Solver Information\n",
            "# ----------------------------------------------------------\n",
            "Solver: \n",
            "- Status: ok\n",
            "  Message: Ipopt 3.12.13\\x3a Optimal Solution Found\n",
            "  Termination condition: optimal\n",
            "  Id: 0\n",
            "  Error rc: 0\n",
            "  Time: 0.052422523498535156\n",
            "# ----------------------------------------------------------\n",
            "#   Solution Information\n",
            "# ----------------------------------------------------------\n",
            "Solution: \n",
            "- number of solutions: 0\n",
            "  number of solutions displayed: 0\n",
            "6.15218541233577e-05\n"
          ]
        }
      ]
    },
    {
      "cell_type": "markdown",
      "metadata": {
        "id": "5zEAqcOEo0NV"
      },
      "source": [
        "## Solution Output"
      ]
    },
    {
      "cell_type": "code",
      "metadata": {
        "id": "iSp-Sn1AmVxd",
        "colab": {
          "base_uri": "https://localhost:8080/",
          "height": 374
        },
        "outputId": "8a77f2c1-8f73-473c-a562-abd8d1e50109"
      },
      "source": [
        "# Print results\n",
        "print('obj =',m.obj())\n",
        "print('p1 =',m.p[0].value)\n",
        "print('p2 =',m.p[1].value)"
      ],
      "execution_count": 4,
      "outputs": [
        {
          "output_type": "stream",
          "name": "stdout",
          "text": [
            "obj = 0.0\n"
          ]
        },
        {
          "output_type": "error",
          "ename": "KeyError",
          "evalue": "ignored",
          "traceback": [
            "\u001b[0;31m---------------------------------------------------------------------------\u001b[0m",
            "\u001b[0;31mKeyError\u001b[0m                                  Traceback (most recent call last)",
            "\u001b[0;32m<ipython-input-4-0e31c60d16b0>\u001b[0m in \u001b[0;36m<module>\u001b[0;34m()\u001b[0m\n\u001b[1;32m      1\u001b[0m \u001b[0;31m# Print results\u001b[0m\u001b[0;34m\u001b[0m\u001b[0;34m\u001b[0m\u001b[0;34m\u001b[0m\u001b[0m\n\u001b[1;32m      2\u001b[0m \u001b[0mprint\u001b[0m\u001b[0;34m(\u001b[0m\u001b[0;34m'obj ='\u001b[0m\u001b[0;34m,\u001b[0m\u001b[0mm\u001b[0m\u001b[0;34m.\u001b[0m\u001b[0mobj\u001b[0m\u001b[0;34m(\u001b[0m\u001b[0;34m)\u001b[0m\u001b[0;34m)\u001b[0m\u001b[0;34m\u001b[0m\u001b[0;34m\u001b[0m\u001b[0m\n\u001b[0;32m----> 3\u001b[0;31m \u001b[0mprint\u001b[0m\u001b[0;34m(\u001b[0m\u001b[0;34m'p1 ='\u001b[0m\u001b[0;34m,\u001b[0m\u001b[0mm\u001b[0m\u001b[0;34m.\u001b[0m\u001b[0mp\u001b[0m\u001b[0;34m[\u001b[0m\u001b[0;36m0\u001b[0m\u001b[0;34m]\u001b[0m\u001b[0;34m.\u001b[0m\u001b[0mvalue\u001b[0m\u001b[0;34m)\u001b[0m\u001b[0;34m\u001b[0m\u001b[0;34m\u001b[0m\u001b[0m\n\u001b[0m\u001b[1;32m      4\u001b[0m \u001b[0mprint\u001b[0m\u001b[0;34m(\u001b[0m\u001b[0;34m'p2 ='\u001b[0m\u001b[0;34m,\u001b[0m\u001b[0mm\u001b[0m\u001b[0;34m.\u001b[0m\u001b[0mp\u001b[0m\u001b[0;34m[\u001b[0m\u001b[0;36m1\u001b[0m\u001b[0;34m]\u001b[0m\u001b[0;34m.\u001b[0m\u001b[0mvalue\u001b[0m\u001b[0;34m)\u001b[0m\u001b[0;34m\u001b[0m\u001b[0;34m\u001b[0m\u001b[0m\n",
            "\u001b[0;32m/usr/local/lib/python3.7/dist-packages/pyomo/core/base/indexed_component.py\u001b[0m in \u001b[0;36m__getitem__\u001b[0;34m(self, index)\u001b[0m\n\u001b[1;32m    509\u001b[0m             \u001b[0;32mif\u001b[0m \u001b[0mindex\u001b[0m\u001b[0;34m.\u001b[0m\u001b[0m__class__\u001b[0m \u001b[0;32mis\u001b[0m \u001b[0mEXPR\u001b[0m\u001b[0;34m.\u001b[0m\u001b[0mGetItemExpression\u001b[0m\u001b[0;34m:\u001b[0m\u001b[0;34m\u001b[0m\u001b[0;34m\u001b[0m\u001b[0m\n\u001b[1;32m    510\u001b[0m                 \u001b[0;32mreturn\u001b[0m \u001b[0mindex\u001b[0m\u001b[0;34m\u001b[0m\u001b[0;34m\u001b[0m\u001b[0m\n\u001b[0;32m--> 511\u001b[0;31m             \u001b[0mvalidated_index\u001b[0m \u001b[0;34m=\u001b[0m \u001b[0mself\u001b[0m\u001b[0;34m.\u001b[0m\u001b[0m_validate_index\u001b[0m\u001b[0;34m(\u001b[0m\u001b[0mindex\u001b[0m\u001b[0;34m)\u001b[0m\u001b[0;34m\u001b[0m\u001b[0;34m\u001b[0m\u001b[0m\n\u001b[0m\u001b[1;32m    512\u001b[0m             \u001b[0;32mif\u001b[0m \u001b[0mvalidated_index\u001b[0m \u001b[0;32mis\u001b[0m \u001b[0;32mnot\u001b[0m \u001b[0mindex\u001b[0m\u001b[0;34m:\u001b[0m\u001b[0;34m\u001b[0m\u001b[0;34m\u001b[0m\u001b[0m\n\u001b[1;32m    513\u001b[0m                 \u001b[0mindex\u001b[0m \u001b[0;34m=\u001b[0m \u001b[0mvalidated_index\u001b[0m\u001b[0;34m\u001b[0m\u001b[0;34m\u001b[0m\u001b[0m\n",
            "\u001b[0;32m/usr/local/lib/python3.7/dist-packages/pyomo/core/base/indexed_component.py\u001b[0m in \u001b[0;36m_validate_index\u001b[0;34m(self, idx)\u001b[0m\n\u001b[1;32m    736\u001b[0m         raise KeyError(\n\u001b[1;32m    737\u001b[0m             \u001b[0;34m\"Index '%s' is not valid for indexed component '%s'\"\u001b[0m\u001b[0;34m\u001b[0m\u001b[0;34m\u001b[0m\u001b[0m\n\u001b[0;32m--> 738\u001b[0;31m             % ( idx, self.name, ))\n\u001b[0m\u001b[1;32m    739\u001b[0m \u001b[0;34m\u001b[0m\u001b[0m\n\u001b[1;32m    740\u001b[0m     \u001b[0;32mdef\u001b[0m \u001b[0m_processUnhashableIndex\u001b[0m\u001b[0;34m(\u001b[0m\u001b[0mself\u001b[0m\u001b[0;34m,\u001b[0m \u001b[0midx\u001b[0m\u001b[0;34m)\u001b[0m\u001b[0;34m:\u001b[0m\u001b[0;34m\u001b[0m\u001b[0;34m\u001b[0m\u001b[0m\n",
            "\u001b[0;31mKeyError\u001b[0m: \"Index '0' is not valid for indexed component 'p'\""
          ]
        }
      ]
    }
  ]
}