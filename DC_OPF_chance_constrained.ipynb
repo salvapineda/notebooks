{
  "nbformat": 4,
  "nbformat_minor": 0,
  "metadata": {
    "colab": {
      "name": "DC_OPF_chance_constrained",
      "provenance": [],
      "collapsed_sections": [],
      "include_colab_link": true
    },
    "kernelspec": {
      "name": "python3",
      "display_name": "Python 3"
    },
    "language_info": {
      "name": "python"
    }
  },
  "cells": [
    {
      "cell_type": "markdown",
      "metadata": {
        "id": "view-in-github",
        "colab_type": "text"
      },
      "source": [
        "<a href=\"https://colab.research.google.com/github/salvapineda/notebooks/blob/main/DC_OPF_chance_constrained.ipynb\" target=\"_parent\"><img src=\"https://colab.research.google.com/assets/colab-badge.svg\" alt=\"Open In Colab\"/></a>"
      ]
    },
    {
      "cell_type": "markdown",
      "source": [
        "This is the code for the chance cosntrained DC optimal power flow."
      ],
      "metadata": {
        "id": "Ka5pFlhrE3Q2"
      }
    },
    {
      "cell_type": "markdown",
      "source": [
        "# Requirements"
      ],
      "metadata": {
        "id": "1EWJA6Iqytpy"
      }
    },
    {
      "cell_type": "code",
      "source": [
        "!pip install -q gurobipy\n",
        "import gurobipy as gp\n",
        "from gurobipy import GRB\n",
        "import numpy as np\n",
        "import pandas as pd"
      ],
      "metadata": {
        "id": "HuVOLhHrywSn"
      },
      "execution_count": null,
      "outputs": []
    },
    {
      "cell_type": "markdown",
      "source": [
        "# Data"
      ],
      "metadata": {
        "id": "K9Qv22vby2PX"
      }
    },
    {
      "cell_type": "code",
      "source": [
        "# generation data\n",
        "gen = pd.DataFrame({        \n",
        "       'bus':       [0,    1, 2],\n",
        "       'cost':      [20,   30, 0], \n",
        "       'cost_up':   [30,   35, 0], \n",
        "       'cost_do':   [10,   25, 0], \n",
        "       'pmin':      [0,   0, 0], \n",
        "       'pmax':      [100,  50, 0]})\n",
        "\n",
        "lin = pd.DataFrame({\n",
        "       'line': [0,   1,   2], \n",
        "       'from': [0,   0,   1],\n",
        "       'to':   [1,   2,   2], \n",
        "       'b':    [1,  1,  1], \n",
        "       'cap':  [60, 60, 60]})\n",
        "\n",
        "# Number of elements in the system\n",
        "nbus = max(max(lin['from']),max(lin['to']))+1\n",
        "ngen = nbus\n",
        "nlin = len(lin)\n",
        "\n",
        "# Power Transfer Distribution Factor\n",
        "A_max = np.zeros((nlin,nbus))\n",
        "for l in range(nlin): \n",
        "    A_max[l,lin.loc[l,'from']] = 1\n",
        "    A_max[l,lin.loc[l,'to']]   = -1 \n",
        "node_ref = 0\n",
        "A_m  = np.delete(A_max,node_ref,axis=1)\n",
        "X_m  = np.diag(1/lin['b'].values)\n",
        "B_m  = np.linalg.multi_dot([A_m.T,np.linalg.inv(X_m),A_m])\n",
        "ptdf = np.linalg.multi_dot([np.linalg.inv(X_m),A_m,np.linalg.inv(B_m)])\n",
        "PTDF = np.round(np.insert(ptdf,node_ref,np.zeros(nlin),axis=1),5)\n",
        "\n",
        "# State of the system\n",
        "demand = np.array([0,0,90])\n",
        "var = np.array([0,0,20])      \n",
        "scen = np.zeros((len(demand),11))\n",
        "scen[2,:] = np.array([-1,-0.8,-0.6,-0.4,-0.2,0,0.2,0.4,0.6,0.8,1])\n",
        "scen20    = 20*scen\n",
        "demand_scenarios = np.reshape(demand,(3,1)) + scen20"
      ],
      "metadata": {
        "id": "sffKV4GSy4Vt"
      },
      "execution_count": null,
      "outputs": []
    },
    {
      "cell_type": "markdown",
      "source": [
        "# Sample average approximation of the joint chance-constrained DC-OPF\n",
        "\n",
        "\\begin{align}\n",
        "\\underset{p_n,\\beta_n\\geq0}{\\min} \\quad & \\mathbb{E} \\left[ \\sum_n \\left( c_n p_n + c^u_n(-\\beta_n \\Omega)^+ - c^d_n (\\beta_n\\Omega)^+ \\right) \\right]  \\\\\n",
        "\\text{s.t.} \\quad &  \\sum_n p_n - \\hat{d}_n = 0 \\\\\n",
        "& \\sum_n \\beta_n = 1\\\\\n",
        "& \\underline{p}_n \\leq p_n\\leq \\overline{p}_n, \\quad \\forall n\\\\\n",
        "& -\\overline{f}_l \\leq \\sum_n B_{ln}\\left(p_n  -\\hat{d}_n \\right) \\leq \\overline{f}_l, \\quad \\forall l\\\\\n",
        "& -M\\,z_s + \\underline{p}_n \\leq p_{n} - \\Omega \\beta_{n} \\leq  \\overline{p}_n+M\\,z_s, \\quad \\forall n,s \\\\\n",
        "& -M\\,z_s -\\overline{f}  \\leq \\sum_n B_{ln} \\left(p_n - \\Omega \\beta_n + \\hat{d}_n - e_n\\,\\eta_{ns}\\right) \\leq \\overline{f}+M\\,z_s, \\quad \\forall l,s\\\\\n",
        "& \\sum_s z_s  \\leq \\lfloor \\epsilon \\, |S| \\rfloor\\\\\n",
        "& z_s \\in \\{0,1\\}, \\quad \\forall s\n",
        "\\end{align}"
      ],
      "metadata": {
        "id": "TdTRrDThy5Af"
      }
    },
    {
      "cell_type": "code",
      "source": [
        "def dc_opf_jcc(demand,var,scen,epsilon):\n",
        "  nscen = scen.shape[1]\n",
        "  omega = scen.sum(axis=0)\n",
        "  M = 100\n",
        "  # model\n",
        "  m = gp.Model() \n",
        "  # variables\n",
        "  power = m.addMVar(ngen,name='gen')\n",
        "  beta  = m.addMVar(ngen,name='participation')\n",
        "  z  = m.addMVar(nscen,vtype=GRB.BINARY,name='bin')\n",
        "  # objective function\n",
        "  m.setObjective(gen['cost'].values @ power + 0.25*var.sum()*(gen['cost_up'].values - gen['cost_do'].values) @ beta, GRB.MINIMIZE)\n",
        "  # constraints\n",
        "  m.addConstr(power.sum() == demand.sum())\n",
        "  m.addConstr(beta.sum() == 1)\n",
        "  m.addConstr(power >= gen['pmin'].values)\n",
        "  m.addConstr(power <= gen['pmax'].values)\n",
        "  m.addConstr(PTDF @ power >= -lin['cap'].values + PTDF @ demand)\n",
        "  m.addConstr(PTDF @ power <=  lin['cap'].values + PTDF @ demand)\n",
        "  m.addConstrs((power[g] - omega[s]*beta[g] >= gen['pmin'].values[g] - M*z[s] for g in range(ngen) for s in range(nscen)))\n",
        "  m.addConstrs((power[g] - omega[s]*beta[g] <= gen['pmax'].values[g] + M*z[s] for g in range(ngen) for s in range(nscen)))\n",
        "  m.addConstrs((PTDF[l,:] @ power - omega[s]*(PTDF[l,:] @ beta) - PTDF[l,:] @ demand + PTDF[l,:] @ scen[:,s] >= -lin['cap'].values[l] - M*z[s] for l in range(nlin) for s in range(nscen)))\n",
        "  m.addConstrs((PTDF[l,:] @ power - omega[s]*(PTDF[l,:] @ beta) - PTDF[l,:] @ demand + PTDF[l,:] @ scen[:,s] <=  lin['cap'].values[l] + M*z[s] for l in range(nlin) for s in range(nscen)))\n",
        "  m.addConstr(z.sum() <= int(nscen*epsilon))\n",
        "  # solve\n",
        "  m.setParam('OutputFlag',0)\n",
        "  m.optimize()\n",
        "  \n",
        "  # Calculate the violation per constraint and scenario\n",
        "  vio = pd.DataFrame()\n",
        "  for s in range(nscen):\n",
        "     plus =  list( -power.X + omega[s] * beta.X + gen['pmin'].values)\n",
        "     plus += list(  power.X - omega[s] * beta.X - gen['pmax'].values)\n",
        "     plus += list(-PTDF @ (power.X - omega[s] * beta.X - demand + scen[:,s]) - lin['cap'].values)\n",
        "     plus += list( PTDF @ (power.X - omega[s] * beta.X - demand + scen[:,s]) - lin['cap'].values)\n",
        "     vio[s] = plus    \n",
        "  \n",
        "  # results\n",
        "  print('########## JCC #############')\n",
        "  print('cost =',round(m.ObjVal,1))\n",
        "  print('dispatch =',np.round(power.X,2))\n",
        "  print('participation factor =',np.round(beta.X,2))\n",
        "  print('violated scenarios =',np.round(z.X,0))\n",
        "  return power.X, np.round(z.X,0)"
      ],
      "metadata": {
        "id": "3qEpxc3dzQ07"
      },
      "execution_count": null,
      "outputs": []
    },
    {
      "cell_type": "markdown",
      "source": [
        "# Real time operation\n",
        "\n",
        "\\begin{align}\n",
        "\\underset{r^u_n\\geq 0,r^d_n\\geq 0}{\\min} \\quad & \\sum_n c_n p^*_n + c^u_n r^u_n - c^d_n r^d_n \\\\\n",
        "\\text{s.t.} \\quad & \\sum_n p^*_n+r^u_n-r^d_n = \\sum_n \\tilde{d}_n - e \\eta_n\\\\\n",
        "& \\underline{p} \\leq p^*_n + r^u_n-r^d_n \\leq \\overline{p}_n, \\quad \\forall n\\\\\n",
        "& -\\overline{f}_l \\leq \\sum_n b_{ln}(p^*_n + r^u_n-r^d_n -\\tilde{d}_n) \\leq \\overline{f}_l, \\quad \\forall l \\\\\n",
        "\\end{align}"
      ],
      "metadata": {
        "id": "TL6-vNmKzaRv"
      }
    },
    {
      "cell_type": "code",
      "source": [
        "def real_time(demand,dispatch):\n",
        "  # model\n",
        "  m = gp.Model()\n",
        "  # variables\n",
        "  res_up = m.addMVar(ngen)\n",
        "  res_do = m.addMVar(ngen)\n",
        "  # objective function\n",
        "  m.setObjective(gen['cost'].values @ dispatch + gen['cost_up'].values @ res_up - gen['cost_do'].values @ res_do, GRB.MINIMIZE)\n",
        "  # constraints\n",
        "  m.addConstr(dispatch.sum() + res_up.sum() - res_do.sum() == demand.sum())\n",
        "  m.addConstr(dispatch + res_up - res_do >= gen['pmin'].values)\n",
        "  m.addConstr(dispatch + res_up - res_do <= gen['pmax'].values)\n",
        "  m.addConstr(PTDF @ dispatch + PTDF @ res_up - PTDF @ res_do - PTDF @ demand >= -lin['cap'].values)\n",
        "  m.addConstr(PTDF @ dispatch + PTDF @ res_up - PTDF @ res_do - PTDF @ demand <=  lin['cap'].values)\n",
        "  # solve\n",
        "  m.setParam('OutputFlag',0)\n",
        "  m.optimize()\n",
        "  return m.ObjVal"
      ],
      "metadata": {
        "id": "kt8wDa5xzfWr"
      },
      "execution_count": null,
      "outputs": []
    },
    {
      "cell_type": "code",
      "source": [
        "def evaluate_scenarios(dispatch,demand_scenarios):\n",
        "  v_cost = []\n",
        "  for s in range(demand_scenarios.shape[1]):\n",
        "    obj = real_time(demand_scenarios[:,s],dispatch)\n",
        "    v_cost.append(obj)    \n",
        "  print('minimum cost =',round(np.min(v_cost),1))\n",
        "  print('average cost =',round(np.mean(v_cost),1))\n",
        "  print('maximum cost =',round(np.max(v_cost),1))"
      ],
      "metadata": {
        "id": "70PLIlPZziQc"
      },
      "execution_count": null,
      "outputs": []
    },
    {
      "cell_type": "markdown",
      "source": [
        "# Evaluate the SAA JCC-DC-OPF when $\\epsilon = 0.0$"
      ],
      "metadata": {
        "id": "KE_KRWzQzlvc"
      }
    },
    {
      "cell_type": "code",
      "source": [
        "gen_jcc,z_var = dc_opf_jcc(demand,var,scen20,0.0)\n",
        "evaluate_scenarios(np.round(gen_jcc,2), demand_scenarios)"
      ],
      "metadata": {
        "colab": {
          "base_uri": "https://localhost:8080/"
        },
        "id": "JeHtV20gzpmk",
        "outputId": "4e78e5ee-0fa3-425f-f8e5-147b584d0823"
      },
      "execution_count": null,
      "outputs": [
        {
          "output_type": "stream",
          "name": "stdout",
          "text": [
            "########## JCC #############\n",
            "cost = 2050.0\n",
            "dispatch = [70. 20.  0.]\n",
            "participation factor = [0. 1. 0.]\n",
            "violated scenarios = [0. 0. 0. 0. 0. 0. 0. 0. 0. 0. 0.]\n",
            "minimum cost = 1500.0\n",
            "average cost = 2043.6\n",
            "maximum cost = 2700.0\n"
          ]
        }
      ]
    },
    {
      "cell_type": "markdown",
      "source": [
        "# Evaluate the SAA JCC-DC-OPF when $\\epsilon = 0.2$"
      ],
      "metadata": {
        "id": "qwBzAqWf7doF"
      }
    },
    {
      "cell_type": "code",
      "source": [
        "gen_jcc,z_var = dc_opf_jcc(demand,var,scen20,0.2)\n",
        "evaluate_scenarios(np.round(gen_jcc,2), demand_scenarios[:,1:10])"
      ],
      "metadata": {
        "colab": {
          "base_uri": "https://localhost:8080/"
        },
        "id": "ouW9__Bn7g-z",
        "outputId": "1fd6818a-fba9-4cad-9e02-5bfc427d5720"
      },
      "execution_count": null,
      "outputs": [
        {
          "output_type": "stream",
          "name": "stdout",
          "text": [
            "########## JCC #############\n",
            "cost = 2010.0\n",
            "dispatch = [74. 16.  0.]\n",
            "participation factor = [0. 1. 0.]\n",
            "violated scenarios = [ 1.  0.  0. -0. -0.  0. -0. -0. -0.  0.  1.]\n",
            "minimum cost = 1560.0\n",
            "average cost = 1995.6\n",
            "maximum cost = 2520.0\n"
          ]
        }
      ]
    }
  ]
}