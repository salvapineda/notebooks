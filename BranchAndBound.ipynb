{
  "nbformat": 4,
  "nbformat_minor": 0,
  "metadata": {
    "colab": {
      "provenance": [],
      "authorship_tag": "ABX9TyOfxYRtpBmDRlGqA4SrI+Dw",
      "include_colab_link": true
    },
    "kernelspec": {
      "name": "python3",
      "display_name": "Python 3"
    }
  },
  "cells": [
    {
      "cell_type": "markdown",
      "metadata": {
        "id": "view-in-github",
        "colab_type": "text"
      },
      "source": [
        "<a href=\"https://colab.research.google.com/github/salvapineda/notebooks/blob/main/BranchAndBound.ipynb\" target=\"_parent\"><img src=\"https://colab.research.google.com/assets/colab-badge.svg\" alt=\"Open In Colab\"/></a>"
      ]
    },
    {
      "cell_type": "markdown",
      "metadata": {
        "id": "mdEGfvFxE6ry"
      },
      "source": [
        "# Branch and bound\n",
        "\n",
        "This notebook solves the following mixed-integer linear optimization problem:\n",
        "\n",
        "$$\n",
        "\\begin{align}\n",
        "\\underset{x_1,x_2,x_3,x_4}{\\min} \\quad & 3x_1+2x_2 \\\\\n",
        "\\text{s.t.} \\quad & x_1-2x_2+x_3 = 5/2\\\\\n",
        "& 2x_1+x_2+x_4=3/2\\\\\n",
        "& x_1,x_2,x_3,x_4 \\geq 0 \\\\\n",
        "& x_2, x_3 \\in \\mathbb{N}\n",
        "\\end{align}\n",
        "$$"
      ]
    },
    {
      "cell_type": "markdown",
      "metadata": {
        "id": "DHuvPMzvE95_"
      },
      "source": [
        "## Requirements"
      ]
    },
    {
      "cell_type": "code",
      "metadata": {
        "id": "qJEcbyBsEz8U",
        "outputId": "fbe812cb-8fd1-492f-99b1-09ace18678cd",
        "colab": {
          "base_uri": "https://localhost:8080/"
        }
      },
      "source": [
        "# PYOMO\n",
        "!pip install pyomo \n",
        "import pyomo.environ as pe\n",
        "# GLPK\n",
        "!apt-get install -y -qq glpk-utils\n",
        "glpk = pe.SolverFactory('glpk', executable='/usr/bin/glpsol')"
      ],
      "execution_count": 1,
      "outputs": [
        {
          "output_type": "stream",
          "name": "stdout",
          "text": [
            "Looking in indexes: https://pypi.org/simple, https://us-python.pkg.dev/colab-wheels/public/simple/\n",
            "Collecting pyomo\n",
            "  Downloading Pyomo-6.5.0-cp39-cp39-manylinux_2_17_x86_64.manylinux2014_x86_64.whl (11.0 MB)\n",
            "\u001b[2K     \u001b[90m━━━━━━━━━━━━━━━━━━━━━━━━━━━━━━━━━━━━━━━━\u001b[0m \u001b[32m11.0/11.0 MB\u001b[0m \u001b[31m35.8 MB/s\u001b[0m eta \u001b[36m0:00:00\u001b[0m\n",
            "\u001b[?25hCollecting ply\n",
            "  Downloading ply-3.11-py2.py3-none-any.whl (49 kB)\n",
            "\u001b[2K     \u001b[90m━━━━━━━━━━━━━━━━━━━━━━━━━━━━━━━━━━━━━━━━\u001b[0m \u001b[32m49.6/49.6 KB\u001b[0m \u001b[31m3.1 MB/s\u001b[0m eta \u001b[36m0:00:00\u001b[0m\n",
            "\u001b[?25hInstalling collected packages: ply, pyomo\n",
            "Successfully installed ply-3.11 pyomo-6.5.0\n",
            "Selecting previously unselected package libsuitesparseconfig5:amd64.\n",
            "(Reading database ... 128275 files and directories currently installed.)\n",
            "Preparing to unpack .../libsuitesparseconfig5_1%3a5.7.1+dfsg-2_amd64.deb ...\n",
            "Unpacking libsuitesparseconfig5:amd64 (1:5.7.1+dfsg-2) ...\n",
            "Selecting previously unselected package libamd2:amd64.\n",
            "Preparing to unpack .../libamd2_1%3a5.7.1+dfsg-2_amd64.deb ...\n",
            "Unpacking libamd2:amd64 (1:5.7.1+dfsg-2) ...\n",
            "Selecting previously unselected package libcolamd2:amd64.\n",
            "Preparing to unpack .../libcolamd2_1%3a5.7.1+dfsg-2_amd64.deb ...\n",
            "Unpacking libcolamd2:amd64 (1:5.7.1+dfsg-2) ...\n",
            "Selecting previously unselected package libglpk40:amd64.\n",
            "Preparing to unpack .../libglpk40_4.65-2_amd64.deb ...\n",
            "Unpacking libglpk40:amd64 (4.65-2) ...\n",
            "Selecting previously unselected package glpk-utils.\n",
            "Preparing to unpack .../glpk-utils_4.65-2_amd64.deb ...\n",
            "Unpacking glpk-utils (4.65-2) ...\n",
            "Setting up libsuitesparseconfig5:amd64 (1:5.7.1+dfsg-2) ...\n",
            "Setting up libamd2:amd64 (1:5.7.1+dfsg-2) ...\n",
            "Setting up libcolamd2:amd64 (1:5.7.1+dfsg-2) ...\n",
            "Setting up libglpk40:amd64 (4.65-2) ...\n",
            "Setting up glpk-utils (4.65-2) ...\n",
            "Processing triggers for man-db (2.9.1-1) ...\n",
            "Processing triggers for libc-bin (2.31-0ubuntu9.9) ...\n"
          ]
        }
      ]
    },
    {
      "cell_type": "markdown",
      "metadata": {
        "id": "KM8_DK3ZHX95"
      },
      "source": [
        "## Solving the MIP directly\n",
        "First we solve the MILP directly using GLPK solver"
      ]
    },
    {
      "cell_type": "code",
      "metadata": {
        "id": "a_u2rR0aDeWO",
        "colab": {
          "base_uri": "https://localhost:8080/"
        },
        "outputId": "72bf6dd2-55f5-4b08-9ead-b21e3c1c9023"
      },
      "source": [
        "# Model\n",
        "m = pe.ConcreteModel()\n",
        "# Variables\n",
        "m.x1 = pe.Var(domain=pe.NonNegativeReals)\n",
        "m.x2 = pe.Var(domain=pe.NonNegativeIntegers)\n",
        "m.x3 = pe.Var(domain=pe.NonNegativeIntegers)\n",
        "m.x4 = pe.Var(domain=pe.NonNegativeReals)\n",
        "# Objective function\n",
        "m.obj = pe.Objective(expr = 3*m.x1+2*m.x2)\n",
        "# Constraints \n",
        "m.con1 = pe.Constraint(expr = m.x1-2*m.x2+m.x3 == 5/2)\n",
        "m.con2 = pe.Constraint(expr = 2*m.x1+m.x2+m.x4 == 3/2)\n",
        "# Solve problem using GLPK solver\n",
        "glpk.solve(m).write()\n",
        "# Print\n",
        "print('obj =',m.obj())\n",
        "print('x1 =',m.x1.value)\n",
        "print('x2 =',m.x2.value)\n",
        "print('x3 =',m.x3.value)\n",
        "print('x4 =',m.x4.value)\n"
      ],
      "execution_count": 2,
      "outputs": [
        {
          "output_type": "stream",
          "name": "stdout",
          "text": [
            "# ==========================================================\n",
            "# = Solver Results                                         =\n",
            "# ==========================================================\n",
            "# ----------------------------------------------------------\n",
            "#   Problem Information\n",
            "# ----------------------------------------------------------\n",
            "Problem: \n",
            "- Name: unknown\n",
            "  Lower bound: 1.5\n",
            "  Upper bound: 1.5\n",
            "  Number of objectives: 1\n",
            "  Number of constraints: 3\n",
            "  Number of variables: 5\n",
            "  Number of nonzeros: 7\n",
            "  Sense: minimize\n",
            "# ----------------------------------------------------------\n",
            "#   Solver Information\n",
            "# ----------------------------------------------------------\n",
            "Solver: \n",
            "- Status: ok\n",
            "  Termination condition: optimal\n",
            "  Statistics: \n",
            "    Branch and bound: \n",
            "      Number of bounded subproblems: 3\n",
            "      Number of created subproblems: 3\n",
            "  Error rc: 0\n",
            "  Time: 0.015077352523803711\n",
            "# ----------------------------------------------------------\n",
            "#   Solution Information\n",
            "# ----------------------------------------------------------\n",
            "Solution: \n",
            "- number of solutions: 0\n",
            "  number of solutions displayed: 0\n",
            "obj = 1.5\n",
            "x1 = 0.5\n",
            "x2 = 0.0\n",
            "x3 = 2.0\n",
            "x4 = 0.5\n"
          ]
        }
      ]
    },
    {
      "cell_type": "markdown",
      "metadata": {
        "id": "cRpgAZ4FHd4F"
      },
      "source": [
        "## Solving the MIP using branch and bound\n",
        "Now we solve it using the branch and bound method. First we set the upper- and lower-bound to $+\\infty$ and $-\\infty$, respectively. Then we solve the corresponding relaxed problem"
      ]
    },
    {
      "cell_type": "code",
      "metadata": {
        "id": "XQx3djGcFf9Y",
        "colab": {
          "base_uri": "https://localhost:8080/"
        },
        "outputId": "d854770e-0be6-4d50-a4ed-5bd42e3da2cc"
      },
      "source": [
        "# Model\n",
        "m = pe.ConcreteModel()\n",
        "# Variables\n",
        "m.x1 = pe.Var(domain=pe.NonNegativeReals)\n",
        "m.x2 = pe.Var(domain=pe.NonNegativeReals)\n",
        "m.x3 = pe.Var(domain=pe.NonNegativeReals)\n",
        "m.x4 = pe.Var(domain=pe.NonNegativeReals)\n",
        "# Objective function\n",
        "m.obj = pe.Objective(expr = 3*m.x1+2*m.x2)\n",
        "# Constraints \n",
        "m.con1 = pe.Constraint(expr = m.x1-2*m.x2+m.x3 == 5/2)\n",
        "m.con2 = pe.Constraint(expr = 2*m.x1+m.x2+m.x4 == 3/2)\n",
        "# Solve problem using GLPK\n",
        "glpk.solve(m).write()\n",
        "# Print\n",
        "print('obj =',m.obj())\n",
        "print('x1 =',m.x1.value)\n",
        "print('x2 =',m.x2.value)\n",
        "print('x3 =',m.x3.value)\n",
        "print('x4 =',m.x4.value)"
      ],
      "execution_count": 3,
      "outputs": [
        {
          "output_type": "stream",
          "name": "stdout",
          "text": [
            "# ==========================================================\n",
            "# = Solver Results                                         =\n",
            "# ==========================================================\n",
            "# ----------------------------------------------------------\n",
            "#   Problem Information\n",
            "# ----------------------------------------------------------\n",
            "Problem: \n",
            "- Name: unknown\n",
            "  Lower bound: 0.0\n",
            "  Upper bound: 0.0\n",
            "  Number of objectives: 1\n",
            "  Number of constraints: 3\n",
            "  Number of variables: 5\n",
            "  Number of nonzeros: 7\n",
            "  Sense: minimize\n",
            "# ----------------------------------------------------------\n",
            "#   Solver Information\n",
            "# ----------------------------------------------------------\n",
            "Solver: \n",
            "- Status: ok\n",
            "  Termination condition: optimal\n",
            "  Statistics: \n",
            "    Branch and bound: \n",
            "      Number of bounded subproblems: 0\n",
            "      Number of created subproblems: 0\n",
            "  Error rc: 0\n",
            "  Time: 0.018999814987182617\n",
            "# ----------------------------------------------------------\n",
            "#   Solution Information\n",
            "# ----------------------------------------------------------\n",
            "Solution: \n",
            "- number of solutions: 0\n",
            "  number of solutions displayed: 0\n",
            "obj = 0.0\n",
            "x1 = 0.0\n",
            "x2 = 0.0\n",
            "x3 = 2.5\n",
            "x4 = 1.5\n"
          ]
        }
      ]
    },
    {
      "cell_type": "markdown",
      "metadata": {
        "id": "SXjSTnRDJJUQ"
      },
      "source": [
        "First we update the lower-bound to the objective function of the relaxed problem, that is, to 0.0. Variable $x_3$ is not integer. Therefore, we branch and solve two problems. In the first one, we add the constraint $x_3\\leq2$"
      ]
    },
    {
      "cell_type": "code",
      "metadata": {
        "id": "6vXU2cRGI66l",
        "colab": {
          "base_uri": "https://localhost:8080/"
        },
        "outputId": "c27db554-70da-4b78-fff2-b45b2a8730c6"
      },
      "source": [
        "# Model\n",
        "m = pe.ConcreteModel()\n",
        "# Variables\n",
        "m.x1 = pe.Var(domain=pe.NonNegativeReals)\n",
        "m.x2 = pe.Var(domain=pe.NonNegativeReals)\n",
        "m.x3 = pe.Var(domain=pe.NonNegativeReals)\n",
        "m.x4 = pe.Var(domain=pe.NonNegativeReals)\n",
        "# Objective function\n",
        "m.obj = pe.Objective(expr = 3*m.x1+2*m.x2)\n",
        "# Constraints \n",
        "m.con1 = pe.Constraint(expr = m.x1-2*m.x2+m.x3 == 5/2)\n",
        "m.con2 = pe.Constraint(expr = 2*m.x1+m.x2+m.x4 == 3/2)\n",
        "m.con3 = pe.Constraint(expr = m.x3 <= 2)\n",
        "# Solve problem using GLPK\n",
        "glpk.solve(m).write()\n",
        "# Print\n",
        "print('obj =',m.obj())\n",
        "print('x1 =',m.x1.value)\n",
        "print('x2 =',m.x2.value)\n",
        "print('x3 =',m.x3.value)\n",
        "print('x4 =',m.x4.value)"
      ],
      "execution_count": 4,
      "outputs": [
        {
          "output_type": "stream",
          "name": "stdout",
          "text": [
            "# ==========================================================\n",
            "# = Solver Results                                         =\n",
            "# ==========================================================\n",
            "# ----------------------------------------------------------\n",
            "#   Problem Information\n",
            "# ----------------------------------------------------------\n",
            "Problem: \n",
            "- Name: unknown\n",
            "  Lower bound: 1.5\n",
            "  Upper bound: 1.5\n",
            "  Number of objectives: 1\n",
            "  Number of constraints: 4\n",
            "  Number of variables: 5\n",
            "  Number of nonzeros: 8\n",
            "  Sense: minimize\n",
            "# ----------------------------------------------------------\n",
            "#   Solver Information\n",
            "# ----------------------------------------------------------\n",
            "Solver: \n",
            "- Status: ok\n",
            "  Termination condition: optimal\n",
            "  Statistics: \n",
            "    Branch and bound: \n",
            "      Number of bounded subproblems: 0\n",
            "      Number of created subproblems: 0\n",
            "  Error rc: 0\n",
            "  Time: 0.019550323486328125\n",
            "# ----------------------------------------------------------\n",
            "#   Solution Information\n",
            "# ----------------------------------------------------------\n",
            "Solution: \n",
            "- number of solutions: 0\n",
            "  number of solutions displayed: 0\n",
            "obj = 1.5\n",
            "x1 = 0.5\n",
            "x2 = 0.0\n",
            "x3 = 2.0\n",
            "x4 = 0.5\n"
          ]
        }
      ]
    },
    {
      "cell_type": "markdown",
      "metadata": {
        "id": "-jgPIKQnJf1t"
      },
      "source": [
        "The solution of this problem satisfies integrality. Therefore, we update the upper-bound to the value of the objective function 1.5 and there is no need to branch. We solve next the second problem with the additional constraint $x_3\\geq3$"
      ]
    },
    {
      "cell_type": "code",
      "metadata": {
        "id": "E1DXJz-OI73s",
        "colab": {
          "base_uri": "https://localhost:8080/"
        },
        "outputId": "2de23d00-c4e8-430b-9324-fdde424310b5"
      },
      "source": [
        "# Model\n",
        "m = pe.ConcreteModel()\n",
        "# Variables\n",
        "m.x1 = pe.Var(domain=pe.NonNegativeReals)\n",
        "m.x2 = pe.Var(domain=pe.NonNegativeReals)\n",
        "m.x3 = pe.Var(domain=pe.NonNegativeReals)\n",
        "m.x4 = pe.Var(domain=pe.NonNegativeReals)\n",
        "# Objective function\n",
        "m.obj = pe.Objective(expr = 3*m.x1+2*m.x2)\n",
        "# Constraints \n",
        "m.con1 = pe.Constraint(expr = m.x1-2*m.x2+m.x3 == 5/2)\n",
        "m.con2 = pe.Constraint(expr = 2*m.x1+m.x2+m.x4 == 3/2)\n",
        "m.con3 = pe.Constraint(expr = m.x3 >= 3)\n",
        "# Solve problem using GLPK\n",
        "glpk.solve(m).write()\n",
        "# Print\n",
        "print('obj =',m.obj())\n",
        "print('x1 =',m.x1.value)\n",
        "print('x2 =',m.x2.value)\n",
        "print('x3 =',m.x3.value)\n",
        "print('x4 =',m.x4.value)"
      ],
      "execution_count": 5,
      "outputs": [
        {
          "output_type": "stream",
          "name": "stdout",
          "text": [
            "# ==========================================================\n",
            "# = Solver Results                                         =\n",
            "# ==========================================================\n",
            "# ----------------------------------------------------------\n",
            "#   Problem Information\n",
            "# ----------------------------------------------------------\n",
            "Problem: \n",
            "- Name: unknown\n",
            "  Lower bound: 0.5\n",
            "  Upper bound: 0.5\n",
            "  Number of objectives: 1\n",
            "  Number of constraints: 4\n",
            "  Number of variables: 5\n",
            "  Number of nonzeros: 8\n",
            "  Sense: minimize\n",
            "# ----------------------------------------------------------\n",
            "#   Solver Information\n",
            "# ----------------------------------------------------------\n",
            "Solver: \n",
            "- Status: ok\n",
            "  Termination condition: optimal\n",
            "  Statistics: \n",
            "    Branch and bound: \n",
            "      Number of bounded subproblems: 0\n",
            "      Number of created subproblems: 0\n",
            "  Error rc: 0\n",
            "  Time: 0.023290634155273438\n",
            "# ----------------------------------------------------------\n",
            "#   Solution Information\n",
            "# ----------------------------------------------------------\n",
            "Solution: \n",
            "- number of solutions: 0\n",
            "  number of solutions displayed: 0\n",
            "obj = 0.5\n",
            "x1 = 0.0\n",
            "x2 = 0.25\n",
            "x3 = 3.0\n",
            "x4 = 1.25\n"
          ]
        }
      ]
    },
    {
      "cell_type": "markdown",
      "metadata": {
        "id": "AAPhJl7uKCTJ"
      },
      "source": [
        "Varible $x_2$ is not integer. Then we have to branch again and solve two new problems. In the first one, we include the constraint $x_2\\leq0$"
      ]
    },
    {
      "cell_type": "code",
      "metadata": {
        "id": "hCVluTn9I9GM",
        "colab": {
          "base_uri": "https://localhost:8080/"
        },
        "outputId": "34218f6b-4ca9-4060-874b-bdc41d1d6351"
      },
      "source": [
        "# Model\n",
        "m = pe.ConcreteModel()\n",
        "# Variables\n",
        "m.x1 = pe.Var(domain=pe.NonNegativeReals)\n",
        "m.x2 = pe.Var(domain=pe.NonNegativeReals)\n",
        "m.x3 = pe.Var(domain=pe.NonNegativeReals)\n",
        "m.x4 = pe.Var(domain=pe.NonNegativeReals)\n",
        "# Objective function\n",
        "m.obj = pe.Objective(expr = 3*m.x1+2*m.x2)\n",
        "# Constraints \n",
        "m.con1 = pe.Constraint(expr = m.x1-2*m.x2+m.x3 == 5/2)\n",
        "m.con2 = pe.Constraint(expr = 2*m.x1+m.x2+m.x4 == 3/2)\n",
        "m.con3 = pe.Constraint(expr = m.x3 >= 3)\n",
        "m.con4 = pe.Constraint(expr = m.x2 <= 0)\n",
        "# Solve problem using GLPK\n",
        "glpk.solve(m).write()"
      ],
      "execution_count": 6,
      "outputs": [
        {
          "output_type": "stream",
          "name": "stdout",
          "text": [
            "# ==========================================================\n",
            "# = Solver Results                                         =\n",
            "# ==========================================================\n",
            "# ----------------------------------------------------------\n",
            "#   Problem Information\n",
            "# ----------------------------------------------------------\n",
            "Problem: \n",
            "- Name: unknown\n",
            "  Lower bound: -inf\n",
            "  Upper bound: inf\n",
            "  Number of objectives: 1\n",
            "  Number of constraints: 5\n",
            "  Number of variables: 5\n",
            "  Number of nonzeros: 9\n",
            "  Sense: minimize\n",
            "# ----------------------------------------------------------\n",
            "#   Solver Information\n",
            "# ----------------------------------------------------------\n",
            "Solver: \n",
            "- Status: ok\n",
            "  Termination condition: infeasible\n",
            "  Statistics: \n",
            "    Branch and bound: \n",
            "      Number of bounded subproblems: 0\n",
            "      Number of created subproblems: 0\n",
            "  Error rc: 0\n",
            "  Time: 0.0272064208984375\n"
          ]
        }
      ]
    },
    {
      "cell_type": "markdown",
      "metadata": {
        "id": "tlBhrX_YKSqu"
      },
      "source": [
        "The problem is infeasible and therefore we stop the branching as well. We continue with the second problem with the constraint $x_2\\geq1$"
      ]
    },
    {
      "cell_type": "code",
      "metadata": {
        "id": "Qqwo4EMcI9oy",
        "colab": {
          "base_uri": "https://localhost:8080/"
        },
        "outputId": "d35c8a43-0647-4098-8580-0c7b64a67d10"
      },
      "source": [
        "# Model\n",
        "m = pe.ConcreteModel()\n",
        "# Variables\n",
        "m.x1 = pe.Var(domain=pe.NonNegativeReals)\n",
        "m.x2 = pe.Var(domain=pe.NonNegativeReals)\n",
        "m.x3 = pe.Var(domain=pe.NonNegativeReals)\n",
        "m.x4 = pe.Var(domain=pe.NonNegativeReals)\n",
        "# Objective function\n",
        "m.obj = pe.Objective(expr = 3*m.x1+2*m.x2)\n",
        "# Constraints \n",
        "m.con1 = pe.Constraint(expr = m.x1-2*m.x2+m.x3 == 5/2)\n",
        "m.con2 = pe.Constraint(expr = 2*m.x1+m.x2+m.x4 == 3/2)\n",
        "m.con3 = pe.Constraint(expr = m.x3 >= 3)\n",
        "m.con4 = pe.Constraint(expr = m.x2 >= 1)\n",
        "# Solve problem using GLPK\n",
        "glpk.solve(m).write()\n",
        "# Print\n",
        "print('obj =',m.obj())\n",
        "print('x1 =',m.x1.value)\n",
        "print('x2 =',m.x2.value)\n",
        "print('x3 =',m.x3.value)\n",
        "print('x4 =',m.x4.value)"
      ],
      "execution_count": 7,
      "outputs": [
        {
          "output_type": "stream",
          "name": "stdout",
          "text": [
            "# ==========================================================\n",
            "# = Solver Results                                         =\n",
            "# ==========================================================\n",
            "# ----------------------------------------------------------\n",
            "#   Problem Information\n",
            "# ----------------------------------------------------------\n",
            "Problem: \n",
            "- Name: unknown\n",
            "  Lower bound: 2.0\n",
            "  Upper bound: 2.0\n",
            "  Number of objectives: 1\n",
            "  Number of constraints: 5\n",
            "  Number of variables: 5\n",
            "  Number of nonzeros: 9\n",
            "  Sense: minimize\n",
            "# ----------------------------------------------------------\n",
            "#   Solver Information\n",
            "# ----------------------------------------------------------\n",
            "Solver: \n",
            "- Status: ok\n",
            "  Termination condition: optimal\n",
            "  Statistics: \n",
            "    Branch and bound: \n",
            "      Number of bounded subproblems: 0\n",
            "      Number of created subproblems: 0\n",
            "  Error rc: 0\n",
            "  Time: 0.02126288414001465\n",
            "# ----------------------------------------------------------\n",
            "#   Solution Information\n",
            "# ----------------------------------------------------------\n",
            "Solution: \n",
            "- number of solutions: 0\n",
            "  number of solutions displayed: 0\n",
            "obj = 2.0\n",
            "x1 = 0.0\n",
            "x2 = 1.0\n",
            "x3 = 4.5\n",
            "x4 = 0.5\n"
          ]
        }
      ]
    },
    {
      "cell_type": "markdown",
      "metadata": {
        "id": "5CGyDikGKeEI"
      },
      "source": [
        "Variable $x_3$ is not integer. However, there is no need for branching since the objective value is higher than the current upper-bound, which is 1.5. Therefore we stop the branch and bound and set the solution to \n",
        "\n",
        "$$\n",
        "\\begin{align}\n",
        "&\\text{obj} = 1.5 \\\\\n",
        "&x_1 = 0.5 \\\\\n",
        "&x_2 = 0.0 \\\\\n",
        "&x_3 = 2.0 \\\\\n",
        "&x_4 = 0.5\n",
        "\\end{align}\n",
        "$$\n",
        "\n"
      ]
    }
  ]
}