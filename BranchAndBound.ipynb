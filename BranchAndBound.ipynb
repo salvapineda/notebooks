{
  "nbformat": 4,
  "nbformat_minor": 0,
  "metadata": {
    "colab": {
      "name": "BranchAndBound.ipynb",
      "provenance": [],
      "authorship_tag": "ABX9TyOiSVFCr9WcoCBmpvaXXBvf",
      "include_colab_link": true
    },
    "kernelspec": {
      "name": "python3",
      "display_name": "Python 3"
    }
  },
  "cells": [
    {
      "cell_type": "markdown",
      "metadata": {
        "id": "view-in-github",
        "colab_type": "text"
      },
      "source": [
        "<a href=\"https://colab.research.google.com/github/salvapineda/notebooks/blob/main/BranchAndBound.ipynb\" target=\"_parent\"><img src=\"https://colab.research.google.com/assets/colab-badge.svg\" alt=\"Open In Colab\"/></a>"
      ]
    },
    {
      "cell_type": "markdown",
      "metadata": {
        "id": "mdEGfvFxE6ry"
      },
      "source": [
        "# Branch and bound\n",
        "\n",
        "This notebook solves the following mixed-integer linear optimization problem:\n",
        "\n",
        "$$\n",
        "\\begin{align}\n",
        "\\underset{x_1,x_2,x_3,x_4}{\\min} \\quad & 3x_1+2x_2 \\\\\n",
        "\\text{s.t.} \\quad & x_1-2x_2+x_3 = 5/2\\\\\n",
        "& 2x_1+x_2+x_4=3/2\\\\\n",
        "& x_1,x_2,x_3,x_4 \\geq 0 \\\\\n",
        "& x_2, x_3 \\in \\mathbb{N}\n",
        "\\end{align}\n",
        "$$"
      ]
    },
    {
      "cell_type": "markdown",
      "metadata": {
        "id": "DHuvPMzvE95_"
      },
      "source": [
        "## Requirements"
      ]
    },
    {
      "cell_type": "code",
      "metadata": {
        "id": "qJEcbyBsEz8U"
      },
      "source": [
        "!pip install -q pyomo\n",
        "!apt-get install -y -qq glpk-utils\n",
        "import pyomo.environ as pe\n",
        "glpk = pe.SolverFactory('glpk', executable='/usr/bin/glpsol')"
      ],
      "execution_count": null,
      "outputs": []
    },
    {
      "cell_type": "markdown",
      "metadata": {
        "id": "KM8_DK3ZHX95"
      },
      "source": [
        "## Solving the MIP directly\n",
        "First we solve the MILP directly using GLPK solver"
      ]
    },
    {
      "cell_type": "code",
      "metadata": {
        "id": "a_u2rR0aDeWO"
      },
      "source": [
        "# Model\n",
        "m = pe.ConcreteModel()\n",
        "# Variables\n",
        "m.x1 = pe.Var(domain=pe.NonNegativeReals)\n",
        "m.x2 = pe.Var(domain=pe.NonNegativeIntegers)\n",
        "m.x3 = pe.Var(domain=pe.NonNegativeIntegers)\n",
        "m.x4 = pe.Var(domain=pe.NonNegativeReals)\n",
        "# Objective function\n",
        "m.obj = pe.Objective(expr = 3*m.x1+2*m.x2)\n",
        "# Constraints \n",
        "m.con1 = pe.Constraint(expr = m.x1-2*m.x2+m.x3 == 5/2)\n",
        "m.con2 = pe.Constraint(expr = 2*m.x1+m.x2+m.x4 == 3/2)\n",
        "# Solve problem using GLPK solver\n",
        "glpk.solve(m).write()\n",
        "# Print\n",
        "print('obj =',m.obj())\n",
        "print('x1 =',m.x1.value)\n",
        "print('x2 =',m.x2.value)\n",
        "print('x3 =',m.x3.value)\n",
        "print('x4 =',m.x4.value)\n"
      ],
      "execution_count": null,
      "outputs": []
    },
    {
      "cell_type": "markdown",
      "metadata": {
        "id": "cRpgAZ4FHd4F"
      },
      "source": [
        "## Solving the MIP using branch and bound\n",
        "Now we solve it using the branch and bound method. First we set the upper- and lower-bound to $+\\infty$ and $-\\infty$, respectively. Then we solve the corresponding relaxed problem"
      ]
    },
    {
      "cell_type": "code",
      "metadata": {
        "id": "XQx3djGcFf9Y"
      },
      "source": [
        "# Model\n",
        "m = pe.ConcreteModel()\n",
        "# Variables\n",
        "m.x1 = pe.Var(domain=pe.NonNegativeReals)\n",
        "m.x2 = pe.Var(domain=pe.NonNegativeReals)\n",
        "m.x3 = pe.Var(domain=pe.NonNegativeReals)\n",
        "m.x4 = pe.Var(domain=pe.NonNegativeReals)\n",
        "# Objective function\n",
        "m.obj = pe.Objective(expr = 3*m.x1+2*m.x2)\n",
        "# Constraints \n",
        "m.con1 = pe.Constraint(expr = m.x1-2*m.x2+m.x3 == 5/2)\n",
        "m.con2 = pe.Constraint(expr = 2*m.x1+m.x2+m.x4 == 3/2)\n",
        "# Solve problem using GLPK\n",
        "glpk.solve(m).write()\n",
        "# Print\n",
        "print('obj =',m.obj())\n",
        "print('x1 =',m.x1.value)\n",
        "print('x2 =',m.x2.value)\n",
        "print('x3 =',m.x3.value)\n",
        "print('x4 =',m.x4.value)"
      ],
      "execution_count": null,
      "outputs": []
    },
    {
      "cell_type": "markdown",
      "metadata": {
        "id": "SXjSTnRDJJUQ"
      },
      "source": [
        "First we update the lower-bound to the objective function of the relaxed problem, that is, to 0.0. Variable $x_3$ is not integer. Therefore, we branch and solve two problems. In the first one, we add the constraint $x_3\\leq2$"
      ]
    },
    {
      "cell_type": "code",
      "metadata": {
        "id": "6vXU2cRGI66l"
      },
      "source": [
        "# Model\n",
        "m = pe.ConcreteModel()\n",
        "# Variables\n",
        "m.x1 = pe.Var(domain=pe.NonNegativeReals)\n",
        "m.x2 = pe.Var(domain=pe.NonNegativeReals)\n",
        "m.x3 = pe.Var(domain=pe.NonNegativeReals)\n",
        "m.x4 = pe.Var(domain=pe.NonNegativeReals)\n",
        "# Objective function\n",
        "m.obj = pe.Objective(expr = 3*m.x1+2*m.x2)\n",
        "# Constraints \n",
        "m.con1 = pe.Constraint(expr = m.x1-2*m.x2+m.x3 == 5/2)\n",
        "m.con2 = pe.Constraint(expr = 2*m.x1+m.x2+m.x4 == 3/2)\n",
        "m.con3 = pe.Constraint(expr = m.x3 <= 2)\n",
        "# Solve problem using GLPK\n",
        "glpk.solve(m).write()\n",
        "# Print\n",
        "print('obj =',m.obj())\n",
        "print('x1 =',m.x1.value)\n",
        "print('x2 =',m.x2.value)\n",
        "print('x3 =',m.x3.value)\n",
        "print('x4 =',m.x4.value)"
      ],
      "execution_count": null,
      "outputs": []
    },
    {
      "cell_type": "markdown",
      "metadata": {
        "id": "-jgPIKQnJf1t"
      },
      "source": [
        "The solution of this problem satisfies integrality. Therefore, we update the upper-bound to the value of the objective function 1.5 and there is no need to branch. We solve next the second problem with the additional constraint $x_3\\geq3$"
      ]
    },
    {
      "cell_type": "code",
      "metadata": {
        "id": "E1DXJz-OI73s"
      },
      "source": [
        "# Model\n",
        "m = pe.ConcreteModel()\n",
        "# Variables\n",
        "m.x1 = pe.Var(domain=pe.NonNegativeReals)\n",
        "m.x2 = pe.Var(domain=pe.NonNegativeReals)\n",
        "m.x3 = pe.Var(domain=pe.NonNegativeReals)\n",
        "m.x4 = pe.Var(domain=pe.NonNegativeReals)\n",
        "# Objective function\n",
        "m.obj = pe.Objective(expr = 3*m.x1+2*m.x2)\n",
        "# Constraints \n",
        "m.con1 = pe.Constraint(expr = m.x1-2*m.x2+m.x3 == 5/2)\n",
        "m.con2 = pe.Constraint(expr = 2*m.x1+m.x2+m.x4 == 3/2)\n",
        "m.con3 = pe.Constraint(expr = m.x3 >= 3)\n",
        "# Solve problem using GLPK\n",
        "glpk.solve(m).write()\n",
        "# Print\n",
        "print('obj =',m.obj())\n",
        "print('x1 =',m.x1.value)\n",
        "print('x2 =',m.x2.value)\n",
        "print('x3 =',m.x3.value)\n",
        "print('x4 =',m.x4.value)"
      ],
      "execution_count": null,
      "outputs": []
    },
    {
      "cell_type": "markdown",
      "metadata": {
        "id": "AAPhJl7uKCTJ"
      },
      "source": [
        "Varible $x_2$ is not integer. Then we have to branch again and solve two new problems. In the first one, we include the constraint $x_2\\leq0$"
      ]
    },
    {
      "cell_type": "code",
      "metadata": {
        "id": "hCVluTn9I9GM"
      },
      "source": [
        "# Model\n",
        "m = pe.ConcreteModel()\n",
        "# Variables\n",
        "m.x1 = pe.Var(domain=pe.NonNegativeReals)\n",
        "m.x2 = pe.Var(domain=pe.NonNegativeReals)\n",
        "m.x3 = pe.Var(domain=pe.NonNegativeReals)\n",
        "m.x4 = pe.Var(domain=pe.NonNegativeReals)\n",
        "# Objective function\n",
        "m.obj = pe.Objective(expr = 3*m.x1+2*m.x2)\n",
        "# Constraints \n",
        "m.con1 = pe.Constraint(expr = m.x1-2*m.x2+m.x3 == 5/2)\n",
        "m.con2 = pe.Constraint(expr = 2*m.x1+m.x2+m.x4 == 3/2)\n",
        "m.con3 = pe.Constraint(expr = m.x3 >= 3)\n",
        "m.con4 = pe.Constraint(expr = m.x2 <= 0)\n",
        "# Solve problem using GLPK\n",
        "glpk.solve(m).write()"
      ],
      "execution_count": null,
      "outputs": []
    },
    {
      "cell_type": "markdown",
      "metadata": {
        "id": "tlBhrX_YKSqu"
      },
      "source": [
        "The problem is infeasible and therefore we stop the branching as well. We continue with the second problem with the constraint $x_2\\geq1$"
      ]
    },
    {
      "cell_type": "code",
      "metadata": {
        "id": "Qqwo4EMcI9oy"
      },
      "source": [
        "# Model\n",
        "m = pe.ConcreteModel()\n",
        "# Variables\n",
        "m.x1 = pe.Var(domain=pe.NonNegativeReals)\n",
        "m.x2 = pe.Var(domain=pe.NonNegativeReals)\n",
        "m.x3 = pe.Var(domain=pe.NonNegativeReals)\n",
        "m.x4 = pe.Var(domain=pe.NonNegativeReals)\n",
        "# Objective function\n",
        "m.obj = pe.Objective(expr = 3*m.x1+2*m.x2)\n",
        "# Constraints \n",
        "m.con1 = pe.Constraint(expr = m.x1-2*m.x2+m.x3 == 5/2)\n",
        "m.con2 = pe.Constraint(expr = 2*m.x1+m.x2+m.x4 == 3/2)\n",
        "m.con3 = pe.Constraint(expr = m.x3 >= 3)\n",
        "m.con4 = pe.Constraint(expr = m.x2 >= 1)\n",
        "# Solve problem using GLPK\n",
        "glpk.solve(m).write()\n",
        "# Print\n",
        "print('obj =',m.obj())\n",
        "print('x1 =',m.x1.value)\n",
        "print('x2 =',m.x2.value)\n",
        "print('x3 =',m.x3.value)\n",
        "print('x4 =',m.x4.value)"
      ],
      "execution_count": null,
      "outputs": []
    },
    {
      "cell_type": "markdown",
      "metadata": {
        "id": "5CGyDikGKeEI"
      },
      "source": [
        "Variable $x_3$ is not integer. However, there is no need for branching since the objective value is higher than the current upper-bound, which is 1.5. Therefore we stop the branch and bound and set the solution to \n",
        "\n",
        "$$\n",
        "\\begin{align}\n",
        "&\\text{obj} = 1.5 \\\\\n",
        "&x_1 = 0.5 \\\\\n",
        "&x_2 = 0.0 \\\\\n",
        "&x_3 = 2.0 \\\\\n",
        "&x_4 = 0.5\n",
        "\\end{align}\n",
        "$$\n",
        "\n"
      ]
    }
  ]
}