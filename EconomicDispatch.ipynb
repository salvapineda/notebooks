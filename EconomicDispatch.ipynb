{
  "nbformat": 4,
  "nbformat_minor": 0,
  "metadata": {
    "colab": {
      "name": "EconomicDispatch.ipynb",
      "provenance": [],
      "authorship_tag": "ABX9TyMmlWwFepvCSvy3kUndv58u",
      "include_colab_link": true
    },
    "kernelspec": {
      "name": "python3",
      "display_name": "Python 3"
    }
  },
  "cells": [
    {
      "cell_type": "markdown",
      "metadata": {
        "id": "view-in-github",
        "colab_type": "text"
      },
      "source": [
        "<a href=\"https://colab.research.google.com/github/salvapineda/notebooks/blob/main/EconomicDispatch.ipynb\" target=\"_parent\"><img src=\"https://colab.research.google.com/assets/colab-badge.svg\" alt=\"Open In Colab\"/></a>"
      ]
    },
    {
      "cell_type": "markdown",
      "metadata": {
        "id": "ZIEfHxwno5u5"
      },
      "source": [
        "# Economic Dispatch \n",
        "\n",
        "This Jupyter Notebook solves an instance of the Economic Dispatch Problem described in XXX"
      ]
    },
    {
      "cell_type": "markdown",
      "metadata": {
        "id": "-1vOQpFioj3O"
      },
      "source": [
        "## Requirements"
      ]
    },
    {
      "cell_type": "code",
      "metadata": {
        "id": "OHOKuwI6UisB"
      },
      "source": [
        "!pip install -q pyomo\n",
        "!apt-get install -y -qq glpk-utils\n",
        "glpk = pe.SolverFactory('glpk', executable='/usr/bin/glpsol')\n",
        "import pandas as pd\n",
        "import random\n",
        "import pyomo.environ as pe"
      ],
      "execution_count": 12,
      "outputs": []
    },
    {
      "cell_type": "markdown",
      "metadata": {
        "id": "o4jSX0peop7j"
      },
      "source": [
        "## Input Data"
      ]
    },
    {
      "cell_type": "code",
      "metadata": {
        "id": "sLj2JfYhTWyT"
      },
      "source": [
        "gen = pd.DataFrame({\n",
        "       'unit': [1,   2], \n",
        "       'cost': [10,  20], \n",
        "       'pmin': [0,   0], \n",
        "       'pmax': [100, 100]})\n",
        "dem = 100"
      ],
      "execution_count": 13,
      "outputs": []
    },
    {
      "cell_type": "markdown",
      "metadata": {
        "id": "HS_EfbXuowM9"
      },
      "source": [
        "## Solving the Economic Dispatch"
      ]
    },
    {
      "cell_type": "code",
      "metadata": {
        "id": "HdyhOqpGWMfC",
        "colab": {
          "base_uri": "https://localhost:8080/"
        },
        "outputId": "ed52c2ab-c1b2-4daa-c211-7e7a2d772415"
      },
      "source": [
        "# Model\n",
        "m = pe.ConcreteModel()\n",
        "# Sets\n",
        "m.g = pe.Set(initialize=list(range(len(gen))))\n",
        "# Variables\n",
        "m.p = pe.Var(m.g,within=pe.NonNegativeReals)\n",
        "def obj_rule(m):\n",
        "  return sum(gen.loc[g,'cost']*m.p[g] for g in m.g)\n",
        "m.obj = pe.Objective(rule=obj_rule)\n",
        "# Energy balance\n",
        "def bal_rule(m):\n",
        "  return sum(m.p[g] for g in m.g) == dem\n",
        "m.bal = pe.Constraint(rule=bal_rule)\n",
        "# Maximum generation\n",
        "def max_gen_rule(m,g):\n",
        "  return m.p[g] <= gen.loc[g,'pmax']\n",
        "m.max_gen = pe.Constraint(m.g, rule=max_gen_rule)\n",
        "# We solve the optimization problem using GLPK\n",
        "glpk.solve(m).write()"
      ],
      "execution_count": 17,
      "outputs": [
        {
          "output_type": "stream",
          "text": [
            "# ==========================================================\n",
            "# = Solver Results                                         =\n",
            "# ==========================================================\n",
            "# ----------------------------------------------------------\n",
            "#   Problem Information\n",
            "# ----------------------------------------------------------\n",
            "Problem: \n",
            "- Name: unknown\n",
            "  Lower bound: 1000.0\n",
            "  Upper bound: 1000.0\n",
            "  Number of objectives: 1\n",
            "  Number of constraints: 4\n",
            "  Number of variables: 3\n",
            "  Number of nonzeros: 5\n",
            "  Sense: minimize\n",
            "# ----------------------------------------------------------\n",
            "#   Solver Information\n",
            "# ----------------------------------------------------------\n",
            "Solver: \n",
            "- Status: ok\n",
            "  Termination condition: optimal\n",
            "  Statistics: \n",
            "    Branch and bound: \n",
            "      Number of bounded subproblems: 0\n",
            "      Number of created subproblems: 0\n",
            "  Error rc: 0\n",
            "  Time: 0.011249780654907227\n",
            "# ----------------------------------------------------------\n",
            "#   Solution Information\n",
            "# ----------------------------------------------------------\n",
            "Solution: \n",
            "- number of solutions: 0\n",
            "  number of solutions displayed: 0\n"
          ],
          "name": "stdout"
        }
      ]
    },
    {
      "cell_type": "markdown",
      "metadata": {
        "id": "5zEAqcOEo0NV"
      },
      "source": [
        "## Solution Output"
      ]
    },
    {
      "cell_type": "code",
      "metadata": {
        "id": "iSp-Sn1AmVxd",
        "colab": {
          "base_uri": "https://localhost:8080/"
        },
        "outputId": "b3fa0c76-13cd-4ab1-f01a-008fe77028e0"
      },
      "source": [
        "# Print results\n",
        "print('obj =',m.obj())\n",
        "print('p1 =',m.p[0].value)\n",
        "print('p2 =',m.p[1].value)"
      ],
      "execution_count": 15,
      "outputs": [
        {
          "output_type": "stream",
          "text": [
            "obj = 1000.0\n",
            "p1 = 100.0\n",
            "p2 = 0.0\n"
          ],
          "name": "stdout"
        }
      ]
    }
  ]
}