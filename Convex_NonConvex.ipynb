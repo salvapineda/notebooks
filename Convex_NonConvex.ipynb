{
  "nbformat": 4,
  "nbformat_minor": 0,
  "metadata": {
    "colab": {
      "name": "Convex_NonConvex.ipynb",
      "provenance": [],
      "authorship_tag": "ABX9TyNJKWm3DM1xfhyZayWPv6gV",
      "include_colab_link": true
    },
    "kernelspec": {
      "name": "python3",
      "display_name": "Python 3"
    }
  },
  "cells": [
    {
      "cell_type": "markdown",
      "metadata": {
        "id": "view-in-github",
        "colab_type": "text"
      },
      "source": [
        "<a href=\"https://colab.research.google.com/github/salvapineda/notebooks/blob/main/Convex_NonConvex.ipynb\" target=\"_parent\"><img src=\"https://colab.research.google.com/assets/colab-badge.svg\" alt=\"Open In Colab\"/></a>"
      ]
    },
    {
      "cell_type": "markdown",
      "metadata": {
        "id": "QIXw06gEOfjx"
      },
      "source": [
        "# Solving convex and non-convex optimization problems"
      ]
    },
    {
      "cell_type": "markdown",
      "metadata": {
        "id": "d87Ns2tsOk9J"
      },
      "source": [
        "## Requirements"
      ]
    },
    {
      "cell_type": "code",
      "metadata": {
        "id": "G4TSDjc_l88D"
      },
      "source": [
        "# Install Pyomo\n",
        "!pip install pyomo\n",
        "# Import\n",
        "import os\n",
        "import pyomo.environ as pe\n",
        "os.environ['NEOS_EMAIL'] = 'xxx@gmail.com'"
      ],
      "execution_count": null,
      "outputs": []
    },
    {
      "cell_type": "markdown",
      "metadata": {
        "id": "hmWQPuhAPfpx"
      },
      "source": [
        "## Solving convex unconstrained optimization problem\n",
        "\n",
        "We solve the following convex optimization problem using different initial solutions\n",
        "\n",
        "$\\underset{x}{\\min} \\quad 2x^2-8x+3$"
      ]
    },
    {
      "cell_type": "code",
      "metadata": {
        "id": "1-838zw5lTh2"
      },
      "source": [
        "# Model\n",
        "m = pe.ConcreteModel()\n",
        "# Variables\n",
        "m.x = pe.Var(within=pe.NonNegativeReals,bounds=(0,20))\n",
        "# Objective function \n",
        "m.obj = pe.Objective(expr=2*m.x*m.x - 8*m.x + 3)\n",
        "# We solve the problem for different initial solutions\n",
        "for x0 in [0,5,10,15,20]:\n",
        "  m.x.value = x0\n",
        "  res = pe.SolverManagerFactory('neos').solve(m,opt='ipopt')    \n",
        "  print(res)\n",
        "  print('Initial solution =',x0)\n",
        "  print('x=',m.x.value)\n",
        "  print('obj',m.obj())\n"
      ],
      "execution_count": null,
      "outputs": []
    },
    {
      "cell_type": "markdown",
      "metadata": {
        "id": "dinV4p6dQJnw"
      },
      "source": [
        "## Solving non-convex unconstrained optimization problem\n",
        "\n",
        "We solve the following non-convex optimization problem using different initial solutions\n",
        "\n",
        "$\\underset{x}{\\min} \\quad e^{-x/20}\\sin(x)$"
      ]
    },
    {
      "cell_type": "code",
      "metadata": {
        "id": "bhRVIKxXlzEu"
      },
      "source": [
        "# Model\n",
        "m = pe.ConcreteModel()\n",
        "# Variables\n",
        "m.x = pe.Var(within=pe.NonNegativeReals,bounds=(0,20))\n",
        "# Objective function\n",
        "m.obj = pe.Objective(expr=pe.exp(-m.x/20)*pe.sin(m.x))\n",
        "# We solve the problem for different initial solutions\n",
        "for x0 in [0,5,10,15,20]:\n",
        "  m.x.value = x0\n",
        "  res = pe.SolverManagerFactory('neos').solve(m,opt='ipopt')    \n",
        "  print(res)\n",
        "  print('Initial solution =',x0)\n",
        "  print('x=',m.x.value)\n",
        "  print('obj',m.obj())"
      ],
      "execution_count": null,
      "outputs": []
    }
  ]
}