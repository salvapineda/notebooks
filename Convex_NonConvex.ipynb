{
  "nbformat": 4,
  "nbformat_minor": 0,
  "metadata": {
    "colab": {
      "name": "Convex_NonConvex.ipynb",
      "provenance": [],
      "authorship_tag": "ABX9TyNq/g1yVFJ0aWh3aaMwdoVT",
      "include_colab_link": true
    },
    "kernelspec": {
      "name": "python3",
      "display_name": "Python 3"
    }
  },
  "cells": [
    {
      "cell_type": "markdown",
      "metadata": {
        "id": "view-in-github",
        "colab_type": "text"
      },
      "source": [
        "<a href=\"https://colab.research.google.com/github/salvapineda/notebooks/blob/main/Convex_NonConvex.ipynb\" target=\"_parent\"><img src=\"https://colab.research.google.com/assets/colab-badge.svg\" alt=\"Open In Colab\"/></a>"
      ]
    },
    {
      "cell_type": "markdown",
      "metadata": {
        "id": "QIXw06gEOfjx"
      },
      "source": [
        "# Solving convex and non-convex optimization problems"
      ]
    },
    {
      "cell_type": "markdown",
      "metadata": {
        "id": "d87Ns2tsOk9J"
      },
      "source": [
        "## Requirements"
      ]
    },
    {
      "cell_type": "code",
      "metadata": {
        "id": "G4TSDjc_l88D",
        "outputId": "c65a7a7e-5108-4339-c2c2-3461616b803e",
        "colab": {
          "base_uri": "https://localhost:8080/"
        }
      },
      "source": [
        "!wget -N -q \"https://matematica.unipv.it/gualandi/solvers/ipopt-linux64.zip\"\n",
        "!unzip -o -q ipopt-linux64-zip\n",
        "ipopt = pe.SolverFactory('ipopt')\n",
        "!pip install pyomo \n",
        "from pyomo.environ import *\n",
        "import pyomo.environ as pe"
      ],
      "execution_count": 6,
      "outputs": [
        {
          "output_type": "stream",
          "name": "stdout",
          "text": [
            "unzip:  cannot find or open ipopt-linux64-zip, ipopt-linux64-zip.zip or ipopt-linux64-zip.ZIP.\n",
            "Looking in indexes: https://pypi.org/simple, https://us-python.pkg.dev/colab-wheels/public/simple/\n",
            "Requirement already satisfied: pyomo in /usr/local/lib/python3.9/dist-packages (6.5.0)\n",
            "Requirement already satisfied: ply in /usr/local/lib/python3.9/dist-packages (from pyomo) (3.11)\n"
          ]
        }
      ]
    },
    {
      "cell_type": "markdown",
      "metadata": {
        "id": "hmWQPuhAPfpx"
      },
      "source": [
        "## Solving convex unconstrained optimization problem\n",
        "\n",
        "We solve the following convex optimization problem using different initial solutions\n",
        "\n",
        "$\\underset{x}{\\min} \\quad 2x^2-8x+3$"
      ]
    },
    {
      "cell_type": "code",
      "metadata": {
        "id": "1-838zw5lTh2",
        "outputId": "db09e9d9-7729-4d34-dcd1-93905836f432",
        "colab": {
          "base_uri": "https://localhost:8080/"
        }
      },
      "source": [
        "# Model\n",
        "m = pe.ConcreteModel()\n",
        "# Variables\n",
        "m.x = pe.Var(within=pe.NonNegativeReals,bounds=(0,20))\n",
        "# Objective function \n",
        "m.obj = pe.Objective(expr=2*m.x*m.x - 8*m.x + 3)\n",
        "# We solve the problem for different initial solutions\n",
        "for x0 in [0,5,10,15,20]:\n",
        "  m.x.value = x0\n",
        "  res = ipopt.solve(m)    \n",
        "  print(res)\n",
        "  print('Initial solution =',x0)\n",
        "  print('x=',m.x.value)\n",
        "  print('obj',m.obj())\n"
      ],
      "execution_count": 9,
      "outputs": [
        {
          "output_type": "stream",
          "name": "stdout",
          "text": [
            "\n",
            "Problem: \n",
            "- Lower bound: -inf\n",
            "  Upper bound: inf\n",
            "  Number of objectives: 1\n",
            "  Number of constraints: 0\n",
            "  Number of variables: 1\n",
            "  Sense: unknown\n",
            "Solver: \n",
            "- Status: ok\n",
            "  Message: Ipopt 3.12.13\\x3a Optimal Solution Found\n",
            "  Termination condition: optimal\n",
            "  Id: 0\n",
            "  Error rc: 0\n",
            "  Time: 0.02002120018005371\n",
            "Solution: \n",
            "- number of solutions: 0\n",
            "  number of solutions displayed: 0\n",
            "\n",
            "Initial solution = 0\n",
            "x= 2.0000000002784577\n",
            "obj -5.0\n",
            "\n",
            "Problem: \n",
            "- Lower bound: -inf\n",
            "  Upper bound: inf\n",
            "  Number of objectives: 1\n",
            "  Number of constraints: 0\n",
            "  Number of variables: 1\n",
            "  Sense: unknown\n",
            "Solver: \n",
            "- Status: ok\n",
            "  Message: Ipopt 3.12.13\\x3a Optimal Solution Found\n",
            "  Termination condition: optimal\n",
            "  Id: 0\n",
            "  Error rc: 0\n",
            "  Time: 0.01476597785949707\n",
            "Solution: \n",
            "- number of solutions: 0\n",
            "  number of solutions displayed: 0\n",
            "\n",
            "Initial solution = 5\n",
            "x= 2.0000000002784577\n",
            "obj -5.0\n",
            "\n",
            "Problem: \n",
            "- Lower bound: -inf\n",
            "  Upper bound: inf\n",
            "  Number of objectives: 1\n",
            "  Number of constraints: 0\n",
            "  Number of variables: 1\n",
            "  Sense: unknown\n",
            "Solver: \n",
            "- Status: ok\n",
            "  Message: Ipopt 3.12.13\\x3a Optimal Solution Found\n",
            "  Termination condition: optimal\n",
            "  Id: 0\n",
            "  Error rc: 0\n",
            "  Time: 0.015444755554199219\n",
            "Solution: \n",
            "- number of solutions: 0\n",
            "  number of solutions displayed: 0\n",
            "\n",
            "Initial solution = 10\n",
            "x= 2.0000000002784577\n",
            "obj -5.0\n",
            "\n",
            "Problem: \n",
            "- Lower bound: -inf\n",
            "  Upper bound: inf\n",
            "  Number of objectives: 1\n",
            "  Number of constraints: 0\n",
            "  Number of variables: 1\n",
            "  Sense: unknown\n",
            "Solver: \n",
            "- Status: ok\n",
            "  Message: Ipopt 3.12.13\\x3a Optimal Solution Found\n",
            "  Termination condition: optimal\n",
            "  Id: 0\n",
            "  Error rc: 0\n",
            "  Time: 0.01689600944519043\n",
            "Solution: \n",
            "- number of solutions: 0\n",
            "  number of solutions displayed: 0\n",
            "\n",
            "Initial solution = 15\n",
            "x= 2.0000000002784577\n",
            "obj -5.0\n",
            "\n",
            "Problem: \n",
            "- Lower bound: -inf\n",
            "  Upper bound: inf\n",
            "  Number of objectives: 1\n",
            "  Number of constraints: 0\n",
            "  Number of variables: 1\n",
            "  Sense: unknown\n",
            "Solver: \n",
            "- Status: ok\n",
            "  Message: Ipopt 3.12.13\\x3a Optimal Solution Found\n",
            "  Termination condition: optimal\n",
            "  Id: 0\n",
            "  Error rc: 0\n",
            "  Time: 0.017561674118041992\n",
            "Solution: \n",
            "- number of solutions: 0\n",
            "  number of solutions displayed: 0\n",
            "\n",
            "Initial solution = 20\n",
            "x= 2.0000000002784577\n",
            "obj -5.0\n"
          ]
        }
      ]
    },
    {
      "cell_type": "markdown",
      "metadata": {
        "id": "dinV4p6dQJnw"
      },
      "source": [
        "## Solving non-convex unconstrained optimization problem\n",
        "\n",
        "We solve the following non-convex optimization problem using different initial solutions\n",
        "\n",
        "$\\underset{x}{\\min} \\quad e^{-x/20}\\sin(x)$"
      ]
    },
    {
      "cell_type": "code",
      "metadata": {
        "id": "bhRVIKxXlzEu",
        "outputId": "a708584e-8449-4ccf-93d9-c147e690d05a",
        "colab": {
          "base_uri": "https://localhost:8080/"
        }
      },
      "source": [
        "# Model\n",
        "m = pe.ConcreteModel()\n",
        "# Variables\n",
        "m.x = pe.Var(within=pe.NonNegativeReals,bounds=(0,20))\n",
        "# Objective function\n",
        "m.obj = pe.Objective(expr=pe.exp(-m.x/20)*pe.sin(m.x))\n",
        "# We solve the problem for different initial solutions\n",
        "for x0 in [0,5,10,15,20]:\n",
        "  m.x.value = x0\n",
        "  res = ipopt.solve(m)    \n",
        "  print(res)\n",
        "  print('Initial solution =',x0)\n",
        "  print('x=',m.x.value)\n",
        "  print('obj',m.obj())"
      ],
      "execution_count": 10,
      "outputs": [
        {
          "output_type": "stream",
          "name": "stdout",
          "text": [
            "\n",
            "Problem: \n",
            "- Lower bound: -inf\n",
            "  Upper bound: inf\n",
            "  Number of objectives: 1\n",
            "  Number of constraints: 0\n",
            "  Number of variables: 1\n",
            "  Sense: unknown\n",
            "Solver: \n",
            "- Status: ok\n",
            "  Message: Ipopt 3.12.13\\x3a Optimal Solution Found\n",
            "  Termination condition: optimal\n",
            "  Id: 0\n",
            "  Error rc: 0\n",
            "  Time: 0.013842582702636719\n",
            "Solution: \n",
            "- number of solutions: 0\n",
            "  number of solutions displayed: 0\n",
            "\n",
            "Initial solution = 0\n",
            "x= 0.0\n",
            "obj 0.0\n",
            "\n",
            "Problem: \n",
            "- Lower bound: -inf\n",
            "  Upper bound: inf\n",
            "  Number of objectives: 1\n",
            "  Number of constraints: 0\n",
            "  Number of variables: 1\n",
            "  Sense: unknown\n",
            "Solver: \n",
            "- Status: ok\n",
            "  Message: Ipopt 3.12.13\\x3a Optimal Solution Found\n",
            "  Termination condition: optimal\n",
            "  Id: 0\n",
            "  Error rc: 0\n",
            "  Time: 0.028055906295776367\n",
            "Solution: \n",
            "- number of solutions: 0\n",
            "  number of solutions displayed: 0\n",
            "\n",
            "Initial solution = 5\n",
            "x= 4.662430585134486\n",
            "obj -0.7910690904459042\n",
            "\n",
            "Problem: \n",
            "- Lower bound: -inf\n",
            "  Upper bound: inf\n",
            "  Number of objectives: 1\n",
            "  Number of constraints: 0\n",
            "  Number of variables: 1\n",
            "  Sense: unknown\n",
            "Solver: \n",
            "- Status: ok\n",
            "  Message: Ipopt 3.12.13\\x3a Optimal Solution Found\n",
            "  Termination condition: optimal\n",
            "  Id: 0\n",
            "  Error rc: 0\n",
            "  Time: 0.01669597625732422\n",
            "Solution: \n",
            "- number of solutions: 0\n",
            "  number of solutions displayed: 0\n",
            "\n",
            "Initial solution = 10\n",
            "x= 10.945615891759774\n",
            "obj -0.5777989924670928\n",
            "\n",
            "Problem: \n",
            "- Lower bound: -inf\n",
            "  Upper bound: inf\n",
            "  Number of objectives: 1\n",
            "  Number of constraints: 0\n",
            "  Number of variables: 1\n",
            "  Sense: unknown\n",
            "Solver: \n",
            "- Status: ok\n",
            "  Message: Ipopt 3.12.13\\x3a Optimal Solution Found\n",
            "  Termination condition: optimal\n",
            "  Id: 0\n",
            "  Error rc: 0\n",
            "  Time: 0.0162050724029541\n",
            "Solution: \n",
            "- number of solutions: 0\n",
            "  number of solutions displayed: 0\n",
            "\n",
            "Initial solution = 15\n",
            "x= 17.228801197227508\n",
            "obj -0.42202593898316076\n",
            "\n",
            "Problem: \n",
            "- Lower bound: -inf\n",
            "  Upper bound: inf\n",
            "  Number of objectives: 1\n",
            "  Number of constraints: 0\n",
            "  Number of variables: 1\n",
            "  Sense: unknown\n",
            "Solver: \n",
            "- Status: ok\n",
            "  Message: Ipopt 3.12.13\\x3a Optimal Solution Found\n",
            "  Termination condition: optimal\n",
            "  Id: 0\n",
            "  Error rc: 0\n",
            "  Time: 0.019155263900756836\n",
            "Solution: \n",
            "- number of solutions: 0\n",
            "  number of solutions displayed: 0\n",
            "\n",
            "Initial solution = 20\n",
            "x= 17.22880119722751\n",
            "obj -0.4220259389831607\n"
          ]
        }
      ]
    }
  ]
}