{
  "nbformat": 4,
  "nbformat_minor": 0,
  "metadata": {
    "colab": {
      "name": "AC_OptimalPowerFlow.ipynb",
      "provenance": [],
      "authorship_tag": "ABX9TyPHPrbMMguTmHjQ6B6uJVVj",
      "include_colab_link": true
    },
    "kernelspec": {
      "name": "python3",
      "display_name": "Python 3"
    }
  },
  "cells": [
    {
      "cell_type": "markdown",
      "metadata": {
        "id": "view-in-github",
        "colab_type": "text"
      },
      "source": [
        "<a href=\"https://colab.research.google.com/github/salvapineda/notebooks/blob/main/AC_OptimalPowerFlow.ipynb\" target=\"_parent\"><img src=\"https://colab.research.google.com/assets/colab-badge.svg\" alt=\"Open In Colab\"/></a>"
      ]
    },
    {
      "cell_type": "markdown",
      "metadata": {
        "id": "ZIEfHxwno5u5"
      },
      "source": [
        "# AC Optimal Power Flow \n",
        "\n",
        "This Jupyter Notebook solves an instance of the AC Optimal Power Flow Problem described in XXX"
      ]
    },
    {
      "cell_type": "markdown",
      "metadata": {
        "id": "-1vOQpFioj3O"
      },
      "source": [
        "## Requirements"
      ]
    },
    {
      "cell_type": "code",
      "metadata": {
        "id": "OHOKuwI6UisB",
        "colab": {
          "base_uri": "https://localhost:8080/"
        },
        "outputId": "66d2a393-7baa-4395-c58f-e22d7b73a8d5"
      },
      "source": [
        "!pip install -q pyomo\n",
        "!wget -N -q \"https://ampl.com/dl/open/ipopt/ipopt-linux64.zip\"\n",
        "!unzip -o -q ipopt-linux64\n",
        "import pyomo.environ as pe\n",
        "import pandas as pd\n",
        "import numpy as np\n",
        "ipopt = pe.SolverFactory('ipopt', executable='/content/ipopt')"
      ],
      "execution_count": 1,
      "outputs": [
        {
          "output_type": "stream",
          "name": "stdout",
          "text": [
            "\u001b[K     |████████████████████████████████| 9.6 MB 4.7 MB/s \n",
            "\u001b[K     |████████████████████████████████| 49 kB 2.9 MB/s \n",
            "\u001b[?25h"
          ]
        }
      ]
    },
    {
      "cell_type": "markdown",
      "metadata": {
        "id": "o4jSX0peop7j"
      },
      "source": [
        "## Input Data"
      ]
    },
    {
      "cell_type": "code",
      "metadata": {
        "id": "sLj2JfYhTWyT"
      },
      "source": [
        "Sbase = 100\n",
        "gen = pd.DataFrame({\n",
        "       'unit':   [1,    2], \n",
        "       'bus':    [1,    2],\n",
        "       'q_cost': [0.01, 0.02],\n",
        "       'l_cost': [10,   20], \n",
        "       'pmin':   [0,    0], \n",
        "       'pmax':   [100,  100],\n",
        "       'qmin':   [-50,  -50], \n",
        "       'qmax':   [50,   50]})\n",
        "lin = pd.DataFrame({\n",
        "       'line': [1,  2,   3], \n",
        "       'from': [1,  1,   2],\n",
        "       'to':   [2,  3,   3], \n",
        "       'r':    [0.1,  0.1,   0.1], \n",
        "       'x':    [0.01, 0.01,  0.01], \n",
        "       'cap':  [25, 100, 100]})\n",
        "dem = pd.DataFrame({\n",
        "       'dem':    [1  ], \n",
        "       'bus':    [3  ],\n",
        "       'level':  [150],\n",
        "       'factor': [0.1]})\n",
        "ngen = len(gen)\n",
        "nbus = max(max(lin['from']),max(lin['to']))\n",
        "nlin = len(lin)\n",
        "ndem = len(dem)"
      ],
      "execution_count": 2,
      "outputs": []
    },
    {
      "cell_type": "markdown",
      "metadata": {
        "id": "78hIo2Sm2K3P"
      },
      "source": [
        "## Determining the generator-bus and demand-bus incidence matrixes"
      ]
    },
    {
      "cell_type": "code",
      "metadata": {
        "id": "GNUM6ccf1z13"
      },
      "source": [
        "gen_bus = np.zeros((ngen,nbus))\n",
        "for g in range(ngen):\n",
        "  gen_bus[g,gen.loc[g,'bus']-1]=1\n",
        "dem_bus = np.zeros((ndem,nbus))\n",
        "for g in range(ndem):\n",
        "  dem_bus[g,dem.loc[g,'bus']-1]=1"
      ],
      "execution_count": 3,
      "outputs": []
    },
    {
      "cell_type": "markdown",
      "metadata": {
        "id": "Z1oSIiVYzvum"
      },
      "source": [
        "## Determining the admitance and capacity matrices"
      ]
    },
    {
      "cell_type": "code",
      "metadata": {
        "id": "ocx28ZSAzz9l",
        "colab": {
          "base_uri": "https://localhost:8080/"
        },
        "outputId": "5b380a1b-daec-484f-c9eb-d166b8de0e49"
      },
      "source": [
        "Y = np.zeros((nbus,nbus),dtype = 'complex_')\n",
        "S = np.zeros((nbus,nbus))\n",
        "for l in range(nlin):  \n",
        "  bus_from = lin.loc[l,'from'] - 1\n",
        "  bus_to = lin.loc[l,'to'] - 1  \n",
        "  y = 1/(lin.loc[l,'r'] + lin.at[l,'x']*1j)\n",
        "  Y[bus_from,bus_from] = Y[bus_from,bus_from] + y\n",
        "  Y[bus_to,bus_to] = Y[bus_to,bus_to] + y\n",
        "  Y[bus_from,bus_to] = Y[bus_from,bus_to] - y\n",
        "  Y[bus_to,bus_from] = Y[bus_to,bus_from] - y  \n",
        "  S[bus_from,bus_to] = lin.loc[l,'cap']\n",
        "  S[bus_to,bus_from] = lin.loc[l,'cap']\n",
        "G = np.real(Y)\n",
        "B = np.imag(Y)\n",
        "print(G,B)"
      ],
      "execution_count": 4,
      "outputs": [
        {
          "output_type": "stream",
          "name": "stdout",
          "text": [
            "[[19.8019802 -9.9009901 -9.9009901]\n",
            " [-9.9009901 19.8019802 -9.9009901]\n",
            " [-9.9009901 -9.9009901 19.8019802]] [[-1.98019802  0.99009901  0.99009901]\n",
            " [ 0.99009901 -1.98019802  0.99009901]\n",
            " [ 0.99009901  0.99009901 -1.98019802]]\n"
          ]
        }
      ]
    },
    {
      "cell_type": "markdown",
      "metadata": {
        "id": "HS_EfbXuowM9"
      },
      "source": [
        "\n",
        "\n",
        "## Solving the AC Optimal Power Flow"
      ]
    },
    {
      "cell_type": "code",
      "metadata": {
        "id": "HdyhOqpGWMfC",
        "colab": {
          "base_uri": "https://localhost:8080/"
        },
        "outputId": "7e1aa45a-312c-4045-b072-e11c7ac05983"
      },
      "source": [
        "# Model\n",
        "m = pe.ConcreteModel()\n",
        "# Sets\n",
        "m.g = pe.Set(initialize=list(range(ngen)))\n",
        "m.j = pe.Set(initialize=list(range(ndem)))\n",
        "m.n = pe.Set(initialize=list(range(nbus)))\n",
        "m.l = pe.Set(initialize=list(range(nlin)))\n",
        "# Variables\n",
        "m.p = pe.Var(m.g,within=pe.NonNegativeReals)\n",
        "m.q = pe.Var(m.g)\n",
        "m.v = pe.Var(m.n,bounds=(0.95,1.05),initialize=1.0)\n",
        "m.ang = pe.Var(m.n,bounds=(-1.57,1.57),initialize=0.0)\n",
        "m.fp = pe.Var(m.n,m.n)\n",
        "m.fq = pe.Var(m.n,m.n)\n",
        "def obj_rule(m):\n",
        "  return sum(gen.loc[g,'q_cost']*m.p[g]*m.p[g] + gen.loc[g,'l_cost']*m.p[g] for g in m.g)\n",
        "m.obj = pe.Objective(rule=obj_rule)\n",
        "# Active power balance\n",
        "def act_bal_rule(m,n):\n",
        "  return sum(gen_bus[g,n]*m.p[g] for g in m.g) == sum(dem_bus[j,n]*dem.loc[j,'level'] for j in m.j) + sum(m.fp[n,j] for j in m.n)\n",
        "m.act_bal = pe.Constraint(m.n,rule=act_bal_rule)\n",
        "# Reactive power balance\n",
        "def react_bal_rule(m,n):\n",
        "  return sum(gen_bus[g,n]*m.q[g] for g in m.g) == sum(dem_bus[j,n]*dem.loc[j,'level']*dem.loc[j,'factor'] for j in m.j) + sum(m.fq[n,j] for j in m.n)\n",
        "m.react_bal = pe.Constraint(m.n,rule=react_bal_rule)\n",
        "# Active power flow\n",
        "def act_flow_rule(m,i,j):\n",
        "  return m.fp[i,j] == -G[i,j]*m.v[i]*m.v[i]*Sbase + m.v[i]*m.v[j]*(G[i,j]*pe.cos(m.ang[i]-m.ang[j]) + B[i,j]*pe.sin(m.ang[i]-m.ang[j]))*Sbase\n",
        "m.act_flow = pe.Constraint(m.n,m.n,rule=act_flow_rule)\n",
        "# Reactive power flow\n",
        "def react_flow_rule(m,i,j):\n",
        "  return m.fq[i,j] == B[i,j]*m.v[i]*m.v[i]*Sbase + m.v[i]*m.v[j]*(G[i,j]*pe.sin(m.ang[i]-m.ang[j]) - B[i,j]*pe.cos(m.ang[i]-m.ang[j]))*Sbase\n",
        "m.react_flow = pe.Constraint(m.n,m.n,rule=react_flow_rule)\n",
        "# Maximum active generation\n",
        "def maxp_rule(m,g):\n",
        "  return m.p[g] <= gen.loc[g,'pmax']\n",
        "m.maxp = pe.Constraint(m.g, rule=maxp_rule)\n",
        "# Maximum reactive generation\n",
        "def maxq_rule(m,g):\n",
        "  return m.q[g] <= gen.loc[g,'qmax']\n",
        "m.maxq = pe.Constraint(m.g, rule=maxq_rule)\n",
        "# Minimum reactive generation\n",
        "def minq_rule(m,g):\n",
        "  return m.q[g] >= gen.loc[g,'qmin']\n",
        "m.minq = pe.Constraint(m.g, rule=minq_rule)\n",
        "# Maximum power flow\n",
        "def max_flow_rule(m,i,j):\n",
        "  return m.fp[i,j]*m.fp[i,j] + m.fq[i,j]*m.fq[i,j] <= S[i,j]*S[i,j]\n",
        "m.max_flow = pe.Constraint(m.n,m.n, rule=max_flow_rule)\n",
        "# We solve the optimization problem using IPOPT\n",
        "ipopt.solve(m).write()"
      ],
      "execution_count": 5,
      "outputs": [
        {
          "output_type": "stream",
          "name": "stdout",
          "text": [
            "# ==========================================================\n",
            "# = Solver Results                                         =\n",
            "# ==========================================================\n",
            "# ----------------------------------------------------------\n",
            "#   Problem Information\n",
            "# ----------------------------------------------------------\n",
            "Problem: \n",
            "- Lower bound: -inf\n",
            "  Upper bound: inf\n",
            "  Number of objectives: 1\n",
            "  Number of constraints: 39\n",
            "  Number of variables: 28\n",
            "  Sense: unknown\n",
            "# ----------------------------------------------------------\n",
            "#   Solver Information\n",
            "# ----------------------------------------------------------\n",
            "Solver: \n",
            "- Status: ok\n",
            "  Message: Ipopt 3.12.13\\x3a Optimal Solution Found\n",
            "  Termination condition: optimal\n",
            "  Id: 0\n",
            "  Error rc: 0\n",
            "  Time: 0.1293962001800537\n",
            "# ----------------------------------------------------------\n",
            "#   Solution Information\n",
            "# ----------------------------------------------------------\n",
            "Solution: \n",
            "- number of solutions: 0\n",
            "  number of solutions displayed: 0\n"
          ]
        }
      ]
    },
    {
      "cell_type": "markdown",
      "metadata": {
        "id": "5zEAqcOEo0NV"
      },
      "source": [
        "## Solution Output"
      ]
    },
    {
      "cell_type": "code",
      "metadata": {
        "id": "iSp-Sn1AmVxd",
        "colab": {
          "base_uri": "https://localhost:8080/"
        },
        "outputId": "8831860e-0bfe-4b66-81a3-ac3ce387c55d"
      },
      "source": [
        "# Print results\n",
        "print('obj =',m.obj())\n",
        "print('p1 =',m.p[0].value)\n",
        "print('p2 =',m.p[1].value)\n",
        "print('v1 =',m.v[0].value)\n",
        "print('v2 =',m.v[1].value)\n",
        "print('v3 =',m.v[2].value)"
      ],
      "execution_count": 6,
      "outputs": [
        {
          "output_type": "stream",
          "name": "stdout",
          "text": [
            "obj = 2425.645237082433\n",
            "p1 = 100.00000099974473\n",
            "p2 = 62.38977698236552\n",
            "v1 = 1.05\n",
            "v2 = 1.0383176113238324\n",
            "v3 = 0.9657196040112259\n"
          ]
        }
      ]
    }
  ]
}