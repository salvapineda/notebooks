{
  "nbformat": 4,
  "nbformat_minor": 0,
  "metadata": {
    "colab": {
      "name": "NetworkEconomicDispatch.ipynb",
      "provenance": [],
      "authorship_tag": "ABX9TyOq5T2CWDxPcizblu/UXlYq",
      "include_colab_link": true
    },
    "kernelspec": {
      "name": "python3",
      "display_name": "Python 3"
    }
  },
  "cells": [
    {
      "cell_type": "markdown",
      "metadata": {
        "id": "view-in-github",
        "colab_type": "text"
      },
      "source": [
        "<a href=\"https://colab.research.google.com/github/salvapineda/notebooks/blob/main/NetworkEconomicDispatch.ipynb\" target=\"_parent\"><img src=\"https://colab.research.google.com/assets/colab-badge.svg\" alt=\"Open In Colab\"/></a>"
      ]
    },
    {
      "cell_type": "markdown",
      "metadata": {
        "id": "ZIEfHxwno5u5"
      },
      "source": [
        "## Network Economic Dispatch \n",
        "\n",
        "This Jupyter Notebook solves an instance of the Network Constrained Economic Dispatch Problem described in XXX"
      ]
    },
    {
      "cell_type": "markdown",
      "metadata": {
        "id": "-1vOQpFioj3O"
      },
      "source": [
        "## Requirements"
      ]
    },
    {
      "cell_type": "code",
      "metadata": {
        "id": "OHOKuwI6UisB"
      },
      "source": [
        "!pip install -q pyomo\n",
        "!apt-get install -y -qq glpk-utils\n",
        "import pyomo.environ as pe\n",
        "import pandas as pd\n",
        "import numpy as np\n",
        "glpk = pe.SolverFactory('glpk', executable='/usr/bin/glpsol')"
      ],
      "execution_count": 1,
      "outputs": []
    },
    {
      "cell_type": "markdown",
      "metadata": {
        "id": "o4jSX0peop7j"
      },
      "source": [
        "## Input Data"
      ]
    },
    {
      "cell_type": "code",
      "metadata": {
        "id": "sLj2JfYhTWyT"
      },
      "source": [
        "gen = pd.DataFrame({\n",
        "       'unit': [1,   2], \n",
        "       'bus':  [1,   2],\n",
        "       'cost': [10,  20], \n",
        "       'pmin': [0,   0], \n",
        "       'pmax': [100, 100]})\n",
        "lin = pd.DataFrame({\n",
        "       'line': [1,   2,   3], \n",
        "       'from': [1,   1,   2],\n",
        "       'to':   [2,   3,   3], \n",
        "       'sus':  [0.5, 0.5, 0.5], \n",
        "       'cap':  [25,  100, 100]})\n",
        "dem = pd.DataFrame({\n",
        "       'dem':  [1  ], \n",
        "       'bus':  [3  ],\n",
        "       'level':[100]})\n",
        "ngen = len(gen)\n",
        "nbus = max(max(lin['from']),max(lin['to']))\n",
        "nlin = len(lin)\n",
        "ndem = len(dem)"
      ],
      "execution_count": 34,
      "outputs": []
    },
    {
      "cell_type": "markdown",
      "metadata": {
        "id": "78hIo2Sm2K3P"
      },
      "source": [
        "## Determining the generator-bus and demand-bus incidence matrixes"
      ]
    },
    {
      "cell_type": "code",
      "metadata": {
        "id": "GNUM6ccf1z13"
      },
      "source": [
        "gen_bus = np.zeros((ngen,nbus))\n",
        "for g in range(ngen):\n",
        "  gen_bus[g,gen.loc[g,'bus']-1]=1\n",
        "dem_bus = np.zeros((ndem,nbus))\n",
        "for g in range(ndem):\n",
        "  dem_bus[g,dem.loc[g,'bus']-1]=1"
      ],
      "execution_count": 35,
      "outputs": []
    },
    {
      "cell_type": "markdown",
      "metadata": {
        "id": "Etaxj6eb0Kj_"
      },
      "source": [
        "## Computing Power Transfer Distribution Factors"
      ]
    },
    {
      "cell_type": "code",
      "metadata": {
        "id": "k_YCort50Qur"
      },
      "source": [
        "lin_bus = np.zeros((nlin,nbus))\n",
        "for l in range(nlin):\n",
        "  lin_bus[l,lin.loc[l,'from']-1]=1\n",
        "  lin_bus[l,lin.loc[l,'to']-1]=-1    \n",
        "matrixX_inv = np.diag(1/lin['sus'])\n",
        "matrixA = np.delete(np.array(lin_bus),0,axis=1)\n",
        "matrixB = np.linalg.multi_dot([matrixA.T,matrixX_inv,matrixA]) \n",
        "ptdf = np.linalg.multi_dot([matrixX_inv,matrixA,np.linalg.inv(matrixB)])\n",
        "ptdf = np.round(np.insert(ptdf,0,np.zeros((nlin)),axis=1),5)"
      ],
      "execution_count": 36,
      "outputs": []
    },
    {
      "cell_type": "markdown",
      "metadata": {
        "id": "HS_EfbXuowM9"
      },
      "source": [
        "\n",
        "\n",
        "## Solving the Network Constrained Economic Dispatch"
      ]
    },
    {
      "cell_type": "code",
      "metadata": {
        "id": "HdyhOqpGWMfC",
        "colab": {
          "base_uri": "https://localhost:8080/"
        },
        "outputId": "dc9268fc-0302-4963-ce55-b827e939e6f5"
      },
      "source": [
        "# Model\n",
        "m = pe.ConcreteModel()\n",
        "# Sets\n",
        "m.g = pe.Set(initialize=list(range(ngen)))\n",
        "m.j = pe.Set(initialize=list(range(ndem)))\n",
        "m.n = pe.Set(initialize=list(range(nbus)))\n",
        "m.l = pe.Set(initialize=list(range(nlin)))\n",
        "# Variables\n",
        "m.p = pe.Var(m.g,within=pe.NonNegativeReals)\n",
        "def obj_rule(m):\n",
        "  return sum(gen.loc[g,'cost']*m.p[g] for g in m.g)\n",
        "m.obj = pe.Objective(rule=obj_rule)\n",
        "# Energy balance\n",
        "def bal_rule(m):\n",
        "  return sum(m.p[g] for g in m.g) == sum(dem.loc[j,'level'] for j in m.j)\n",
        "m.bal = pe.Constraint(rule=bal_rule)\n",
        "# Maximum generation\n",
        "def max_gen_rule(m,g):\n",
        "  return m.p[g] <= gen.loc[g,'pmax']\n",
        "m.max_gen = pe.Constraint(m.g, rule=max_gen_rule)\n",
        "# Maximum power flow\n",
        "def max_flow_rule(m,l):\n",
        "  return sum(ptdf[l,n]*(sum(gen_bus[g,n]*m.p[g] for g in m.g) - sum(dem_bus[j,n]*dem.loc[j,'level'] for j in m.j)) for n in m.n) >= -lin.loc[l,'cap'] \n",
        "m.max_flow = pe.Constraint(m.l, rule=max_flow_rule)\n",
        "# Minimum power flow\n",
        "def min_flow_rule(m,l):\n",
        "  return sum(ptdf[l,n]*(sum(gen_bus[g,n]*m.p[g] for g in m.g) - sum(dem_bus[j,n]*dem.loc[j,'level'] for j in m.j)) for n in m.n) <= lin.loc[l,'cap'] \n",
        "m.min_flow = pe.Constraint(m.l, rule=min_flow_rule)\n",
        "# We solve the optimization problem using GLPK\n",
        "glpk.solve(m).write()"
      ],
      "execution_count": 37,
      "outputs": [
        {
          "output_type": "stream",
          "text": [
            "# ==========================================================\n",
            "# = Solver Results                                         =\n",
            "# ==========================================================\n",
            "# ----------------------------------------------------------\n",
            "#   Problem Information\n",
            "# ----------------------------------------------------------\n",
            "Problem: \n",
            "- Name: unknown\n",
            "  Lower bound: 1124.99437502812\n",
            "  Upper bound: 1124.99437502812\n",
            "  Number of objectives: 1\n",
            "  Number of constraints: 10\n",
            "  Number of variables: 3\n",
            "  Number of nonzeros: 11\n",
            "  Sense: minimize\n",
            "# ----------------------------------------------------------\n",
            "#   Solver Information\n",
            "# ----------------------------------------------------------\n",
            "Solver: \n",
            "- Status: ok\n",
            "  Termination condition: optimal\n",
            "  Statistics: \n",
            "    Branch and bound: \n",
            "      Number of bounded subproblems: 0\n",
            "      Number of created subproblems: 0\n",
            "  Error rc: 0\n",
            "  Time: 0.013015270233154297\n",
            "# ----------------------------------------------------------\n",
            "#   Solution Information\n",
            "# ----------------------------------------------------------\n",
            "Solution: \n",
            "- number of solutions: 0\n",
            "  number of solutions displayed: 0\n"
          ],
          "name": "stdout"
        }
      ]
    },
    {
      "cell_type": "markdown",
      "metadata": {
        "id": "5zEAqcOEo0NV"
      },
      "source": [
        "## Solution Output"
      ]
    },
    {
      "cell_type": "code",
      "metadata": {
        "id": "iSp-Sn1AmVxd",
        "colab": {
          "base_uri": "https://localhost:8080/"
        },
        "outputId": "1730a3b8-59d5-4a18-cd8e-5ba42047fcd7"
      },
      "source": [
        "# Print results\n",
        "print('obj =',m.obj())\n",
        "print('p1 =',m.p[0].value)\n",
        "print('p2 =',m.p[1].value)"
      ],
      "execution_count": 38,
      "outputs": [
        {
          "output_type": "stream",
          "text": [
            "obj = 1124.994375028125\n",
            "p1 = 87.5005624971875\n",
            "p2 = 12.4994375028125\n"
          ],
          "name": "stdout"
        }
      ]
    }
  ]
}