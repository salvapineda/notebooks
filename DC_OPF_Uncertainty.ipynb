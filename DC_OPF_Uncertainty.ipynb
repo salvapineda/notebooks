{
  "nbformat": 4,
  "nbformat_minor": 0,
  "metadata": {
    "colab": {
      "name": "DC_OPF_Uncertainty",
      "provenance": [],
      "toc_visible": true,
      "authorship_tag": "ABX9TyNWwtaDgg7WtGIeHwfBMwzB",
      "include_colab_link": true
    },
    "kernelspec": {
      "name": "python3",
      "display_name": "Python 3"
    },
    "language_info": {
      "name": "python"
    }
  },
  "cells": [
    {
      "cell_type": "markdown",
      "metadata": {
        "id": "view-in-github",
        "colab_type": "text"
      },
      "source": [
        "<a href=\"https://colab.research.google.com/github/salvapineda/notebooks/blob/main/DC_OPF_Uncertainty.ipynb\" target=\"_parent\"><img src=\"https://colab.research.google.com/assets/colab-badge.svg\" alt=\"Open In Colab\"/></a>"
      ]
    },
    {
      "cell_type": "markdown",
      "source": [
        "# Requirements"
      ],
      "metadata": {
        "id": "OlRNMxqGB7K7"
      }
    },
    {
      "cell_type": "code",
      "source": [
        "!pip install -q gurobipy\n",
        "import gurobipy as gp\n",
        "from gurobipy import GRB\n",
        "import numpy as np\n",
        "import pandas as pd\n",
        "import matplotlib.pyplot as plt\n",
        "\n",
        "def status(model):\n",
        "  if model.Status==2:\n",
        "    print('Status = optimal')\n",
        "  elif model.Status==3:\n",
        "    print('Status = infeasible')"
      ],
      "metadata": {
        "id": "E5U4mqVrA1p7",
        "colab": {
          "base_uri": "https://localhost:8080/"
        },
        "outputId": "6c2633f0-ea5d-45e8-c2fd-f225f2a3c953"
      },
      "execution_count": null,
      "outputs": [
        {
          "output_type": "stream",
          "name": "stdout",
          "text": [
            "\u001b[K     |████████████████████████████████| 11.5 MB 5.3 MB/s \n",
            "\u001b[?25h"
          ]
        }
      ]
    },
    {
      "cell_type": "markdown",
      "source": [
        "# Data"
      ],
      "metadata": {
        "id": "QYEyOa-8B-D2"
      }
    },
    {
      "cell_type": "code",
      "source": [
        "# generation data\n",
        "gen = pd.DataFrame({        \n",
        "       'unit':      [0,    1,     2], \n",
        "       'bus':       [0,    1,     2],\n",
        "       'cost':      [20,   25,    30], \n",
        "       'cost_up':   [40,   35,    31], \n",
        "       'cost_do':   [0,    15,    29], \n",
        "       'pmin':      [0,    0,     0], \n",
        "       'pmax':      [150,  150,   100]})\n",
        "\n",
        "# line data\n",
        "lin = pd.DataFrame({\n",
        "       'line': [0,   1,   2], \n",
        "       'from': [0,   0,   1],\n",
        "       'to':   [1,   2,   2], \n",
        "       'b':    [10,  10,  10], \n",
        "       'cap':  [1000,  1000, 1000]})\n",
        "\n",
        "# Numbers\n",
        "ngen = len(gen)\n",
        "nbus = max(max(lin['from']),max(lin['to']))+1\n",
        "nlin = len(lin)\n",
        "\n",
        "# cost_bus and pmax_bus vector\n",
        "cost_bus = np.zeros(nbus)\n",
        "cost_up_bus = np.zeros(nbus)\n",
        "cost_do_bus = np.zeros(nbus)\n",
        "pmax_bus = np.zeros(nbus)\n",
        "for g in range(ngen):\n",
        "  cost_bus[gen.loc[g,'bus']]=gen.loc[g,'cost']\n",
        "  cost_up_bus[gen.loc[g,'bus']]=gen.loc[g,'cost_up']\n",
        "  cost_do_bus[gen.loc[g,'bus']]=gen.loc[g,'cost_do']\n",
        "  pmax_bus[gen.loc[g,'bus']]=gen.loc[g,'pmax']\n",
        "\n",
        "# cap_line vector\n",
        "cap_line = np.zeros(nlin)\n",
        "for l in range(nlin):\n",
        "  cap_line[lin.loc[l,'line']] = lin.loc[l,'cap']\n",
        "\n",
        "# Power Transfer Distribution Factors\n",
        "lin_bus = np.zeros((nlin,nbus))\n",
        "for l in range(nlin):\n",
        "  lin_bus[l,lin.loc[l,'from']-1]=1\n",
        "  lin_bus[l,lin.loc[l,'to']-1]=-1    \n",
        "matrixX_inv = np.diag(1/lin['b'])\n",
        "matrixA = np.delete(np.array(lin_bus),0,axis=1)\n",
        "matrixB = np.linalg.multi_dot([matrixA.T,matrixX_inv,matrixA]) \n",
        "ptdf = np.linalg.multi_dot([matrixX_inv,matrixA,np.linalg.inv(matrixB)])\n",
        "ptdf = np.round(np.insert(ptdf,0,np.zeros((nlin)),axis=1),5)\n",
        "\n",
        "# postive/negative ptdf\n",
        "pos_neg = np.zeros((nlin,nbus))\n",
        "for l in range(nlin):\n",
        "  for b in range(nbus):\n",
        "    if ptdf[l,b] > 0:\n",
        "      pos_neg[l,b]=1\n",
        "    elif ptdf[l,b] < 0:\n",
        "      pos_neg[l,b]=-1\n",
        "\n",
        "# scenario generation\n",
        "nscen = 1000\n",
        "demand = np.array([100,100,100])\n",
        "var_10 = np.array([10,10,10])\n",
        "var_20 = np.array([20,20,20])\n",
        "var_25 = np.array([25,25,25])\n",
        "var_30 = np.array([30,30,30])\n",
        "scen_10 = 100 + 10*np.random.uniform(-1,1,size=(nscen,nbus))\n",
        "scen_20 = 100 + 20*np.random.uniform(-1,1,size=(nscen,nbus))\n",
        "scen_25 = 100 + 25*np.random.uniform(-1,1,size=(nscen,nbus))\n",
        "scen_30 = 100 + 30*np.random.uniform(-1,1,size=(nscen,nbus))"
      ],
      "metadata": {
        "id": "TpLG9UTmBKNk"
      },
      "execution_count": null,
      "outputs": []
    },
    {
      "cell_type": "markdown",
      "source": [
        "# Deterministic DC-OPF\n",
        "\n",
        "$$\n",
        "\\begin{align}\n",
        "\\underset{g_n}{\\min} \\quad & \\sum_n c_n g_n \\\\\n",
        "\\text{s.t.} \\quad & \\sum_n g_n = \\sum_n \\hat{d}_n\\\\\n",
        "& 0 \\leq g_n \\leq \\overline{g}_n, \\quad \\forall n\\\\\n",
        "& -\\overline{f}_l \\leq \\sum_n b_{ln}(g_n-\\hat{d}_n) \\leq \\overline{f}_l, \\quad \\forall l\n",
        "\\end{align}\n",
        "$$"
      ],
      "metadata": {
        "id": "2GUQx35ADwff"
      }
    },
    {
      "cell_type": "code",
      "source": [
        "def dc_opf_det(demand):\n",
        "  # model\n",
        "  m = gp.Model() \n",
        "  # variables\n",
        "  gen = m.addMVar(nbus,name='gen')\n",
        "  # objective function\n",
        "  m.setObjective(cost_bus @ gen, GRB.MINIMIZE)\n",
        "  # constraints\n",
        "  m.addConstr( gen.sum() == demand.sum())\n",
        "  m.addConstr(gen <= pmax_bus)\n",
        "  m.addConstr(ptdf @ gen >= -cap_line + ptdf @ demand)\n",
        "  m.addConstr(ptdf @ gen <= cap_line + ptdf @ demand)\n",
        "  # solve\n",
        "  m.write('det.lp')\n",
        "  m.setParam('OutputFlag',0)\n",
        "  m.optimize()\n",
        "  status(m)\n",
        "  # results\n",
        "  print('cost =',m.ObjVal)\n",
        "  print('dispatch =',gen.X)\n",
        "  return gen.X\n",
        "gen_det = dc_opf_det(demand)"
      ],
      "metadata": {
        "id": "skpIa6RLDBYa",
        "colab": {
          "base_uri": "https://localhost:8080/"
        },
        "outputId": "37c82dfd-a861-41e5-9f99-21185b0a5851"
      },
      "execution_count": null,
      "outputs": [
        {
          "output_type": "stream",
          "name": "stdout",
          "text": [
            "Status = optimal\n",
            "cost = 6750.0\n",
            "dispatch = [150. 150.   0.]\n"
          ]
        }
      ]
    },
    {
      "cell_type": "markdown",
      "source": [
        "# Real time operation\n",
        "\n",
        "$$\n",
        "\\begin{align}\n",
        "\\underset{r^u_n,r^d_n}{\\min} \\quad & \\sum_n c_n g^*_n + c^u_n r^u_n + c^d_n r^d_n \\\\\n",
        "\\text{s.t.} \\quad & \\sum_n g^*_n+r^u_n-r^d_n = \\sum_n \\tilde{d}_n\\\\\n",
        "& 0 \\leq g^*_n + r^u_n-r^d_n \\leq \\overline{g}_n, \\quad \\forall n\\\\\n",
        "& -\\overline{f}_l \\leq \\sum_n b_{ln}(g^*_n + r^u_n-r^d_n -\\tilde{d}_n) \\leq \\overline{f}_l, \\quad \\forall l \\\\\n",
        "& r^u_n, r^d_n\\geq 0\n",
        "\\end{align}\n",
        "$$"
      ],
      "metadata": {
        "id": "byZ8ibYpE5w0"
      }
    },
    {
      "cell_type": "code",
      "source": [
        "def real_time(demand,dispatch):\n",
        "  #print('Solving real_time for demand=',demand)\n",
        "  # model\n",
        "  m = gp.Model()\n",
        "  # variables\n",
        "  #res = m.addMVar(nbus,lb=-GRB.INFINITY)\n",
        "  res_up = m.addMVar(nbus)\n",
        "  res_do = m.addMVar(nbus)\n",
        "  # objective function\n",
        "  m.setObjective(cost_bus @ dispatch + cost_up_bus @ res_up - cost_do_bus @ res_do, GRB.MINIMIZE)\n",
        "  # constraints\n",
        "  m.addConstr(dispatch.sum() + res_up.sum() - res_do.sum() == demand.sum())\n",
        "  m.addConstr(dispatch + res_up - res_do >= 0)\n",
        "  m.addConstr(dispatch + res_up - res_do <= pmax_bus)\n",
        "  m.addConstr(ptdf @ dispatch + ptdf @ res_up - ptdf @ res_do >= -cap_line + ptdf @ demand)\n",
        "  m.addConstr(ptdf @ dispatch + ptdf @ res_up - ptdf @ res_do <= cap_line + ptdf @ demand)\n",
        "  #m.addConstr(res >= -res_do)\n",
        "  #m.addConstr(res <= res_up)\n",
        "  # solve\n",
        "  m.setParam('OutputFlag',0)\n",
        "  m.optimize()\n",
        "  # status(m)\n",
        "  # results\n",
        "  #print('reserves =',res.X)\n",
        "  #print('reserves_up =',res_up.X)\n",
        "  #print('reserves_do =',res_do.X)\n",
        "  return m.ObjVal"
      ],
      "metadata": {
        "id": "qDyWpllKOt7S"
      },
      "execution_count": null,
      "outputs": []
    },
    {
      "cell_type": "code",
      "source": [
        "def evaluate_scenarios(dispatch,scen):\n",
        "  v_cost = []\n",
        "  for s in range(nscen):\n",
        "    obj = real_time(scen[s,:],dispatch)\n",
        "    v_cost.append(obj)    \n",
        "  print('minimum cost =',np.min(v_cost))\n",
        "  print('average cost =',np.mean(v_cost))\n",
        "  print('maximum cost =',np.max(v_cost))\n",
        "  #plt.figure(facecolor='white')\n",
        "  #plt.hist(v_cost, 10, facecolor='blue', alpha=0.5)\n",
        "  #plt.show()  "
      ],
      "metadata": {
        "id": "cqMIIZEIlFo3"
      },
      "execution_count": null,
      "outputs": []
    },
    {
      "cell_type": "markdown",
      "source": [
        "# Evaluate deterministic dispatch for var = 10"
      ],
      "metadata": {
        "id": "bZS20sIuibZn"
      }
    },
    {
      "cell_type": "code",
      "source": [
        "evaluate_scenarios(gen_det,scen_10)"
      ],
      "metadata": {
        "colab": {
          "base_uri": "https://localhost:8080/"
        },
        "id": "KZgnMJ_WiWaj",
        "outputId": "a8c71b71-8749-4e6f-928d-f6ae5555c7d8"
      },
      "execution_count": null,
      "outputs": [
        {
          "output_type": "stream",
          "name": "stdout",
          "text": [
            "minimum cost = 6382.704098898973\n",
            "average cost = 6822.270823258412\n",
            "maximum cost = 7554.171046329571\n"
          ]
        }
      ]
    },
    {
      "cell_type": "markdown",
      "source": [
        "# Evaluate deterministic dispatch for var = 20"
      ],
      "metadata": {
        "id": "qCu5vOlFiqR2"
      }
    },
    {
      "cell_type": "code",
      "source": [
        "evaluate_scenarios(gen_det,scen_20)"
      ],
      "metadata": {
        "colab": {
          "base_uri": "https://localhost:8080/"
        },
        "id": "B-SOvZZ1iuAf",
        "outputId": "6fbbc4d4-6402-4654-a639-287d6d97a823"
      },
      "execution_count": null,
      "outputs": [
        {
          "output_type": "stream",
          "name": "stdout",
          "text": [
            "minimum cost = 5975.656890488153\n",
            "average cost = 6884.494057704674\n",
            "maximum cost = 8428.903774265413\n"
          ]
        }
      ]
    },
    {
      "cell_type": "markdown",
      "source": [
        "# Evaluate deterministic dispatch for var = 30"
      ],
      "metadata": {
        "id": "tW2SLur9i2-8"
      }
    },
    {
      "cell_type": "code",
      "source": [
        "evaluate_scenarios(gen_det,scen_30)"
      ],
      "metadata": {
        "colab": {
          "base_uri": "https://localhost:8080/"
        },
        "id": "BjPEn1Qyi-a6",
        "outputId": "67d2e158-1c27-4b42-f8c8-dbb39e831ecf"
      },
      "execution_count": null,
      "outputs": [
        {
          "output_type": "stream",
          "name": "stdout",
          "text": [
            "minimum cost = 5495.806616590174\n",
            "average cost = 6962.044270331796\n",
            "maximum cost = 9123.783571635482\n"
          ]
        }
      ]
    },
    {
      "cell_type": "markdown",
      "source": [
        "# Robust (no recourse)\n",
        "\n",
        "$d_n = \\hat{d}_n - \\overline{e}_n \\eta_n$ with $\\eta_n \\in [-1,1]$\n",
        "\n",
        "$$\n",
        "\\begin{align}\n",
        "\\underset{g_n}{\\min} \\quad & \\sum_n c_n g_n  \\\\\n",
        "\\text{s.t.} \\quad & \\sum_n g_n \\geq \\underset{\\eta_n\\in[-1,1]}{\\max} \\sum_n \\hat{d}_n - \\overline{e}_n \\eta_n \\\\\n",
        "& 0 \\leq g_n \\leq \\overline{g}_n, \\quad \\forall n\\\\\n",
        "& -\\overline{f}_l \\leq \\underset{\\eta_n\\in[-1,1]}{\\min} \\sum_n b_{ln}(g_n -\\hat{d}_n + \\overline{e}_n \\eta_n), \\quad \\forall l \\\\\n",
        "&  \\underset{\\eta_n\\in[-1,1]}{\\max} \\sum_n b_{ln}(g_n -\\hat{d}_n + \\overline{e}_n \\eta_n) \\leq \\overline{f}_l, \\quad \\forall l \n",
        "\\end{align}\n",
        "$$"
      ],
      "metadata": {
        "id": "ps9jIe5uSVfX"
      }
    },
    {
      "cell_type": "markdown",
      "source": [
        "Reformulation \n",
        "\n",
        "$$\n",
        "\\begin{align}\n",
        "\\underset{g_n}{\\min} \\quad & \\sum_n c_n g_n  \\\\\n",
        "\\text{s.t.} \\quad & \\sum_n g_n \\geq \\sum_n \\hat{d}_n + \\overline{e}_n \\\\\n",
        "& 0 \\leq g_n \\leq \\overline{g}_n, \\quad \\forall n\\\\\n",
        "& -\\overline{f}_l \\leq \\sum_{n\\in\\mathcal{N}^+_l} b_{ln}(g_n -\\hat{d}_n - \\overline{e}_n) + \\sum_{n\\in\\mathcal{N}^-_l} b_{ln}(g_n -\\hat{d}_n + \\overline{e}_n) , \\quad \\forall l \\\\\n",
        "& \\sum_{n\\in\\mathcal{N}^+_l} b_{ln}(g_n -\\hat{d}_n + \\overline{e}_n) + \\sum_{n\\in\\mathcal{N}^-_l} b_{ln}(g_n -\\hat{d}_n - \\overline{e}_n) \\leq \\overline{f}_l, \\quad \\forall l \\\\\n",
        "\\end{align}\n",
        "$$\n",
        "\n",
        "where $\\mathcal{N}^+_l$ set of nodes such that $b_{ln}>0$ and $\\mathcal{N}^-_l$ set of nodes such that $b_{ln}\\lt 0$ "
      ],
      "metadata": {
        "id": "C5Xe8fQ6zLTU"
      }
    },
    {
      "cell_type": "code",
      "source": [
        "def dc_opf_robust(demand,var):\n",
        "  # model\n",
        "  m = gp.Model()  \n",
        "  # variables\n",
        "  gen = m.addMVar(nbus,name='gen')\n",
        "  # objective function\n",
        "  m.setObjective(cost_bus @ gen, GRB.MINIMIZE)\n",
        "  # constraints\n",
        "  m.addConstr(gen.sum() >= demand.sum() + var.sum())\n",
        "  m.addConstr(gen <= pmax_bus)\n",
        "  m.addConstr(ptdf @ gen >= -cap_line + ptdf @ demand + np.multiply(ptdf,pos_neg) @ var)\n",
        "  m.addConstr(ptdf @ gen <= cap_line + ptdf @ demand - np.multiply(ptdf,pos_neg) @ var)\n",
        "  # solve\n",
        "  m.setParam('OutputFlag',0)\n",
        "  m.write('robust.lp')\n",
        "  m.optimize()\n",
        "  status(m)\n",
        "  # results\n",
        "  print('dispatch =',gen.X)\n",
        "  return gen.X"
      ],
      "metadata": {
        "id": "PujGQLSGi6Mh"
      },
      "execution_count": null,
      "outputs": []
    },
    {
      "cell_type": "markdown",
      "source": [
        "# Evaluate robust dispatch for var = 10"
      ],
      "metadata": {
        "id": "EHBMjlX1jNkH"
      }
    },
    {
      "cell_type": "code",
      "source": [
        "gen_robust = dc_opf_robust(demand,var_10)\n",
        "evaluate_scenarios(gen_robust,scen_10)"
      ],
      "metadata": {
        "colab": {
          "base_uri": "https://localhost:8080/"
        },
        "id": "YZ2O0WIajJw6",
        "outputId": "693683c1-1ef7-4e2f-dddb-2a4827797f2a"
      },
      "execution_count": null,
      "outputs": [
        {
          "output_type": "stream",
          "name": "stdout",
          "text": [
            "Status = optimal\n",
            "dispatch = [150. 150.  30.]\n",
            "minimum cost = 6412.704098898973\n",
            "average cost = 6843.593336088337\n",
            "maximum cost = 7532.289043340566\n"
          ]
        }
      ]
    },
    {
      "cell_type": "markdown",
      "source": [
        "# Evaluate robust dispatch for var = 20"
      ],
      "metadata": {
        "id": "hfYGOtN3jVqN"
      }
    },
    {
      "cell_type": "code",
      "source": [
        "gen_robust = dc_opf_robust(demand,var_20)\n",
        "evaluate_scenarios(gen_robust,scen_20)"
      ],
      "metadata": {
        "colab": {
          "base_uri": "https://localhost:8080/"
        },
        "id": "LSxJghRZjZov",
        "outputId": "d49e4bf6-3ae5-48bd-bd37-5c73adf8d2b8"
      },
      "execution_count": null,
      "outputs": [
        {
          "output_type": "stream",
          "name": "stdout",
          "text": [
            "Status = optimal\n",
            "dispatch = [175.00015  84.99985 100.     ]\n",
            "minimum cost = 6877.945811831988\n",
            "average cost = 7740.967613654493\n",
            "maximum cost = 8592.623488592011\n"
          ]
        }
      ]
    },
    {
      "cell_type": "markdown",
      "source": [
        "# Evaluate robust dispatch for var = 30"
      ],
      "metadata": {
        "id": "Us4zX08CjW05"
      }
    },
    {
      "cell_type": "code",
      "source": [
        "gen_robust = dc_opf_robust(demand,var_30)\n",
        "evaluate_scenarios(gen_robust,scen_30)"
      ],
      "metadata": {
        "id": "N56xyaMFja5c",
        "colab": {
          "base_uri": "https://localhost:8080/"
        },
        "outputId": "5516a741-127e-4a30-f1a5-3e04abad1b09"
      },
      "execution_count": null,
      "outputs": [
        {
          "output_type": "stream",
          "name": "stdout",
          "text": [
            "Status = optimal\n",
            "dispatch = [150. 150.  90.]\n",
            "minimum cost = 5585.281967999951\n",
            "average cost = 7014.361557623672\n",
            "maximum cost = 9174.22307933641\n"
          ]
        }
      ]
    },
    {
      "cell_type": "markdown",
      "source": [
        "If we consider a budget $\\Gamma$ we have to use the duals\n",
        "\n",
        "$$\n",
        "\\begin{align}\n",
        "\\underset{\\eta^+_n,\\eta^-_n}{\\max} \\quad & -\\sum_n \\overline{e}_n (\\eta^+_n-\\eta^-_n)  \\\\\n",
        "\\text{s.t.} \\quad & \\sum_n \\eta^+_n+\\eta^-_n \\leq \\Gamma: \\alpha \\\\\n",
        "& \\eta^+_n \\leq 1: \\beta^+_n, \\quad \\forall n\\\\\n",
        "& \\eta^-_n \\leq 1: \\beta^-_n, \\quad \\forall n \\\\\n",
        "& \\eta^+_n,\\eta^-_n\\geq 0 \n",
        "\\end{align}\n",
        "$$\n",
        "\n",
        "The dual is\n",
        "\n",
        "$$\n",
        "\\begin{align}\n",
        "\\underset{\\alpha, \\beta^+_n,\\beta^-_n}{\\min} \\quad & \\alpha\\Gamma + \\sum_n  \\beta^+_n+\\beta^-_n  \\\\\n",
        "\\text{s.t.} \\quad & \\overline{e}_n + \\alpha + \\beta^+_n \\geq 0, \\quad \\forall n \\\\\n",
        "& -\\overline{e}_n + \\alpha + \\beta^-_n \\geq 0, \\quad \\forall n \\\\\n",
        "& \\alpha, \\beta^+_n,\\beta^-_n\\geq 0\n",
        "\\end{align}\n",
        "$$"
      ],
      "metadata": {
        "id": "c6GCsl2azSLq"
      }
    },
    {
      "cell_type": "markdown",
      "source": [
        "With the other constraint\n",
        "\n",
        "$$\n",
        "\\begin{align}\n",
        "\\underset{\\eta^+_n,\\eta^-_n}{\\min} \\quad & \\sum_n b_{ln}\\overline{e}_n (\\eta^+_n-\\eta^-_n)  \\\\\n",
        "\\text{s.t.} \\quad & \\sum_n \\eta^+_n+\\eta^-_n \\leq \\Gamma: \\gamma_l \\\\\n",
        "& \\eta^+_n \\leq 1: \\delta^+_{ln}, \\quad \\forall n\\\\\n",
        "& \\eta^-_n \\leq 1: \\delta^-_{ln}, \\quad \\forall n \\\\\n",
        "& \\eta^+_n,\\eta^-_n\\geq 0\n",
        "\\end{align}\n",
        "$$\n",
        "\n",
        "The dual is\n",
        "\n",
        "$$\n",
        "\\begin{align}\n",
        "\\underset{\\gamma_l, \\delta^+_{ln},\\delta^-_{ln}}{\\max} \\quad & -\\gamma_l\\Gamma - \\sum_n  \\delta^+_{ln}+\\delta^-_{ln}  \\\\\n",
        "\\text{s.t.} \\quad & b_{ln}\\overline{e}_n + \\gamma_l + \\delta^+_{ln} \\geq 0, \\quad \\forall n \\\\\n",
        "& -b_{ln}\\overline{e}_n + \\gamma_l + \\delta^-_{ln} \\geq 0, \\quad \\forall n \\\\\n",
        "& \\gamma_l, \\delta^+_{ln},\\delta^-_{ln}\\geq 0\n",
        "\\end{align}\n",
        "$$"
      ],
      "metadata": {
        "id": "e97EJCejzVz1"
      }
    },
    {
      "cell_type": "markdown",
      "source": [
        "Last constraint\n",
        "\n",
        "$$\n",
        "\\begin{align}\n",
        "\\underset{\\eta^+_n,\\eta^-_n}{\\max} \\quad & \\sum_n b_{ln}\\overline{e}_n (\\eta^+_n-\\eta^-_n)  \\\\\n",
        "\\text{s.t.} \\quad & \\sum_n \\eta^+_n+\\eta^-_n \\leq \\Gamma: \\epsilon_l \\\\\n",
        "& \\eta^+_n \\leq 1: \\zeta^+_{ln}, \\quad \\forall n\\\\\n",
        "& \\eta^-_n \\leq 1: \\zeta^-_{ln}, \\quad \\forall n\\\\\n",
        "& \\eta^+_n,\\eta^-_n\\geq 0\n",
        "\\end{align}\n",
        "$$\n",
        "\n",
        "The dual is\n",
        "\n",
        "$$\n",
        "\\begin{align}\n",
        "\\underset{\\epsilon_l, \\zeta^+_{ln},\\zeta^-_{ln}}{\\min} \\quad & \\epsilon_l\\Gamma + \\sum_n  \\zeta^+_{ln}+\\zeta^-_{ln}  \\\\\n",
        "\\text{s.t.} \\quad & -b_{ln}\\overline{e}_n + \\epsilon_l + \\zeta^+_{ln} \\geq 0, \\quad \\forall n \\\\\n",
        "& b_{ln}\\overline{e}_n + \\epsilon_l + \\zeta^-_{ln} \\geq 0, \\quad \\forall n \\\\\n",
        "& \\epsilon_l, \\zeta^+_{ln},\\zeta^-_{ln}\\geq 0\n",
        "\\end{align}\n",
        "$$"
      ],
      "metadata": {
        "id": "Xdp8P_Q7zZfc"
      }
    },
    {
      "cell_type": "markdown",
      "source": [
        "We replace everything and obtain\n",
        "\n",
        "$$\n",
        "\\begin{align}\n",
        "\\underset{g_n,\\alpha,\\beta^+_n,\\beta^-_n,\\gamma_l,\\delta^+_{ln},\\delta^-_{ln},\\epsilon_l,\\zeta^+_{ln},\\zeta^-_{ln}}{\\min} \\quad & \\sum_n c_n g_n  \\\\\n",
        "\\text{s.t.} \\quad & 0 \\leq g_n \\leq \\overline{g}_n, \\quad \\forall n\\\\\n",
        "& \\sum_n g_n \\geq \\alpha\\Gamma + \\sum_n  \\hat{d}_n + \\beta^+_n+\\beta^-_n \\\\\n",
        "& -\\overline{f}_l \\leq -\\gamma_l\\Gamma - \\sum_n \\delta^+_{ln}+\\delta^-_{ln} - b_{ln}(g_n-\\hat{d}_n), \\quad \\forall l \\\\\n",
        "&  \\epsilon_l\\Gamma + \\sum_n  \\zeta^+_{ln}+\\zeta^-_{ln}+b_{ln}(g_n-\\hat{d}_n) \\leq \\overline{f}_l, \\quad \\forall l \\\\\n",
        "& \\overline{e}_n + \\alpha + \\beta^+_n \\geq 0, \\quad \\forall n \\\\\n",
        "& -\\overline{e}_n + \\alpha + \\beta^-_n \\geq 0, \\quad \\forall n \\\\\n",
        "& b_{ln}\\overline{e}_n + \\gamma_l + \\delta^+_{ln} \\geq 0, \\quad \\forall l,n \\\\\n",
        "& -b_{ln}\\overline{e}_n + \\gamma_l + \\delta^-_{ln} \\geq 0, \\quad \\forall l,n \\\\\n",
        "& -b_{ln}\\overline{e}_n + \\epsilon_l + \\zeta^+_{ln} \\geq 0, \\quad \\forall l,n \\\\\n",
        "& b_{ln}\\overline{e}_n + \\epsilon_l + \\zeta^-_{ln} \\geq 0, \\quad \\forall l,n \\\\\n",
        "& \\alpha,\\beta^+_n,\\beta^-_n,\\gamma_l,\\delta^+_{ln},\\delta^-_{ln},\\epsilon_l,\\zeta^+_{ln},\\zeta^-_{ln} \\geq 0\n",
        "\\end{align}\n",
        "$$"
      ],
      "metadata": {
        "id": "8gujqjY8zebq"
      }
    },
    {
      "cell_type": "code",
      "source": [
        "def dc_opf_robust_budget(demand,var,budget):\n",
        "  # model\n",
        "  m = gp.Model()  \n",
        "  # variables\n",
        "  gen = m.addMVar(nbus)\n",
        "  alpha = m.addVar()\n",
        "  beta_up = m.addMVar(nbus)\n",
        "  beta_do = m.addMVar(nbus)\n",
        "  gamma = m.addMVar(nlin)\n",
        "  delta_up = m.addMVar((nlin,nbus))\n",
        "  delta_do = m.addMVar((nlin,nbus))\n",
        "  epsilon = m.addMVar(nlin)\n",
        "  zeta_up = m.addMVar((nlin,nbus))\n",
        "  zeta_do = m.addMVar((nlin,nbus))\n",
        "  # objective function\n",
        "  m.setObjective(cost_bus @ gen, GRB.MINIMIZE)\n",
        "  # constraints\n",
        "  m.addConstr(gen <= pmax_bus)\n",
        "  m.addConstr(gen.sum() >= alpha*budget + demand.sum() + beta_up.sum() + beta_do.sum() )  \n",
        "  m.addConstrs(-cap_line[l] <= - budget*gamma[l] - delta_up[l,:].sum() - delta_do[l,:].sum() + ptdf[l,:] @ gen - ptdf[l,:] @ demand for l in range(nlin))\n",
        "  m.addConstrs(budget*epsilon[l] + zeta_up[l,:].sum() + zeta_do[l,:].sum() + ptdf[l,:] @ gen - ptdf[l,:] @ demand <= cap_line[l] for l in range(nlin))\n",
        "  m.addConstrs(var[n] + alpha + beta_up[n] >= 0 for n in range(nbus))\n",
        "  m.addConstrs(-var[n] + alpha + beta_do[n] >= 0 for n in range(nbus))\n",
        "  m.addConstrs(var[b]*ptdf[:,b] + gamma + delta_up[:,b] >= 0 for b in range(nbus))\n",
        "  m.addConstrs(-var[b]*ptdf[:,b] + gamma + delta_do[:,b] >= 0 for b in range(nbus))\n",
        "  m.addConstrs(-var[b]*ptdf[:,b] + epsilon + zeta_up[:,b] >= 0 for b in range(nbus))\n",
        "  m.addConstrs(var[b]*ptdf[:,b] + epsilon + zeta_do[:,b] >= 0 for b in range(nbus))\n",
        "  # solve\n",
        "  m.setParam('OutputFlag',0)\n",
        "  m.write('robust_ldr.lp')\n",
        "  m.optimize()\n",
        "  status(m)\n",
        "  # results\n",
        "  print('dispatch =',gen.X)\n",
        "  return gen.X"
      ],
      "metadata": {
        "id": "Go2pOVETkkwJ"
      },
      "execution_count": null,
      "outputs": []
    },
    {
      "cell_type": "markdown",
      "source": [
        "# Evaluate robust dispatch (Gamma=2, var=10)"
      ],
      "metadata": {
        "id": "zvqzu2clkNC_"
      }
    },
    {
      "cell_type": "code",
      "source": [
        "gen_robust = dc_opf_robust_budget(demand,var_10,2)\n",
        "evaluate_scenarios(gen_robust,scen_10)"
      ],
      "metadata": {
        "colab": {
          "base_uri": "https://localhost:8080/"
        },
        "id": "Wlmu3E9AkZXd",
        "outputId": "74b3e5a2-e140-46a5-f384-f311019931cc"
      },
      "execution_count": null,
      "outputs": [
        {
          "output_type": "stream",
          "name": "stdout",
          "text": [
            "Status = optimal\n",
            "dispatch = [150. 150.  20.]\n",
            "minimum cost = 6402.704098898973\n",
            "average cost = 6833.71171739833\n",
            "maximum cost = 7534.171046329571\n"
          ]
        }
      ]
    },
    {
      "cell_type": "markdown",
      "source": [
        "# Evaluate robust dispatch (Gamma=2, var=20)"
      ],
      "metadata": {
        "id": "S-tIQHSzk8ST"
      }
    },
    {
      "cell_type": "code",
      "source": [
        "gen_robust = dc_opf_robust_budget(demand,var_20,2)\n",
        "evaluate_scenarios(gen_robust,scen_20)"
      ],
      "metadata": {
        "colab": {
          "base_uri": "https://localhost:8080/"
        },
        "outputId": "cc094203-5e1f-496f-c8d6-1ea2b7071ad9",
        "id": "_s-hk3zqk8ST"
      },
      "execution_count": null,
      "outputs": [
        {
          "output_type": "stream",
          "name": "stdout",
          "text": [
            "Status = optimal\n",
            "dispatch = [155.00015  84.99985 100.     ]\n",
            "minimum cost = 6481.4263800467525\n",
            "average cost = 7406.814420124009\n",
            "maximum cost = 8722.11167142717\n"
          ]
        }
      ]
    },
    {
      "cell_type": "markdown",
      "source": [
        "# Evaluate robust dispatch (Gamma=2, var=30)"
      ],
      "metadata": {
        "id": "O7W_ob4MlBNj"
      }
    },
    {
      "cell_type": "code",
      "source": [
        "gen_robust = dc_opf_robust_budget(demand,var_30,2)\n",
        "evaluate_scenarios(gen_robust,scen_30)"
      ],
      "metadata": {
        "colab": {
          "base_uri": "https://localhost:8080/",
          "height": 408
        },
        "outputId": "6f50fc0c-714b-48e7-b7d2-78dccbc859bf",
        "id": "2bMHtVcHlBNj"
      },
      "execution_count": null,
      "outputs": [
        {
          "output_type": "stream",
          "name": "stdout",
          "text": [
            "Status = infeasible\n"
          ]
        },
        {
          "output_type": "error",
          "ename": "GurobiError",
          "evalue": "ignored",
          "traceback": [
            "\u001b[0;31m---------------------------------------------------------------------------\u001b[0m",
            "\u001b[0;31mGurobiError\u001b[0m                               Traceback (most recent call last)",
            "\u001b[0;32m<ipython-input-16-0e9d4fb3bec8>\u001b[0m in \u001b[0;36m<module>\u001b[0;34m()\u001b[0m\n\u001b[0;32m----> 1\u001b[0;31m \u001b[0mgen_robust\u001b[0m \u001b[0;34m=\u001b[0m \u001b[0mdc_opf_robust_budget\u001b[0m\u001b[0;34m(\u001b[0m\u001b[0mdemand\u001b[0m\u001b[0;34m,\u001b[0m\u001b[0mvar_30\u001b[0m\u001b[0;34m,\u001b[0m\u001b[0;36m2\u001b[0m\u001b[0;34m)\u001b[0m\u001b[0;34m\u001b[0m\u001b[0;34m\u001b[0m\u001b[0m\n\u001b[0m\u001b[1;32m      2\u001b[0m \u001b[0mevaluate_scenarios\u001b[0m\u001b[0;34m(\u001b[0m\u001b[0mgen_robust\u001b[0m\u001b[0;34m,\u001b[0m\u001b[0mscen_30\u001b[0m\u001b[0;34m)\u001b[0m\u001b[0;34m\u001b[0m\u001b[0;34m\u001b[0m\u001b[0m\n",
            "\u001b[0;32m<ipython-input-13-d198d8904e70>\u001b[0m in \u001b[0;36mdc_opf_robust_budget\u001b[0;34m(demand, var, budget)\u001b[0m\n\u001b[1;32m     32\u001b[0m   \u001b[0mstatus\u001b[0m\u001b[0;34m(\u001b[0m\u001b[0mm\u001b[0m\u001b[0;34m)\u001b[0m\u001b[0;34m\u001b[0m\u001b[0;34m\u001b[0m\u001b[0m\n\u001b[1;32m     33\u001b[0m   \u001b[0;31m# results\u001b[0m\u001b[0;34m\u001b[0m\u001b[0;34m\u001b[0m\u001b[0;34m\u001b[0m\u001b[0m\n\u001b[0;32m---> 34\u001b[0;31m   \u001b[0mprint\u001b[0m\u001b[0;34m(\u001b[0m\u001b[0;34m'dispatch ='\u001b[0m\u001b[0;34m,\u001b[0m\u001b[0mgen\u001b[0m\u001b[0;34m.\u001b[0m\u001b[0mX\u001b[0m\u001b[0;34m)\u001b[0m\u001b[0;34m\u001b[0m\u001b[0;34m\u001b[0m\u001b[0m\n\u001b[0m\u001b[1;32m     35\u001b[0m   \u001b[0;32mreturn\u001b[0m \u001b[0mgen\u001b[0m\u001b[0;34m.\u001b[0m\u001b[0mX\u001b[0m\u001b[0;34m\u001b[0m\u001b[0;34m\u001b[0m\u001b[0m\n",
            "\u001b[0;32msrc/gurobipy/mvar.pxi\u001b[0m in \u001b[0;36mgurobipy.MVar.__getattr__\u001b[0;34m()\u001b[0m\n",
            "\u001b[0;32msrc/gurobipy/mvar.pxi\u001b[0m in \u001b[0;36mgurobipy.MVar.getAttr\u001b[0;34m()\u001b[0m\n",
            "\u001b[0;32msrc/gurobipy/attrutil.pxi\u001b[0m in \u001b[0;36mgurobipy.__gettypedattrlist\u001b[0;34m()\u001b[0m\n",
            "\u001b[0;31mGurobiError\u001b[0m: Unable to retrieve attribute 'X'"
          ]
        }
      ]
    },
    {
      "cell_type": "markdown",
      "source": [
        "# Evaluate robust dispatch (Gamma=1, var=10)"
      ],
      "metadata": {
        "id": "TDUSQcS0lJrv"
      }
    },
    {
      "cell_type": "code",
      "source": [
        "gen_robust = dc_opf_robust_budget(demand,var_10,1)\n",
        "evaluate_scenarios(gen_robust,scen_10)"
      ],
      "metadata": {
        "colab": {
          "base_uri": "https://localhost:8080/"
        },
        "outputId": "9f2a57b0-6101-4c4c-8748-aef319a17bfb",
        "id": "GqeKG1O-lJrw"
      },
      "execution_count": null,
      "outputs": [
        {
          "output_type": "stream",
          "name": "stdout",
          "text": [
            "Status = optimal\n",
            "dispatch = [165.00045  44.99955 100.     ]\n",
            "minimum cost = 6715.041700270952\n",
            "average cost = 7219.658964650112\n",
            "maximum cost = 8032.622783500859\n"
          ]
        }
      ]
    },
    {
      "cell_type": "markdown",
      "source": [
        "# Evaluate robust dispatch (Gamma=1, var=20)"
      ],
      "metadata": {
        "id": "KrgkOgV9l7kN"
      }
    },
    {
      "cell_type": "code",
      "source": [
        "gen_robust = dc_opf_robust_budget(demand,var_20,1)\n",
        "evaluate_scenarios(gen_robust,scen_20)"
      ],
      "metadata": {
        "colab": {
          "base_uri": "https://localhost:8080/"
        },
        "outputId": "22e09d38-547b-4790-a12c-0795eac69e82",
        "id": "2JcOa33vl7kT"
      },
      "execution_count": null,
      "outputs": [
        {
          "output_type": "stream",
          "name": "stdout",
          "text": [
            "Status = optimal\n",
            "dispatch = [155.00015  64.99985 100.     ]\n",
            "minimum cost = 6281.426380046753\n",
            "average cost = 7331.68786194085\n",
            "maximum cost = 8922.11167142717\n"
          ]
        }
      ]
    },
    {
      "cell_type": "markdown",
      "source": [
        "# Evaluate robust dispatch (Gamma=1, var=30)"
      ],
      "metadata": {
        "id": "zy2PxWpsl9iL"
      }
    },
    {
      "cell_type": "code",
      "source": [
        "gen_robust = dc_opf_robust_budget(demand,var_30,1)\n",
        "evaluate_scenarios(gen_robust,scen_30)"
      ],
      "metadata": {
        "colab": {
          "base_uri": "https://localhost:8080/"
        },
        "outputId": "bea20944-1198-4903-ef13-ab6892ba05ce",
        "id": "CR416Hyyl9iL"
      },
      "execution_count": null,
      "outputs": [
        {
          "output_type": "stream",
          "name": "stdout",
          "text": [
            "Status = optimal\n",
            "dispatch = [144.99985  85.00015 100.     ]\n",
            "minimum cost = 5860.008232108621\n",
            "average cost = 7402.270964695413\n",
            "maximum cost = 9839.711481954711\n"
          ]
        }
      ]
    },
    {
      "cell_type": "markdown",
      "source": [
        "# Linear decision rules\n",
        "\n",
        "We define $\\Omega = \\sum_n \\overline{e}_n\\eta_n$, $\\underline{\\Omega}=-\\sum_n\\overline{e}_n$, and $\\overline{\\Omega}=\\sum_n\\overline{e}_n$. We use a linear decision rule so that the output of each unit is determined by $g_n-\\beta_n\\Omega$. We first minimize the expected cost\n",
        "\n",
        "$$\n",
        "\\begin{align}\n",
        "\\underset{g_n,\\beta_n}{\\min} \\quad & \\mathbb{E} \\left[ \\sum_n c_n g_n + c^u_n\\max(0,-\\beta_n \\Omega) -c^d_n \\max(0,\\beta_n\\Omega) \\right] \\\\\n",
        "\\text{s.t.} \\quad & \\sum_n g_n-\\beta_n\\Omega = \\sum_n \\hat{d}_n - \\overline{e}_n\\eta_n \\\\\n",
        "& 0 \\leq g_n - \\beta_n\\Omega \\leq \\overline{g}_n, \\quad \\forall n\\\\\n",
        "& -\\overline{f}_l \\leq \\underset{\\eta_n\\in[-1,1]}{\\min} \\sum_n b_{ln}(g_n - \\beta_n\\Omega -\\hat{d}_n + \\overline{e}_n \\eta_n), \\quad \\forall l \\\\\n",
        "&  \\underset{\\eta_n\\in[-1,1]}{\\max} \\sum_n b_{ln}(g_n - \\beta_n\\Omega -\\hat{d}_n + \\overline{e}_n \\eta_n) \\leq \\overline{f}_l, \\quad \\forall l \\\\\n",
        "& \\beta_n \\geq 0\n",
        "\\end{align}\n",
        "$$"
      ],
      "metadata": {
        "id": "ZnVIEigIicOa"
      }
    },
    {
      "cell_type": "markdown",
      "source": [
        "We can reformulate as \n",
        "\n",
        "$$\n",
        "\\begin{align}\n",
        "\\underset{g_n,\\beta_n}{\\min} \\quad &  \\mathbb{E} \\left[ \\sum_n c_n g_n + c^u_n\\max(0,-\\beta_n \\Omega) -c^d_n \\max(0,\\beta_n\\Omega) \\right] \\\\\\\n",
        "\\text{s.t.} \\quad & \\sum_n g_n = \\sum_n \\hat{d}_n \\\\\n",
        "& \\sum_n \\beta_n = 1 \\\\\n",
        "& 0 \\leq g_n - \\underset{\\Omega\\in[\\underline{\\Omega},\\overline{\\Omega}]}{\\max}\\beta_n\\Omega, \\quad \\forall n\\\\\n",
        "& g_n - \\underset{\\Omega\\in[\\underline{\\Omega},\\overline{\\Omega}]}{\\min}\\beta_n\\Omega \\leq \\overline{g}_n, \\quad \\forall n\\\\\n",
        "& -\\overline{f}_l \\leq \\underset{\\eta_n\\in[-1,1]}{\\min} \\sum_n b_{ln}(g_n - \\beta_n\\Omega -\\hat{d}_n + \\overline{e}_n \\eta_n), \\quad \\forall l \\\\\n",
        "&  \\underset{\\eta_n\\in[-1,1]}{\\max} \\sum_n b_{ln}(g_n - \\beta_n\\Omega -\\hat{d}_n + \\overline{e}_n \\eta_n) \\leq \\overline{f}_l, \\quad \\forall l \\\\\n",
        "& \\beta_n \\geq 0\n",
        "\\end{align}\n",
        "$$"
      ],
      "metadata": {
        "id": "ndZTjdICzt-1"
      }
    },
    {
      "cell_type": "markdown",
      "source": [
        "And therefore\n",
        "\n",
        "$$\n",
        "\\begin{align}\n",
        "\\underset{g_n,\\beta_n}{\\min} \\quad &  \\sum_n c_n g_n + 0.25 \\overline{\\Omega} (c^u_n-c^d_n) \\beta_n \\\\\n",
        "\\text{s.t.} \\quad & \\sum_n g_n = \\sum_n \\hat{d}_n \\\\\n",
        "& \\sum_n \\beta_n = 1 \\\\\n",
        "& 0 \\leq g_n - \\beta_n\\overline{\\Omega}, \\quad \\forall n\\\\\n",
        "& g_n - \\beta_n\\underline{\\Omega} \\leq \\overline{g}_n, \\quad \\forall n\\\\\n",
        "& -\\overline{f}_l \\leq \\sum_{n\\in\\mathcal{N}^+_l} b_{ln}(g_n - \\beta_n\\overline{\\Omega} -\\hat{d}_n - \\overline{e}_n) + \\sum_{n\\in\\mathcal{N}^-_l} b_{ln}(g_n - \\beta_n\\underline{\\Omega} -\\hat{d}_n + \\overline{e}_n), \\quad \\forall l \\\\\n",
        "&  \\sum_{n\\in\\mathcal{N}^+_l} b_{ln}(g_n - \\beta_n\\underline{\\Omega} -\\hat{d}_n + \\overline{e}_n) + \\sum_{n\\in\\mathcal{N}^-_l} b_{ln}(g_n - \\beta_n\\overline{\\Omega} -\\hat{d}_n - \\overline{e}_n ) \\leq \\overline{f}_l, \\quad \\forall l \\\\\n",
        "& \\beta_n \\geq 0\n",
        "\\end{align}\n",
        "$$"
      ],
      "metadata": {
        "id": "n0-2aDGH0Pg9"
      }
    },
    {
      "cell_type": "code",
      "source": [
        "def dc_opf_ldr(demand,var):\n",
        "  # model\n",
        "  m = gp.Model()\n",
        "  # variables\n",
        "  gen = m.addMVar(nbus,name='gen')\n",
        "  beta = m.addMVar(nbus,name='beta')\n",
        "  # objective function\n",
        "  m.setObjective(cost_bus @ gen + 0.25 * var.sum() * cost_up_bus @ beta - 0.25 * var.sum() * cost_do_bus @ beta, GRB.MINIMIZE)\n",
        "  # constraints\n",
        "  m.addConstr(gen.sum() == demand.sum())\n",
        "  m.addConstr(beta.sum() == 1)\n",
        "  m.addConstr(0 <= gen - var.sum()*beta)\n",
        "  m.addConstr(gen + var.sum()*beta <= pmax_bus)\n",
        "  m.addConstr(ptdf @ gen - var.sum() * ptdf @ beta >= -cap_line + ptdf @ demand + np.multiply(ptdf,pos_neg) @ var)\n",
        "  m.addConstr(ptdf @ gen - var.sum() * ptdf @ beta <= cap_line + ptdf @ demand - np.multiply(ptdf,pos_neg) @ var)\n",
        "  # solve\n",
        "  m.setParam('OutputFlag',0)\n",
        "  m.write('ldr.lp')\n",
        "  m.optimize()\n",
        "  status(m) \n",
        "  # results\n",
        "  print('dispatch =',gen.X,beta.X)\n",
        "  return gen.X"
      ],
      "metadata": {
        "id": "BRkU0J2W6b1t"
      },
      "execution_count": null,
      "outputs": []
    },
    {
      "cell_type": "markdown",
      "source": [
        "# Evaluate LDR dispatch with var = 10"
      ],
      "metadata": {
        "id": "JgNUlzhItho4"
      }
    },
    {
      "cell_type": "code",
      "source": [
        "gen_robust_ldr = dc_opf_ldr(demand,var_10)\n",
        "evaluate_scenarios(gen_robust_ldr,scen_10)"
      ],
      "metadata": {
        "colab": {
          "base_uri": "https://localhost:8080/"
        },
        "id": "bIXvgSHGtZHw",
        "outputId": "d9f0ed49-4071-41d8-e1d2-7a523b8d98a1"
      },
      "execution_count": null,
      "outputs": [
        {
          "output_type": "stream",
          "name": "stdout",
          "text": [
            "Status = optimal\n",
            "dispatch = [150. 135.  15.] [0.  0.5 0.5]\n",
            "minimum cost = 6247.704098898973\n",
            "average cost = 6842.709872606447\n",
            "maximum cost = 7629.171046329571\n"
          ]
        }
      ]
    },
    {
      "cell_type": "markdown",
      "source": [
        "# Evaluate LDR dispatch with var = 20"
      ],
      "metadata": {
        "id": "I6PZfDSCyzzh"
      }
    },
    {
      "cell_type": "code",
      "source": [
        "gen_robust_ldr = dc_opf_ldr(demand,var_20)\n",
        "evaluate_scenarios(gen_robust_ldr,scen_20)"
      ],
      "metadata": {
        "colab": {
          "base_uri": "https://localhost:8080/"
        },
        "outputId": "9171b087-979e-4f66-c302-49292610c9b7",
        "id": "lFj_z48Wyzzp"
      },
      "execution_count": null,
      "outputs": [
        {
          "output_type": "stream",
          "name": "stdout",
          "text": [
            "Status = optimal\n",
            "dispatch = [150. 120.  30.] [0.  0.5 0.5]\n",
            "minimum cost = 5651.602242301942\n",
            "average cost = 6912.971384698708\n",
            "maximum cost = 8545.016633640025\n"
          ]
        }
      ]
    },
    {
      "cell_type": "markdown",
      "source": [
        "# Evaluate LDR dispatch with var = 30\n"
      ],
      "metadata": {
        "id": "edcNZEmly9M-"
      }
    },
    {
      "cell_type": "code",
      "source": [
        "gen_robust_ldr = dc_opf_ldr(demand,var_30)\n",
        "evaluate_scenarios(gen_robust_ldr,scen_30)"
      ],
      "metadata": {
        "id": "gzQetVI7y9NA",
        "colab": {
          "base_uri": "https://localhost:8080/"
        },
        "outputId": "42ad4b6c-fd5a-4883-ff9f-73dc57c5b5de"
      },
      "execution_count": null,
      "outputs": [
        {
          "output_type": "stream",
          "name": "stdout",
          "text": [
            "Status = optimal\n",
            "dispatch = [150. 105.  45.] [0.  0.5 0.5]\n",
            "minimum cost = 5090.281967999951\n",
            "average cost = 7009.086358431071\n",
            "maximum cost = 9572.165785406014\n"
          ]
        }
      ]
    },
    {
      "cell_type": "markdown",
      "source": [
        "First primal\n",
        "\n",
        "$$\n",
        "\\begin{align}\n",
        "\\underset{\\eta^+_m,\\eta^-_m}{\\max} \\quad & \\beta_n\\sum_m \\overline{e}_m(\\eta^+_m-\\eta^-_m)  \\\\\n",
        "\\text{s.t.} \\quad & \\sum_m \\eta^+_m+\\eta^-_m \\leq \\Gamma: \\tau_n \\\\\n",
        "& \\eta^+_m \\leq 1: \\rho^+_{nm}, \\quad \\forall m\\\\\n",
        "& \\eta^-_m \\leq 1: \\rho^-_{nm}, \\quad \\forall m\\\\\n",
        "& \\eta^+_m,\\eta^-_m\\geq 0\n",
        "\\end{align}\n",
        "$$\n"
      ],
      "metadata": {
        "id": "Ecs3e9nAR6-6"
      }
    },
    {
      "cell_type": "markdown",
      "source": [
        "First dual\n",
        "\n",
        "$$\n",
        "\\begin{align}\n",
        "\\underset{\\tau_n,\\rho^+_{nm},\\rho^-_{nm}}{\\min} \\quad & \\Gamma\\tau_n + \\sum_m \\rho^+_{nm} + \\rho^-_{nm}  \\\\\n",
        "\\text{s.t.} \\quad & -\\beta_n\\overline{e}_m + \\tau_n + \\rho^+_{nm} \\geq 0, \\quad \\forall m \\\\\n",
        "& \\beta_n\\overline{e}_m + \\tau_n + \\rho^-_{nm} \\geq 0, \\quad \\forall m\\\\\n",
        "& \\tau,\\rho^+_{nm},\\rho^-_{nm} \\geq 0\n",
        "\\end{align}\n",
        "$$"
      ],
      "metadata": {
        "id": "WzaZIigmSvNi"
      }
    },
    {
      "cell_type": "markdown",
      "source": [
        "Second primal\n",
        "\n",
        "$$\n",
        "\\begin{align}\n",
        "\\underset{\\eta^+_{m},\\eta^-_{m}}{\\min} \\quad & \\beta_n \\sum_m \\overline{e}_m (\\eta^+_{m}-\\eta^-_{m})  \\\\\n",
        "\\text{s.t.} \\quad & \\sum_m \\eta^+_{m}+\\eta^-_{m} \\leq \\Gamma: \\kappa_n \\\\\n",
        "& \\eta^+_m \\leq 1: \\mu^+_{nm}, \\quad \\forall m\\\\\n",
        "& \\eta^-_m \\leq 1: \\mu^-_{nm}, \\quad \\forall m\\\\\n",
        "& \\eta^+_m,\\eta^-_m\\geq 0\n",
        "\\end{align}\n",
        "$$"
      ],
      "metadata": {
        "id": "Sc4itgtBTjKP"
      }
    },
    {
      "cell_type": "markdown",
      "source": [
        "Second dual\n",
        "\n",
        "$$\n",
        "\\begin{align}\n",
        "\\underset{\\kappa_n,\\mu^+_{nm},\\mu^-_{nm}}{\\max} \\quad & -\\Gamma\\kappa_n - \\sum_m \\mu^+_{nm} + \\mu^-_{nm}  \\\\\n",
        "\\text{s.t.} \\quad & \\beta_n\\overline{e}_m + \\kappa_n + \\mu^+_{nm} \\geq 0, \\quad \\forall m \\\\\n",
        "& -\\beta_n\\overline{e}_m + \\kappa_n + \\mu^-_{nm} \\geq 0, \\quad \\forall m\\\\\n",
        "& \\kappa_n,\\mu^+_{nm},\\mu^-_{nm} \\geq 0\n",
        "\\end{align}\n",
        "$$"
      ],
      "metadata": {
        "id": "hHJd9YI_Tu3I"
      }
    },
    {
      "cell_type": "markdown",
      "source": [
        "Third primal\n",
        "\n",
        "$$\n",
        "\\begin{align}\n",
        "\\underset{\\eta^+_n,\\eta^-_n}{\\min} \\quad & \\sum_n -b_{ln}\\beta_n\\sum_m \\overline{e}_m (\\eta^+_m-\\eta^-_m) +b_{ln}\\overline{e}_n (\\eta^+_n-\\eta^-_n)  \\\\\n",
        "\\text{s.t.} \\quad & \\sum_n \\eta^+_n+\\eta^-_n \\leq \\Gamma: \\gamma_l \\\\\n",
        "& \\eta^+_n \\leq 1: \\delta^+_{ln}, \\quad \\forall n\\\\\n",
        "& \\eta^-_n \\leq 1: \\delta^-_{ln}, \\quad \\forall n\\\\\n",
        "& \\eta^+_n,\\eta^-_n\\geq 0\n",
        "\\end{align}\n",
        "$$"
      ],
      "metadata": {
        "id": "VWXfGWko2bX2"
      }
    },
    {
      "cell_type": "markdown",
      "source": [
        "Third dual\n",
        "\n",
        "$$\n",
        "\\begin{align}\n",
        "\\underset{\\gamma_l, \\delta^+_{ln},\\delta^-_{ln}}{\\max} \\quad & - \\gamma_l\\Gamma - \\sum_n  \\delta^+_{ln}+\\delta^-_{ln}  \\\\\n",
        "\\text{s.t.} \\quad & -\\overline{e}_n \\left(-b_{ln} + \\sum_m b_{lm}\\beta_m \\right) + \\gamma_l + \\delta^+_{ln} \\geq 0, \\quad \\forall n \\\\\n",
        "& \\overline{e}_n \\left(-b_{ln} + \\sum_m b_{lm}\\beta_m \\right) + \\gamma_l + \\delta^-_{ln} \\geq 0, \\quad \\forall n \\\\\n",
        "& \\gamma_l, \\delta^+_{ln},\\delta^-_{ln}\\geq 0\n",
        "\\end{align}\n",
        "$$"
      ],
      "metadata": {
        "id": "wmaHiqrt56PV"
      }
    },
    {
      "cell_type": "markdown",
      "source": [
        "Four primal\n",
        "\n",
        "$$\n",
        "\\begin{align}\n",
        "\\underset{\\eta^+_n,\\eta^-_n}{\\max} \\quad & \\sum_n -b_{ln}\\beta_n\\sum_m \\overline{e}_m (\\eta^+_m-\\eta^-_m) +b_{ln}\\overline{e}_n (\\eta^+_n-\\eta^-_n)  \\\\\n",
        "\\text{s.t.} \\quad & \\sum_n \\eta^+_n+\\eta^-_n \\leq \\Gamma: \\epsilon_l \\\\\n",
        "& \\eta^+_n \\leq 1: \\zeta^+_{ln}, \\quad \\forall n\\\\\n",
        "& \\eta^-_n \\leq 1: \\zeta^-_{ln}, \\quad \\forall n\\\\\n",
        "& \\eta^+_n,\\eta^-_n\\geq 0\n",
        "\\end{align}\n",
        "$$"
      ],
      "metadata": {
        "id": "FrA2KtEc7jSr"
      }
    },
    {
      "cell_type": "markdown",
      "source": [
        "Four dual\n",
        "\n",
        "$$\n",
        "\\begin{align}\n",
        "\\underset{\\epsilon_l, \\zeta^+_{ln},\\zeta^-_{ln}}{\\min} \\quad &  \\epsilon_l\\Gamma + \\sum_n  \\zeta^+_{ln}+\\zeta^-_{ln}  \\\\\n",
        "\\text{s.t.} \\quad & \\sum_n b_{ln}\\beta_n - \\lambda_l = 0 \\\\\n",
        "& \\overline{e}_n \\left(-b_{ln} + \\sum_m b_{lm}\\beta_m \\right) + \\epsilon_l + \\zeta^+_{ln} \\geq 0, \\quad \\forall n \\\\\n",
        "& -\\overline{e}_n \\left(-b_{ln} + \\sum_m b_{lm}\\beta_m \\right) + \\epsilon_l + \\zeta^-_{ln} \\geq 0, \\quad \\forall n \\\\\n",
        "& \\epsilon_l, \\zeta^+_{ln},\\zeta^-_{ln}\\geq 0\n",
        "\\end{align}\n",
        "$$"
      ],
      "metadata": {
        "id": "ARy3Tg5A7-5Z"
      }
    },
    {
      "cell_type": "markdown",
      "source": [
        "By using the dual formulation we obtain\n",
        "\n",
        "$$\n",
        "\\begin{align}\n",
        "\\underset{g_n,\\beta_n,\\tau_n,\\rho^+_{nm},\\rho^-_{nm},\\kappa_n,\\mu^+_{nm},\\mu^-_{nm},\\gamma_l, \\delta^+_{ln},\\delta^-_{ln},\\epsilon_l, \\zeta^+_{ln},\\zeta^-_{ln}}{\\min} \\quad &  \\sum_n c_n g_n + 0.25 \\overline{\\Omega} (c^u_n-c^d_n) beta_n  \\\\\n",
        "\\text{s.t.} \\quad & \\sum_n g_n = \\sum_n \\hat{d}_n \\\\\n",
        "& \\sum_n \\beta_n = 1 \\\\\n",
        "& 0 \\leq g_n - \\Gamma\\tau_n - \\sum_m \\rho^+_{nm} + \\rho^-_{nm}, \\quad \\forall n\\\\\n",
        "& -\\beta_n\\overline{e}_m + \\tau_n + \\rho^+_{nm} \\geq 0, \\quad \\forall n,m \\\\\n",
        "& \\beta_n\\overline{e}_m + \\tau_n + \\rho^-_{nm} \\geq 0, \\quad \\forall n,m\\\\\n",
        "& g_n + \\Gamma\\kappa_n + \\sum_m \\mu^+_{nm} + \\mu^-_{nm} \\leq \\overline{g}_n, \\quad \\forall n\\\\\n",
        "& \\beta_n\\overline{e}_m + \\kappa_n + \\mu^+_{nm} \\geq 0, \\quad \\forall n,m \\\\\n",
        "& -\\beta_n\\overline{e}_m + \\kappa_n + \\mu^-_{nm} \\geq 0, \\quad \\forall n,m\\\\\n",
        "& -\\overline{f}_l \\leq \\sum_n b_{ln}(g_n-\\hat{d}_n) -\\gamma_l\\Gamma - \\sum_n \\delta^+_{ln} + \\delta^-_{ln}, \\quad \\forall l \\\\\n",
        "& -\\overline{e}_n \\left(-b_{ln} + \\sum_m b_{lm}\\beta_m \\right) + \\gamma_l + \\delta^+_{ln} \\geq 0, \\quad \\forall n,l \\\\\n",
        "& \\overline{e}_n \\left(-b_{ln} + \\sum_m b_{lm}\\beta_m \\right) + \\gamma_l + \\delta^-_{ln} \\geq 0, \\quad \\forall n,l \\\\\n",
        "& \\sum_n b_{ln}(g_n-\\hat{d}_n) + \\epsilon_l\\Gamma + \\sum_n \\zeta^+_{ln}+\\zeta^-_{ln} \\leq \\overline{f}_l, \\quad \\forall l \\\\\n",
        "& \\overline{e}_n \\left(-b_{ln} + \\sum_m b_{lm}\\beta_m \\right) + \\epsilon_l + \\zeta^+_{ln} \\geq 0, \\quad \\forall n,l \\\\\n",
        "& -\\overline{e}_n \\left(-b_{ln} + \\sum_m b_{lm}\\beta_m \\right) + \\epsilon_l + \\zeta^-_{ln} \\geq 0, \\quad \\forall n,l \\\\\n",
        "& g_n,\\beta_n, \\tau_n,\\rho^+_{nm}\\rho^-_{nm}, \\kappa_n,\\mu^+_{nm},\\mu^-_{nm},\\gamma_l, \\delta^+_{ln},\\delta^-_{ln}, \\epsilon_l, \\zeta^+_{ln},\\zeta^-_{ln} \\geq 0\n",
        "\\end{align}\n",
        "$$"
      ],
      "metadata": {
        "id": "j5AYK4Ve9TyH"
      }
    },
    {
      "cell_type": "code",
      "source": [
        "def dc_opf_ldr_budget(demand,var,budget):\n",
        "  # model\n",
        "  m = gp.Model()\n",
        "  m.Params.Threads = 1\n",
        "  # variables\n",
        "  gen = m.addMVar(nbus,name='gen')\n",
        "  beta = m.addMVar(nbus,name='beta')\n",
        "  tau = m.addMVar(nbus,name='tau')\n",
        "  rho_up = m.addMVar((nbus,nbus),name='rho_up')\n",
        "  rho_do = m.addMVar((nbus,nbus),name='rho_do')\n",
        "  kappa = m.addMVar(nbus,name='kappa')\n",
        "  mu_up = m.addMVar((nbus,nbus),name='mu_up')\n",
        "  mu_do = m.addMVar((nbus,nbus),name='mu_do')  \n",
        "  gamma = m.addMVar(nlin,name='gamma')  \n",
        "  delta_up = m.addMVar((nlin,nbus),name='delta_up')\n",
        "  delta_do = m.addMVar((nlin,nbus),name='delta_do')  \n",
        "  epsilon = m.addMVar(nlin,name='epsilon')\n",
        "  zeta_up = m.addMVar((nlin,nbus),name='zeta_up')\n",
        "  zeta_do = m.addMVar((nlin,nbus),name='zeta_do')\n",
        "  # objective function\n",
        "  m.setObjective(cost_bus @ gen + 0.25 * var.sum() * (cost_up_bus @ beta) - 0.25 * var.sum() * (cost_do_bus @ beta), GRB.MINIMIZE)  \n",
        "  # constraints\n",
        "  m.addConstr(gen.sum() == demand.sum())\n",
        "  m.addConstr(beta.sum() == 1)\n",
        "  m.addConstrs(0 <= gen[n] - budget*tau[n] - rho_up[n,:].sum() - rho_do[n,:].sum() for n in range(nbus))\n",
        "  m.addConstrs(-beta[n]*var[m] + tau[n] + rho_up[n,m] >= 0 for n in range(nbus) for m in range(nbus))\n",
        "  m.addConstrs(beta[n]*var[m] + tau[n] + rho_do[n,m] >= 0 for n in range(nbus) for m in range(nbus))\n",
        "  m.addConstrs(gen[n] + budget*kappa[n] + mu_up[n,:].sum() + mu_do[n,:].sum() <= pmax_bus[n] for n in range(nbus))\n",
        "  m.addConstrs(beta[n]*var[m] + kappa[n] + mu_up[n,m] >= 0 for n in range(nbus) for m in range(nbus))\n",
        "  m.addConstrs(-beta[n]*var[m] + kappa[n] + mu_do[n,m] >= 0 for n in range(nbus) for m in range(nbus))\n",
        "  m.addConstrs(-cap_line[l] <= sum(ptdf[l,n]*(gen[n]-demand[n]) for n in range(nbus)) -budget*gamma[l] - delta_up[l,:].sum() - delta_do[l,:].sum() for l in range(nlin))\n",
        "  m.addConstrs(-var[n]*(-ptdf[l,n] + sum(ptdf[l,m]*beta[m] for m in range(nbus))) + gamma[l] + delta_up[l,n] >= 0 for n in range(nbus) for l in range(nlin))\n",
        "  m.addConstrs(var[n]*(-ptdf[l,n] + sum(ptdf[l,m]*beta[m] for m in range(nbus))) + gamma[l] + delta_do[l,n] >= 0 for n in range(nbus) for l in range(nlin))\n",
        "  m.addConstrs(sum(ptdf[l,n]*(gen[n]-demand[n]) for n in range(nbus)) + budget*epsilon[l] + zeta_up[l,:].sum() + zeta_do[l,:].sum() <= cap_line[l] for l in range(nlin)) \n",
        "  m.addConstrs(var[n]*(-ptdf[l,n] + sum(ptdf[l,m]*beta[m] for m in range(nbus))) + epsilon[l] + zeta_up[l,n] >= 0 for n in range(nbus) for l in range(nlin))\n",
        "  m.addConstrs(-var[n]*(-ptdf[l,n] + sum(ptdf[l,m]*beta[m] for m in range(nbus))) + epsilon[l] + zeta_do[l,n] >= 0 for n in range(nbus) for l in range(nlin))  \n",
        "  # solve\n",
        "  m.setParam('OutputFlag',0)  \n",
        "  m.optimize()\n",
        "  print('obj =',m.ObjVal)\n",
        "  status(m)   \n",
        "  m.write('ldr_budget.lp')\n",
        "  # results\n",
        "  print('dispatch =',gen.X,beta.X)\n",
        "  return gen.X"
      ],
      "metadata": {
        "id": "ygKSTljlAHrP"
      },
      "execution_count": null,
      "outputs": []
    },
    {
      "cell_type": "markdown",
      "source": [
        ""
      ],
      "metadata": {
        "id": "UiekpIKErQjf"
      }
    },
    {
      "cell_type": "markdown",
      "source": [
        "# Evaluate LDR dispatch (Gamma=2, var=10)"
      ],
      "metadata": {
        "id": "d3nWx6GfrU7U"
      }
    },
    {
      "cell_type": "code",
      "source": [
        "gen_ldr_budget = dc_opf_ldr_budget(demand,var_10,2)\n",
        "evaluate_scenarios(gen_ldr_budget,scen_10)"
      ],
      "metadata": {
        "id": "es_gnwpBrfI2"
      },
      "execution_count": null,
      "outputs": []
    },
    {
      "cell_type": "markdown",
      "source": [
        "# Evaluate LDR dispatch (Gamma=2, var=20)"
      ],
      "metadata": {
        "id": "8bbcK_kIsNxf"
      }
    },
    {
      "cell_type": "code",
      "source": [
        "gen_ldr_budget = dc_opf_ldr_budget(demand,var_20,2)\n",
        "evaluate_scenarios(gen_ldr_budget,scen_20)"
      ],
      "metadata": {
        "id": "Y6hsiNA8sZES"
      },
      "execution_count": null,
      "outputs": []
    },
    {
      "cell_type": "markdown",
      "source": [
        "# Evaluate LDR dispatch (Gamma=2, var=30)"
      ],
      "metadata": {
        "id": "nToqxPuhsPYG"
      }
    },
    {
      "cell_type": "code",
      "source": [
        "gen_ldr_budget = dc_opf_ldr_budget(demand,var_30,2)\n",
        "evaluate_scenarios(gen_ldr_budget,scen_30)"
      ],
      "metadata": {
        "colab": {
          "base_uri": "https://localhost:8080/"
        },
        "id": "gKkI0BaOsb7B",
        "outputId": "45f5faa0-2fa2-4ca3-c29d-5b418a4170f0"
      },
      "execution_count": null,
      "outputs": [
        {
          "output_type": "stream",
          "name": "stdout",
          "text": [
            "Set parameter Threads to value 1\n",
            "obj = 7112.5\n",
            "Status = optimal\n",
            "dispatch = [150. 100.  50.] [0.         0.16666667 0.83333333]\n"
          ]
        }
      ]
    },
    {
      "cell_type": "markdown",
      "source": [
        "# Evaluate LDR dispatch (Gamma=1, var=10)"
      ],
      "metadata": {
        "id": "Q_1_KRM1sRZY"
      }
    },
    {
      "cell_type": "code",
      "source": [
        "gen_ldr_budget = dc_opf_ldr_budget(demand,var_10,1)\n",
        "evaluate_scenarios(gen_ldr_budget,scen_10)"
      ],
      "metadata": {
        "id": "x4iy8TuMseYj"
      },
      "execution_count": null,
      "outputs": []
    },
    {
      "cell_type": "markdown",
      "source": [
        "# Evaluate LDR dispatch (Gamma=1, var=20)"
      ],
      "metadata": {
        "id": "thI-hwXmsT7l"
      }
    },
    {
      "cell_type": "code",
      "source": [
        "gen_ldr_budget = dc_opf_ldr_budget(demand,var_20,1)\n",
        "evaluate_scenarios(gen_ldr_budget,scen_20)"
      ],
      "metadata": {
        "id": "54QsO6UJsiCX"
      },
      "execution_count": null,
      "outputs": []
    },
    {
      "cell_type": "markdown",
      "source": [
        "# Evaluate LDR dispatch (Gamma=1, var=30)"
      ],
      "metadata": {
        "id": "vBK_LYp5sVkf"
      }
    },
    {
      "cell_type": "code",
      "source": [
        "gen_ldr_budget = dc_opf_ldr_budget(demand,var_30,1)\n",
        "evaluate_scenarios(gen_ldr_budget,scen_30)"
      ],
      "metadata": {
        "id": "fPcW0Ge1slTw"
      },
      "execution_count": null,
      "outputs": []
    },
    {
      "cell_type": "markdown",
      "source": [
        "# Stochastic programming\n",
        "\n",
        "We use the index $w$ for scenarios and $\\pi_w$ for scenario probability. First stage decision are $g_n$ while second stage decisions are $r_{nw}$. The two-stage optimization problem is formulated as follows:\n",
        "\n",
        "$$\n",
        "\\begin{align}\n",
        "\\underset{g_n,r^u_{nw}, r^d_{nw}}{\\min} \\quad &  \\sum_w \\pi_w\\left( \\sum_n c_n g_n + c^u_n r^u_{nw} - c^d_n r^d_{nw}\\right)  \\\\\n",
        "\\text{s.t.} \\quad & \\sum_n g_n+r^u_{nw}-r^d_{nw} = \\sum_n \\hat{d}_n - \\overline{e}_n\\eta_{nw}, \\quad \\forall w \\\\\n",
        "& 0 \\leq g_n + r^u_{nw} - r^d_{nw} \\leq \\overline{g}_n, \\quad \\forall n,w\\\\\n",
        "& -\\overline{f}_l \\leq \\sum_n b_{ln}(g_n +r^u_{nw} - r^d_{nw} -\\hat{d}_n + \\overline{e}_n \\eta_{nw}) \\leq \\overline{f}_l, \\quad \\forall l,w \\\\\n",
        "& r^u_{nw}, r^d_{nw}\\geq 0\n",
        "\\end{align}\n",
        "$$"
      ],
      "metadata": {
        "id": "zekepkXC-x9c"
      }
    },
    {
      "cell_type": "code",
      "source": [
        "def sto(demand,var,nscen):\n",
        "  # generate scenarios\n",
        "  eta = np.zeros((nbus,nscen))\n",
        "  for n in range(nbus):\n",
        "    for s in range(nscen):\n",
        "      eta[n,s] = var[n]*np.random.uniform(-1,1)\n",
        "  # model\n",
        "  m = gp.Model()  \n",
        "  # variables\n",
        "  gen = m.addMVar(nbus)\n",
        "  res_up = m.addMVar((nbus,nscen))\n",
        "  res_do = m.addMVar((nbus,nscen))\n",
        "  # objective function\n",
        "  m.setObjective(cost_bus @ gen + sum(cost_up_bus @ res_up[:,s] for s in range(nscen))/nscen - sum(cost_do_bus @ res_do[:,s] for s in range(nscen))/nscen, GRB.MINIMIZE)\n",
        "  # constraints\n",
        "  m.addConstrs(gen.sum() + res_up[:,s].sum() - res_do[:,s].sum() == demand.sum() - eta[:,s].sum() for s in range(nscen))\n",
        "  m.addConstrs(gen + res_up[:,s] - res_do[:,s] >= 0 for s in range(nscen))\n",
        "  m.addConstrs(gen + res_up[:,s] - res_do[:,s] <= pmax_bus for s in range(nscen))\n",
        "  m.addConstrs(ptdf @ gen + ptdf @ res_up[:,s] - ptdf @ res_do[:,s] >= -cap_line + ptdf @ demand - ptdf @ eta[:,s]  for s in range(nscen))\n",
        "  m.addConstrs(ptdf @ gen + ptdf @ res_up[:,s] - ptdf @ res_do[:,s] <= cap_line + ptdf @ demand - ptdf @ eta[:,s] for s in range(nscen))\n",
        "  # solve\n",
        "  m.setParam('OutputFlag',0)  \n",
        "  m.optimize()\n",
        "  status(m)     \n",
        "  # results\n",
        "  print('dispatch =',gen.X)  \n",
        "  return gen.X"
      ],
      "metadata": {
        "id": "E-Q0vTVCGhDd"
      },
      "execution_count": null,
      "outputs": []
    },
    {
      "cell_type": "markdown",
      "source": [
        "# Evaluate stochastic dispatch with var=10"
      ],
      "metadata": {
        "id": "V3xXxSlUtrEX"
      }
    },
    {
      "cell_type": "code",
      "source": [
        "gen_sto = sto(demand,var_10,100)\n",
        "evaluate_scenarios(gen_sto,scen_10)"
      ],
      "metadata": {
        "colab": {
          "base_uri": "https://localhost:8080/"
        },
        "id": "JDAiL5ojtSjQ",
        "outputId": "cf5f5735-e9cd-4e84-cbeb-61555481491a"
      },
      "execution_count": null,
      "outputs": [
        {
          "output_type": "stream",
          "name": "stdout",
          "text": [
            "Status = optimal\n",
            "dispatch = [150.         145.80915817   3.94554097]\n",
            "minimum cost = 6344.741221540553\n",
            "average cost = 6818.021480238825\n",
            "maximum cost = 7575.370556356244\n"
          ]
        }
      ]
    },
    {
      "cell_type": "markdown",
      "source": [
        "# Evaluate stochastic dispatch with var=20"
      ],
      "metadata": {
        "id": "T4ynLBN7tx2K"
      }
    },
    {
      "cell_type": "code",
      "source": [
        "gen_sto = sto(demand,var_20,100)\n",
        "evaluate_scenarios(gen_sto,scen_20)"
      ],
      "metadata": {
        "colab": {
          "base_uri": "https://localhost:8080/"
        },
        "id": "xRvXIWlut2SP",
        "outputId": "7fafdedd-f774-452d-a1d4-a27fc5244a35"
      },
      "execution_count": null,
      "outputs": [
        {
          "output_type": "stream",
          "name": "stdout",
          "text": [
            "Status = optimal\n",
            "dispatch = [150.         143.87648489   5.52503214]\n",
            "minimum cost = 5865.892123310881\n",
            "average cost = 6864.474441251858\n",
            "maximum cost = 8426.23269217924\n"
          ]
        }
      ]
    },
    {
      "cell_type": "markdown",
      "source": [
        "# Evaluate stochastic dispatch with var=30"
      ],
      "metadata": {
        "id": "0fpZ9qJEtzF9"
      }
    },
    {
      "cell_type": "code",
      "source": [
        "gen_sto = sto(demand,var_30,100)\n",
        "evaluate_scenarios(gen_sto,scen_30)"
      ],
      "metadata": {
        "colab": {
          "base_uri": "https://localhost:8080/"
        },
        "id": "en02MAkut5LW",
        "outputId": "4e91ceff-eeb0-48d5-a910-b63fed7b1e28"
      },
      "execution_count": null,
      "outputs": [
        {
          "output_type": "stream",
          "name": "stdout",
          "text": [
            "Status = optimal\n",
            "dispatch = [150.         144.11270089   9.68333628]\n",
            "minimum cost = 5470.323846457206\n",
            "average cost = 6920.954638364649\n",
            "maximum cost = 9269.528581572671\n"
          ]
        }
      ]
    }
  ]
}