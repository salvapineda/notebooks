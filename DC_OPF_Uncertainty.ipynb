{
  "nbformat": 4,
  "nbformat_minor": 0,
  "metadata": {
    "colab": {
      "name": "DC_OPF_Uncertainty",
      "provenance": [],
      "toc_visible": true,
      "authorship_tag": "ABX9TyN2usoYMnE0TJWZDxMcHgA9",
      "include_colab_link": true
    },
    "kernelspec": {
      "name": "python3",
      "display_name": "Python 3"
    },
    "language_info": {
      "name": "python"
    }
  },
  "cells": [
    {
      "cell_type": "markdown",
      "metadata": {
        "id": "view-in-github",
        "colab_type": "text"
      },
      "source": [
        "<a href=\"https://colab.research.google.com/github/salvapineda/notebooks/blob/main/DC_OPF_Uncertainty.ipynb\" target=\"_parent\"><img src=\"https://colab.research.google.com/assets/colab-badge.svg\" alt=\"Open In Colab\"/></a>"
      ]
    },
    {
      "cell_type": "markdown",
      "source": [
        "# Requirements"
      ],
      "metadata": {
        "id": "OlRNMxqGB7K7"
      }
    },
    {
      "cell_type": "code",
      "source": [
        "!pip install -q gurobipy\n",
        "import gurobipy as gp\n",
        "from gurobipy import GRB\n",
        "import numpy as np\n",
        "import pandas as pd\n",
        "import matplotlib.pyplot as plt\n",
        "import sympy as sp\n",
        "\n",
        "def status(model):\n",
        "  if model.Status==2:\n",
        "    print('Status = optimal')\n",
        "  elif model.Status==3:\n",
        "    print('Status = infeasible')"
      ],
      "metadata": {
        "id": "E5U4mqVrA1p7",
        "colab": {
          "base_uri": "https://localhost:8080/"
        },
        "outputId": "ce9aa1b9-8c1a-4ccf-aec7-116abd461c60"
      },
      "execution_count": null,
      "outputs": [
        {
          "output_type": "stream",
          "name": "stdout",
          "text": [
            "\u001b[K     |████████████████████████████████| 11.5 MB 5.4 MB/s \n",
            "\u001b[?25h"
          ]
        }
      ]
    },
    {
      "cell_type": "markdown",
      "source": [
        "# Data"
      ],
      "metadata": {
        "id": "QYEyOa-8B-D2"
      }
    },
    {
      "cell_type": "code",
      "source": [
        "# generation data\n",
        "gen = pd.DataFrame({        \n",
        "       'unit':      [0,    1,     2], \n",
        "       'bus':       [0,    1,     2],\n",
        "       'cost':      [20,   25,    30], \n",
        "       'cost_up':   [40,   35,    31], \n",
        "       'cost_do':   [0,    15,    29], \n",
        "       'pmin':      [0,    0,     0], \n",
        "       'pmax':      [150,  150,   100]})\n",
        "\n",
        "# line data\n",
        "lin = pd.DataFrame({\n",
        "       'line': [0,   1,   2], \n",
        "       'from': [0,   0,   1],\n",
        "       'to':   [1,   2,   2], \n",
        "       'b':    [10,  10,  10], \n",
        "       'cap':  [1000,  1000, 1000]})\n",
        "\n",
        "# Numbers\n",
        "ngen = len(gen)\n",
        "nbus = max(max(lin['from']),max(lin['to']))+1\n",
        "nlin = len(lin)\n",
        "\n",
        "# cost_bus and pmax_bus vector\n",
        "cost_bus = np.zeros(nbus)\n",
        "cost_up_bus = np.zeros(nbus)\n",
        "cost_do_bus = np.zeros(nbus)\n",
        "pmax_bus = np.zeros(nbus)\n",
        "for g in range(ngen):\n",
        "  cost_bus[gen.loc[g,'bus']]=gen.loc[g,'cost']\n",
        "  cost_up_bus[gen.loc[g,'bus']]=gen.loc[g,'cost_up']\n",
        "  cost_do_bus[gen.loc[g,'bus']]=gen.loc[g,'cost_do']\n",
        "  pmax_bus[gen.loc[g,'bus']]=gen.loc[g,'pmax']\n",
        "\n",
        "# cap_line vector\n",
        "cap_line = np.zeros(nlin)\n",
        "for l in range(nlin):\n",
        "  cap_line[lin.loc[l,'line']] = lin.loc[l,'cap']\n",
        "\n",
        "# Power Transfer Distribution Factors\n",
        "lin_bus = np.zeros((nlin,nbus))\n",
        "for l in range(nlin):\n",
        "  lin_bus[l,lin.loc[l,'from']-1]=1\n",
        "  lin_bus[l,lin.loc[l,'to']-1]=-1    \n",
        "matrixX_inv = np.diag(1/lin['b'])\n",
        "matrixA = np.delete(np.array(lin_bus),0,axis=1)\n",
        "matrixB = np.linalg.multi_dot([matrixA.T,matrixX_inv,matrixA]) \n",
        "ptdf = np.linalg.multi_dot([matrixX_inv,matrixA,np.linalg.inv(matrixB)])\n",
        "ptdf = np.round(np.insert(ptdf,0,np.zeros((nlin)),axis=1),5)\n",
        "print(ptdf)\n",
        "\n",
        "# postive/negative ptdf\n",
        "pos_neg = np.zeros((nlin,nbus))\n",
        "for l in range(nlin):\n",
        "  for b in range(nbus):\n",
        "    if ptdf[l,b] > 0:\n",
        "      pos_neg[l,b]=1\n",
        "    elif ptdf[l,b] < 0:\n",
        "      pos_neg[l,b]=-1\n",
        "\n",
        "# scenario generation\n",
        "nscen = 1000\n",
        "demand = np.array([100,100,100])\n",
        "var_10 = np.array([10,10,10])\n",
        "var_20 = np.array([20,20,20])\n",
        "var_25 = np.array([25,25,25])\n",
        "var_30 = np.array([30,30,30])\n",
        "scen_10 = 100 + 10*np.random.uniform(-1,1,size=(nscen,nbus))\n",
        "scen_20 = 100 + 20*np.random.uniform(-1,1,size=(nscen,nbus))\n",
        "scen_25 = 100 + 25*np.random.uniform(-1,1,size=(nscen,nbus))\n",
        "scen_30 = 100 + 30*np.random.uniform(-1,1,size=(nscen,nbus))"
      ],
      "metadata": {
        "id": "TpLG9UTmBKNk",
        "colab": {
          "base_uri": "https://localhost:8080/"
        },
        "outputId": "0a527944-ca1c-4b64-e978-08ee84286b83"
      },
      "execution_count": null,
      "outputs": [
        {
          "output_type": "stream",
          "name": "stdout",
          "text": [
            "[[ 0.       0.33333  0.66667]\n",
            " [ 0.      -0.33333  0.33333]\n",
            " [ 0.      -0.66667 -0.33333]]\n"
          ]
        }
      ]
    },
    {
      "cell_type": "markdown",
      "source": [
        "# Deterministic DC-OPF\n",
        "\n",
        "$$\n",
        "\\begin{align}\n",
        "\\underset{g_n}{\\min} \\quad & \\sum_n c_n g_n \\\\\n",
        "\\text{s.t.} \\quad & \\sum_n g_n = \\sum_n \\hat{d}_n\\\\\n",
        "& 0 \\leq g_n \\leq \\overline{g}_n, \\quad \\forall n\\\\\n",
        "& -\\overline{f}_l \\leq \\sum_n b_{ln}(g_n-\\hat{d}_n) \\leq \\overline{f}_l, \\quad \\forall l\n",
        "\\end{align}\n",
        "$$"
      ],
      "metadata": {
        "id": "2GUQx35ADwff"
      }
    },
    {
      "cell_type": "code",
      "source": [
        "def dc_opf_det(demand):\n",
        "  # model\n",
        "  m = gp.Model() \n",
        "  # variables\n",
        "  gen = m.addMVar(nbus,name='gen')\n",
        "  # objective function\n",
        "  m.setObjective(cost_bus @ gen, GRB.MINIMIZE)\n",
        "  # constraints\n",
        "  m.addConstr( gen.sum() == demand.sum())\n",
        "  m.addConstr(gen <= pmax_bus)\n",
        "  m.addConstr(ptdf @ gen >= -cap_line + ptdf @ demand)\n",
        "  m.addConstr(ptdf @ gen <= cap_line + ptdf @ demand)\n",
        "  # solve\n",
        "  m.write('det.lp')\n",
        "  m.setParam('OutputFlag',0)\n",
        "  m.optimize()\n",
        "  status(m)\n",
        "  # results\n",
        "  print('cost =',m.ObjVal)\n",
        "  print('dispatch =',gen.X)\n",
        "  return gen.X\n",
        "gen_det = dc_opf_det(demand)"
      ],
      "metadata": {
        "id": "skpIa6RLDBYa",
        "colab": {
          "base_uri": "https://localhost:8080/"
        },
        "outputId": "cf05be1b-b415-48ff-c9f2-974408cf8f4b"
      },
      "execution_count": null,
      "outputs": [
        {
          "output_type": "stream",
          "name": "stdout",
          "text": [
            "Restricted license - for non-production use only - expires 2023-10-25\n",
            "Status = optimal\n",
            "cost = 6750.0\n",
            "dispatch = [150. 150.   0.]\n"
          ]
        }
      ]
    },
    {
      "cell_type": "markdown",
      "source": [
        "# Real time operation\n",
        "\n",
        "$$\n",
        "\\begin{align}\n",
        "\\underset{r^u_n,r^d_n}{\\min} \\quad & \\sum_n c_n g^*_n + c^u_n r^u_n - c^d_n r^d_n \\\\\n",
        "\\text{s.t.} \\quad & \\sum_n g^*_n+r^u_n-r^d_n = \\sum_n \\tilde{d}_n\\\\\n",
        "& 0 \\leq g^*_n + r^u_n-r^d_n \\leq \\overline{g}_n, \\quad \\forall n\\\\\n",
        "& -\\overline{f}_l \\leq \\sum_n b_{ln}(g^*_n + r^u_n-r^d_n -\\tilde{d}_n) \\leq \\overline{f}_l, \\quad \\forall l \\\\\n",
        "& r^u_n, r^d_n\\geq 0\n",
        "\\end{align}\n",
        "$$"
      ],
      "metadata": {
        "id": "byZ8ibYpE5w0"
      }
    },
    {
      "cell_type": "code",
      "source": [
        "def real_time(demand,dispatch):\n",
        "  #print('Solving real_time for demand=',demand)\n",
        "  # model\n",
        "  m = gp.Model()\n",
        "  # variables\n",
        "  #res = m.addMVar(nbus,lb=-GRB.INFINITY)\n",
        "  res_up = m.addMVar(nbus)\n",
        "  res_do = m.addMVar(nbus)\n",
        "  # objective function\n",
        "  m.setObjective(cost_bus @ dispatch + cost_up_bus @ res_up - cost_do_bus @ res_do, GRB.MINIMIZE)\n",
        "  # constraints\n",
        "  m.addConstr(dispatch.sum() + res_up.sum() - res_do.sum() == demand.sum())\n",
        "  m.addConstr(dispatch + res_up - res_do >= 0)\n",
        "  m.addConstr(dispatch + res_up - res_do <= pmax_bus)\n",
        "  m.addConstr(ptdf @ dispatch + ptdf @ res_up - ptdf @ res_do >= -cap_line + ptdf @ demand)\n",
        "  m.addConstr(ptdf @ dispatch + ptdf @ res_up - ptdf @ res_do <= cap_line + ptdf @ demand)\n",
        "  #m.addConstr(res >= -res_do)\n",
        "  #m.addConstr(res <= res_up)\n",
        "  # solve\n",
        "  m.setParam('OutputFlag',0)\n",
        "  m.optimize()\n",
        "  # status(m)\n",
        "  # results\n",
        "  #print('reserves =',res.X)\n",
        "  #print('reserves_up =',res_up.X)\n",
        "  #print('reserves_do =',res_do.X)\n",
        "  return m.ObjVal"
      ],
      "metadata": {
        "id": "qDyWpllKOt7S"
      },
      "execution_count": null,
      "outputs": []
    },
    {
      "cell_type": "code",
      "source": [
        "def evaluate_scenarios(dispatch,scen):\n",
        "  v_cost = []\n",
        "  for s in range(nscen):\n",
        "    obj = real_time(scen[s,:],dispatch)\n",
        "    v_cost.append(obj)    \n",
        "  print('minimum cost =',np.min(v_cost))\n",
        "  print('average cost =',np.mean(v_cost))\n",
        "  print('maximum cost =',np.max(v_cost))\n",
        "  #plt.figure(facecolor='white')\n",
        "  #plt.hist(v_cost, 10, facecolor='blue', alpha=0.5)\n",
        "  #plt.show()  "
      ],
      "metadata": {
        "id": "cqMIIZEIlFo3"
      },
      "execution_count": null,
      "outputs": []
    },
    {
      "cell_type": "markdown",
      "source": [
        "# Evaluate deterministic dispatch for var = 10"
      ],
      "metadata": {
        "id": "bZS20sIuibZn"
      }
    },
    {
      "cell_type": "code",
      "source": [
        "evaluate_scenarios(gen_det,scen_10)"
      ],
      "metadata": {
        "colab": {
          "base_uri": "https://localhost:8080/"
        },
        "id": "KZgnMJ_WiWaj",
        "outputId": "7d054f7b-152c-43e0-ddca-23007e3f1d76"
      },
      "execution_count": null,
      "outputs": [
        {
          "output_type": "stream",
          "name": "stdout",
          "text": [
            "minimum cost = 6346.101059392516\n",
            "average cost = 6816.991941136481\n",
            "maximum cost = 7549.831293001304\n"
          ]
        }
      ]
    },
    {
      "cell_type": "markdown",
      "source": [
        "# Evaluate deterministic dispatch for var = 20"
      ],
      "metadata": {
        "id": "qCu5vOlFiqR2"
      }
    },
    {
      "cell_type": "code",
      "source": [
        "evaluate_scenarios(gen_det,scen_20)"
      ],
      "metadata": {
        "colab": {
          "base_uri": "https://localhost:8080/"
        },
        "id": "B-SOvZZ1iuAf",
        "outputId": "ba2e90a9-95f4-4220-9f21-c1111e8147b7"
      },
      "execution_count": null,
      "outputs": [
        {
          "output_type": "stream",
          "name": "stdout",
          "text": [
            "minimum cost = 5909.310625755441\n",
            "average cost = 6878.973124238978\n",
            "maximum cost = 8365.102961346032\n"
          ]
        }
      ]
    },
    {
      "cell_type": "markdown",
      "source": [
        "# Evaluate deterministic dispatch for var = 30"
      ],
      "metadata": {
        "id": "tW2SLur9i2-8"
      }
    },
    {
      "cell_type": "code",
      "source": [
        "evaluate_scenarios(gen_det,scen_30)"
      ],
      "metadata": {
        "colab": {
          "base_uri": "https://localhost:8080/"
        },
        "id": "BjPEn1Qyi-a6",
        "outputId": "825277a6-95d4-478c-ba1f-76b8caa651fc"
      },
      "execution_count": null,
      "outputs": [
        {
          "output_type": "stream",
          "name": "stdout",
          "text": [
            "minimum cost = 5581.555980629674\n",
            "average cost = 6918.274320516633\n",
            "maximum cost = 9428.41140669462\n"
          ]
        }
      ]
    },
    {
      "cell_type": "markdown",
      "source": [
        "# Robust (no recourse)\n",
        "\n",
        "$d_n = \\hat{d}_n - \\overline{e}_n \\eta_n$ with $\\eta_n \\in [-1,1]$\n",
        "\n",
        "$$\n",
        "\\begin{align}\n",
        "\\underset{g_n}{\\min} \\quad & \\sum_n c_n g_n  \\\\\n",
        "\\text{s.t.} \\quad & \\sum_n g_n \\geq \\underset{\\eta_n\\in[-1,1]}{\\max} \\sum_n \\hat{d}_n - \\overline{e}_n \\eta_n \\\\\n",
        "& 0 \\leq g_n \\leq \\overline{g}_n, \\quad \\forall n\\\\\n",
        "& -\\overline{f}_l \\leq \\underset{\\eta_n\\in[-1,1]}{\\min} \\sum_n b_{ln}(g_n -\\hat{d}_n + \\overline{e}_n \\eta_n), \\quad \\forall l \\\\\n",
        "&  \\underset{\\eta_n\\in[-1,1]}{\\max} \\sum_n b_{ln}(g_n -\\hat{d}_n + \\overline{e}_n \\eta_n) \\leq \\overline{f}_l, \\quad \\forall l \n",
        "\\end{align}\n",
        "$$"
      ],
      "metadata": {
        "id": "ps9jIe5uSVfX"
      }
    },
    {
      "cell_type": "markdown",
      "source": [
        "Reformulation \n",
        "\n",
        "$$\n",
        "\\begin{align}\n",
        "\\underset{g_n}{\\min} \\quad & \\sum_n c_n g_n  \\\\\n",
        "\\text{s.t.} \\quad & \\sum_n g_n \\geq \\sum_n \\hat{d}_n + \\overline{e}_n \\\\\n",
        "& 0 \\leq g_n \\leq \\overline{g}_n, \\quad \\forall n\\\\\n",
        "& -\\overline{f}_l \\leq \\sum_{n\\in\\mathcal{N}^+_l} b_{ln}(g_n -\\hat{d}_n - \\overline{e}_n) + \\sum_{n\\in\\mathcal{N}^-_l} b_{ln}(g_n -\\hat{d}_n + \\overline{e}_n) , \\quad \\forall l \\\\\n",
        "& \\sum_{n\\in\\mathcal{N}^+_l} b_{ln}(g_n -\\hat{d}_n + \\overline{e}_n) + \\sum_{n\\in\\mathcal{N}^-_l} b_{ln}(g_n -\\hat{d}_n - \\overline{e}_n) \\leq \\overline{f}_l, \\quad \\forall l \\\\\n",
        "\\end{align}\n",
        "$$\n",
        "\n",
        "where $\\mathcal{N}^+_l$ set of nodes such that $b_{ln}>0$ and $\\mathcal{N}^-_l$ set of nodes such that $b_{ln}\\lt 0$ "
      ],
      "metadata": {
        "id": "C5Xe8fQ6zLTU"
      }
    },
    {
      "cell_type": "code",
      "source": [
        "def dc_opf_robust(demand,var):\n",
        "  # model\n",
        "  m = gp.Model()  \n",
        "  # variables\n",
        "  gen = m.addMVar(nbus,name='gen')\n",
        "  # objective function\n",
        "  m.setObjective(cost_bus @ gen, GRB.MINIMIZE)\n",
        "  # constraints\n",
        "  m.addConstr(gen.sum() >= demand.sum() + var.sum())\n",
        "  m.addConstr(gen <= pmax_bus)\n",
        "  m.addConstr(ptdf @ gen >= -cap_line + ptdf @ demand + np.multiply(ptdf,pos_neg) @ var)\n",
        "  m.addConstr(ptdf @ gen <= cap_line + ptdf @ demand - np.multiply(ptdf,pos_neg) @ var)\n",
        "  # solve\n",
        "  m.setParam('OutputFlag',0)\n",
        "  m.write('robust.lp')\n",
        "  m.optimize()\n",
        "  status(m)\n",
        "  # results\n",
        "  print('dispatch =',gen.X)\n",
        "  return gen.X"
      ],
      "metadata": {
        "id": "PujGQLSGi6Mh"
      },
      "execution_count": null,
      "outputs": []
    },
    {
      "cell_type": "markdown",
      "source": [
        "# Evaluate robust dispatch for var = 10"
      ],
      "metadata": {
        "id": "EHBMjlX1jNkH"
      }
    },
    {
      "cell_type": "code",
      "source": [
        "gen_robust = dc_opf_robust(demand,var_10)\n",
        "evaluate_scenarios(gen_robust,scen_10)"
      ],
      "metadata": {
        "colab": {
          "base_uri": "https://localhost:8080/"
        },
        "id": "YZ2O0WIajJw6",
        "outputId": "388d82de-67b1-4e84-df40-0787366b6a02"
      },
      "execution_count": null,
      "outputs": [
        {
          "output_type": "stream",
          "name": "stdout",
          "text": [
            "Status = optimal\n",
            "dispatch = [150. 150.  30.]\n",
            "minimum cost = 6376.101059392516\n",
            "average cost = 6838.923749735805\n",
            "maximum cost = 7528.229274097995\n"
          ]
        }
      ]
    },
    {
      "cell_type": "markdown",
      "source": [
        "# Evaluate robust dispatch for var = 20"
      ],
      "metadata": {
        "id": "hfYGOtN3jVqN"
      }
    },
    {
      "cell_type": "code",
      "source": [
        "gen_robust = dc_opf_robust(demand,var_20)\n",
        "evaluate_scenarios(gen_robust,scen_20)"
      ],
      "metadata": {
        "colab": {
          "base_uri": "https://localhost:8080/"
        },
        "id": "LSxJghRZjZov",
        "outputId": "c171b9be-e67c-4b03-ca84-25f9f46f14bc"
      },
      "execution_count": null,
      "outputs": [
        {
          "output_type": "stream",
          "name": "stdout",
          "text": [
            "Status = optimal\n",
            "dispatch = [150. 150.  60.]\n",
            "minimum cost = 5969.310625755441\n",
            "average cost = 6922.871466452119\n",
            "maximum cost = 8320.90277029145\n"
          ]
        }
      ]
    },
    {
      "cell_type": "markdown",
      "source": [
        "# Evaluate robust dispatch for var = 30"
      ],
      "metadata": {
        "id": "Us4zX08CjW05"
      }
    },
    {
      "cell_type": "code",
      "source": [
        "gen_robust = dc_opf_robust(demand,var_30)\n",
        "evaluate_scenarios(gen_robust,scen_30)"
      ],
      "metadata": {
        "id": "N56xyaMFja5c",
        "colab": {
          "base_uri": "https://localhost:8080/"
        },
        "outputId": "1b3319bc-a129-4cd8-d297-0102ecdd6c4d"
      },
      "execution_count": null,
      "outputs": [
        {
          "output_type": "stream",
          "name": "stdout",
          "text": [
            "Status = optimal\n",
            "dispatch = [150. 150.  90.]\n",
            "minimum cost = 5671.555980629674\n",
            "average cost = 6985.036860474021\n",
            "maximum cost = 9345.610670778839\n"
          ]
        }
      ]
    },
    {
      "cell_type": "markdown",
      "source": [
        "If we consider a budget $\\Gamma$ we have to use the duals\n",
        "\n",
        "$$\n",
        "\\begin{align}\n",
        "\\underset{\\eta^+_n,\\eta^-_n}{\\max} \\quad & -\\sum_n \\overline{e}_n (\\eta^+_n-\\eta^-_n)  \\\\\n",
        "\\text{s.t.} \\quad & \\sum_n \\eta^+_n+\\eta^-_n \\leq \\Gamma: \\alpha \\\\\n",
        "& \\eta^+_n \\leq 1: \\beta^+_n, \\quad \\forall n\\\\\n",
        "& \\eta^-_n \\leq 1: \\beta^-_n, \\quad \\forall n \\\\\n",
        "& \\eta^+_n,\\eta^-_n\\geq 0 \n",
        "\\end{align}\n",
        "$$\n",
        "\n",
        "The dual is\n",
        "\n",
        "$$\n",
        "\\begin{align}\n",
        "\\underset{\\alpha, \\beta^+_n,\\beta^-_n}{\\min} \\quad & \\alpha\\Gamma + \\sum_n  \\beta^+_n+\\beta^-_n  \\\\\n",
        "\\text{s.t.} \\quad & \\overline{e}_n + \\alpha + \\beta^+_n \\geq 0, \\quad \\forall n \\\\\n",
        "& -\\overline{e}_n + \\alpha + \\beta^-_n \\geq 0, \\quad \\forall n \\\\\n",
        "& \\alpha, \\beta^+_n,\\beta^-_n\\geq 0\n",
        "\\end{align}\n",
        "$$"
      ],
      "metadata": {
        "id": "c6GCsl2azSLq"
      }
    },
    {
      "cell_type": "markdown",
      "source": [
        "With the other constraint\n",
        "\n",
        "$$\n",
        "\\begin{align}\n",
        "\\underset{\\eta^+_n,\\eta^-_n}{\\min} \\quad & \\sum_n b_{ln}\\overline{e}_n (\\eta^+_n-\\eta^-_n)  \\\\\n",
        "\\text{s.t.} \\quad & \\sum_n \\eta^+_n+\\eta^-_n \\leq \\Gamma: \\gamma_l \\\\\n",
        "& \\eta^+_n \\leq 1: \\delta^+_{ln}, \\quad \\forall n\\\\\n",
        "& \\eta^-_n \\leq 1: \\delta^-_{ln}, \\quad \\forall n \\\\\n",
        "& \\eta^+_n,\\eta^-_n\\geq 0\n",
        "\\end{align}\n",
        "$$\n",
        "\n",
        "The dual is\n",
        "\n",
        "$$\n",
        "\\begin{align}\n",
        "\\underset{\\gamma_l, \\delta^+_{ln},\\delta^-_{ln}}{\\max} \\quad & -\\gamma_l\\Gamma - \\sum_n  \\delta^+_{ln}+\\delta^-_{ln}  \\\\\n",
        "\\text{s.t.} \\quad & b_{ln}\\overline{e}_n + \\gamma_l + \\delta^+_{ln} \\geq 0, \\quad \\forall n \\\\\n",
        "& -b_{ln}\\overline{e}_n + \\gamma_l + \\delta^-_{ln} \\geq 0, \\quad \\forall n \\\\\n",
        "& \\gamma_l, \\delta^+_{ln},\\delta^-_{ln}\\geq 0\n",
        "\\end{align}\n",
        "$$"
      ],
      "metadata": {
        "id": "e97EJCejzVz1"
      }
    },
    {
      "cell_type": "markdown",
      "source": [
        "Last constraint\n",
        "\n",
        "$$\n",
        "\\begin{align}\n",
        "\\underset{\\eta^+_n,\\eta^-_n}{\\max} \\quad & \\sum_n b_{ln}\\overline{e}_n (\\eta^+_n-\\eta^-_n)  \\\\\n",
        "\\text{s.t.} \\quad & \\sum_n \\eta^+_n+\\eta^-_n \\leq \\Gamma: \\epsilon_l \\\\\n",
        "& \\eta^+_n \\leq 1: \\zeta^+_{ln}, \\quad \\forall n\\\\\n",
        "& \\eta^-_n \\leq 1: \\zeta^-_{ln}, \\quad \\forall n\\\\\n",
        "& \\eta^+_n,\\eta^-_n\\geq 0\n",
        "\\end{align}\n",
        "$$\n",
        "\n",
        "The dual is\n",
        "\n",
        "$$\n",
        "\\begin{align}\n",
        "\\underset{\\epsilon_l, \\zeta^+_{ln},\\zeta^-_{ln}}{\\min} \\quad & \\epsilon_l\\Gamma + \\sum_n  \\zeta^+_{ln}+\\zeta^-_{ln}  \\\\\n",
        "\\text{s.t.} \\quad & -b_{ln}\\overline{e}_n + \\epsilon_l + \\zeta^+_{ln} \\geq 0, \\quad \\forall n \\\\\n",
        "& b_{ln}\\overline{e}_n + \\epsilon_l + \\zeta^-_{ln} \\geq 0, \\quad \\forall n \\\\\n",
        "& \\epsilon_l, \\zeta^+_{ln},\\zeta^-_{ln}\\geq 0\n",
        "\\end{align}\n",
        "$$"
      ],
      "metadata": {
        "id": "Xdp8P_Q7zZfc"
      }
    },
    {
      "cell_type": "markdown",
      "source": [
        "We replace everything and obtain\n",
        "\n",
        "$$\n",
        "\\begin{align}\n",
        "\\underset{g_n,\\alpha,\\beta^+_n,\\beta^-_n,\\gamma_l,\\delta^+_{ln},\\delta^-_{ln},\\epsilon_l,\\zeta^+_{ln},\\zeta^-_{ln}}{\\min} \\quad & \\sum_n c_n g_n  \\\\\n",
        "\\text{s.t.} \\quad & 0 \\leq g_n \\leq \\overline{g}_n, \\quad \\forall n\\\\\n",
        "& \\sum_n g_n \\geq \\alpha\\Gamma + \\sum_n  \\hat{d}_n + \\beta^+_n+\\beta^-_n \\\\\n",
        "& -\\overline{f}_l \\leq -\\gamma_l\\Gamma - \\sum_n \\delta^+_{ln}+\\delta^-_{ln} - b_{ln}(g_n-\\hat{d}_n), \\quad \\forall l \\\\\n",
        "&  \\epsilon_l\\Gamma + \\sum_n  \\zeta^+_{ln}+\\zeta^-_{ln}+b_{ln}(g_n-\\hat{d}_n) \\leq \\overline{f}_l, \\quad \\forall l \\\\\n",
        "& \\overline{e}_n + \\alpha + \\beta^+_n \\geq 0, \\quad \\forall n \\\\\n",
        "& -\\overline{e}_n + \\alpha + \\beta^-_n \\geq 0, \\quad \\forall n \\\\\n",
        "& b_{ln}\\overline{e}_n + \\gamma_l + \\delta^+_{ln} \\geq 0, \\quad \\forall l,n \\\\\n",
        "& -b_{ln}\\overline{e}_n + \\gamma_l + \\delta^-_{ln} \\geq 0, \\quad \\forall l,n \\\\\n",
        "& -b_{ln}\\overline{e}_n + \\epsilon_l + \\zeta^+_{ln} \\geq 0, \\quad \\forall l,n \\\\\n",
        "& b_{ln}\\overline{e}_n + \\epsilon_l + \\zeta^-_{ln} \\geq 0, \\quad \\forall l,n \\\\\n",
        "& \\alpha,\\beta^+_n,\\beta^-_n,\\gamma_l,\\delta^+_{ln},\\delta^-_{ln},\\epsilon_l,\\zeta^+_{ln},\\zeta^-_{ln} \\geq 0\n",
        "\\end{align}\n",
        "$$"
      ],
      "metadata": {
        "id": "8gujqjY8zebq"
      }
    },
    {
      "cell_type": "code",
      "source": [
        "def dc_opf_robust_budget(demand,var,budget):\n",
        "  # model\n",
        "  m = gp.Model()  \n",
        "  # variables\n",
        "  gen = m.addMVar(nbus)\n",
        "  alpha = m.addVar()\n",
        "  beta_up = m.addMVar(nbus)\n",
        "  beta_do = m.addMVar(nbus)\n",
        "  gamma = m.addMVar(nlin)\n",
        "  delta_up = m.addMVar((nlin,nbus))\n",
        "  delta_do = m.addMVar((nlin,nbus))\n",
        "  epsilon = m.addMVar(nlin)\n",
        "  zeta_up = m.addMVar((nlin,nbus))\n",
        "  zeta_do = m.addMVar((nlin,nbus))\n",
        "  # objective function\n",
        "  m.setObjective(cost_bus @ gen, GRB.MINIMIZE)\n",
        "  # constraints\n",
        "  m.addConstr(gen <= pmax_bus)\n",
        "  m.addConstr(gen.sum() >= alpha*budget + demand.sum() + beta_up.sum() + beta_do.sum() )  \n",
        "  m.addConstrs(-cap_line[l] <= - budget*gamma[l] - delta_up[l,:].sum() - delta_do[l,:].sum() + ptdf[l,:] @ gen - ptdf[l,:] @ demand for l in range(nlin))\n",
        "  m.addConstrs(budget*epsilon[l] + zeta_up[l,:].sum() + zeta_do[l,:].sum() + ptdf[l,:] @ gen - ptdf[l,:] @ demand <= cap_line[l] for l in range(nlin))\n",
        "  m.addConstrs(var[n] + alpha + beta_up[n] >= 0 for n in range(nbus))\n",
        "  m.addConstrs(-var[n] + alpha + beta_do[n] >= 0 for n in range(nbus))\n",
        "  m.addConstrs(var[b]*ptdf[:,b] + gamma + delta_up[:,b] >= 0 for b in range(nbus))\n",
        "  m.addConstrs(-var[b]*ptdf[:,b] + gamma + delta_do[:,b] >= 0 for b in range(nbus))\n",
        "  m.addConstrs(-var[b]*ptdf[:,b] + epsilon + zeta_up[:,b] >= 0 for b in range(nbus))\n",
        "  m.addConstrs(var[b]*ptdf[:,b] + epsilon + zeta_do[:,b] >= 0 for b in range(nbus))\n",
        "  # solve\n",
        "  m.setParam('OutputFlag',0)\n",
        "  m.write('robust_ldr.lp')\n",
        "  m.optimize()\n",
        "  status(m)\n",
        "  # results\n",
        "  print('dispatch =',gen.X)\n",
        "  return gen.X"
      ],
      "metadata": {
        "id": "Go2pOVETkkwJ"
      },
      "execution_count": null,
      "outputs": []
    },
    {
      "cell_type": "markdown",
      "source": [
        "# Evaluate robust dispatch (Gamma=2, var=10)"
      ],
      "metadata": {
        "id": "zvqzu2clkNC_"
      }
    },
    {
      "cell_type": "code",
      "source": [
        "gen_robust = dc_opf_robust_budget(demand,var_10,2)\n",
        "evaluate_scenarios(gen_robust,scen_10)"
      ],
      "metadata": {
        "colab": {
          "base_uri": "https://localhost:8080/"
        },
        "id": "Wlmu3E9AkZXd",
        "outputId": "c5778bd2-4eee-4a78-dcde-8a27333e0859"
      },
      "execution_count": null,
      "outputs": [
        {
          "output_type": "stream",
          "name": "stdout",
          "text": [
            "Status = optimal\n",
            "dispatch = [150. 150.  20.]\n",
            "minimum cost = 6366.101059392516\n",
            "average cost = 6829.007618822459\n",
            "maximum cost = 7529.831293001304\n"
          ]
        }
      ]
    },
    {
      "cell_type": "markdown",
      "source": [
        "# Evaluate robust dispatch (Gamma=2, var=20)"
      ],
      "metadata": {
        "id": "S-tIQHSzk8ST"
      }
    },
    {
      "cell_type": "code",
      "source": [
        "gen_robust = dc_opf_robust_budget(demand,var_20,2)\n",
        "evaluate_scenarios(gen_robust,scen_20)"
      ],
      "metadata": {
        "colab": {
          "base_uri": "https://localhost:8080/"
        },
        "outputId": "d34c1748-fd3e-477b-9c6b-9ec49bbc4efe",
        "id": "_s-hk3zqk8ST"
      },
      "execution_count": null,
      "outputs": [
        {
          "output_type": "stream",
          "name": "stdout",
          "text": [
            "Status = optimal\n",
            "dispatch = [150. 150.  40.]\n",
            "minimum cost = 5949.310625755441\n",
            "average cost = 6902.999470312525\n",
            "maximum cost = 8325.102961346032\n"
          ]
        }
      ]
    },
    {
      "cell_type": "markdown",
      "source": [
        "# Evaluate robust dispatch (Gamma=2, var=30)"
      ],
      "metadata": {
        "id": "O7W_ob4MlBNj"
      }
    },
    {
      "cell_type": "code",
      "source": [
        "gen_robust = dc_opf_robust_budget(demand,var_30,2)\n",
        "evaluate_scenarios(gen_robust,scen_30)"
      ],
      "metadata": {
        "colab": {
          "base_uri": "https://localhost:8080/"
        },
        "outputId": "b7c9a4e5-a1ad-4fd8-f977-8f3acaeb9d82",
        "id": "2bMHtVcHlBNj"
      },
      "execution_count": null,
      "outputs": [
        {
          "output_type": "stream",
          "name": "stdout",
          "text": [
            "Status = optimal\n",
            "dispatch = [150. 150.  60.]\n",
            "minimum cost = 5641.555980629674\n",
            "average cost = 6955.45867031723\n",
            "maximum cost = 9368.41140669462\n"
          ]
        }
      ]
    },
    {
      "cell_type": "markdown",
      "source": [
        "# Evaluate robust dispatch (Gamma=1, var=10)"
      ],
      "metadata": {
        "id": "TDUSQcS0lJrv"
      }
    },
    {
      "cell_type": "code",
      "source": [
        "gen_robust = dc_opf_robust_budget(demand,var_10,1)\n",
        "evaluate_scenarios(gen_robust,scen_10)"
      ],
      "metadata": {
        "colab": {
          "base_uri": "https://localhost:8080/"
        },
        "outputId": "77307cca-affc-4a2c-c138-19c9c86e08ca",
        "id": "GqeKG1O-lJrw"
      },
      "execution_count": null,
      "outputs": [
        {
          "output_type": "stream",
          "name": "stdout",
          "text": [
            "Status = optimal\n",
            "dispatch = [150. 150.  10.]\n",
            "minimum cost = 6356.101059392516\n",
            "average cost = 6820.505445603936\n",
            "maximum cost = 7539.831293001304\n"
          ]
        }
      ]
    },
    {
      "cell_type": "markdown",
      "source": [
        "# Evaluate robust dispatch (Gamma=1, var=20)"
      ],
      "metadata": {
        "id": "KrgkOgV9l7kN"
      }
    },
    {
      "cell_type": "code",
      "source": [
        "gen_robust = dc_opf_robust_budget(demand,var_20,1)\n",
        "evaluate_scenarios(gen_robust,scen_20)"
      ],
      "metadata": {
        "colab": {
          "base_uri": "https://localhost:8080/"
        },
        "outputId": "366c3a8e-a4e3-443c-bfb9-5dd2a1bb75cf",
        "id": "2JcOa33vl7kT"
      },
      "execution_count": null,
      "outputs": [
        {
          "output_type": "stream",
          "name": "stdout",
          "text": [
            "Status = optimal\n",
            "dispatch = [150. 150.  20.]\n",
            "minimum cost = 5929.310625755441\n",
            "average cost = 6885.824803227333\n",
            "maximum cost = 8345.102961346032\n"
          ]
        }
      ]
    },
    {
      "cell_type": "markdown",
      "source": [
        "# Evaluate robust dispatch (Gamma=1, var=30)"
      ],
      "metadata": {
        "id": "zy2PxWpsl9iL"
      }
    },
    {
      "cell_type": "code",
      "source": [
        "gen_robust = dc_opf_robust_budget(demand,var_30,1)\n",
        "evaluate_scenarios(gen_robust,scen_30)"
      ],
      "metadata": {
        "colab": {
          "base_uri": "https://localhost:8080/"
        },
        "outputId": "6c05c83d-0a84-4c65-b08b-4b3c9a3bfba8",
        "id": "CR416Hyyl9iL"
      },
      "execution_count": null,
      "outputs": [
        {
          "output_type": "stream",
          "name": "stdout",
          "text": [
            "Status = optimal\n",
            "dispatch = [150. 150.  30.]\n",
            "minimum cost = 5611.555980629674\n",
            "average cost = 6929.819715724915\n",
            "maximum cost = 9398.41140669462\n"
          ]
        }
      ]
    },
    {
      "cell_type": "markdown",
      "source": [
        "# Linear decision rules\n",
        "\n",
        "We define $\\Omega = \\sum_n \\overline{e}_n\\eta_n$, $\\underline{\\Omega}=-\\sum_n\\overline{e}_n$, and $\\overline{\\Omega}=\\sum_n\\overline{e}_n$. We use a linear decision rule so that the output of each unit is determined by $g_n-\\beta_n\\Omega$. We first minimize the expected cost\n",
        "\n",
        "$$\n",
        "\\begin{align}\n",
        "\\underset{g_n,\\beta_n}{\\min} \\quad & \\mathbb{E} \\left[ \\sum_n c_n g_n + c^u_n\\max(0,-\\beta_n \\Omega) -c^d_n \\max(0,\\beta_n\\Omega) \\right] \\\\\n",
        "\\text{s.t.} \\quad & \\sum_n g_n-\\beta_n\\Omega = \\sum_n \\hat{d}_n - \\overline{e}_n\\eta_n \\\\\n",
        "& 0 \\leq g_n - \\beta_n\\Omega \\leq \\overline{g}_n, \\quad \\forall n\\\\\n",
        "& -\\overline{f}_l \\leq \\underset{\\eta_n\\in[-1,1]}{\\min} \\sum_n b_{ln}(g_n - \\beta_n\\Omega -\\hat{d}_n + \\overline{e}_n \\eta_n), \\quad \\forall l \\\\\n",
        "&  \\underset{\\eta_n\\in[-1,1]}{\\max} \\sum_n b_{ln}(g_n - \\beta_n\\Omega -\\hat{d}_n + \\overline{e}_n \\eta_n) \\leq \\overline{f}_l, \\quad \\forall l \\\\\n",
        "& \\beta_n \\geq 0\n",
        "\\end{align}\n",
        "$$"
      ],
      "metadata": {
        "id": "ZnVIEigIicOa"
      }
    },
    {
      "cell_type": "markdown",
      "source": [
        "We can reformulate as \n",
        "\n",
        "$$\n",
        "\\begin{align}\n",
        "\\underset{g_n,\\beta_n}{\\min} \\quad &  \\mathbb{E} \\left[ \\sum_n c_n g_n + c^u_n\\max(0,-\\beta_n \\Omega) -c^d_n \\max(0,\\beta_n\\Omega) \\right] \\\\\\\n",
        "\\text{s.t.} \\quad & \\sum_n g_n = \\sum_n \\hat{d}_n \\\\\n",
        "& \\sum_n \\beta_n = 1 \\\\\n",
        "& 0 \\leq g_n - \\underset{\\Omega\\in[\\underline{\\Omega},\\overline{\\Omega}]}{\\max}\\beta_n\\Omega, \\quad \\forall n\\\\\n",
        "& g_n - \\underset{\\Omega\\in[\\underline{\\Omega},\\overline{\\Omega}]}{\\min}\\beta_n\\Omega \\leq \\overline{g}_n, \\quad \\forall n\\\\\n",
        "& -\\overline{f}_l \\leq \\underset{\\eta_n\\in[-1,1]}{\\min} \\sum_n b_{ln}(g_n - \\beta_n\\Omega -\\hat{d}_n + \\overline{e}_n \\eta_n), \\quad \\forall l \\\\\n",
        "&  \\underset{\\eta_n\\in[-1,1]}{\\max} \\sum_n b_{ln}(g_n - \\beta_n\\Omega -\\hat{d}_n + \\overline{e}_n \\eta_n) \\leq \\overline{f}_l, \\quad \\forall l \\\\\n",
        "& \\beta_n \\geq 0\n",
        "\\end{align}\n",
        "$$"
      ],
      "metadata": {
        "id": "ndZTjdICzt-1"
      }
    },
    {
      "cell_type": "markdown",
      "source": [
        "And therefore\n",
        "\n",
        "$$\n",
        "\\begin{align}\n",
        "\\underset{g_n,\\beta_n}{\\min} \\quad &  \\sum_n c_n g_n + \\frac{13}{96} \\overline{\\Omega} (c^u_n-c^d_n) \\beta_n \\\\\n",
        "\\text{s.t.} \\quad & \\sum_n g_n = \\sum_n \\hat{d}_n \\\\\n",
        "& \\sum_n \\beta_n = 1 \\\\\n",
        "& 0 \\leq g_n - \\beta_n\\overline{\\Omega}, \\quad \\forall n\\\\\n",
        "& g_n - \\beta_n\\underline{\\Omega} \\leq \\overline{g}_n, \\quad \\forall n\\\\\n",
        "& -\\overline{f}_l \\leq \\sum_{n\\in\\mathcal{N}^+_l} b_{ln}(g_n - \\beta_n\\overline{\\Omega} -\\hat{d}_n - \\overline{e}_n) + \\sum_{n\\in\\mathcal{N}^-_l} b_{ln}(g_n - \\beta_n\\underline{\\Omega} -\\hat{d}_n + \\overline{e}_n), \\quad \\forall l \\\\\n",
        "&  \\sum_{n\\in\\mathcal{N}^+_l} b_{ln}(g_n - \\beta_n\\underline{\\Omega} -\\hat{d}_n + \\overline{e}_n) + \\sum_{n\\in\\mathcal{N}^-_l} b_{ln}(g_n - \\beta_n\\overline{\\Omega} -\\hat{d}_n - \\overline{e}_n ) \\leq \\overline{f}_l, \\quad \\forall l \\\\\n",
        "& \\beta_n \\geq 0\n",
        "\\end{align}\n",
        "$$"
      ],
      "metadata": {
        "id": "n0-2aDGH0Pg9"
      }
    },
    {
      "cell_type": "code",
      "source": [
        "def dc_opf_ldr(demand,var):\n",
        "  # model\n",
        "  m = gp.Model()\n",
        "  # variables\n",
        "  gen = m.addMVar(nbus,name='gen')\n",
        "  beta = m.addMVar(nbus,name='beta')\n",
        "  # objective function\n",
        "  m.setObjective(cost_bus @ gen + (13/96) * var.sum() * cost_up_bus @ beta - 0.25 * var.sum() * cost_do_bus @ beta, GRB.MINIMIZE)\n",
        "  # constraints\n",
        "  m.addConstr(gen.sum() == demand.sum())\n",
        "  m.addConstr(beta.sum() == 1)\n",
        "  m.addConstr(0 <= gen - var.sum()*beta)\n",
        "  m.addConstr(gen + var.sum()*beta <= pmax_bus)\n",
        "  m.addConstr(ptdf @ gen - var.sum() * ptdf @ beta >= -cap_line + ptdf @ demand + np.multiply(ptdf,pos_neg) @ var)\n",
        "  m.addConstr(ptdf @ gen - var.sum() * ptdf @ beta <= cap_line + ptdf @ demand - np.multiply(ptdf,pos_neg) @ var)\n",
        "  # solve\n",
        "  m.setParam('OutputFlag',0)\n",
        "  m.write('ldr.lp')\n",
        "  m.optimize()\n",
        "  status(m) \n",
        "  # results\n",
        "  print('dispatch =',gen.X,beta.X)\n",
        "  return gen.X"
      ],
      "metadata": {
        "id": "BRkU0J2W6b1t"
      },
      "execution_count": null,
      "outputs": []
    },
    {
      "cell_type": "markdown",
      "source": [
        "# Evaluate LDR dispatch with var = 10"
      ],
      "metadata": {
        "id": "JgNUlzhItho4"
      }
    },
    {
      "cell_type": "code",
      "source": [
        "gen_robust_ldr = dc_opf_ldr(demand,var_10)\n",
        "evaluate_scenarios(gen_robust_ldr,scen_10)"
      ],
      "metadata": {
        "colab": {
          "base_uri": "https://localhost:8080/"
        },
        "id": "bIXvgSHGtZHw",
        "outputId": "3984bf91-0708-47e3-b645-08e383897fb1"
      },
      "execution_count": null,
      "outputs": [
        {
          "output_type": "stream",
          "name": "stdout",
          "text": [
            "Status = optimal\n",
            "dispatch = [150. 135.  15.] [0.  0.5 0.5]\n",
            "minimum cost = 6211.101059392516\n",
            "average cost = 6841.217422758205\n",
            "maximum cost = 7624.831293001304\n"
          ]
        }
      ]
    },
    {
      "cell_type": "markdown",
      "source": [
        "# Evaluate LDR dispatch with var = 20"
      ],
      "metadata": {
        "id": "I6PZfDSCyzzh"
      }
    },
    {
      "cell_type": "code",
      "source": [
        "gen_robust_ldr = dc_opf_ldr(demand,var_20)\n",
        "evaluate_scenarios(gen_robust_ldr,scen_20)"
      ],
      "metadata": {
        "colab": {
          "base_uri": "https://localhost:8080/"
        },
        "outputId": "01f51eb6-e718-415b-df78-9e53f75a8003",
        "id": "lFj_z48Wyzzp"
      },
      "execution_count": null,
      "outputs": [
        {
          "output_type": "stream",
          "name": "stdout",
          "text": [
            "Status = optimal\n",
            "dispatch = [150. 120.  30.] [0.  0.5 0.5]\n",
            "minimum cost = 5639.310625755441\n",
            "average cost = 6923.372207785409\n",
            "maximum cost = 8515.102961346032\n"
          ]
        }
      ]
    },
    {
      "cell_type": "markdown",
      "source": [
        "# Evaluate LDR dispatch with var = 30\n"
      ],
      "metadata": {
        "id": "edcNZEmly9M-"
      }
    },
    {
      "cell_type": "code",
      "source": [
        "gen_robust_ldr = dc_opf_ldr(demand,var_30)\n",
        "evaluate_scenarios(gen_robust_ldr,scen_30)"
      ],
      "metadata": {
        "id": "gzQetVI7y9NA",
        "colab": {
          "base_uri": "https://localhost:8080/"
        },
        "outputId": "097fce0d-4aef-4e32-f400-d4571dfd21c6"
      },
      "execution_count": null,
      "outputs": [
        {
          "output_type": "stream",
          "name": "stdout",
          "text": [
            "Status = optimal\n",
            "dispatch = [150. 105.  45.] [0.  0.5 0.5]\n",
            "minimum cost = 5176.555980629674\n",
            "average cost = 6976.0411887879845\n",
            "maximum cost = 9779.012878526184\n"
          ]
        }
      ]
    },
    {
      "cell_type": "markdown",
      "source": [
        "First primal\n",
        "\n",
        "$$\n",
        "\\begin{align}\n",
        "\\underset{\\eta^+_m,\\eta^-_m}{\\max} \\quad & \\beta_n\\sum_m \\overline{e}_m(\\eta^+_m-\\eta^-_m)  \\\\\n",
        "\\text{s.t.} \\quad & \\sum_m \\eta^+_m+\\eta^-_m \\leq \\Gamma: \\tau_n \\\\\n",
        "& \\eta^+_m \\leq 1: \\rho^+_{nm}, \\quad \\forall m\\\\\n",
        "& \\eta^-_m \\leq 1: \\rho^-_{nm}, \\quad \\forall m\\\\\n",
        "& \\eta^+_m,\\eta^-_m\\geq 0\n",
        "\\end{align}\n",
        "$$\n"
      ],
      "metadata": {
        "id": "Ecs3e9nAR6-6"
      }
    },
    {
      "cell_type": "markdown",
      "source": [
        "First dual\n",
        "\n",
        "$$\n",
        "\\begin{align}\n",
        "\\underset{\\tau_n,\\rho^+_{nm},\\rho^-_{nm}}{\\min} \\quad & \\Gamma\\tau_n + \\sum_m \\rho^+_{nm} + \\rho^-_{nm}  \\\\\n",
        "\\text{s.t.} \\quad & -\\beta_n\\overline{e}_m + \\tau_n + \\rho^+_{nm} \\geq 0, \\quad \\forall m \\\\\n",
        "& \\beta_n\\overline{e}_m + \\tau_n + \\rho^-_{nm} \\geq 0, \\quad \\forall m\\\\\n",
        "& \\tau,\\rho^+_{nm},\\rho^-_{nm} \\geq 0\n",
        "\\end{align}\n",
        "$$"
      ],
      "metadata": {
        "id": "WzaZIigmSvNi"
      }
    },
    {
      "cell_type": "markdown",
      "source": [
        "Second primal\n",
        "\n",
        "$$\n",
        "\\begin{align}\n",
        "\\underset{\\eta^+_{m},\\eta^-_{m}}{\\min} \\quad & \\beta_n \\sum_m \\overline{e}_m (\\eta^+_{m}-\\eta^-_{m})  \\\\\n",
        "\\text{s.t.} \\quad & \\sum_m \\eta^+_{m}+\\eta^-_{m} \\leq \\Gamma: \\kappa_n \\\\\n",
        "& \\eta^+_m \\leq 1: \\mu^+_{nm}, \\quad \\forall m\\\\\n",
        "& \\eta^-_m \\leq 1: \\mu^-_{nm}, \\quad \\forall m\\\\\n",
        "& \\eta^+_m,\\eta^-_m\\geq 0\n",
        "\\end{align}\n",
        "$$"
      ],
      "metadata": {
        "id": "Sc4itgtBTjKP"
      }
    },
    {
      "cell_type": "markdown",
      "source": [
        "Second dual\n",
        "\n",
        "$$\n",
        "\\begin{align}\n",
        "\\underset{\\kappa_n,\\mu^+_{nm},\\mu^-_{nm}}{\\max} \\quad & -\\Gamma\\kappa_n - \\sum_m \\mu^+_{nm} + \\mu^-_{nm}  \\\\\n",
        "\\text{s.t.} \\quad & \\beta_n\\overline{e}_m + \\kappa_n + \\mu^+_{nm} \\geq 0, \\quad \\forall m \\\\\n",
        "& -\\beta_n\\overline{e}_m + \\kappa_n + \\mu^-_{nm} \\geq 0, \\quad \\forall m\\\\\n",
        "& \\kappa_n,\\mu^+_{nm},\\mu^-_{nm} \\geq 0\n",
        "\\end{align}\n",
        "$$"
      ],
      "metadata": {
        "id": "hHJd9YI_Tu3I"
      }
    },
    {
      "cell_type": "markdown",
      "source": [
        "Third primal\n",
        "\n",
        "$$\n",
        "\\begin{align}\n",
        "\\underset{\\eta^+_n,\\eta^-_n}{\\min} \\quad & \\sum_n -b_{ln}\\beta_n\\sum_m \\overline{e}_m (\\eta^+_m-\\eta^-_m) +b_{ln}\\overline{e}_n (\\eta^+_n-\\eta^-_n)  \\\\\n",
        "\\text{s.t.} \\quad & \\sum_n \\eta^+_n+\\eta^-_n \\leq \\Gamma: \\gamma_l \\\\\n",
        "& \\eta^+_n \\leq 1: \\delta^+_{ln}, \\quad \\forall n\\\\\n",
        "& \\eta^-_n \\leq 1: \\delta^-_{ln}, \\quad \\forall n\\\\\n",
        "& \\eta^+_n,\\eta^-_n\\geq 0\n",
        "\\end{align}\n",
        "$$"
      ],
      "metadata": {
        "id": "VWXfGWko2bX2"
      }
    },
    {
      "cell_type": "markdown",
      "source": [
        "Third dual\n",
        "\n",
        "$$\n",
        "\\begin{align}\n",
        "\\underset{\\gamma_l, \\delta^+_{ln},\\delta^-_{ln}}{\\max} \\quad & - \\gamma_l\\Gamma - \\sum_n  \\delta^+_{ln}+\\delta^-_{ln}  \\\\\n",
        "\\text{s.t.} \\quad & -\\overline{e}_n \\left(-b_{ln} + \\sum_m b_{lm}\\beta_m \\right) + \\gamma_l + \\delta^+_{ln} \\geq 0, \\quad \\forall n \\\\\n",
        "& \\overline{e}_n \\left(-b_{ln} + \\sum_m b_{lm}\\beta_m \\right) + \\gamma_l + \\delta^-_{ln} \\geq 0, \\quad \\forall n \\\\\n",
        "& \\gamma_l, \\delta^+_{ln},\\delta^-_{ln}\\geq 0\n",
        "\\end{align}\n",
        "$$"
      ],
      "metadata": {
        "id": "wmaHiqrt56PV"
      }
    },
    {
      "cell_type": "markdown",
      "source": [
        "Four primal\n",
        "\n",
        "$$\n",
        "\\begin{align}\n",
        "\\underset{\\eta^+_n,\\eta^-_n}{\\max} \\quad & \\sum_n -b_{ln}\\beta_n\\sum_m \\overline{e}_m (\\eta^+_m-\\eta^-_m) +b_{ln}\\overline{e}_n (\\eta^+_n-\\eta^-_n)  \\\\\n",
        "\\text{s.t.} \\quad & \\sum_n \\eta^+_n+\\eta^-_n \\leq \\Gamma: \\epsilon_l \\\\\n",
        "& \\eta^+_n \\leq 1: \\zeta^+_{ln}, \\quad \\forall n\\\\\n",
        "& \\eta^-_n \\leq 1: \\zeta^-_{ln}, \\quad \\forall n\\\\\n",
        "& \\eta^+_n,\\eta^-_n\\geq 0\n",
        "\\end{align}\n",
        "$$"
      ],
      "metadata": {
        "id": "FrA2KtEc7jSr"
      }
    },
    {
      "cell_type": "markdown",
      "source": [
        "Four dual\n",
        "\n",
        "$$\n",
        "\\begin{align}\n",
        "\\underset{\\epsilon_l, \\zeta^+_{ln},\\zeta^-_{ln}}{\\min} \\quad &  \\epsilon_l\\Gamma + \\sum_n  \\zeta^+_{ln}+\\zeta^-_{ln}  \\\\\n",
        "\\text{s.t.} \\quad & \\sum_n b_{ln}\\beta_n - \\lambda_l = 0 \\\\\n",
        "& \\overline{e}_n \\left(-b_{ln} + \\sum_m b_{lm}\\beta_m \\right) + \\epsilon_l + \\zeta^+_{ln} \\geq 0, \\quad \\forall n \\\\\n",
        "& -\\overline{e}_n \\left(-b_{ln} + \\sum_m b_{lm}\\beta_m \\right) + \\epsilon_l + \\zeta^-_{ln} \\geq 0, \\quad \\forall n \\\\\n",
        "& \\epsilon_l, \\zeta^+_{ln},\\zeta^-_{ln}\\geq 0\n",
        "\\end{align}\n",
        "$$"
      ],
      "metadata": {
        "id": "ARy3Tg5A7-5Z"
      }
    },
    {
      "cell_type": "markdown",
      "source": [
        "By using the dual formulation we obtain\n",
        "\n",
        "$$\n",
        "\\begin{align}\n",
        "\\underset{g_n,\\beta_n,\\tau_n,\\rho^+_{nm},\\rho^-_{nm},\\kappa_n,\\mu^+_{nm},\\mu^-_{nm},\\gamma_l, \\delta^+_{ln},\\delta^-_{ln},\\epsilon_l, \\zeta^+_{ln},\\zeta^-_{ln}}{\\min} \\quad &  \\sum_n c_n g_n + \\frac{13}{96} \\overline{\\Omega} (c^u_n-c^d_n) beta_n  \\\\\n",
        "\\text{s.t.} \\quad & \\sum_n g_n = \\sum_n \\hat{d}_n \\\\\n",
        "& \\sum_n \\beta_n = 1 \\\\\n",
        "& 0 \\leq g_n - \\Gamma\\tau_n - \\sum_m \\rho^+_{nm} + \\rho^-_{nm}, \\quad \\forall n\\\\\n",
        "& -\\beta_n\\overline{e}_m + \\tau_n + \\rho^+_{nm} \\geq 0, \\quad \\forall n,m \\\\\n",
        "& \\beta_n\\overline{e}_m + \\tau_n + \\rho^-_{nm} \\geq 0, \\quad \\forall n,m\\\\\n",
        "& g_n + \\Gamma\\kappa_n + \\sum_m \\mu^+_{nm} + \\mu^-_{nm} \\leq \\overline{g}_n, \\quad \\forall n\\\\\n",
        "& \\beta_n\\overline{e}_m + \\kappa_n + \\mu^+_{nm} \\geq 0, \\quad \\forall n,m \\\\\n",
        "& -\\beta_n\\overline{e}_m + \\kappa_n + \\mu^-_{nm} \\geq 0, \\quad \\forall n,m\\\\\n",
        "& -\\overline{f}_l \\leq \\sum_n b_{ln}(g_n-\\hat{d}_n) -\\gamma_l\\Gamma - \\sum_n \\delta^+_{ln} + \\delta^-_{ln}, \\quad \\forall l \\\\\n",
        "& -\\overline{e}_n \\left(-b_{ln} + \\sum_m b_{lm}\\beta_m \\right) + \\gamma_l + \\delta^+_{ln} \\geq 0, \\quad \\forall n,l \\\\\n",
        "& \\overline{e}_n \\left(-b_{ln} + \\sum_m b_{lm}\\beta_m \\right) + \\gamma_l + \\delta^-_{ln} \\geq 0, \\quad \\forall n,l \\\\\n",
        "& \\sum_n b_{ln}(g_n-\\hat{d}_n) + \\epsilon_l\\Gamma + \\sum_n \\zeta^+_{ln}+\\zeta^-_{ln} \\leq \\overline{f}_l, \\quad \\forall l \\\\\n",
        "& \\overline{e}_n \\left(-b_{ln} + \\sum_m b_{lm}\\beta_m \\right) + \\epsilon_l + \\zeta^+_{ln} \\geq 0, \\quad \\forall n,l \\\\\n",
        "& -\\overline{e}_n \\left(-b_{ln} + \\sum_m b_{lm}\\beta_m \\right) + \\epsilon_l + \\zeta^-_{ln} \\geq 0, \\quad \\forall n,l \\\\\n",
        "& g_n,\\beta_n, \\tau_n,\\rho^+_{nm}\\rho^-_{nm}, \\kappa_n,\\mu^+_{nm},\\mu^-_{nm},\\gamma_l, \\delta^+_{ln},\\delta^-_{ln}, \\epsilon_l, \\zeta^+_{ln},\\zeta^-_{ln} \\geq 0\n",
        "\\end{align}\n",
        "$$"
      ],
      "metadata": {
        "id": "j5AYK4Ve9TyH"
      }
    },
    {
      "cell_type": "code",
      "source": [
        "def dc_opf_ldr_budget(demand,var,budget):\n",
        "  # model\n",
        "  m = gp.Model()\n",
        "  m.Params.Threads = 1\n",
        "  # variables\n",
        "  gen = m.addMVar(nbus,name='gen')\n",
        "  beta = m.addMVar(nbus,name='beta')\n",
        "  tau = m.addMVar(nbus,name='tau')\n",
        "  rho_up = m.addMVar((nbus,nbus),name='rho_up')\n",
        "  rho_do = m.addMVar((nbus,nbus),name='rho_do')\n",
        "  kappa = m.addMVar(nbus,name='kappa')\n",
        "  mu_up = m.addMVar((nbus,nbus),name='mu_up')\n",
        "  mu_do = m.addMVar((nbus,nbus),name='mu_do')  \n",
        "  gamma = m.addMVar(nlin,name='gamma')  \n",
        "  delta_up = m.addMVar((nlin,nbus),name='delta_up')\n",
        "  delta_do = m.addMVar((nlin,nbus),name='delta_do')  \n",
        "  epsilon = m.addMVar(nlin,name='epsilon')\n",
        "  zeta_up = m.addMVar((nlin,nbus),name='zeta_up')\n",
        "  zeta_do = m.addMVar((nlin,nbus),name='zeta_do')\n",
        "  # objective function\n",
        "  m.setObjective(cost_bus @ gen + (13/96) * var.sum() * (cost_up_bus @ beta) - 0.25 * var.sum() * (cost_do_bus @ beta), GRB.MINIMIZE)  \n",
        "  # constraints\n",
        "  m.addConstr(gen.sum() == demand.sum())\n",
        "  m.addConstr(beta.sum() == 1)\n",
        "  m.addConstrs(0 <= gen[n] - budget*tau[n] - rho_up[n,:].sum() - rho_do[n,:].sum() for n in range(nbus))\n",
        "  m.addConstrs(-beta[n]*var[m] + tau[n] + rho_up[n,m] >= 0 for n in range(nbus) for m in range(nbus))\n",
        "  m.addConstrs(beta[n]*var[m] + tau[n] + rho_do[n,m] >= 0 for n in range(nbus) for m in range(nbus))\n",
        "  m.addConstrs(gen[n] + budget*kappa[n] + mu_up[n,:].sum() + mu_do[n,:].sum() <= pmax_bus[n] for n in range(nbus))\n",
        "  m.addConstrs(beta[n]*var[m] + kappa[n] + mu_up[n,m] >= 0 for n in range(nbus) for m in range(nbus))\n",
        "  m.addConstrs(-beta[n]*var[m] + kappa[n] + mu_do[n,m] >= 0 for n in range(nbus) for m in range(nbus))\n",
        "  m.addConstrs(-cap_line[l] <= sum(ptdf[l,n]*(gen[n]-demand[n]) for n in range(nbus)) -budget*gamma[l] - delta_up[l,:].sum() - delta_do[l,:].sum() for l in range(nlin))\n",
        "  m.addConstrs(-var[n]*(-ptdf[l,n] + sum(ptdf[l,m]*beta[m] for m in range(nbus))) + gamma[l] + delta_up[l,n] >= 0 for n in range(nbus) for l in range(nlin))\n",
        "  m.addConstrs(var[n]*(-ptdf[l,n] + sum(ptdf[l,m]*beta[m] for m in range(nbus))) + gamma[l] + delta_do[l,n] >= 0 for n in range(nbus) for l in range(nlin))\n",
        "  m.addConstrs(sum(ptdf[l,n]*(gen[n]-demand[n]) for n in range(nbus)) + budget*epsilon[l] + zeta_up[l,:].sum() + zeta_do[l,:].sum() <= cap_line[l] for l in range(nlin)) \n",
        "  m.addConstrs(var[n]*(-ptdf[l,n] + sum(ptdf[l,m]*beta[m] for m in range(nbus))) + epsilon[l] + zeta_up[l,n] >= 0 for n in range(nbus) for l in range(nlin))\n",
        "  m.addConstrs(-var[n]*(-ptdf[l,n] + sum(ptdf[l,m]*beta[m] for m in range(nbus))) + epsilon[l] + zeta_do[l,n] >= 0 for n in range(nbus) for l in range(nlin))  \n",
        "  # solve\n",
        "  m.setParam('OutputFlag',0)  \n",
        "  m.optimize()\n",
        "  print('obj =',m.ObjVal)\n",
        "  status(m)   \n",
        "  m.write('ldr_budget.lp')\n",
        "  # results\n",
        "  print('dispatch =',gen.X,beta.X)\n",
        "  return gen.X"
      ],
      "metadata": {
        "id": "ygKSTljlAHrP"
      },
      "execution_count": null,
      "outputs": []
    },
    {
      "cell_type": "markdown",
      "source": [
        ""
      ],
      "metadata": {
        "id": "UiekpIKErQjf"
      }
    },
    {
      "cell_type": "markdown",
      "source": [
        "# Evaluate LDR dispatch (Gamma=2, var=10)"
      ],
      "metadata": {
        "id": "d3nWx6GfrU7U"
      }
    },
    {
      "cell_type": "code",
      "source": [
        "gen_ldr_budget = dc_opf_ldr_budget(demand,var_10,2)\n",
        "evaluate_scenarios(gen_ldr_budget,scen_10)"
      ],
      "metadata": {
        "id": "es_gnwpBrfI2",
        "colab": {
          "base_uri": "https://localhost:8080/"
        },
        "outputId": "6cf441f1-898a-4aa0-8a4b-ab058cb318cc"
      },
      "execution_count": null,
      "outputs": [
        {
          "output_type": "stream",
          "name": "stdout",
          "text": [
            "Set parameter Threads to value 1\n",
            "obj = 6758.4375\n",
            "Status = optimal\n",
            "dispatch = [150. 130.  20.] [0. 0. 1.]\n",
            "minimum cost = 6166.101059392516\n",
            "average cost = 6863.540168623056\n",
            "maximum cost = 7649.831293001304\n"
          ]
        }
      ]
    },
    {
      "cell_type": "markdown",
      "source": [
        "# Evaluate LDR dispatch (Gamma=2, var=20)"
      ],
      "metadata": {
        "id": "8bbcK_kIsNxf"
      }
    },
    {
      "cell_type": "code",
      "source": [
        "gen_ldr_budget = dc_opf_ldr_budget(demand,var_20,2)\n",
        "evaluate_scenarios(gen_ldr_budget,scen_20)"
      ],
      "metadata": {
        "id": "Y6hsiNA8sZES",
        "colab": {
          "base_uri": "https://localhost:8080/"
        },
        "outputId": "5354e276-64c5-4299-f9de-c30334187a6f"
      },
      "execution_count": null,
      "outputs": [
        {
          "output_type": "stream",
          "name": "stdout",
          "text": [
            "Set parameter Threads to value 1\n",
            "obj = 6766.875\n",
            "Status = optimal\n",
            "dispatch = [150. 110.  40.] [0. 0. 1.]\n",
            "minimum cost = 5549.310625755441\n",
            "average cost = 6968.036786705518\n",
            "maximum cost = 8565.102961346032\n"
          ]
        }
      ]
    },
    {
      "cell_type": "markdown",
      "source": [
        "# Evaluate LDR dispatch (Gamma=2, var=30)"
      ],
      "metadata": {
        "id": "nToqxPuhsPYG"
      }
    },
    {
      "cell_type": "code",
      "source": [
        "gen_ldr_budget = dc_opf_ldr_budget(demand,var_30,2)\n",
        "evaluate_scenarios(gen_ldr_budget,scen_30)"
      ],
      "metadata": {
        "colab": {
          "base_uri": "https://localhost:8080/"
        },
        "id": "gKkI0BaOsb7B",
        "outputId": "e2215938-eb97-4bc8-f59b-224d6d2b94a5"
      },
      "execution_count": null,
      "outputs": [
        {
          "output_type": "stream",
          "name": "stdout",
          "text": [
            "Set parameter Threads to value 1\n",
            "obj = 6785.9375\n",
            "Status = optimal\n",
            "dispatch = [150. 100.  50.] [0.         0.16666667 0.83333333]\n",
            "minimum cost = 5131.555980629674\n",
            "average cost = 6997.89759250961\n",
            "maximum cost = 9824.012878526184\n"
          ]
        }
      ]
    },
    {
      "cell_type": "markdown",
      "source": [
        "# Evaluate LDR dispatch (Gamma=1, var=10)"
      ],
      "metadata": {
        "id": "Q_1_KRM1sRZY"
      }
    },
    {
      "cell_type": "code",
      "source": [
        "gen_ldr_budget = dc_opf_ldr_budget(demand,var_10,1)\n",
        "evaluate_scenarios(gen_ldr_budget,scen_10)"
      ],
      "metadata": {
        "id": "x4iy8TuMseYj",
        "colab": {
          "base_uri": "https://localhost:8080/"
        },
        "outputId": "dc214131-0fc3-4239-ab78-97f926505b23"
      },
      "execution_count": null,
      "outputs": [
        {
          "output_type": "stream",
          "name": "stdout",
          "text": [
            "Set parameter Threads to value 1\n",
            "obj = 6708.4375\n",
            "Status = optimal\n",
            "dispatch = [150. 140.  10.] [0. 0. 1.]\n",
            "minimum cost = 6256.101059392516\n",
            "average cost = 6823.79360748369\n",
            "maximum cost = 7599.831293001304\n"
          ]
        }
      ]
    },
    {
      "cell_type": "markdown",
      "source": [
        "# Evaluate LDR dispatch (Gamma=1, var=20)"
      ],
      "metadata": {
        "id": "thI-hwXmsT7l"
      }
    },
    {
      "cell_type": "code",
      "source": [
        "gen_ldr_budget = dc_opf_ldr_budget(demand,var_20,1)\n",
        "evaluate_scenarios(gen_ldr_budget,scen_20)"
      ],
      "metadata": {
        "id": "54QsO6UJsiCX",
        "colab": {
          "base_uri": "https://localhost:8080/"
        },
        "outputId": "527f637c-4f5a-49d1-fa2e-eaadc30a19d7"
      },
      "execution_count": null,
      "outputs": [
        {
          "output_type": "stream",
          "name": "stdout",
          "text": [
            "Set parameter Threads to value 1\n",
            "obj = 6666.875\n",
            "Status = optimal\n",
            "dispatch = [150. 130.  20.] [0. 0. 1.]\n",
            "minimum cost = 5729.310625755441\n",
            "average cost = 6889.084686320716\n",
            "maximum cost = 8465.102961346032\n"
          ]
        }
      ]
    },
    {
      "cell_type": "markdown",
      "source": [
        "# Evaluate LDR dispatch (Gamma=1, var=30)"
      ],
      "metadata": {
        "id": "vBK_LYp5sVkf"
      }
    },
    {
      "cell_type": "code",
      "source": [
        "gen_ldr_budget = dc_opf_ldr_budget(demand,var_30,1)\n",
        "evaluate_scenarios(gen_ldr_budget,scen_30)"
      ],
      "metadata": {
        "id": "fPcW0Ge1slTw",
        "colab": {
          "base_uri": "https://localhost:8080/"
        },
        "outputId": "4ec4fe43-5742-4650-d83a-ebf3f637b5ce"
      },
      "execution_count": null,
      "outputs": [
        {
          "output_type": "stream",
          "name": "stdout",
          "text": [
            "Set parameter Threads to value 1\n",
            "obj = 6625.3125\n",
            "Status = optimal\n",
            "dispatch = [150. 120.  30.] [0. 0. 1.]\n",
            "minimum cost = 5311.555980629674\n",
            "average cost = 6925.130963345374\n",
            "maximum cost = 9644.012878526184\n"
          ]
        }
      ]
    },
    {
      "cell_type": "markdown",
      "source": [
        "# Stochastic programming\n",
        "\n",
        "We use the index $w$ for scenarios and $\\pi_w$ for scenario probability. First stage decision are $g_n$ while second stage decisions are $r_{nw}$. The two-stage optimization problem is formulated as follows:\n",
        "\n",
        "$$\n",
        "\\begin{align}\n",
        "\\underset{g_n,r^u_{nw}, r^d_{nw}}{\\min} \\quad &  \\sum_w \\pi_w\\left( \\sum_n c_n g_n + c^u_n r^u_{nw} - c^d_n r^d_{nw}\\right)  \\\\\n",
        "\\text{s.t.} \\quad & \\sum_n g_n+r^u_{nw}-r^d_{nw} = \\sum_n \\hat{d}_n - \\overline{e}_n\\eta_{nw}, \\quad \\forall w \\\\\n",
        "& 0 \\leq g_n + r^u_{nw} - r^d_{nw} \\leq \\overline{g}_n, \\quad \\forall n,w\\\\\n",
        "& -\\overline{f}_l \\leq \\sum_n b_{ln}(g_n +r^u_{nw} - r^d_{nw} -\\hat{d}_n + \\overline{e}_n \\eta_{nw}) \\leq \\overline{f}_l, \\quad \\forall l,w \\\\\n",
        "& r^u_{nw}, r^d_{nw}\\geq 0\n",
        "\\end{align}\n",
        "$$"
      ],
      "metadata": {
        "id": "zekepkXC-x9c"
      }
    },
    {
      "cell_type": "code",
      "source": [
        "def sto(demand,var,nscen):\n",
        "  # generate scenarios\n",
        "  eta = np.zeros((nbus,nscen))\n",
        "  for n in range(nbus):\n",
        "    for s in range(nscen):\n",
        "      eta[n,s] = var[n]*np.random.uniform(-1,1)\n",
        "  # model\n",
        "  m = gp.Model()  \n",
        "  # variables\n",
        "  gen = m.addMVar(nbus)\n",
        "  res_up = m.addMVar((nbus,nscen))\n",
        "  res_do = m.addMVar((nbus,nscen))\n",
        "  # objective function\n",
        "  m.setObjective(cost_bus @ gen + sum(cost_up_bus @ res_up[:,s] for s in range(nscen))/nscen - sum(cost_do_bus @ res_do[:,s] for s in range(nscen))/nscen, GRB.MINIMIZE)\n",
        "  # constraints\n",
        "  m.addConstrs(gen.sum() + res_up[:,s].sum() - res_do[:,s].sum() == demand.sum() - eta[:,s].sum() for s in range(nscen))\n",
        "  m.addConstrs(gen + res_up[:,s] - res_do[:,s] >= 0 for s in range(nscen))\n",
        "  m.addConstrs(gen + res_up[:,s] - res_do[:,s] <= pmax_bus for s in range(nscen))\n",
        "  m.addConstrs(ptdf @ gen + ptdf @ res_up[:,s] - ptdf @ res_do[:,s] >= -cap_line + ptdf @ demand - ptdf @ eta[:,s]  for s in range(nscen))\n",
        "  m.addConstrs(ptdf @ gen + ptdf @ res_up[:,s] - ptdf @ res_do[:,s] <= cap_line + ptdf @ demand - ptdf @ eta[:,s] for s in range(nscen))\n",
        "  # solve\n",
        "  m.setParam('OutputFlag',0)  \n",
        "  m.optimize()\n",
        "  status(m)     \n",
        "  # results\n",
        "  print('dispatch =',gen.X)  \n",
        "  return gen.X"
      ],
      "metadata": {
        "id": "E-Q0vTVCGhDd"
      },
      "execution_count": null,
      "outputs": []
    },
    {
      "cell_type": "markdown",
      "source": [
        "# Evaluate stochastic dispatch with var=10"
      ],
      "metadata": {
        "id": "V3xXxSlUtrEX"
      }
    },
    {
      "cell_type": "code",
      "source": [
        "gen_sto = sto(demand,var_10,100)\n",
        "evaluate_scenarios(gen_sto,scen_10)"
      ],
      "metadata": {
        "colab": {
          "base_uri": "https://localhost:8080/"
        },
        "id": "JDAiL5ojtSjQ",
        "outputId": "fbfc318e-a5a2-4915-92ae-dedb23727698"
      },
      "execution_count": null,
      "outputs": [
        {
          "output_type": "stream",
          "name": "stdout",
          "text": [
            "Status = optimal\n",
            "dispatch = [150.         148.5298114    2.54373544]\n",
            "minimum cost = 6333.942908839886\n",
            "average cost = 6814.908576818869\n",
            "maximum cost = 7556.108689157163\n"
          ]
        }
      ]
    },
    {
      "cell_type": "markdown",
      "source": [
        "# Evaluate stochastic dispatch with var=20"
      ],
      "metadata": {
        "id": "T4ynLBN7tx2K"
      }
    },
    {
      "cell_type": "code",
      "source": [
        "gen_sto = sto(demand,var_20,100)\n",
        "evaluate_scenarios(gen_sto,scen_20)"
      ],
      "metadata": {
        "colab": {
          "base_uri": "https://localhost:8080/"
        },
        "id": "xRvXIWlut2SP",
        "outputId": "340667e8-69bc-4346-8dad-4b63b2b9aa2f"
      },
      "execution_count": null,
      "outputs": [
        {
          "output_type": "stream",
          "name": "stdout",
          "text": [
            "Status = optimal\n",
            "dispatch = [150.         141.8930869    8.48481561]\n",
            "minimum cost = 5836.726310355152\n",
            "average cost = 6872.218437735479\n",
            "maximum cost = 8405.259624341445\n"
          ]
        }
      ]
    },
    {
      "cell_type": "markdown",
      "source": [
        "# Evaluate stochastic dispatch with var=30"
      ],
      "metadata": {
        "id": "0fpZ9qJEtzF9"
      }
    },
    {
      "cell_type": "code",
      "source": [
        "gen_sto = sto(demand,var_30,100)\n",
        "evaluate_scenarios(gen_sto,scen_30)"
      ],
      "metadata": {
        "colab": {
          "base_uri": "https://localhost:8080/"
        },
        "id": "en02MAkut5LW",
        "outputId": "ab29feb2-9737-45c9-b763-74b1a93c89b0"
      },
      "execution_count": null,
      "outputs": [
        {
          "output_type": "stream",
          "name": "stdout",
          "text": [
            "Status = optimal\n",
            "dispatch = [150.         134.71311788  16.00405133]\n",
            "minimum cost = 5444.691210760977\n",
            "average cost = 6902.952906858173\n",
            "maximum cost = 9510.877648394882\n"
          ]
        }
      ]
    }
  ]
}