{
  "nbformat": 4,
  "nbformat_minor": 0,
  "metadata": {
    "colab": {
      "name": "DC_OPF_Uncertainty",
      "provenance": [],
      "toc_visible": true,
      "authorship_tag": "ABX9TyPGScB7tHDEC8PFlkWcav5n",
      "include_colab_link": true
    },
    "kernelspec": {
      "name": "python3",
      "display_name": "Python 3"
    },
    "language_info": {
      "name": "python"
    }
  },
  "cells": [
    {
      "cell_type": "markdown",
      "metadata": {
        "id": "view-in-github",
        "colab_type": "text"
      },
      "source": [
        "<a href=\"https://colab.research.google.com/github/salvapineda/notebooks/blob/main/DC_OPF_Uncertainty.ipynb\" target=\"_parent\"><img src=\"https://colab.research.google.com/assets/colab-badge.svg\" alt=\"Open In Colab\"/></a>"
      ]
    },
    {
      "cell_type": "markdown",
      "source": [
        "# Requirements"
      ],
      "metadata": {
        "id": "OlRNMxqGB7K7"
      }
    },
    {
      "cell_type": "code",
      "source": [
        "!pip install -q gurobipy\n",
        "import gurobipy as gp\n",
        "from gurobipy import GRB\n",
        "import numpy as np\n",
        "import pandas as pd\n",
        "import matplotlib.pyplot as plt\n",
        "import sympy as sp\n",
        "\n",
        "def status(model):\n",
        "  if model.Status==2:\n",
        "    print('Status = optimal')\n",
        "  elif model.Status==3:\n",
        "    print('Status = infeasible')"
      ],
      "metadata": {
        "id": "E5U4mqVrA1p7",
        "colab": {
          "base_uri": "https://localhost:8080/"
        },
        "outputId": "e256e5a6-c192-4aff-83ac-19cd553d6f8c"
      },
      "execution_count": 2,
      "outputs": [
        {
          "output_type": "stream",
          "name": "stdout",
          "text": [
            "\u001b[K     |████████████████████████████████| 11.5 MB 8.4 MB/s \n",
            "\u001b[?25h"
          ]
        }
      ]
    },
    {
      "cell_type": "markdown",
      "source": [
        "# Data"
      ],
      "metadata": {
        "id": "QYEyOa-8B-D2"
      }
    },
    {
      "cell_type": "code",
      "source": [
        "# generation data\n",
        "gen = pd.DataFrame({        \n",
        "       'unit':      [0,    1,     2], \n",
        "       'bus':       [0,    1,     2],\n",
        "       'cost':      [20,   25,    30], \n",
        "       'cost_up':   [40,   35,    31], \n",
        "       'cost_do':   [0,    15,    29], \n",
        "       'pmin':      [0,    0,     0], \n",
        "       'pmax':      [200,  150,   100]})\n",
        "\n",
        "# line data\n",
        "lin = pd.DataFrame({\n",
        "       'line': [0,   1,   2], \n",
        "       'from': [0,   0,   1],\n",
        "       'to':   [1,   2,   2], \n",
        "       'b':    [10,  10,  10], \n",
        "       'cap':  [25,  100, 100]})\n",
        "\n",
        "# Numbers\n",
        "ngen = len(gen)\n",
        "nbus = max(max(lin['from']),max(lin['to']))+1\n",
        "nlin = len(lin)\n",
        "\n",
        "# cost_bus and pmax_bus vector\n",
        "cost_bus = np.zeros(nbus)\n",
        "cost_up_bus = np.zeros(nbus)\n",
        "cost_do_bus = np.zeros(nbus)\n",
        "pmax_bus = np.zeros(nbus)\n",
        "for g in range(ngen):\n",
        "  cost_bus[gen.loc[g,'bus']]=gen.loc[g,'cost']\n",
        "  cost_up_bus[gen.loc[g,'bus']]=gen.loc[g,'cost_up']\n",
        "  cost_do_bus[gen.loc[g,'bus']]=gen.loc[g,'cost_do']\n",
        "  pmax_bus[gen.loc[g,'bus']]=gen.loc[g,'pmax']\n",
        "\n",
        "# cap_line vector\n",
        "cap_line = np.zeros(nlin)\n",
        "for l in range(nlin):\n",
        "  cap_line[lin.loc[l,'line']] = lin.loc[l,'cap']\n",
        "\n",
        "# Power Transfer Distribution Factors\n",
        "lin_bus = np.zeros((nlin,nbus))\n",
        "for l in range(nlin):\n",
        "  lin_bus[l,lin.loc[l,'from']-1]=1\n",
        "  lin_bus[l,lin.loc[l,'to']-1]=-1    \n",
        "matrixX_inv = np.diag(1/lin['b'])\n",
        "matrixA = np.delete(np.array(lin_bus),0,axis=1)\n",
        "matrixB = np.linalg.multi_dot([matrixA.T,matrixX_inv,matrixA]) \n",
        "ptdf = np.linalg.multi_dot([matrixX_inv,matrixA,np.linalg.inv(matrixB)])\n",
        "ptdf = np.round(np.insert(ptdf,0,np.zeros((nlin)),axis=1),5)\n",
        "\n",
        "# postive/negative ptdf\n",
        "pos_neg = np.zeros((nlin,nbus))\n",
        "for l in range(nlin):\n",
        "  for b in range(nbus):\n",
        "    if ptdf[l,b] > 0:\n",
        "      pos_neg[l,b]=1\n",
        "    elif ptdf[l,b] < 0:\n",
        "      pos_neg[l,b]=-1\n",
        "print(ptdf)\n",
        "print(pos_neg)\n",
        "\n",
        "# scenario generation\n",
        "nscen = 1000\n",
        "demand = np.array([100,100,100])\n",
        "var_10 = np.array([10,10,10])\n",
        "var_20 = np.array([20,20,20])\n",
        "var_25 = np.array([25,25,25])\n",
        "var_30 = np.array([30,30,30])\n",
        "scen_10 = 100 + 10*np.random.uniform(-1,1,size=(nscen,nbus))\n",
        "scen_20 = 100 + 20*np.random.uniform(-1,1,size=(nscen,nbus))\n",
        "scen_25 = 100 + 25*np.random.uniform(-1,1,size=(nscen,nbus))\n",
        "scen_30 = 100 + 30*np.random.uniform(-1,1,size=(nscen,nbus))"
      ],
      "metadata": {
        "id": "TpLG9UTmBKNk",
        "colab": {
          "base_uri": "https://localhost:8080/"
        },
        "outputId": "d072d047-aafd-45c2-f5eb-8f45365deffc"
      },
      "execution_count": 3,
      "outputs": [
        {
          "output_type": "stream",
          "name": "stdout",
          "text": [
            "[[ 0.       0.33333  0.66667]\n",
            " [ 0.      -0.33333  0.33333]\n",
            " [ 0.      -0.66667 -0.33333]]\n",
            "[[ 0.  1.  1.]\n",
            " [ 0. -1.  1.]\n",
            " [ 0. -1. -1.]]\n"
          ]
        }
      ]
    },
    {
      "cell_type": "markdown",
      "source": [
        "# Deterministic DC-OPF\n",
        "\n",
        "$$\n",
        "\\begin{align}\n",
        "\\underset{g_n}{\\min} \\quad & \\sum_n c_n g_n \\\\\n",
        "\\text{s.t.} \\quad & \\sum_n g_n = \\sum_n \\hat{d}_n\\\\\n",
        "& 0 \\leq g_n \\leq \\overline{g}_n, \\quad \\forall n\\\\\n",
        "& -\\overline{f}_l \\leq \\sum_n b_{ln}(g_n-\\hat{d}_n) \\leq \\overline{f}_l, \\quad \\forall l\n",
        "\\end{align}\n",
        "$$"
      ],
      "metadata": {
        "id": "2GUQx35ADwff"
      }
    },
    {
      "cell_type": "code",
      "source": [
        "def dc_opf_det(demand):\n",
        "  # model\n",
        "  m = gp.Model() \n",
        "  # variables\n",
        "  gen = m.addMVar(nbus,name='gen')\n",
        "  # objective function\n",
        "  m.setObjective(cost_bus @ gen, GRB.MINIMIZE)\n",
        "  # constraints\n",
        "  m.addConstr( gen.sum() == demand.sum())\n",
        "  m.addConstr(gen <= pmax_bus)\n",
        "  m.addConstr(ptdf @ gen >= -cap_line + ptdf @ demand)\n",
        "  m.addConstr(ptdf @ gen <= cap_line + ptdf @ demand)\n",
        "  # solve\n",
        "  m.write('det.lp')\n",
        "  m.setParam('OutputFlag',0)\n",
        "  m.optimize()\n",
        "  status(m)\n",
        "  # results\n",
        "  print('cost =',m.ObjVal)\n",
        "  print('dispatch =',gen.X)\n",
        "  return gen.X\n",
        "gen_det = dc_opf_det(demand)"
      ],
      "metadata": {
        "id": "skpIa6RLDBYa",
        "colab": {
          "base_uri": "https://localhost:8080/"
        },
        "outputId": "a3d2847e-99db-41b8-baa7-d08260427b25"
      },
      "execution_count": 4,
      "outputs": [
        {
          "output_type": "stream",
          "name": "stdout",
          "text": [
            "Restricted license - for non-production use only - expires 2023-10-25\n",
            "Status = optimal\n",
            "cost = 7124.9962499625\n",
            "dispatch = [175.00075001  24.99924999 100.        ]\n"
          ]
        }
      ]
    },
    {
      "cell_type": "markdown",
      "source": [
        "# Real time operation\n",
        "\n",
        "$$\n",
        "\\begin{align}\n",
        "\\underset{r^u_n,r^d_n}{\\min} \\quad & \\sum_n c_n g^*_n + c^u_n r^u_n - c^d_n r^d_n \\\\\n",
        "\\text{s.t.} \\quad & \\sum_n g^*_n+r^u_n-r^d_n = \\sum_n \\tilde{d}_n\\\\\n",
        "& 0 \\leq g^*_n + r^u_n-r^d_n \\leq \\overline{g}_n, \\quad \\forall n\\\\\n",
        "& -\\overline{f}_l \\leq \\sum_n b_{ln}(g^*_n + r^u_n-r^d_n -\\tilde{d}_n) \\leq \\overline{f}_l, \\quad \\forall l \\\\\n",
        "& r^u_n, r^d_n\\geq 0\n",
        "\\end{align}\n",
        "$$"
      ],
      "metadata": {
        "id": "byZ8ibYpE5w0"
      }
    },
    {
      "cell_type": "code",
      "source": [
        "def real_time(demand,dispatch):\n",
        "  #print('Solving real_time for demand=',demand)\n",
        "  # model\n",
        "  m = gp.Model()\n",
        "  # variables\n",
        "  #res = m.addMVar(nbus,lb=-GRB.INFINITY)\n",
        "  res_up = m.addMVar(nbus)\n",
        "  res_do = m.addMVar(nbus)\n",
        "  # objective function\n",
        "  m.setObjective(cost_bus @ dispatch + cost_up_bus @ res_up - cost_do_bus @ res_do, GRB.MINIMIZE)\n",
        "  # constraints\n",
        "  m.addConstr(dispatch.sum() + res_up.sum() - res_do.sum() == demand.sum())\n",
        "  m.addConstr(dispatch + res_up - res_do >= 0)\n",
        "  m.addConstr(dispatch + res_up - res_do <= pmax_bus)\n",
        "  m.addConstr(ptdf @ dispatch + ptdf @ res_up - ptdf @ res_do >= -cap_line + ptdf @ demand)\n",
        "  m.addConstr(ptdf @ dispatch + ptdf @ res_up - ptdf @ res_do <= cap_line + ptdf @ demand)\n",
        "  #m.addConstr(res >= -res_do)\n",
        "  #m.addConstr(res <= res_up)\n",
        "  # solve\n",
        "  m.setParam('OutputFlag',0)\n",
        "  m.optimize()\n",
        "  # status(m)\n",
        "  # results\n",
        "  #print('reserves =',res.X)\n",
        "  #print('reserves_up =',res_up.X)\n",
        "  #print('reserves_do =',res_do.X)\n",
        "  return m.ObjVal"
      ],
      "metadata": {
        "id": "qDyWpllKOt7S"
      },
      "execution_count": 5,
      "outputs": []
    },
    {
      "cell_type": "code",
      "source": [
        "def evaluate_scenarios(dispatch,scen):\n",
        "  v_cost = []\n",
        "  for s in range(nscen):\n",
        "    obj = real_time(scen[s,:],dispatch)\n",
        "    v_cost.append(obj)    \n",
        "  print('minimum cost =',np.min(v_cost))\n",
        "  print('average cost =',np.mean(v_cost))\n",
        "  print('maximum cost =',np.max(v_cost))\n",
        "  #plt.figure(facecolor='white')\n",
        "  #plt.hist(v_cost, 10, facecolor='blue', alpha=0.5)\n",
        "  #plt.show()  "
      ],
      "metadata": {
        "id": "cqMIIZEIlFo3"
      },
      "execution_count": 6,
      "outputs": []
    },
    {
      "cell_type": "markdown",
      "source": [
        "# Evaluate deterministic dispatch for var = 10"
      ],
      "metadata": {
        "id": "bZS20sIuibZn"
      }
    },
    {
      "cell_type": "code",
      "source": [
        "evaluate_scenarios(gen_det,scen_10)"
      ],
      "metadata": {
        "colab": {
          "base_uri": "https://localhost:8080/"
        },
        "id": "KZgnMJ_WiWaj",
        "outputId": "76376690-2e95-4674-f425-85d45516a986"
      },
      "execution_count": null,
      "outputs": [
        {
          "output_type": "stream",
          "name": "stdout",
          "text": [
            "minimum cost = 6695.792484339553\n",
            "average cost = 7295.4837425166015\n",
            "maximum cost = 8158.357974223282\n"
          ]
        }
      ]
    },
    {
      "cell_type": "markdown",
      "source": [
        "# Evaluate deterministic dispatch for var = 20"
      ],
      "metadata": {
        "id": "qCu5vOlFiqR2"
      }
    },
    {
      "cell_type": "code",
      "source": [
        "evaluate_scenarios(gen_det,scen_20)"
      ],
      "metadata": {
        "colab": {
          "base_uri": "https://localhost:8080/"
        },
        "id": "B-SOvZZ1iuAf",
        "outputId": "4049cf64-7b00-4a13-eda3-84b2e1d6f153"
      },
      "execution_count": null,
      "outputs": [
        {
          "output_type": "stream",
          "name": "stdout",
          "text": [
            "minimum cost = 6292.321697817006\n",
            "average cost = 7429.014514484273\n",
            "maximum cost = 9024.46228304533\n"
          ]
        }
      ]
    },
    {
      "cell_type": "markdown",
      "source": [
        "# Evaluate deterministic dispatch for var = 30"
      ],
      "metadata": {
        "id": "tW2SLur9i2-8"
      }
    },
    {
      "cell_type": "code",
      "source": [
        "evaluate_scenarios(gen_det,scen_30)"
      ],
      "metadata": {
        "colab": {
          "base_uri": "https://localhost:8080/"
        },
        "id": "BjPEn1Qyi-a6",
        "outputId": "64d5c2d5-ebb9-4d8d-d14f-c9ce2dbd2272"
      },
      "execution_count": null,
      "outputs": [
        {
          "output_type": "stream",
          "name": "stdout",
          "text": [
            "minimum cost = 5906.4120236349845\n",
            "average cost = 7615.329083689534\n",
            "maximum cost = 10155.768071276787\n"
          ]
        }
      ]
    },
    {
      "cell_type": "markdown",
      "source": [
        "# Robust (no recourse)\n",
        "\n",
        "$d_n = \\hat{d}_n - \\overline{e}_n \\eta_n$ with $\\eta_n \\in [-1,1]$\n",
        "\n",
        "$$\n",
        "\\begin{align}\n",
        "\\underset{g_n}{\\min} \\quad & \\sum_n c_n g_n  \\\\\n",
        "\\text{s.t.} \\quad & \\sum_n g_n \\geq \\underset{\\eta_n\\in[-1,1]}{\\max} \\sum_n \\hat{d}_n - \\overline{e}_n \\eta_n \\\\\n",
        "& 0 \\leq g_n \\leq \\overline{g}_n, \\quad \\forall n\\\\\n",
        "& -\\overline{f}_l \\leq \\underset{\\eta_n\\in[-1,1]}{\\min} \\sum_n b_{ln}(g_n -\\hat{d}_n + \\overline{e}_n \\eta_n), \\quad \\forall l \\\\\n",
        "&  \\underset{\\eta_n\\in[-1,1]}{\\max} \\sum_n b_{ln}(g_n -\\hat{d}_n + \\overline{e}_n \\eta_n) \\leq \\overline{f}_l, \\quad \\forall l \n",
        "\\end{align}\n",
        "$$"
      ],
      "metadata": {
        "id": "ps9jIe5uSVfX"
      }
    },
    {
      "cell_type": "markdown",
      "source": [
        "Reformulation \n",
        "\n",
        "$$\n",
        "\\begin{align}\n",
        "\\underset{g_n}{\\min} \\quad & \\sum_n c_n g_n  \\\\\n",
        "\\text{s.t.} \\quad & \\sum_n g_n \\geq \\sum_n \\hat{d}_n + \\overline{e}_n \\\\\n",
        "& 0 \\leq g_n \\leq \\overline{g}_n, \\quad \\forall n\\\\\n",
        "& -\\overline{f}_l \\leq \\sum_{n\\in\\mathcal{N}^+_l} b_{ln}(g_n -\\hat{d}_n - \\overline{e}_n) + \\sum_{n\\in\\mathcal{N}^-_l} b_{ln}(g_n -\\hat{d}_n + \\overline{e}_n) , \\quad \\forall l \\\\\n",
        "& \\sum_{n\\in\\mathcal{N}^+_l} b_{ln}(g_n -\\hat{d}_n + \\overline{e}_n) + \\sum_{n\\in\\mathcal{N}^-_l} b_{ln}(g_n -\\hat{d}_n - \\overline{e}_n) \\leq \\overline{f}_l, \\quad \\forall l \\\\\n",
        "\\end{align}\n",
        "$$\n",
        "\n",
        "where $\\mathcal{N}^+_l$ set of nodes such that $b_{ln}>0$ and $\\mathcal{N}^-_l$ set of nodes such that $b_{ln}\\lt 0$ "
      ],
      "metadata": {
        "id": "C5Xe8fQ6zLTU"
      }
    },
    {
      "cell_type": "code",
      "source": [
        "def dc_opf_robust(demand,var):\n",
        "  # model\n",
        "  m = gp.Model()  \n",
        "  # variables\n",
        "  gen = m.addMVar(nbus,name='gen')\n",
        "  # objective function\n",
        "  m.setObjective(cost_bus @ gen, GRB.MINIMIZE)\n",
        "  # constraints\n",
        "  m.addConstr(gen.sum() >= demand.sum() + var.sum())\n",
        "  m.addConstr(gen <= pmax_bus)\n",
        "  m.addConstr(ptdf @ gen >= -cap_line + ptdf @ demand + np.multiply(ptdf,pos_neg) @ var)\n",
        "  m.addConstr(ptdf @ gen <= cap_line + ptdf @ demand - np.multiply(ptdf,pos_neg) @ var)\n",
        "  # solve\n",
        "  m.setParam('OutputFlag',0)\n",
        "  m.write('robust.lp')\n",
        "  m.optimize()\n",
        "  status(m)\n",
        "  # results\n",
        "  print('dispatch =',gen.X)\n",
        "  return gen.X"
      ],
      "metadata": {
        "id": "PujGQLSGi6Mh"
      },
      "execution_count": null,
      "outputs": []
    },
    {
      "cell_type": "markdown",
      "source": [
        "# Evaluate robust dispatch for var = 10"
      ],
      "metadata": {
        "id": "EHBMjlX1jNkH"
      }
    },
    {
      "cell_type": "code",
      "source": [
        "gen_robust = dc_opf_robust(demand,var_10)\n",
        "evaluate_scenarios(gen_robust,scen_10)"
      ],
      "metadata": {
        "colab": {
          "base_uri": "https://localhost:8080/"
        },
        "id": "YZ2O0WIajJw6",
        "outputId": "a8174356-2f47-40d5-9b57-5041d8e1e9d4"
      },
      "execution_count": null,
      "outputs": [
        {
          "output_type": "stream",
          "name": "stdout",
          "text": [
            "Status = optimal\n",
            "dispatch = [175.00045  54.99955 100.     ]\n",
            "minimum cost = 6995.789784438552\n",
            "average cost = 7431.804594602823\n",
            "maximum cost = 7867.862560329977\n"
          ]
        }
      ]
    },
    {
      "cell_type": "markdown",
      "source": [
        "# Evaluate robust dispatch for var = 20"
      ],
      "metadata": {
        "id": "hfYGOtN3jVqN"
      }
    },
    {
      "cell_type": "code",
      "source": [
        "gen_robust = dc_opf_robust(demand,var_20)\n",
        "evaluate_scenarios(gen_robust,scen_20)"
      ],
      "metadata": {
        "colab": {
          "base_uri": "https://localhost:8080/"
        },
        "id": "LSxJghRZjZov",
        "outputId": "859635f1-3d9f-4f56-8031-95ff9281b38f"
      },
      "execution_count": null,
      "outputs": [
        {
          "output_type": "stream",
          "name": "stdout",
          "text": [
            "Status = optimal\n",
            "dispatch = [175.00015  84.99985 100.     ]\n",
            "minimum cost = 6892.315697757004\n",
            "average cost = 7721.4411337813835\n",
            "maximum cost = 8539.047121223712\n"
          ]
        }
      ]
    },
    {
      "cell_type": "markdown",
      "source": [
        "# Evaluate robust dispatch for var = 30"
      ],
      "metadata": {
        "id": "Us4zX08CjW05"
      }
    },
    {
      "cell_type": "code",
      "source": [
        "gen_robust = dc_opf_robust(demand,var_30)\n",
        "evaluate_scenarios(gen_robust,scen_30)"
      ],
      "metadata": {
        "id": "N56xyaMFja5c",
        "colab": {
          "base_uri": "https://localhost:8080/",
          "height": 408
        },
        "outputId": "ceb1967d-75b0-4a13-85ba-5985fe1c900a"
      },
      "execution_count": null,
      "outputs": [
        {
          "output_type": "stream",
          "name": "stdout",
          "text": [
            "Status = infeasible\n"
          ]
        },
        {
          "output_type": "error",
          "ename": "GurobiError",
          "evalue": "ignored",
          "traceback": [
            "\u001b[0;31m---------------------------------------------------------------------------\u001b[0m",
            "\u001b[0;31mGurobiError\u001b[0m                               Traceback (most recent call last)",
            "\u001b[0;32m<ipython-input-116-3c35f0f278c1>\u001b[0m in \u001b[0;36m<module>\u001b[0;34m()\u001b[0m\n\u001b[0;32m----> 1\u001b[0;31m \u001b[0mgen_robust\u001b[0m \u001b[0;34m=\u001b[0m \u001b[0mdc_opf_robust\u001b[0m\u001b[0;34m(\u001b[0m\u001b[0mdemand\u001b[0m\u001b[0;34m,\u001b[0m\u001b[0mvar_30\u001b[0m\u001b[0;34m)\u001b[0m\u001b[0;34m\u001b[0m\u001b[0;34m\u001b[0m\u001b[0m\n\u001b[0m\u001b[1;32m      2\u001b[0m \u001b[0mevaluate_scenarios\u001b[0m\u001b[0;34m(\u001b[0m\u001b[0mgen_robust\u001b[0m\u001b[0;34m,\u001b[0m\u001b[0mscen_30\u001b[0m\u001b[0;34m)\u001b[0m\u001b[0;34m\u001b[0m\u001b[0;34m\u001b[0m\u001b[0m\n",
            "\u001b[0;32m<ipython-input-105-0973d8549530>\u001b[0m in \u001b[0;36mdc_opf_robust\u001b[0;34m(demand, var)\u001b[0m\n\u001b[1;32m     17\u001b[0m   \u001b[0mstatus\u001b[0m\u001b[0;34m(\u001b[0m\u001b[0mm\u001b[0m\u001b[0;34m)\u001b[0m\u001b[0;34m\u001b[0m\u001b[0;34m\u001b[0m\u001b[0m\n\u001b[1;32m     18\u001b[0m   \u001b[0;31m# results\u001b[0m\u001b[0;34m\u001b[0m\u001b[0;34m\u001b[0m\u001b[0;34m\u001b[0m\u001b[0m\n\u001b[0;32m---> 19\u001b[0;31m   \u001b[0mprint\u001b[0m\u001b[0;34m(\u001b[0m\u001b[0;34m'dispatch ='\u001b[0m\u001b[0;34m,\u001b[0m\u001b[0mgen\u001b[0m\u001b[0;34m.\u001b[0m\u001b[0mX\u001b[0m\u001b[0;34m)\u001b[0m\u001b[0;34m\u001b[0m\u001b[0;34m\u001b[0m\u001b[0m\n\u001b[0m\u001b[1;32m     20\u001b[0m   \u001b[0;32mreturn\u001b[0m \u001b[0mgen\u001b[0m\u001b[0;34m.\u001b[0m\u001b[0mX\u001b[0m\u001b[0;34m\u001b[0m\u001b[0;34m\u001b[0m\u001b[0m\n",
            "\u001b[0;32msrc/gurobipy/mvar.pxi\u001b[0m in \u001b[0;36mgurobipy.MVar.__getattr__\u001b[0;34m()\u001b[0m\n",
            "\u001b[0;32msrc/gurobipy/mvar.pxi\u001b[0m in \u001b[0;36mgurobipy.MVar.getAttr\u001b[0;34m()\u001b[0m\n",
            "\u001b[0;32msrc/gurobipy/attrutil.pxi\u001b[0m in \u001b[0;36mgurobipy.__gettypedattrlist\u001b[0;34m()\u001b[0m\n",
            "\u001b[0;31mGurobiError\u001b[0m: Unable to retrieve attribute 'X'"
          ]
        }
      ]
    },
    {
      "cell_type": "markdown",
      "source": [
        "If we consider a budget $\\Gamma$ we have to use the duals\n",
        "\n",
        "$$\n",
        "\\begin{align}\n",
        "\\underset{\\eta^+_n,\\eta^-_n}{\\max} \\quad & -\\sum_n \\overline{e}_n (\\eta^+_n-\\eta^-_n)  \\\\\n",
        "\\text{s.t.} \\quad & \\sum_n \\eta^+_n+\\eta^-_n \\leq \\Gamma: \\alpha \\\\\n",
        "& \\eta^+_n \\leq 1: \\beta^+_n, \\quad \\forall n\\\\\n",
        "& \\eta^-_n \\leq 1: \\beta^-_n, \\quad \\forall n \\\\\n",
        "& \\eta^+_n,\\eta^-_n\\geq 0 \n",
        "\\end{align}\n",
        "$$\n",
        "\n",
        "The dual is\n",
        "\n",
        "$$\n",
        "\\begin{align}\n",
        "\\underset{\\alpha, \\beta^+_n,\\beta^-_n}{\\min} \\quad & \\alpha\\Gamma + \\sum_n  \\beta^+_n+\\beta^-_n  \\\\\n",
        "\\text{s.t.} \\quad & \\overline{e}_n + \\alpha + \\beta^+_n \\geq 0, \\quad \\forall n \\\\\n",
        "& -\\overline{e}_n + \\alpha + \\beta^-_n \\geq 0, \\quad \\forall n \\\\\n",
        "& \\alpha, \\beta^+_n,\\beta^-_n\\geq 0\n",
        "\\end{align}\n",
        "$$"
      ],
      "metadata": {
        "id": "c6GCsl2azSLq"
      }
    },
    {
      "cell_type": "markdown",
      "source": [
        "With the other constraint\n",
        "\n",
        "$$\n",
        "\\begin{align}\n",
        "\\underset{\\eta^+_n,\\eta^-_n}{\\min} \\quad & \\sum_n b_{ln}\\overline{e}_n (\\eta^+_n-\\eta^-_n)  \\\\\n",
        "\\text{s.t.} \\quad & \\sum_n \\eta^+_n+\\eta^-_n \\leq \\Gamma: \\gamma_l \\\\\n",
        "& \\eta^+_n \\leq 1: \\delta^+_{ln}, \\quad \\forall n\\\\\n",
        "& \\eta^-_n \\leq 1: \\delta^-_{ln}, \\quad \\forall n \\\\\n",
        "& \\eta^+_n,\\eta^-_n\\geq 0\n",
        "\\end{align}\n",
        "$$\n",
        "\n",
        "The dual is\n",
        "\n",
        "$$\n",
        "\\begin{align}\n",
        "\\underset{\\gamma_l, \\delta^+_{ln},\\delta^-_{ln}}{\\max} \\quad & -\\gamma_l\\Gamma - \\sum_n  \\delta^+_{ln}+\\delta^-_{ln}  \\\\\n",
        "\\text{s.t.} \\quad & b_{ln}\\overline{e}_n + \\gamma_l + \\delta^+_{ln} \\geq 0, \\quad \\forall n \\\\\n",
        "& -b_{ln}\\overline{e}_n + \\gamma_l + \\delta^-_{ln} \\geq 0, \\quad \\forall n \\\\\n",
        "& \\gamma_l, \\delta^+_{ln},\\delta^-_{ln}\\geq 0\n",
        "\\end{align}\n",
        "$$"
      ],
      "metadata": {
        "id": "e97EJCejzVz1"
      }
    },
    {
      "cell_type": "markdown",
      "source": [
        "Last constraint\n",
        "\n",
        "$$\n",
        "\\begin{align}\n",
        "\\underset{\\eta^+_n,\\eta^-_n}{\\max} \\quad & \\sum_n b_{ln}\\overline{e}_n (\\eta^+_n-\\eta^-_n)  \\\\\n",
        "\\text{s.t.} \\quad & \\sum_n \\eta^+_n+\\eta^-_n \\leq \\Gamma: \\epsilon_l \\\\\n",
        "& \\eta^+_n \\leq 1: \\zeta^+_{ln}, \\quad \\forall n\\\\\n",
        "& \\eta^-_n \\leq 1: \\zeta^-_{ln}, \\quad \\forall n\\\\\n",
        "& \\eta^+_n,\\eta^-_n\\geq 0\n",
        "\\end{align}\n",
        "$$\n",
        "\n",
        "The dual is\n",
        "\n",
        "$$\n",
        "\\begin{align}\n",
        "\\underset{\\epsilon_l, \\zeta^+_{ln},\\zeta^-_{ln}}{\\min} \\quad & \\epsilon_l\\Gamma + \\sum_n  \\zeta^+_{ln}+\\zeta^-_{ln}  \\\\\n",
        "\\text{s.t.} \\quad & -b_{ln}\\overline{e}_n + \\epsilon_l + \\zeta^+_{ln} \\geq 0, \\quad \\forall n \\\\\n",
        "& b_{ln}\\overline{e}_n + \\epsilon_l + \\zeta^-_{ln} \\geq 0, \\quad \\forall n \\\\\n",
        "& \\epsilon_l, \\zeta^+_{ln},\\zeta^-_{ln}\\geq 0\n",
        "\\end{align}\n",
        "$$"
      ],
      "metadata": {
        "id": "Xdp8P_Q7zZfc"
      }
    },
    {
      "cell_type": "markdown",
      "source": [
        "We replace everything and obtain\n",
        "\n",
        "$$\n",
        "\\begin{align}\n",
        "\\underset{g_n,\\alpha,\\beta^+_n,\\beta^-_n,\\gamma_l,\\delta^+_{ln},\\delta^-_{ln},\\epsilon_l,\\zeta^+_{ln},\\zeta^-_{ln}}{\\min} \\quad & \\sum_n c_n g_n  \\\\\n",
        "\\text{s.t.} \\quad & 0 \\leq g_n \\leq \\overline{g}_n, \\quad \\forall n\\\\\n",
        "& \\sum_n g_n \\geq \\alpha\\Gamma + \\sum_n  \\hat{d}_n + \\beta^+_n+\\beta^-_n \\\\\n",
        "& -\\overline{f}_l \\leq -\\gamma_l\\Gamma - \\sum_n \\delta^+_{ln}+\\delta^-_{ln} - b_{ln}(g_n-\\hat{d}_n), \\quad \\forall l \\\\\n",
        "&  \\epsilon_l\\Gamma + \\sum_n  \\zeta^+_{ln}+\\zeta^-_{ln}+b_{ln}(g_n-\\hat{d}_n) \\leq \\overline{f}_l, \\quad \\forall l \\\\\n",
        "& \\overline{e}_n + \\alpha + \\beta^+_n \\geq 0, \\quad \\forall n \\\\\n",
        "& -\\overline{e}_n + \\alpha + \\beta^-_n \\geq 0, \\quad \\forall n \\\\\n",
        "& b_{ln}\\overline{e}_n + \\gamma_l + \\delta^+_{ln} \\geq 0, \\quad \\forall l,n \\\\\n",
        "& -b_{ln}\\overline{e}_n + \\gamma_l + \\delta^-_{ln} \\geq 0, \\quad \\forall l,n \\\\\n",
        "& -b_{ln}\\overline{e}_n + \\epsilon_l + \\zeta^+_{ln} \\geq 0, \\quad \\forall l,n \\\\\n",
        "& b_{ln}\\overline{e}_n + \\epsilon_l + \\zeta^-_{ln} \\geq 0, \\quad \\forall l,n \\\\\n",
        "& \\alpha,\\beta^+_n,\\beta^-_n,\\gamma_l,\\delta^+_{ln},\\delta^-_{ln},\\epsilon_l,\\zeta^+_{ln},\\zeta^-_{ln} \\geq 0\n",
        "\\end{align}\n",
        "$$"
      ],
      "metadata": {
        "id": "8gujqjY8zebq"
      }
    },
    {
      "cell_type": "code",
      "source": [
        "def dc_opf_robust_budget(demand,var,budget):\n",
        "  # model\n",
        "  m = gp.Model()  \n",
        "  # variables\n",
        "  gen = m.addMVar(nbus)\n",
        "  alpha = m.addVar()\n",
        "  beta_up = m.addMVar(nbus)\n",
        "  beta_do = m.addMVar(nbus)\n",
        "  gamma = m.addMVar(nlin)\n",
        "  delta_up = m.addMVar((nlin,nbus))\n",
        "  delta_do = m.addMVar((nlin,nbus))\n",
        "  epsilon = m.addMVar(nlin)\n",
        "  zeta_up = m.addMVar((nlin,nbus))\n",
        "  zeta_do = m.addMVar((nlin,nbus))\n",
        "  # objective function\n",
        "  m.setObjective(cost_bus @ gen, GRB.MINIMIZE)\n",
        "  # constraints\n",
        "  m.addConstr(gen <= pmax_bus)\n",
        "  m.addConstr(gen.sum() >= alpha*budget + demand.sum() + beta_up.sum() + beta_do.sum() )  \n",
        "  m.addConstrs(-cap_line[l] <= - budget*gamma[l] - delta_up[l,:].sum() - delta_do[l,:].sum() + ptdf[l,:] @ gen - ptdf[l,:] @ demand for l in range(nlin))\n",
        "  m.addConstrs(budget*epsilon[l] + zeta_up[l,:].sum() + zeta_do[l,:].sum() + ptdf[l,:] @ gen - ptdf[l,:] @ demand <= cap_line[l] for l in range(nlin))\n",
        "  m.addConstrs(var[n] + alpha + beta_up[n] >= 0 for n in range(nbus))\n",
        "  m.addConstrs(-var[n] + alpha + beta_do[n] >= 0 for n in range(nbus))\n",
        "  m.addConstrs(var[b]*ptdf[:,b] + gamma + delta_up[:,b] >= 0 for b in range(nbus))\n",
        "  m.addConstrs(-var[b]*ptdf[:,b] + gamma + delta_do[:,b] >= 0 for b in range(nbus))\n",
        "  m.addConstrs(-var[b]*ptdf[:,b] + epsilon + zeta_up[:,b] >= 0 for b in range(nbus))\n",
        "  m.addConstrs(var[b]*ptdf[:,b] + epsilon + zeta_do[:,b] >= 0 for b in range(nbus))\n",
        "  # solve\n",
        "  m.setParam('OutputFlag',0)\n",
        "  m.write('robust_ldr.lp')\n",
        "  m.optimize()\n",
        "  status(m)\n",
        "  # results\n",
        "  print('dispatch =',gen.X)\n",
        "  return gen.X"
      ],
      "metadata": {
        "id": "Go2pOVETkkwJ"
      },
      "execution_count": null,
      "outputs": []
    },
    {
      "cell_type": "markdown",
      "source": [
        "# Evaluate robust dispatch (Gamma=2, var=10)"
      ],
      "metadata": {
        "id": "zvqzu2clkNC_"
      }
    },
    {
      "cell_type": "code",
      "source": [
        "gen_robust = dc_opf_robust_budget(demand,var_10,2)\n",
        "evaluate_scenarios(gen_robust,scen_10)"
      ],
      "metadata": {
        "colab": {
          "base_uri": "https://localhost:8080/"
        },
        "id": "Wlmu3E9AkZXd",
        "outputId": "ee064116-4511-4d4f-cebd-8b423643a045"
      },
      "execution_count": null,
      "outputs": [
        {
          "output_type": "stream",
          "name": "stdout",
          "text": [
            "Status = optimal\n",
            "dispatch = [165.00045  54.99955 100.     ]\n",
            "minimum cost = 6805.793984354553\n",
            "average cost = 7261.625667993847\n",
            "maximum cost = 7887.157309766096\n"
          ]
        }
      ]
    },
    {
      "cell_type": "markdown",
      "source": [
        "# Evaluate robust dispatch (Gamma=2, var=20)"
      ],
      "metadata": {
        "id": "S-tIQHSzk8ST"
      }
    },
    {
      "cell_type": "code",
      "source": [
        "gen_robust = dc_opf_robust_budget(demand,var_20,2)\n",
        "evaluate_scenarios(gen_robust,scen_20)"
      ],
      "metadata": {
        "colab": {
          "base_uri": "https://localhost:8080/"
        },
        "outputId": "cead012b-dc84-4bfe-f95b-d17d9d0f965c",
        "id": "_s-hk3zqk8ST"
      },
      "execution_count": null,
      "outputs": [
        {
          "output_type": "stream",
          "name": "stdout",
          "text": [
            "Status = optimal\n",
            "dispatch = [155.00015  84.99985 100.     ]\n",
            "minimum cost = 6508.377671141625\n",
            "average cost = 7380.595424380075\n",
            "maximum cost = 8609.419849342969\n"
          ]
        }
      ]
    },
    {
      "cell_type": "markdown",
      "source": [
        "# Evaluate robust dispatch (Gamma=2, var=30)"
      ],
      "metadata": {
        "id": "O7W_ob4MlBNj"
      }
    },
    {
      "cell_type": "code",
      "source": [
        "gen_robust = dc_opf_robust_budget(demand,var_30,2)\n",
        "evaluate_scenarios(gen_robust,scen_30)"
      ],
      "metadata": {
        "colab": {
          "base_uri": "https://localhost:8080/",
          "height": 408
        },
        "outputId": "3d90753d-7c9a-4784-96f9-d0bbabb0470b",
        "id": "2bMHtVcHlBNj"
      },
      "execution_count": null,
      "outputs": [
        {
          "output_type": "stream",
          "name": "stdout",
          "text": [
            "Status = infeasible\n"
          ]
        },
        {
          "output_type": "error",
          "ename": "GurobiError",
          "evalue": "ignored",
          "traceback": [
            "\u001b[0;31m---------------------------------------------------------------------------\u001b[0m",
            "\u001b[0;31mGurobiError\u001b[0m                               Traceback (most recent call last)",
            "\u001b[0;32m<ipython-input-112-0e9d4fb3bec8>\u001b[0m in \u001b[0;36m<module>\u001b[0;34m()\u001b[0m\n\u001b[0;32m----> 1\u001b[0;31m \u001b[0mgen_robust\u001b[0m \u001b[0;34m=\u001b[0m \u001b[0mdc_opf_robust_budget\u001b[0m\u001b[0;34m(\u001b[0m\u001b[0mdemand\u001b[0m\u001b[0;34m,\u001b[0m\u001b[0mvar_30\u001b[0m\u001b[0;34m,\u001b[0m\u001b[0;36m2\u001b[0m\u001b[0;34m)\u001b[0m\u001b[0;34m\u001b[0m\u001b[0;34m\u001b[0m\u001b[0m\n\u001b[0m\u001b[1;32m      2\u001b[0m \u001b[0mevaluate_scenarios\u001b[0m\u001b[0;34m(\u001b[0m\u001b[0mgen_robust\u001b[0m\u001b[0;34m,\u001b[0m\u001b[0mscen_30\u001b[0m\u001b[0;34m)\u001b[0m\u001b[0;34m\u001b[0m\u001b[0;34m\u001b[0m\u001b[0m\n",
            "\u001b[0;32m<ipython-input-109-d198d8904e70>\u001b[0m in \u001b[0;36mdc_opf_robust_budget\u001b[0;34m(demand, var, budget)\u001b[0m\n\u001b[1;32m     32\u001b[0m   \u001b[0mstatus\u001b[0m\u001b[0;34m(\u001b[0m\u001b[0mm\u001b[0m\u001b[0;34m)\u001b[0m\u001b[0;34m\u001b[0m\u001b[0;34m\u001b[0m\u001b[0m\n\u001b[1;32m     33\u001b[0m   \u001b[0;31m# results\u001b[0m\u001b[0;34m\u001b[0m\u001b[0;34m\u001b[0m\u001b[0;34m\u001b[0m\u001b[0m\n\u001b[0;32m---> 34\u001b[0;31m   \u001b[0mprint\u001b[0m\u001b[0;34m(\u001b[0m\u001b[0;34m'dispatch ='\u001b[0m\u001b[0;34m,\u001b[0m\u001b[0mgen\u001b[0m\u001b[0;34m.\u001b[0m\u001b[0mX\u001b[0m\u001b[0;34m)\u001b[0m\u001b[0;34m\u001b[0m\u001b[0;34m\u001b[0m\u001b[0m\n\u001b[0m\u001b[1;32m     35\u001b[0m   \u001b[0;32mreturn\u001b[0m \u001b[0mgen\u001b[0m\u001b[0;34m.\u001b[0m\u001b[0mX\u001b[0m\u001b[0;34m\u001b[0m\u001b[0;34m\u001b[0m\u001b[0m\n",
            "\u001b[0;32msrc/gurobipy/mvar.pxi\u001b[0m in \u001b[0;36mgurobipy.MVar.__getattr__\u001b[0;34m()\u001b[0m\n",
            "\u001b[0;32msrc/gurobipy/mvar.pxi\u001b[0m in \u001b[0;36mgurobipy.MVar.getAttr\u001b[0;34m()\u001b[0m\n",
            "\u001b[0;32msrc/gurobipy/attrutil.pxi\u001b[0m in \u001b[0;36mgurobipy.__gettypedattrlist\u001b[0;34m()\u001b[0m\n",
            "\u001b[0;31mGurobiError\u001b[0m: Unable to retrieve attribute 'X'"
          ]
        }
      ]
    },
    {
      "cell_type": "markdown",
      "source": [
        "# Evaluate robust dispatch (Gamma=1, var=10)"
      ],
      "metadata": {
        "id": "TDUSQcS0lJrv"
      }
    },
    {
      "cell_type": "code",
      "source": [
        "gen_robust = dc_opf_robust_budget(demand,var_10,1)\n",
        "evaluate_scenarios(gen_robust,scen_10)"
      ],
      "metadata": {
        "colab": {
          "base_uri": "https://localhost:8080/"
        },
        "outputId": "8a804f01-940a-4f05-9635-3a7afd592a80",
        "id": "GqeKG1O-lJrw"
      },
      "execution_count": null,
      "outputs": [
        {
          "output_type": "stream",
          "name": "stdout",
          "text": [
            "Status = optimal\n",
            "dispatch = [165.00045  44.99955 100.     ]\n",
            "minimum cost = 6705.793984354553\n",
            "average cost = 7218.420343698785\n",
            "maximum cost = 7987.157309766096\n"
          ]
        }
      ]
    },
    {
      "cell_type": "markdown",
      "source": [
        "# Evaluate robust dispatch (Gamma=1, var=20)"
      ],
      "metadata": {
        "id": "KrgkOgV9l7kN"
      }
    },
    {
      "cell_type": "code",
      "source": [
        "gen_robust = dc_opf_robust_budget(demand,var_20,1)\n",
        "evaluate_scenarios(gen_robust,scen_20)"
      ],
      "metadata": {
        "colab": {
          "base_uri": "https://localhost:8080/"
        },
        "outputId": "c54e6ef4-085d-4671-e06f-031a38d11c71",
        "id": "2JcOa33vl7kT"
      },
      "execution_count": null,
      "outputs": [
        {
          "output_type": "stream",
          "name": "stdout",
          "text": [
            "Status = optimal\n",
            "dispatch = [155.00015  64.99985 100.     ]\n",
            "minimum cost = 6308.377671141626\n",
            "average cost = 7295.331642965818\n",
            "maximum cost = 8809.41984934297\n"
          ]
        }
      ]
    },
    {
      "cell_type": "markdown",
      "source": [
        "# Evaluate robust dispatch (Gamma=1, var=30)"
      ],
      "metadata": {
        "id": "zy2PxWpsl9iL"
      }
    },
    {
      "cell_type": "code",
      "source": [
        "gen_robust = dc_opf_robust_budget(demand,var_30,1)\n",
        "evaluate_scenarios(gen_robust,scen_30)"
      ],
      "metadata": {
        "colab": {
          "base_uri": "https://localhost:8080/"
        },
        "outputId": "76ca194c-b1ed-40a7-8c7c-da13503201b8",
        "id": "CR416Hyyl9iL"
      },
      "execution_count": null,
      "outputs": [
        {
          "output_type": "stream",
          "name": "stdout",
          "text": [
            "Status = optimal\n",
            "dispatch = [144.99985  85.00015 100.     ]\n",
            "minimum cost = 5936.416523679985\n",
            "average cost = 7408.386820560305\n",
            "maximum cost = 9812.09545681847\n"
          ]
        }
      ]
    },
    {
      "cell_type": "markdown",
      "source": [
        "# Linear decision rules\n",
        "\n",
        "We define $\\Omega = \\sum_n \\overline{e}_n\\eta_n$, $\\underline{\\Omega}=-\\sum_n\\overline{e}_n$, and $\\overline{\\Omega}=\\sum_n\\overline{e}_n$. We use a linear decision rule so that the output of each unit is determined by $g_n-\\beta_n\\Omega$. We first minimize the expected cost\n",
        "\n",
        "$$\n",
        "\\begin{align}\n",
        "\\underset{g_n,\\beta_n}{\\min} \\quad & \\mathbb{E} \\left[ \\sum_n c_n g_n + c^u_n\\max(0,-\\beta_n \\Omega) -c^d_n \\max(0,\\beta_n\\Omega) \\right] \\\\\n",
        "\\text{s.t.} \\quad & \\sum_n g_n-\\beta_n\\Omega = \\sum_n \\hat{d}_n - \\overline{e}_n\\eta_n \\\\\n",
        "& 0 \\leq g_n - \\beta_n\\Omega \\leq \\overline{g}_n, \\quad \\forall n\\\\\n",
        "& -\\overline{f}_l \\leq \\underset{\\eta_n\\in[-1,1]}{\\min} \\sum_n b_{ln}(g_n - \\beta_n\\sum_m \\overline{e}_m\\eta_m -\\hat{d}_n + \\overline{e}_n \\eta_n), \\quad \\forall l \\\\\n",
        "&  \\underset{\\eta_n\\in[-1,1]}{\\max} \\sum_n b_{ln}(g_n - \\beta_n\\sum_m \\overline{e}_m\\eta_m -\\hat{d}_n + \\overline{e}_n \\eta_n) \\leq \\overline{f}_l, \\quad \\forall l \\\\\n",
        "& \\beta_n \\geq 0\n",
        "\\end{align}\n",
        "$$"
      ],
      "metadata": {
        "id": "ZnVIEigIicOa"
      }
    },
    {
      "cell_type": "markdown",
      "source": [
        "We can reformulate as \n",
        "\n",
        "$$\n",
        "\\begin{align}\n",
        "\\underset{g_n,\\beta_n}{\\min} \\quad &  \\sum_n c_n g_n + \\frac{13}{96} \\overline{\\Omega} (c^u_n-c^d_n) \\beta_n \\\\\n",
        "\\text{s.t.} \\quad & \\sum_n g_n = \\sum_n \\hat{d}_n \\\\\n",
        "& \\sum_n \\beta_n = 1 \\\\\n",
        "& 0 \\leq g_n - \\underset{\\Omega\\in[\\underline{\\Omega},\\overline{\\Omega}]}{\\max}\\beta_n\\Omega, \\quad \\forall n\\\\\n",
        "& g_n - \\underset{\\Omega\\in[\\underline{\\Omega},\\overline{\\Omega}]}{\\min}\\beta_n\\Omega \\leq \\overline{g}_n, \\quad \\forall n\\\\\n",
        "& -\\overline{f}_l \\leq \\underset{\\eta_n\\in[-1,1]}{\\min} \\sum_n b_{ln}(g_n - \\beta_n\\sum_m \\overline{e}_m\\eta_m -\\hat{d}_n + \\overline{e}_n \\eta_n), \\quad \\forall l \\\\\n",
        "&  \\underset{\\eta_n\\in[-1,1]}{\\max} \\sum_n b_{ln}(g_n - \\beta_n\\sum_m \\overline{e}_m\\eta_m -\\hat{d}_n + \\overline{e}_n \\eta_n) \\leq \\overline{f}_l, \\quad \\forall l \\\\\n",
        "& \\beta_n \\geq 0\n",
        "\\end{align}\n",
        "$$"
      ],
      "metadata": {
        "id": "ndZTjdICzt-1"
      }
    },
    {
      "cell_type": "markdown",
      "source": [
        "And therefore\n",
        "\n",
        "$$\n",
        "\\begin{align}\n",
        "\\underset{g_n,\\beta_n}{\\min} \\quad &  \\sum_n c_n g_n + \\frac{13}{96} \\overline{\\Omega} (c^u_n-c^d_n) \\beta_n \\\\\n",
        "\\text{s.t.} \\quad & \\sum_n g_n = \\sum_n \\hat{d}_n \\\\\n",
        "& \\sum_n \\beta_n = 1 \\\\\n",
        "& 0 \\leq g_n - \\beta_n\\overline{\\Omega}, \\quad \\forall n\\\\\n",
        "& g_n - \\beta_n\\underline{\\Omega} \\leq \\overline{g}_n, \\quad \\forall n\\\\\n",
        "& -\\overline{f}_l \\leq \\sum_n b_{ln}(g_n-\\hat{d}_n) - \\sum_n \\overline{e}_n (\\alpha_{ln}+\\gamma_{ln}), \\quad \\forall l \\\\\n",
        "& b_{ln} - \\sum_m b_{lm}\\beta_m + \\alpha_{ln} - \\gamma_{ln} = 0, \\quad \\forall l,n\\\\\n",
        "& \\sum_n b_{ln}(g_n-\\hat{d}_n) + \\sum_n \\overline{e}_n (\\delta_{ln}+\\epsilon_{ln}) \\leq \\overline{f}_l, \\quad \\forall l \\\\\n",
        "& b_{ln} - \\sum_m b_{lm}\\beta_m + \\delta_{ln} - \\epsilon_{ln} = 0, \\quad \\forall l,n\\\\\n",
        "& g_n,\\beta_n,\\alpha_{ln},\\gamma_{ln},\\delta_{ln},\\epsilon_{ln} \\geq 0\n",
        "\\end{align}\n",
        "$$"
      ],
      "metadata": {
        "id": "n0-2aDGH0Pg9"
      }
    },
    {
      "cell_type": "code",
      "source": [
        "def dc_opf_ldr(demand,var):\n",
        "  # model\n",
        "  m = gp.Model()\n",
        "  # variables\n",
        "  gen = m.addMVar(nbus,name='gen')\n",
        "  beta = m.addMVar(nbus,name='beta')\n",
        "  alpha = m.addMVar((nlin,nbus))\n",
        "  gamma = m.addMVar((nlin,nbus))\n",
        "  delta = m.addMVar((nlin,nbus))\n",
        "  epsilon = m.addMVar((nlin,nbus))\n",
        "  # objective function\n",
        "  m.setObjective(cost_bus @ gen + (13/96) * var.sum() * cost_up_bus @ beta - 0.25 * var.sum() * cost_do_bus @ beta, GRB.MINIMIZE)\n",
        "  # constraints\n",
        "  m.addConstr(gen.sum() == demand.sum())\n",
        "  m.addConstr(beta.sum() == 1)\n",
        "  m.addConstr(0 <= gen - var.sum()*beta)\n",
        "  m.addConstr(gen + var.sum()*beta <= pmax_bus)\n",
        "  m.addConstrs(sum(ptdf[l,n]*(gen[n]-demand[n]) - var[n]*(alpha[l,n]+gamma[l,n]) for n in range(nbus)) >= -cap_line[l] for l in range(nlin))\n",
        "  m.addConstrs(ptdf[l,n] - sum(ptdf[l,m]*beta[m] for m in range(nbus)) + alpha[l,n] - gamma[l,n] == 0 for l in range(nlin) for n in range(nbus))\n",
        "  m.addConstrs(sum(ptdf[l,n]*(gen[n]-demand[n]) + var[n]*(delta[l,n]+epsilon[l,n]) for n in range(nbus)) <= cap_line[l] for l in range(nlin))\n",
        "  m.addConstrs(ptdf[l,n] - sum(ptdf[l,m]*beta[m] for m in range(nbus)) + delta[l,n] - epsilon[l,n] == 0 for l in range(nlin) for n in range(nbus))\n",
        "  #m.addConstr(ptdf @ gen - var.sum() * np.multiply(ptdf,pos_neg) @ beta - ptdf @ demand - np.multiply(ptdf,pos_neg) @ var >= -cap_line)\n",
        "  #m.addConstr(ptdf @ gen + var.sum() * np.multiply(ptdf,pos_neg) @ beta - ptdf @ demand + np.multiply(ptdf,pos_neg) @ var <= cap_line )\n",
        "  # solve\n",
        "  m.setParam('OutputFlag',0)\n",
        "  m.write('ldr.lp')\n",
        "  m.optimize()\n",
        "  status(m) \n",
        "  print(m.ObjVal)\n",
        "  # results\n",
        "  print('dispatch =',gen.X,beta.X)\n",
        "  return gen.X"
      ],
      "metadata": {
        "id": "BRkU0J2W6b1t"
      },
      "execution_count": 25,
      "outputs": []
    },
    {
      "cell_type": "markdown",
      "source": [
        "# Evaluate LDR dispatch with var = 10"
      ],
      "metadata": {
        "id": "JgNUlzhItho4"
      }
    },
    {
      "cell_type": "code",
      "source": [
        "gen_robust_ldr = dc_opf_ldr(demand,var_10)\n",
        "evaluate_scenarios(gen_robust_ldr,scen_10)"
      ],
      "metadata": {
        "colab": {
          "base_uri": "https://localhost:8080/"
        },
        "id": "bIXvgSHGtZHw",
        "outputId": "77216623-a01e-4bc2-8344-2f271bcdf2f7"
      },
      "execution_count": null,
      "outputs": [
        {
          "output_type": "stream",
          "name": "stdout",
          "text": [
            "Status = optimal\n",
            "7183.4412500375\n",
            "dispatch = [114.99924999 115.00075001  70.        ] [0. 0. 1.]\n",
            "minimum cost = 6466.195068048693\n",
            "average cost = 7296.809505288221\n",
            "maximum cost = 8110.00457565708\n"
          ]
        }
      ]
    },
    {
      "cell_type": "markdown",
      "source": [
        "# Evaluate LDR dispatch with var = 20"
      ],
      "metadata": {
        "id": "I6PZfDSCyzzh"
      }
    },
    {
      "cell_type": "code",
      "source": [
        "gen_robust_ldr = dc_opf_ldr(demand,var_20)\n",
        "evaluate_scenarios(gen_robust_ldr,scen_20)"
      ],
      "metadata": {
        "colab": {
          "base_uri": "https://localhost:8080/"
        },
        "outputId": "6db09b8d-a545-4505-f183-14740724d44b",
        "id": "lFj_z48Wyzzp"
      },
      "execution_count": 17,
      "outputs": [
        {
          "output_type": "stream",
          "name": "stdout",
          "text": [
            "Status = optimal\n",
            "dispatch = [110.         108.74955001  81.25044999] [0.        0.6875075 0.3124925]\n",
            "minimum cost = 5838.4198851248275\n",
            "average cost = 7362.949699890145\n",
            "maximum cost = 9081.563974619505\n"
          ]
        }
      ]
    },
    {
      "cell_type": "markdown",
      "source": [
        "# Evaluate LDR dispatch with var = 30\n"
      ],
      "metadata": {
        "id": "edcNZEmly9M-"
      }
    },
    {
      "cell_type": "code",
      "source": [
        "gen_robust_ldr = dc_opf_ldr(demand,var_30)\n",
        "evaluate_scenarios(gen_robust_ldr,scen_30)"
      ],
      "metadata": {
        "id": "gzQetVI7y9NA",
        "colab": {
          "base_uri": "https://localhost:8080/",
          "height": 391
        },
        "outputId": "c749b861-2220-450f-bba8-ef186314e195"
      },
      "execution_count": null,
      "outputs": [
        {
          "output_type": "error",
          "ename": "GurobiError",
          "evalue": "ignored",
          "traceback": [
            "\u001b[0;31m---------------------------------------------------------------------------\u001b[0m",
            "\u001b[0;31mGurobiError\u001b[0m                               Traceback (most recent call last)",
            "\u001b[0;32m<ipython-input-120-dddc879062d6>\u001b[0m in \u001b[0;36m<module>\u001b[0;34m()\u001b[0m\n\u001b[0;32m----> 1\u001b[0;31m \u001b[0mgen_robust_ldr\u001b[0m \u001b[0;34m=\u001b[0m \u001b[0mdc_opf_ldr\u001b[0m\u001b[0;34m(\u001b[0m\u001b[0mdemand\u001b[0m\u001b[0;34m,\u001b[0m\u001b[0mvar_30\u001b[0m\u001b[0;34m)\u001b[0m\u001b[0;34m\u001b[0m\u001b[0;34m\u001b[0m\u001b[0m\n\u001b[0m\u001b[1;32m      2\u001b[0m \u001b[0mevaluate_scenarios\u001b[0m\u001b[0;34m(\u001b[0m\u001b[0mgen_robust_ldr\u001b[0m\u001b[0;34m,\u001b[0m\u001b[0mscen_30\u001b[0m\u001b[0;34m)\u001b[0m\u001b[0;34m\u001b[0m\u001b[0;34m\u001b[0m\u001b[0m\n",
            "\u001b[0;32m<ipython-input-117-f7876facdf44>\u001b[0m in \u001b[0;36mdc_opf_ldr\u001b[0;34m(demand, var)\u001b[0m\n\u001b[1;32m     20\u001b[0m   \u001b[0mstatus\u001b[0m\u001b[0;34m(\u001b[0m\u001b[0mm\u001b[0m\u001b[0;34m)\u001b[0m\u001b[0;34m\u001b[0m\u001b[0;34m\u001b[0m\u001b[0m\n\u001b[1;32m     21\u001b[0m   \u001b[0;31m# results\u001b[0m\u001b[0;34m\u001b[0m\u001b[0;34m\u001b[0m\u001b[0;34m\u001b[0m\u001b[0m\n\u001b[0;32m---> 22\u001b[0;31m   \u001b[0mprint\u001b[0m\u001b[0;34m(\u001b[0m\u001b[0;34m'dispatch ='\u001b[0m\u001b[0;34m,\u001b[0m\u001b[0mgen\u001b[0m\u001b[0;34m.\u001b[0m\u001b[0mX\u001b[0m\u001b[0;34m,\u001b[0m\u001b[0mbeta\u001b[0m\u001b[0;34m.\u001b[0m\u001b[0mX\u001b[0m\u001b[0;34m)\u001b[0m\u001b[0;34m\u001b[0m\u001b[0;34m\u001b[0m\u001b[0m\n\u001b[0m\u001b[1;32m     23\u001b[0m   \u001b[0;32mreturn\u001b[0m \u001b[0mgen\u001b[0m\u001b[0;34m.\u001b[0m\u001b[0mX\u001b[0m\u001b[0;34m\u001b[0m\u001b[0;34m\u001b[0m\u001b[0m\n",
            "\u001b[0;32msrc/gurobipy/mvar.pxi\u001b[0m in \u001b[0;36mgurobipy.MVar.__getattr__\u001b[0;34m()\u001b[0m\n",
            "\u001b[0;32msrc/gurobipy/mvar.pxi\u001b[0m in \u001b[0;36mgurobipy.MVar.getAttr\u001b[0;34m()\u001b[0m\n",
            "\u001b[0;32msrc/gurobipy/attrutil.pxi\u001b[0m in \u001b[0;36mgurobipy.__gettypedattrlist\u001b[0;34m()\u001b[0m\n",
            "\u001b[0;31mGurobiError\u001b[0m: Unable to retrieve attribute 'X'"
          ]
        }
      ]
    },
    {
      "cell_type": "markdown",
      "source": [
        "First primal\n",
        "\n",
        "$$\n",
        "\\begin{align}\n",
        "\\underset{\\eta^+_m,\\eta^-_m}{\\max} \\quad & \\beta_n\\sum_m \\overline{e}_m(\\eta^+_m-\\eta^-_m)  \\\\\n",
        "\\text{s.t.} \\quad & \\sum_m \\eta^+_m+\\eta^-_m \\leq \\Gamma: \\tau_n \\\\\n",
        "& \\eta^+_m \\leq 1: \\rho^+_{nm}, \\quad \\forall m\\\\\n",
        "& \\eta^-_m \\leq 1: \\rho^-_{nm}, \\quad \\forall m\\\\\n",
        "& \\eta^+_m,\\eta^-_m\\geq 0\n",
        "\\end{align}\n",
        "$$\n"
      ],
      "metadata": {
        "id": "Ecs3e9nAR6-6"
      }
    },
    {
      "cell_type": "markdown",
      "source": [
        "First dual\n",
        "\n",
        "$$\n",
        "\\begin{align}\n",
        "\\underset{\\tau_n,\\rho^+_{nm},\\rho^-_{nm}}{\\min} \\quad & \\Gamma\\tau_n + \\sum_m \\rho^+_{nm} + \\rho^-_{nm}  \\\\\n",
        "\\text{s.t.} \\quad & -\\beta_n\\overline{e}_m + \\tau_n + \\rho^+_{nm} \\geq 0, \\quad \\forall m \\\\\n",
        "& \\beta_n\\overline{e}_m + \\tau_n + \\rho^-_{nm} \\geq 0, \\quad \\forall m\\\\\n",
        "& \\tau,\\rho^+_{nm},\\rho^-_{nm} \\geq 0\n",
        "\\end{align}\n",
        "$$"
      ],
      "metadata": {
        "id": "WzaZIigmSvNi"
      }
    },
    {
      "cell_type": "markdown",
      "source": [
        "Second primal\n",
        "\n",
        "$$\n",
        "\\begin{align}\n",
        "\\underset{\\eta^+_{m},\\eta^-_{m}}{\\min} \\quad & \\beta_n \\sum_m \\overline{e}_m (\\eta^+_{m}-\\eta^-_{m})  \\\\\n",
        "\\text{s.t.} \\quad & \\sum_m \\eta^+_{m}+\\eta^-_{m} \\leq \\Gamma: \\kappa_n \\\\\n",
        "& \\eta^+_m \\leq 1: \\mu^+_{nm}, \\quad \\forall m\\\\\n",
        "& \\eta^-_m \\leq 1: \\mu^-_{nm}, \\quad \\forall m\\\\\n",
        "& \\eta^+_m,\\eta^-_m\\geq 0\n",
        "\\end{align}\n",
        "$$"
      ],
      "metadata": {
        "id": "Sc4itgtBTjKP"
      }
    },
    {
      "cell_type": "markdown",
      "source": [
        "Second dual\n",
        "\n",
        "$$\n",
        "\\begin{align}\n",
        "\\underset{\\kappa_n,\\mu^+_{nm},\\mu^-_{nm}}{\\max} \\quad & -\\Gamma\\kappa_n - \\sum_m \\mu^+_{nm} + \\mu^-_{nm}  \\\\\n",
        "\\text{s.t.} \\quad & \\beta_n\\overline{e}_m + \\kappa_n + \\mu^+_{nm} \\geq 0, \\quad \\forall m \\\\\n",
        "& -\\beta_n\\overline{e}_m + \\kappa_n + \\mu^-_{nm} \\geq 0, \\quad \\forall m\\\\\n",
        "& \\kappa_n,\\mu^+_{nm},\\mu^-_{nm} \\geq 0\n",
        "\\end{align}\n",
        "$$"
      ],
      "metadata": {
        "id": "hHJd9YI_Tu3I"
      }
    },
    {
      "cell_type": "markdown",
      "source": [
        "Third primal\n",
        "\n",
        "$$\n",
        "\\begin{align}\n",
        "\\underset{\\eta^+_n,\\eta^-_n}{\\min} \\quad & \\sum_n -b_{ln}\\beta_n\\sum_m \\overline{e}_m (\\eta^+_m-\\eta^-_m) +b_{ln}\\overline{e}_n (\\eta^+_n-\\eta^-_n)  \\\\\n",
        "\\text{s.t.} \\quad & \\sum_n \\eta^+_n+\\eta^-_n \\leq \\Gamma: \\gamma_l \\\\\n",
        "& \\eta^+_n \\leq 1: \\delta^+_{ln}, \\quad \\forall n\\\\\n",
        "& \\eta^-_n \\leq 1: \\delta^-_{ln}, \\quad \\forall n\\\\\n",
        "& \\eta^+_n,\\eta^-_n\\geq 0\n",
        "\\end{align}\n",
        "$$"
      ],
      "metadata": {
        "id": "VWXfGWko2bX2"
      }
    },
    {
      "cell_type": "markdown",
      "source": [
        "Third dual\n",
        "\n",
        "$$\n",
        "\\begin{align}\n",
        "\\underset{\\gamma_l, \\delta^+_{ln},\\delta^-_{ln}}{\\max} \\quad & - \\gamma_l\\Gamma - \\sum_n  \\delta^+_{ln}+\\delta^-_{ln}  \\\\\n",
        "\\text{s.t.} \\quad & -\\overline{e}_n \\left(-b_{ln} + \\sum_m b_{lm}\\beta_m \\right) + \\gamma_l + \\delta^+_{ln} \\geq 0, \\quad \\forall n \\\\\n",
        "& \\overline{e}_n \\left(-b_{ln} + \\sum_m b_{lm}\\beta_m \\right) + \\gamma_l + \\delta^-_{ln} \\geq 0, \\quad \\forall n \\\\\n",
        "& \\gamma_l, \\delta^+_{ln},\\delta^-_{ln}\\geq 0\n",
        "\\end{align}\n",
        "$$"
      ],
      "metadata": {
        "id": "wmaHiqrt56PV"
      }
    },
    {
      "cell_type": "markdown",
      "source": [
        "Four primal\n",
        "\n",
        "$$\n",
        "\\begin{align}\n",
        "\\underset{\\eta^+_n,\\eta^-_n}{\\max} \\quad & \\sum_n -b_{ln}\\beta_n\\sum_m \\overline{e}_m (\\eta^+_m-\\eta^-_m) +b_{ln}\\overline{e}_n (\\eta^+_n-\\eta^-_n)  \\\\\n",
        "\\text{s.t.} \\quad & \\sum_n \\eta^+_n+\\eta^-_n \\leq \\Gamma: \\epsilon_l \\\\\n",
        "& \\eta^+_n \\leq 1: \\zeta^+_{ln}, \\quad \\forall n\\\\\n",
        "& \\eta^-_n \\leq 1: \\zeta^-_{ln}, \\quad \\forall n\\\\\n",
        "& \\eta^+_n,\\eta^-_n\\geq 0\n",
        "\\end{align}\n",
        "$$"
      ],
      "metadata": {
        "id": "FrA2KtEc7jSr"
      }
    },
    {
      "cell_type": "markdown",
      "source": [
        "Four dual\n",
        "\n",
        "$$\n",
        "\\begin{align}\n",
        "\\underset{\\epsilon_l, \\zeta^+_{ln},\\zeta^-_{ln}}{\\min} \\quad &  \\epsilon_l\\Gamma + \\sum_n  \\zeta^+_{ln}+\\zeta^-_{ln}  \\\\\n",
        "\\text{s.t.} \\quad & \\sum_n b_{ln}\\beta_n - \\lambda_l = 0 \\\\\n",
        "& \\overline{e}_n \\left(-b_{ln} + \\sum_m b_{lm}\\beta_m \\right) + \\epsilon_l + \\zeta^+_{ln} \\geq 0, \\quad \\forall n \\\\\n",
        "& -\\overline{e}_n \\left(-b_{ln} + \\sum_m b_{lm}\\beta_m \\right) + \\epsilon_l + \\zeta^-_{ln} \\geq 0, \\quad \\forall n \\\\\n",
        "& \\epsilon_l, \\zeta^+_{ln},\\zeta^-_{ln}\\geq 0\n",
        "\\end{align}\n",
        "$$"
      ],
      "metadata": {
        "id": "ARy3Tg5A7-5Z"
      }
    },
    {
      "cell_type": "markdown",
      "source": [
        "By using the dual formulation we obtain\n",
        "\n",
        "$$\n",
        "\\begin{align}\n",
        "\\underset{g_n,\\beta_n,\\tau_n,\\rho^+_{nm},\\rho^-_{nm},\\kappa_n,\\mu^+_{nm},\\mu^-_{nm},\\gamma_l, \\delta^+_{ln},\\delta^-_{ln},\\epsilon_l, \\zeta^+_{ln},\\zeta^-_{ln}}{\\min} \\quad &  \\sum_n c_n g_n + \\frac{13}{96} \\overline{\\Omega} (c^u_n-c^d_n) beta_n  \\\\\n",
        "\\text{s.t.} \\quad & \\sum_n g_n = \\sum_n \\hat{d}_n \\\\\n",
        "& \\sum_n \\beta_n = 1 \\\\\n",
        "& 0 \\leq g_n - \\Gamma\\tau_n - \\sum_m \\rho^+_{nm} + \\rho^-_{nm}, \\quad \\forall n\\\\\n",
        "& -\\beta_n\\overline{e}_m + \\tau_n + \\rho^+_{nm} \\geq 0, \\quad \\forall n,m \\\\\n",
        "& \\beta_n\\overline{e}_m + \\tau_n + \\rho^-_{nm} \\geq 0, \\quad \\forall n,m\\\\\n",
        "& g_n + \\Gamma\\kappa_n + \\sum_m \\mu^+_{nm} + \\mu^-_{nm} \\leq \\overline{g}_n, \\quad \\forall n\\\\\n",
        "& \\beta_n\\overline{e}_m + \\kappa_n + \\mu^+_{nm} \\geq 0, \\quad \\forall n,m \\\\\n",
        "& -\\beta_n\\overline{e}_m + \\kappa_n + \\mu^-_{nm} \\geq 0, \\quad \\forall n,m\\\\\n",
        "& -\\overline{f}_l \\leq \\sum_n b_{ln}(g_n-\\hat{d}_n) -\\gamma_l\\Gamma - \\sum_n \\delta^+_{ln} + \\delta^-_{ln}, \\quad \\forall l \\\\\n",
        "& -\\overline{e}_n \\left(-b_{ln} + \\sum_m b_{lm}\\beta_m \\right) + \\gamma_l + \\delta^+_{ln} \\geq 0, \\quad \\forall n,l \\\\\n",
        "& \\overline{e}_n \\left(-b_{ln} + \\sum_m b_{lm}\\beta_m \\right) + \\gamma_l + \\delta^-_{ln} \\geq 0, \\quad \\forall n,l \\\\\n",
        "& \\sum_n b_{ln}(g_n-\\hat{d}_n) + \\epsilon_l\\Gamma + \\sum_n \\zeta^+_{ln}+\\zeta^-_{ln} \\leq \\overline{f}_l, \\quad \\forall l \\\\\n",
        "& \\overline{e}_n \\left(-b_{ln} + \\sum_m b_{lm}\\beta_m \\right) + \\epsilon_l + \\zeta^+_{ln} \\geq 0, \\quad \\forall n,l \\\\\n",
        "& -\\overline{e}_n \\left(-b_{ln} + \\sum_m b_{lm}\\beta_m \\right) + \\epsilon_l + \\zeta^-_{ln} \\geq 0, \\quad \\forall n,l \\\\\n",
        "& g_n,\\beta_n, \\tau_n,\\rho^+_{nm}\\rho^-_{nm}, \\kappa_n,\\mu^+_{nm},\\mu^-_{nm},\\gamma_l, \\delta^+_{ln},\\delta^-_{ln}, \\epsilon_l, \\zeta^+_{ln},\\zeta^-_{ln} \\geq 0\n",
        "\\end{align}\n",
        "$$"
      ],
      "metadata": {
        "id": "j5AYK4Ve9TyH"
      }
    },
    {
      "cell_type": "code",
      "source": [
        "def dc_opf_ldr_budget(demand,var,budget):\n",
        "  # model\n",
        "  m = gp.Model()\n",
        "  m.Params.Threads = 1\n",
        "  # variables\n",
        "  gen = m.addMVar(nbus,name='gen')\n",
        "  beta = m.addMVar(nbus,name='beta')\n",
        "  tau = m.addMVar(nbus,name='tau')\n",
        "  rho_up = m.addMVar((nbus,nbus),name='rho_up')\n",
        "  rho_do = m.addMVar((nbus,nbus),name='rho_do')\n",
        "  kappa = m.addMVar(nbus,name='kappa')\n",
        "  mu_up = m.addMVar((nbus,nbus),name='mu_up')\n",
        "  mu_do = m.addMVar((nbus,nbus),name='mu_do')  \n",
        "  gamma = m.addMVar(nlin,name='gamma')  \n",
        "  delta_up = m.addMVar((nlin,nbus),name='delta_up')\n",
        "  delta_do = m.addMVar((nlin,nbus),name='delta_do')  \n",
        "  epsilon = m.addMVar(nlin,name='epsilon')\n",
        "  zeta_up = m.addMVar((nlin,nbus),name='zeta_up')\n",
        "  zeta_do = m.addMVar((nlin,nbus),name='zeta_do')\n",
        "  # objective function\n",
        "  m.setObjective(cost_bus @ gen + (13/96) * var.sum() * (cost_up_bus @ beta) - 0.25 * var.sum() * (cost_do_bus @ beta), GRB.MINIMIZE)  \n",
        "  # constraints\n",
        "  m.addConstr(gen.sum() == demand.sum())\n",
        "  m.addConstr(beta.sum() == 1)\n",
        "  m.addConstrs(0 <= gen[n] - budget*tau[n] - rho_up[n,:].sum() - rho_do[n,:].sum() for n in range(nbus))\n",
        "  m.addConstrs(-beta[n]*var[m] + tau[n] + rho_up[n,m] >= 0 for n in range(nbus) for m in range(nbus))\n",
        "  m.addConstrs(beta[n]*var[m] + tau[n] + rho_do[n,m] >= 0 for n in range(nbus) for m in range(nbus))\n",
        "  m.addConstrs(gen[n] + budget*kappa[n] + mu_up[n,:].sum() + mu_do[n,:].sum() <= pmax_bus[n] for n in range(nbus))\n",
        "  m.addConstrs(beta[n]*var[m] + kappa[n] + mu_up[n,m] >= 0 for n in range(nbus) for m in range(nbus))\n",
        "  m.addConstrs(-beta[n]*var[m] + kappa[n] + mu_do[n,m] >= 0 for n in range(nbus) for m in range(nbus))\n",
        "  m.addConstrs(-cap_line[l] <= sum(ptdf[l,n]*(gen[n]-demand[n]) for n in range(nbus)) -budget*gamma[l] - delta_up[l,:].sum() - delta_do[l,:].sum() for l in range(nlin))\n",
        "  m.addConstrs(-var[n]*(-ptdf[l,n] + sum(ptdf[l,m]*beta[m] for m in range(nbus))) + gamma[l] + delta_up[l,n] >= 0 for n in range(nbus) for l in range(nlin))\n",
        "  m.addConstrs(var[n]*(-ptdf[l,n] + sum(ptdf[l,m]*beta[m] for m in range(nbus))) + gamma[l] + delta_do[l,n] >= 0 for n in range(nbus) for l in range(nlin))\n",
        "  m.addConstrs(sum(ptdf[l,n]*(gen[n]-demand[n]) for n in range(nbus)) + budget*epsilon[l] + zeta_up[l,:].sum() + zeta_do[l,:].sum() <= cap_line[l] for l in range(nlin)) \n",
        "  m.addConstrs(var[n]*(-ptdf[l,n] + sum(ptdf[l,m]*beta[m] for m in range(nbus))) + epsilon[l] + zeta_up[l,n] >= 0 for n in range(nbus) for l in range(nlin))\n",
        "  m.addConstrs(-var[n]*(-ptdf[l,n] + sum(ptdf[l,m]*beta[m] for m in range(nbus))) + epsilon[l] + zeta_do[l,n] >= 0 for n in range(nbus) for l in range(nlin))  \n",
        "  # solve\n",
        "  m.setParam('OutputFlag',0)  \n",
        "  m.optimize()\n",
        "  print('obj =',m.ObjVal)\n",
        "  status(m)   \n",
        "  m.write('ldr_budget.lp')\n",
        "  # results\n",
        "  print('dispatch =',gen.X,beta.X)\n",
        "  return gen.X"
      ],
      "metadata": {
        "id": "ygKSTljlAHrP"
      },
      "execution_count": null,
      "outputs": []
    },
    {
      "cell_type": "markdown",
      "source": [
        ""
      ],
      "metadata": {
        "id": "UiekpIKErQjf"
      }
    },
    {
      "cell_type": "markdown",
      "source": [
        "# Evaluate LDR dispatch (Gamma=2, var=10)"
      ],
      "metadata": {
        "id": "d3nWx6GfrU7U"
      }
    },
    {
      "cell_type": "code",
      "source": [
        "gen_ldr_budget = dc_opf_ldr_budget(demand,var_10,2)\n",
        "evaluate_scenarios(gen_ldr_budget,scen_10)"
      ],
      "metadata": {
        "id": "es_gnwpBrfI2"
      },
      "execution_count": null,
      "outputs": []
    },
    {
      "cell_type": "markdown",
      "source": [
        "# Evaluate LDR dispatch (Gamma=2, var=20)"
      ],
      "metadata": {
        "id": "8bbcK_kIsNxf"
      }
    },
    {
      "cell_type": "code",
      "source": [
        "gen_ldr_budget = dc_opf_ldr_budget(demand,var_20,2)\n",
        "evaluate_scenarios(gen_ldr_budget,scen_20)"
      ],
      "metadata": {
        "id": "Y6hsiNA8sZES"
      },
      "execution_count": null,
      "outputs": []
    },
    {
      "cell_type": "markdown",
      "source": [
        "# Evaluate LDR dispatch (Gamma=2, var=30)"
      ],
      "metadata": {
        "id": "nToqxPuhsPYG"
      }
    },
    {
      "cell_type": "code",
      "source": [
        "gen_ldr_budget = dc_opf_ldr_budget(demand,var_30,2)\n",
        "evaluate_scenarios(gen_ldr_budget,scen_30)"
      ],
      "metadata": {
        "id": "gKkI0BaOsb7B"
      },
      "execution_count": null,
      "outputs": []
    },
    {
      "cell_type": "markdown",
      "source": [
        "# Evaluate LDR dispatch (Gamma=1, var=10)"
      ],
      "metadata": {
        "id": "Q_1_KRM1sRZY"
      }
    },
    {
      "cell_type": "code",
      "source": [
        "gen_ldr_budget = dc_opf_ldr_budget(demand,var_10,1)\n",
        "evaluate_scenarios(gen_ldr_budget,scen_10)"
      ],
      "metadata": {
        "id": "x4iy8TuMseYj"
      },
      "execution_count": null,
      "outputs": []
    },
    {
      "cell_type": "markdown",
      "source": [
        "# Evaluate LDR dispatch (Gamma=1, var=20)"
      ],
      "metadata": {
        "id": "thI-hwXmsT7l"
      }
    },
    {
      "cell_type": "code",
      "source": [
        "gen_ldr_budget = dc_opf_ldr_budget(demand,var_20,1)\n",
        "evaluate_scenarios(gen_ldr_budget,scen_20)"
      ],
      "metadata": {
        "id": "54QsO6UJsiCX"
      },
      "execution_count": null,
      "outputs": []
    },
    {
      "cell_type": "markdown",
      "source": [
        "# Evaluate LDR dispatch (Gamma=1, var=30)"
      ],
      "metadata": {
        "id": "vBK_LYp5sVkf"
      }
    },
    {
      "cell_type": "code",
      "source": [
        "gen_ldr_budget = dc_opf_ldr_budget(demand,var_30,1)\n",
        "evaluate_scenarios(gen_ldr_budget,scen_30)"
      ],
      "metadata": {
        "id": "fPcW0Ge1slTw"
      },
      "execution_count": null,
      "outputs": []
    },
    {
      "cell_type": "markdown",
      "source": [
        "# Stochastic programming\n",
        "\n",
        "We use the index $w$ for scenarios and $\\pi_w$ for scenario probability. First stage decision are $g_n$ while second stage decisions are $r_{nw}$. The two-stage optimization problem is formulated as follows:\n",
        "\n",
        "$$\n",
        "\\begin{align}\n",
        "\\underset{g_n,r^u_{nw}, r^d_{nw}}{\\min} \\quad &  \\sum_w \\pi_w\\left( \\sum_n c_n g_n + c^u_n r^u_{nw} - c^d_n r^d_{nw}\\right)  \\\\\n",
        "\\text{s.t.} \\quad & \\sum_n g_n = \\sum_n \\hat{d}_n \\\\\n",
        "& 0 \\leq g_n \\leq \\overline{g}_n, \\quad \\forall n,w\\\\\n",
        "& -\\overline{f}_l \\leq \\sum_n b_{ln}(g_n -\\hat{d}_n) \\leq \\overline{f}_l, \\quad \\forall l,w \\\\\n",
        "& \\sum_n g_n+r^u_{nw}-r^d_{nw} = \\sum_n \\hat{d}_n - \\overline{e}_n\\eta_{nw}, \\quad \\forall w \\\\\n",
        "& 0 \\leq g_n + r^u_{nw} - r^d_{nw} \\leq \\overline{g}_n, \\quad \\forall n,w\\\\\n",
        "& -\\overline{f}_l \\leq \\sum_n b_{ln}(g_n +r^u_{nw} - r^d_{nw} -\\hat{d}_n + \\overline{e}_n \\eta_{nw}) \\leq \\overline{f}_l, \\quad \\forall l,w \\\\\n",
        "& r^u_{nw}, r^d_{nw}\\geq 0\n",
        "\\end{align}\n",
        "$$"
      ],
      "metadata": {
        "id": "zekepkXC-x9c"
      }
    },
    {
      "cell_type": "code",
      "source": [
        "def sto(demand,var,nscen):\n",
        "  # generate scenarios\n",
        "  eta = np.zeros((nbus,nscen))\n",
        "  for n in range(nbus):\n",
        "    for s in range(nscen):\n",
        "      eta[n,s] = var[n]*np.random.uniform(-1,1)\n",
        "  # model\n",
        "  m = gp.Model()  \n",
        "  # variables\n",
        "  gen = m.addMVar(nbus)\n",
        "  res_up = m.addMVar((nbus,nscen))\n",
        "  res_do = m.addMVar((nbus,nscen))\n",
        "  # objective function\n",
        "  m.setObjective(cost_bus @ gen + sum(cost_up_bus @ res_up[:,s] for s in range(nscen))/nscen - sum(cost_do_bus @ res_do[:,s] for s in range(nscen))/nscen, GRB.MINIMIZE)\n",
        "  # constraints\n",
        "  m.addConstr(gen.sum() == demand.sum())\n",
        "  m.addConstr(gen <= pmax_bus)\n",
        "  m.addConstr(ptdf @ gen >= -cap_line + ptdf @ demand)\n",
        "  m.addConstr(ptdf @ gen <= cap_line + ptdf @ demand)\n",
        "  m.addConstrs(gen.sum() + res_up[:,s].sum() - res_do[:,s].sum() == demand.sum() - eta[:,s].sum() for s in range(nscen))\n",
        "  m.addConstrs(gen + res_up[:,s] - res_do[:,s] >= 0 for s in range(nscen))\n",
        "  m.addConstrs(gen + res_up[:,s] - res_do[:,s] <= pmax_bus for s in range(nscen))\n",
        "  m.addConstrs(ptdf @ gen + ptdf @ res_up[:,s] - ptdf @ res_do[:,s] >= -cap_line + ptdf @ demand - ptdf @ eta[:,s]  for s in range(nscen))\n",
        "  m.addConstrs(ptdf @ gen + ptdf @ res_up[:,s] - ptdf @ res_do[:,s] <= cap_line + ptdf @ demand - ptdf @ eta[:,s] for s in range(nscen))\n",
        "  # solve\n",
        "  m.setParam('OutputFlag',0)  \n",
        "  m.optimize()\n",
        "  status(m)     \n",
        "  # results\n",
        "  print('dispatch =',gen.X)  \n",
        "  return gen.X"
      ],
      "metadata": {
        "id": "E-Q0vTVCGhDd"
      },
      "execution_count": null,
      "outputs": []
    },
    {
      "cell_type": "markdown",
      "source": [
        "# Evaluate stochastic dispatch with var=10"
      ],
      "metadata": {
        "id": "V3xXxSlUtrEX"
      }
    },
    {
      "cell_type": "code",
      "source": [
        "gen_sto = sto(demand,var_10,100)\n",
        "evaluate_scenarios(gen_sto,scen_10)"
      ],
      "metadata": {
        "colab": {
          "base_uri": "https://localhost:8080/"
        },
        "id": "JDAiL5ojtSjQ",
        "outputId": "beb953cc-aedd-444d-f62f-f5a54ac3e555"
      },
      "execution_count": null,
      "outputs": [
        {
          "output_type": "stream",
          "name": "stdout",
          "text": [
            "Status = optimal\n",
            "dispatch = [144.46984946  81.40699416  74.12315639]\n",
            "minimum cost = 6657.013140067669\n",
            "average cost = 7205.598943345001\n",
            "maximum cost = 7956.918719961153\n"
          ]
        }
      ]
    },
    {
      "cell_type": "markdown",
      "source": [
        "# Evaluate stochastic dispatch with var=20"
      ],
      "metadata": {
        "id": "T4ynLBN7tx2K"
      }
    },
    {
      "cell_type": "code",
      "source": [
        "gen_sto = sto(demand,var_20,100)\n",
        "evaluate_scenarios(gen_sto,scen_20)"
      ],
      "metadata": {
        "colab": {
          "base_uri": "https://localhost:8080/"
        },
        "id": "xRvXIWlut2SP",
        "outputId": "c52e6df0-1f83-4509-81bf-6777746fbb97"
      },
      "execution_count": null,
      "outputs": [
        {
          "output_type": "stream",
          "name": "stdout",
          "text": [
            "Status = optimal\n",
            "dispatch = [115.20346573 130.35062414  54.44591013]\n",
            "minimum cost = 6160.211035767108\n",
            "average cost = 7266.657946043893\n",
            "maximum cost = 8798.416461893976\n"
          ]
        }
      ]
    },
    {
      "cell_type": "markdown",
      "source": [
        "# Evaluate stochastic dispatch with var=30"
      ],
      "metadata": {
        "id": "0fpZ9qJEtzF9"
      }
    },
    {
      "cell_type": "code",
      "source": [
        "gen_sto = sto(demand,var_30,100)\n",
        "evaluate_scenarios(gen_sto,scen_30)"
      ],
      "metadata": {
        "colab": {
          "base_uri": "https://localhost:8080/"
        },
        "id": "en02MAkut5LW",
        "outputId": "143b7c46-ef03-4ac2-f0b0-88f08250e7c3"
      },
      "execution_count": null,
      "outputs": [
        {
          "output_type": "stream",
          "name": "stdout",
          "text": [
            "Status = optimal\n",
            "dispatch = [109.97156847 142.94799963  47.0804319 ]\n",
            "minimum cost = 5811.1979107608\n",
            "average cost = 7371.683450686511\n",
            "maximum cost = 9916.402153077048\n"
          ]
        }
      ]
    }
  ]
}