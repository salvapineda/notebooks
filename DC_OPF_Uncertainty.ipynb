{
  "nbformat": 4,
  "nbformat_minor": 0,
  "metadata": {
    "colab": {
      "name": "DC_OPF_Uncertainty",
      "provenance": [],
      "authorship_tag": "ABX9TyOMd/GcUtIm2K0W+y4c0DwJ",
      "include_colab_link": true
    },
    "kernelspec": {
      "name": "python3",
      "display_name": "Python 3"
    },
    "language_info": {
      "name": "python"
    }
  },
  "cells": [
    {
      "cell_type": "markdown",
      "metadata": {
        "id": "view-in-github",
        "colab_type": "text"
      },
      "source": [
        "<a href=\"https://colab.research.google.com/github/salvapineda/notebooks/blob/main/DC_OPF_Uncertainty.ipynb\" target=\"_parent\"><img src=\"https://colab.research.google.com/assets/colab-badge.svg\" alt=\"Open In Colab\"/></a>"
      ]
    },
    {
      "cell_type": "markdown",
      "source": [
        "# Requirements"
      ],
      "metadata": {
        "id": "OlRNMxqGB7K7"
      }
    },
    {
      "cell_type": "code",
      "source": [
        "#@title\n",
        "!pip install -q gurobipy\n",
        "import gurobipy as gp\n",
        "from gurobipy import GRB\n",
        "import numpy as np\n",
        "import pandas as pd\n",
        "import matplotlib.pyplot as plt\n",
        "\n",
        "def status(model):\n",
        "  if model.Status==2:\n",
        "    print('Status = optimal')\n",
        "  elif model.Status==3:\n",
        "    print('Status = infeasible')"
      ],
      "metadata": {
        "id": "E5U4mqVrA1p7",
        "colab": {
          "base_uri": "https://localhost:8080/"
        },
        "outputId": "8796f530-577a-40f1-8d58-87acd463750a"
      },
      "execution_count": null,
      "outputs": [
        {
          "output_type": "stream",
          "name": "stdout",
          "text": [
            "\u001b[K     |████████████████████████████████| 11.5 MB 8.5 MB/s \n",
            "\u001b[?25h"
          ]
        }
      ]
    },
    {
      "cell_type": "markdown",
      "source": [
        "# Data"
      ],
      "metadata": {
        "id": "QYEyOa-8B-D2"
      }
    },
    {
      "cell_type": "code",
      "source": [
        "#@title\n",
        "# generation data\n",
        "gen = pd.DataFrame({        \n",
        "       'unit':      [0,    1,     2], \n",
        "       'bus':       [0,    1,     2],\n",
        "       'cost':      [20,   25,    30], \n",
        "       'cost_up':   [40,   35,    35], \n",
        "       'cost_do':   [0,    15,    25], \n",
        "       'pmin':      [0,    0,     0], \n",
        "       'pmax':      [200,  150,   100]})\n",
        "\n",
        "# line data\n",
        "lin = pd.DataFrame({\n",
        "       'line': [0,   1,   2], \n",
        "       'from': [0,   0,   1],\n",
        "       'to':   [1,   2,   2], \n",
        "       'b':    [10,  10,  10], \n",
        "       'cap':  [25,  100, 100]})\n",
        "\n",
        "# Numbers\n",
        "ngen = len(gen)\n",
        "nbus = max(max(lin['from']),max(lin['to']))+1\n",
        "nlin = len(lin)\n",
        "\n",
        "# cost_bus and pmax_bus vector\n",
        "cost_bus = np.zeros(nbus)\n",
        "cost_up_bus = np.zeros(nbus)\n",
        "cost_do_bus = np.zeros(nbus)\n",
        "pmax_bus = np.zeros(nbus)\n",
        "for g in range(ngen):\n",
        "  cost_bus[gen.loc[g,'bus']]=gen.loc[g,'cost']\n",
        "  cost_up_bus[gen.loc[g,'bus']]=gen.loc[g,'cost_up']\n",
        "  cost_do_bus[gen.loc[g,'bus']]=gen.loc[g,'cost_do']\n",
        "  pmax_bus[gen.loc[g,'bus']]=gen.loc[g,'pmax']\n",
        "\n",
        "# cap_line vector\n",
        "cap_line = np.zeros(nlin)\n",
        "for l in range(nlin):\n",
        "  cap_line[lin.loc[l,'line']] = lin.loc[l,'cap']\n",
        "\n",
        "# Power Transfer Distribution Factors\n",
        "lin_bus = np.zeros((nlin,nbus))\n",
        "for l in range(nlin):\n",
        "  lin_bus[l,lin.loc[l,'from']-1]=1\n",
        "  lin_bus[l,lin.loc[l,'to']-1]=-1    \n",
        "matrixX_inv = np.diag(1/lin['b'])\n",
        "matrixA = np.delete(np.array(lin_bus),0,axis=1)\n",
        "matrixB = np.linalg.multi_dot([matrixA.T,matrixX_inv,matrixA]) \n",
        "ptdf = np.linalg.multi_dot([matrixX_inv,matrixA,np.linalg.inv(matrixB)])\n",
        "ptdf = np.round(np.insert(ptdf,0,np.zeros((nlin)),axis=1),5)\n",
        "\n",
        "# postive/negative ptdf\n",
        "pos_neg = np.zeros((nlin,nbus))\n",
        "for l in range(nlin):\n",
        "  for b in range(nbus):\n",
        "    if ptdf[l,b] > 0:\n",
        "      pos_neg[l,b]=1\n",
        "    elif ptdf[l,b] < 0:\n",
        "      pos_neg[l,b]=-1\n",
        "\n",
        "# scenario generation\n",
        "nscen = 1000\n",
        "demand = np.array([100,100,100])\n",
        "var_10 = np.array([10,10,10])\n",
        "var_20 = np.array([20,20,20])\n",
        "var_25 = np.array([25,25,25])\n",
        "var_30 = np.array([30,30,30])\n",
        "scen_10 = 100 + 10*np.random.uniform(-1,1,size=(nscen,nbus))\n",
        "scen_20 = 100 + 20*np.random.uniform(-1,1,size=(nscen,nbus))\n",
        "scen_25 = 100 + 25*np.random.uniform(-1,1,size=(nscen,nbus))\n",
        "scen_30 = 100 + 30*np.random.uniform(-1,1,size=(nscen,nbus))"
      ],
      "metadata": {
        "id": "TpLG9UTmBKNk"
      },
      "execution_count": null,
      "outputs": []
    },
    {
      "cell_type": "markdown",
      "source": [
        "# Deterministic DC-OPF\n",
        "\n",
        "$$\n",
        "\\begin{align}\n",
        "\\underset{g_n}{\\min} \\quad & \\sum_n c_n g_n \\\\\n",
        "\\text{s.t.} \\quad & \\sum_n g_n = \\sum_n \\hat{d}_n\\\\\n",
        "& 0 \\leq g_n \\leq \\overline{g}_n, \\quad \\forall n\\\\\n",
        "& -\\overline{f}_l \\leq \\sum_n b_{ln}(g_n-\\hat{d}_n) \\leq \\overline{f}_l, \\quad \\forall l\n",
        "\\end{align}\n",
        "$$"
      ],
      "metadata": {
        "id": "2GUQx35ADwff"
      }
    },
    {
      "cell_type": "code",
      "source": [
        "#@title\n",
        "def dc_opf_det(demand):\n",
        "  # model\n",
        "  m = gp.Model() \n",
        "  # variables\n",
        "  gen = m.addMVar(nbus,name='gen')\n",
        "  # objective function\n",
        "  m.setObjective(cost_bus @ gen, GRB.MINIMIZE)\n",
        "  # constraints\n",
        "  m.addConstr( gen.sum() == demand.sum())\n",
        "  m.addConstr(gen <= pmax_bus)\n",
        "  m.addConstr(ptdf @ gen >= -cap_line + ptdf @ demand)\n",
        "  m.addConstr(ptdf @ gen <= cap_line + ptdf @ demand)\n",
        "  # solve\n",
        "  m.write('det.lp')\n",
        "  m.setParam('OutputFlag',0)\n",
        "  m.optimize()\n",
        "  status(m)\n",
        "  # results\n",
        "  print('cost =',m.ObjVal)\n",
        "  print('dispatch =',gen.X)\n",
        "  return gen.X\n",
        "gen_det = dc_opf_det(demand)"
      ],
      "metadata": {
        "id": "skpIa6RLDBYa",
        "colab": {
          "base_uri": "https://localhost:8080/"
        },
        "outputId": "6d6b3bab-c9af-40db-91cc-7f07dd2401e8"
      },
      "execution_count": null,
      "outputs": [
        {
          "output_type": "stream",
          "name": "stdout",
          "text": [
            "Restricted license - for non-production use only - expires 2023-10-25\n",
            "Status = optimal\n",
            "cost = 7124.9962499625\n",
            "dispatch = [175.00075001  24.99924999 100.        ]\n"
          ]
        }
      ]
    },
    {
      "cell_type": "markdown",
      "source": [
        "# Real time operation\n",
        "\n",
        "$$\n",
        "\\begin{align}\n",
        "\\underset{r^u_n,r^d_n}{\\min} \\quad & \\sum_n c_n g^*_n + c^u_n r^u_n + c^d_n r^d_n \\\\\n",
        "\\text{s.t.} \\quad & \\sum_n g^*_n+r^u_n-r^d_n = \\sum_n \\tilde{d}_n\\\\\n",
        "& 0 \\leq g^*_n + r^u_n-r^d_n \\leq \\overline{g}_n, \\quad \\forall n\\\\\n",
        "& -\\overline{f}_l \\leq \\sum_n b_{ln}(g^*_n + r^u_n-r^d_n -\\tilde{d}_n) \\leq \\overline{f}_l, \\quad \\forall l \\\\\n",
        "& r^u_n, r^d_n\\geq 0\n",
        "\\end{align}\n",
        "$$"
      ],
      "metadata": {
        "id": "byZ8ibYpE5w0"
      }
    },
    {
      "cell_type": "code",
      "source": [
        "#@title\n",
        "def real_time(demand,dispatch):\n",
        "  # print('Solving real_time for demand=',demand)\n",
        "  # model\n",
        "  m = gp.Model()\n",
        "  # variables\n",
        "  #res = m.addMVar(nbus,lb=-GRB.INFINITY)\n",
        "  res_up = m.addMVar(nbus)\n",
        "  res_do = m.addMVar(nbus)\n",
        "  # objective function\n",
        "  m.setObjective(cost_bus @ dispatch + cost_up_bus @ res_up - cost_do_bus @ res_do, GRB.MINIMIZE)\n",
        "  # constraints\n",
        "  m.addConstr(dispatch.sum() + res_up.sum() - res_do.sum() == demand.sum())\n",
        "  m.addConstr(dispatch + res_up - res_do >= 0)\n",
        "  m.addConstr(dispatch + res_up - res_do <= pmax_bus)\n",
        "  m.addConstr(ptdf @ dispatch + ptdf @ res_up - ptdf @ res_do >= -cap_line + ptdf @ demand)\n",
        "  m.addConstr(ptdf @ dispatch + ptdf @ res_up - ptdf @ res_do <= cap_line + ptdf @ demand)\n",
        "  #m.addConstr(res >= -res_do)\n",
        "  #m.addConstr(res <= res_up)\n",
        "  # solve\n",
        "  m.setParam('OutputFlag',0)\n",
        "  m.optimize()\n",
        "  # status(m)\n",
        "  # results\n",
        "  #print('reserves =',res.X)\n",
        "  #print('reserves_up =',res_up.X)\n",
        "  #print('reserves_do =',res_do.X)\n",
        "  return m.ObjVal"
      ],
      "metadata": {
        "id": "qDyWpllKOt7S"
      },
      "execution_count": null,
      "outputs": []
    },
    {
      "cell_type": "code",
      "source": [
        "#@title\n",
        "def evaluate_scenarios(dispatch,scen):\n",
        "  v_cost = []\n",
        "  for s in range(nscen):\n",
        "    obj = real_time(scen[s,:],dispatch)\n",
        "    v_cost.append(obj)    \n",
        "  print('minimum cost =',np.min(v_cost))\n",
        "  print('average cost =',np.mean(v_cost))\n",
        "  print('maximum cost =',np.max(v_cost))\n",
        "  #plt.figure(facecolor='white')\n",
        "  #plt.hist(v_cost, 10, facecolor='blue', alpha=0.5)\n",
        "  #plt.show()  "
      ],
      "metadata": {
        "id": "cqMIIZEIlFo3"
      },
      "execution_count": null,
      "outputs": []
    },
    {
      "cell_type": "markdown",
      "source": [
        "# Evaluate deterministic dispatch for var = 10"
      ],
      "metadata": {
        "id": "bZS20sIuibZn"
      }
    },
    {
      "cell_type": "code",
      "source": [
        "#@title\n",
        "evaluate_scenarios(gen_det,scen_10)"
      ],
      "metadata": {
        "colab": {
          "base_uri": "https://localhost:8080/"
        },
        "id": "KZgnMJ_WiWaj",
        "outputId": "57fefbd6-3c08-48ed-ed6a-2ba55c02c7db"
      },
      "execution_count": null,
      "outputs": [
        {
          "output_type": "stream",
          "name": "stdout",
          "text": [
            "minimum cost = 6711.684140404908\n",
            "average cost = 7296.887778717294\n",
            "maximum cost = 8147.559518028637\n"
          ]
        }
      ]
    },
    {
      "cell_type": "markdown",
      "source": [
        "# Evaluate deterministic dispatch for var = 20"
      ],
      "metadata": {
        "id": "qCu5vOlFiqR2"
      }
    },
    {
      "cell_type": "code",
      "source": [
        "#@title\n",
        "evaluate_scenarios(gen_det,scen_20)"
      ],
      "metadata": {
        "colab": {
          "base_uri": "https://localhost:8080/"
        },
        "id": "B-SOvZZ1iuAf",
        "outputId": "5a793141-8354-4777-de9d-8ca47d4e1144"
      },
      "execution_count": null,
      "outputs": [
        {
          "output_type": "stream",
          "name": "stdout",
          "text": [
            "minimum cost = 6369.27481135716\n",
            "average cost = 7438.3289715112005\n",
            "maximum cost = 9195.245463676118\n"
          ]
        }
      ]
    },
    {
      "cell_type": "markdown",
      "source": [
        "# Evaluate deterministic dispatch for var = 30"
      ],
      "metadata": {
        "id": "tW2SLur9i2-8"
      }
    },
    {
      "cell_type": "code",
      "source": [
        "#@title\n",
        "evaluate_scenarios(gen_det,scen_30)"
      ],
      "metadata": {
        "colab": {
          "base_uri": "https://localhost:8080/"
        },
        "id": "BjPEn1Qyi-a6",
        "outputId": "e657133c-1d3d-413f-f121-7bafd5d08069"
      },
      "execution_count": null,
      "outputs": [
        {
          "output_type": "stream",
          "name": "stdout",
          "text": [
            "minimum cost = 5983.6354867980235\n",
            "average cost = 7673.956507380126\n",
            "maximum cost = 10187.588612163796\n"
          ]
        }
      ]
    },
    {
      "cell_type": "markdown",
      "source": [
        "# Robust (no recourse)\n",
        "\n",
        "$d_n = \\hat{d}_n + \\overline{e}_n \\eta_n$ with $\\eta_n \\in [-1,1]$\n",
        "\n",
        "$$\n",
        "\\begin{align}\n",
        "\\underset{g_n}{\\min} \\quad & \\sum_n c_n g_n  \\\\\n",
        "\\text{s.t.} \\quad & \\sum_n g_n \\geq \\underset{\\eta_n\\in[-1,1]}{\\max} \\sum_n \\hat{d}_n + \\overline{e}_n \\eta_n \\\\\n",
        "& 0 \\leq g_n \\leq \\overline{g}_n, \\quad \\forall n\\\\\n",
        "& -\\overline{f}_l \\leq \\underset{\\eta_n\\in[-1,1]}{\\min} \\sum_n b_{ln}(g_n -\\hat{d}_n - \\overline{e}_n \\eta_n), \\quad \\forall l \\\\\n",
        "&  \\underset{\\eta_n\\in[-1,1]}{\\max} \\sum_n b_{ln}(g_n -\\hat{d}_n - \\overline{e}_n \\eta_n) \\leq \\overline{f}_l, \\quad \\forall l \n",
        "\\end{align}\n",
        "$$"
      ],
      "metadata": {
        "id": "ps9jIe5uSVfX"
      }
    },
    {
      "cell_type": "markdown",
      "source": [
        "Reformulation \n",
        "\n",
        "$$\n",
        "\\begin{align}\n",
        "\\underset{g_n}{\\min} \\quad & \\sum_n c_n g_n  \\\\\n",
        "\\text{s.t.} \\quad & \\sum_n g_n \\geq \\sum_n \\hat{d}_n + \\overline{e}_n \\\\\n",
        "& 0 \\leq g_n \\leq \\overline{g}_n, \\quad \\forall n\\\\\n",
        "& -\\overline{f}_l \\leq \\sum_{n\\in\\mathcal{N}^+_l} b_{ln}(g_n -\\hat{d}_n - \\overline{e}_n) + \\sum_{n\\in\\mathcal{N}^-_l} b_{ln}(g_n -\\hat{d}_n + \\overline{e}_n) , \\quad \\forall l \\\\\n",
        "& \\sum_{n\\in\\mathcal{N}^+_l} b_{ln}(g_n -\\hat{d}_n + \\overline{e}_n) + \\sum_{n\\in\\mathcal{N}^-_l} b_{ln}(g_n -\\hat{d}_n - \\overline{e}_n) \\leq \\overline{f}_l, \\quad \\forall l \\\\\n",
        "\\end{align}\n",
        "$$\n",
        "\n",
        "where $\\mathcal{N}^+_l$ set of nodes such that $b_{ln}>0$ and $\\mathcal{N}^-_l$ set of nodes such that $b_{ln}\\lt 0$ "
      ],
      "metadata": {
        "id": "C5Xe8fQ6zLTU"
      }
    },
    {
      "cell_type": "code",
      "source": [
        "#@title\n",
        "def dc_opf_robust(demand,var):\n",
        "  # model\n",
        "  m = gp.Model()  \n",
        "  # variables\n",
        "  gen = m.addMVar(nbus,name='gen')\n",
        "  # objective function\n",
        "  m.setObjective(cost_bus @ gen, GRB.MINIMIZE)\n",
        "  # constraints\n",
        "  m.addConstr(gen.sum() >= demand.sum() + var.sum())\n",
        "  m.addConstr(gen <= pmax_bus)\n",
        "  m.addConstr(ptdf @ gen >= -cap_line + ptdf @ demand + np.multiply(ptdf,pos_neg) @ var)\n",
        "  m.addConstr(ptdf @ gen <= cap_line + ptdf @ demand - np.multiply(ptdf,pos_neg) @ var)\n",
        "  # solve\n",
        "  m.setParam('OutputFlag',0)\n",
        "  m.write('robust.lp')\n",
        "  m.optimize()\n",
        "  status(m)\n",
        "  # results\n",
        "  print('dispatch =',gen.X)\n",
        "  return gen.X"
      ],
      "metadata": {
        "id": "PujGQLSGi6Mh"
      },
      "execution_count": null,
      "outputs": []
    },
    {
      "cell_type": "markdown",
      "source": [
        "# Evaluate robust dispatch for var = 10"
      ],
      "metadata": {
        "id": "EHBMjlX1jNkH"
      }
    },
    {
      "cell_type": "code",
      "source": [
        "#@title\n",
        "gen_robust = dc_opf_robust(demand,var_10)\n",
        "evaluate_scenarios(gen_robust,scen_10)"
      ],
      "metadata": {
        "colab": {
          "base_uri": "https://localhost:8080/"
        },
        "id": "YZ2O0WIajJw6",
        "outputId": "7b4faa47-e66f-4301-c40d-9a04804cc05d"
      },
      "execution_count": null,
      "outputs": [
        {
          "output_type": "stream",
          "name": "stdout",
          "text": [
            "Status = optimal\n",
            "dispatch = [175.00045  54.99955 100.     ]\n",
            "minimum cost = 7011.682640479907\n",
            "average cost = 7440.943111649432\n",
            "maximum cost = 7863.234650532272\n"
          ]
        }
      ]
    },
    {
      "cell_type": "markdown",
      "source": [
        "# Evaluate robust dispatch for var = 20"
      ],
      "metadata": {
        "id": "hfYGOtN3jVqN"
      }
    },
    {
      "cell_type": "code",
      "source": [
        "#@title\n",
        "gen_robust = dc_opf_robust(demand,var_20)\n",
        "evaluate_scenarios(gen_robust,scen_20)"
      ],
      "metadata": {
        "colab": {
          "base_uri": "https://localhost:8080/"
        },
        "id": "LSxJghRZjZov",
        "outputId": "066896c4-94dd-48ac-f99a-ced58c05710c"
      },
      "execution_count": null,
      "outputs": [
        {
          "output_type": "stream",
          "name": "stdout",
          "text": [
            "Status = optimal\n",
            "dispatch = [175.00015  84.99985 100.     ]\n",
            "minimum cost = 6969.268811297157\n",
            "average cost = 7744.984822920886\n",
            "maximum cost = 8612.23991292262\n"
          ]
        }
      ]
    },
    {
      "cell_type": "markdown",
      "source": [
        "# Evaluate robust dispatch for var = 30"
      ],
      "metadata": {
        "id": "Us4zX08CjW05"
      }
    },
    {
      "cell_type": "code",
      "source": [
        "#@title\n",
        "#gen_robust = dc_opf_robust(demand,var_30)\n",
        "#evaluate_scenarios(gen_robust,scen_30)"
      ],
      "metadata": {
        "id": "N56xyaMFja5c"
      },
      "execution_count": null,
      "outputs": []
    },
    {
      "cell_type": "markdown",
      "source": [
        "If we consider a budget $\\Gamma$ we have to use the duals\n",
        "\n",
        "$$\n",
        "\\begin{align}\n",
        "\\underset{\\eta^+_n,\\eta^-_n}{\\max} \\quad & \\sum_n \\overline{e}_n (\\eta^+_n-\\eta^-_n)  \\\\\n",
        "\\text{s.t.} \\quad & \\sum_n \\eta^+_n+\\eta^-_n \\leq \\Gamma: \\alpha \\\\\n",
        "& \\eta^+_n \\leq 1: \\beta^+_n, \\quad \\forall n\\\\\n",
        "& \\eta^-_n \\leq 1: \\beta^-_n, \\quad \\forall n \\\\\n",
        "& \\eta^+_n,\\eta^-_n\\geq 0 \n",
        "\\end{align}\n",
        "$$\n",
        "\n",
        "The dual is\n",
        "\n",
        "$$\n",
        "\\begin{align}\n",
        "\\underset{\\alpha, \\beta^+_n,\\beta^-_n}{\\min} \\quad & \\alpha\\Gamma + \\sum_n  \\beta^+_n+\\beta^-_n  \\\\\n",
        "\\text{s.t.} \\quad & -\\overline{e}_n + \\alpha + \\beta^+_n \\geq 0, \\quad \\forall n \\\\\n",
        "& \\overline{e}_n + \\alpha + \\beta^-_n \\geq 0, \\quad \\forall n \\\\\n",
        "& \\alpha, \\beta^+_n,\\beta^-_n\\geq 0\n",
        "\\end{align}\n",
        "$$"
      ],
      "metadata": {
        "id": "c6GCsl2azSLq"
      }
    },
    {
      "cell_type": "markdown",
      "source": [
        "With the other constraint\n",
        "\n",
        "$$\n",
        "\\begin{align}\n",
        "\\underset{\\eta^+_n,\\eta^-_n}{\\min} \\quad & \\sum_n -b_{ln}\\overline{e}_n (\\eta^+_n-\\eta^-_n)  \\\\\n",
        "\\text{s.t.} \\quad & \\sum_n \\eta^+_n+\\eta^-_n \\leq \\Gamma: \\gamma_l \\\\\n",
        "& \\eta^+_n \\leq 1: \\delta^+_{ln}, \\quad \\forall n\\\\\n",
        "& \\eta^-_n \\leq 1: \\delta^-_{ln}, \\quad \\forall n \\\\\n",
        "& \\eta^+_n,\\eta^-_n\\geq 0\n",
        "\\end{align}\n",
        "$$\n",
        "\n",
        "The dual is\n",
        "\n",
        "$$\n",
        "\\begin{align}\n",
        "\\underset{\\gamma_l, \\delta^+_{ln},\\delta^-_{ln}}{\\max} \\quad & -\\gamma_l\\Gamma - \\sum_n  \\delta^+_{ln}+\\delta^-_{ln}  \\\\\n",
        "\\text{s.t.} \\quad & -b_{ln}\\overline{e}_n + \\gamma_l + \\delta^+_{ln} \\geq 0, \\quad \\forall n \\\\\n",
        "& b_{ln}\\overline{e}_n + \\gamma_l + \\delta^-_{ln} \\geq 0, \\quad \\forall n \\\\\n",
        "& \\gamma_l, \\delta^+_{ln},\\delta^-_{ln}\\geq 0\n",
        "\\end{align}\n",
        "$$"
      ],
      "metadata": {
        "id": "e97EJCejzVz1"
      }
    },
    {
      "cell_type": "markdown",
      "source": [
        "Last constraint\n",
        "\n",
        "$$\n",
        "\\begin{align}\n",
        "\\underset{\\eta^+_n,\\eta^-_n}{\\max} \\quad & \\sum_n -b_{ln}\\overline{e}_n (\\eta^+_n-\\eta^-_n)  \\\\\n",
        "\\text{s.t.} \\quad & \\sum_n \\eta^+_n+\\eta^-_n \\leq \\Gamma: \\epsilon_l \\\\\n",
        "& \\eta^+_n \\leq 1: \\zeta^+_{ln}, \\quad \\forall n\\\\\n",
        "& \\eta^-_n \\leq 1: \\zeta^-_{ln}, \\quad \\forall n\\\\\n",
        "& \\eta^+_n,\\eta^-_n\\geq 0\n",
        "\\end{align}\n",
        "$$\n",
        "\n",
        "The dual is\n",
        "\n",
        "$$\n",
        "\\begin{align}\n",
        "\\underset{\\epsilon_l, \\zeta^+_{ln},\\zeta^-_{ln}}{\\min} \\quad & -\\epsilon_l\\Gamma - \\sum_n  \\zeta^+_{ln}+\\zeta^-_{ln}  \\\\\n",
        "\\text{s.t.} \\quad & -b_{ln}\\overline{e}_n + \\epsilon_l + \\zeta^+_{ln} \\geq 0, \\quad \\forall n \\\\\n",
        "& b_{ln}\\overline{e}_n + \\epsilon_l + \\zeta^-_{ln} \\geq 0, \\quad \\forall n \\\\\n",
        "& \\epsilon_l, \\zeta^+_{ln},\\zeta^-_{ln}\\geq 0\n",
        "\\end{align}\n",
        "$$"
      ],
      "metadata": {
        "id": "Xdp8P_Q7zZfc"
      }
    },
    {
      "cell_type": "markdown",
      "source": [
        "We replace everything and obtain\n",
        "\n",
        "$$\n",
        "\\begin{align}\n",
        "\\underset{g_n,\\alpha,\\beta^+_n,\\beta^-_n,\\gamma_l,\\delta^+_{ln},\\delta^-_{ln},\\epsilon_l,\\zeta^+_{ln},\\zeta^-_{ln}}{\\min} \\quad & \\sum_n c_n g_n  \\\\\n",
        "\\text{s.t.} \\quad & 0 \\leq g_n \\leq \\overline{g}_n, \\quad \\forall n\\\\\n",
        "& \\sum_n g_n \\geq \\alpha\\Gamma + \\sum_n  \\hat{d}_n + \\beta^+_n+\\beta^-_n \\\\\n",
        "& -\\overline{f}_l \\leq -\\gamma_l\\Gamma - \\sum_n \\delta^+_{ln}+\\delta^-_{ln} - b_{ln}(g_n-\\hat{d}_n), \\quad \\forall l \\\\\n",
        "&  -\\epsilon_l\\Gamma - \\sum_n  \\zeta^+_{ln}+\\zeta^-_{ln}-b_{ln}(g_n-\\hat{d}_n) \\leq \\overline{f}_l, \\quad \\forall l \\\\\n",
        "& -\\overline{e}_n + \\alpha + \\beta^+_n \\geq 0, \\quad \\forall n \\\\\n",
        "& \\overline{e}_n + \\alpha + \\beta^-_n \\geq 0, \\quad \\forall n \\\\\n",
        "& -b_{ln}\\overline{e}_n + \\gamma_l + \\delta^+_{ln} \\geq 0, \\quad \\forall l,n \\\\\n",
        "& b_{ln}\\overline{e}_n + \\gamma_l + \\delta^-_{ln} \\geq 0, \\quad \\forall l,n \\\\\n",
        "& -b_{ln}\\overline{e}_n + \\epsilon_l + \\zeta^+_{ln} \\geq 0, \\quad \\forall l,n \\\\\n",
        "& b_{ln}\\overline{e}_n + \\epsilon_l + \\zeta^-_{ln} \\geq 0, \\quad \\forall l,n \\\\\n",
        "& \\alpha,\\beta^+_n,\\beta^-_n,\\gamma_l,\\delta^+_{ln},\\delta^-_{ln},\\epsilon_l,\\zeta^+_{ln},\\zeta^-_{ln} \\geq 0\n",
        "\\end{align}\n",
        "$$"
      ],
      "metadata": {
        "id": "8gujqjY8zebq"
      }
    },
    {
      "cell_type": "code",
      "source": [
        "#@title\n",
        "def dc_opf_robust_budget(demand,var,budget):\n",
        "  # model\n",
        "  m = gp.Model()  \n",
        "  # variables\n",
        "  gen = m.addMVar(nbus)\n",
        "  alpha = m.addVar()\n",
        "  beta_up = m.addMVar(nbus)\n",
        "  beta_do = m.addMVar(nbus)\n",
        "  gamma = m.addMVar(nlin)\n",
        "  delta_up = m.addMVar((nlin,nbus))\n",
        "  delta_do = m.addMVar((nlin,nbus))\n",
        "  epsilon = m.addMVar(nlin)\n",
        "  zeta_up = m.addMVar((nlin,nbus))\n",
        "  zeta_do = m.addMVar((nlin,nbus))\n",
        "  # objective function\n",
        "  m.setObjective(cost_bus @ gen, GRB.MINIMIZE)\n",
        "  # constraints\n",
        "  m.addConstr(gen <= pmax_bus)\n",
        "  m.addConstr(gen.sum() >= alpha*budget + demand.sum() + beta_up.sum() + beta_do.sum() )  \n",
        "  m.addConstrs(-cap_line[l] <= - budget*gamma[l] - delta_up[l,:].sum() - delta_do[l,:].sum() + ptdf[l,:] @ gen - ptdf[l,:] @ demand for l in range(nlin))\n",
        "  m.addConstrs(-budget*epsilon[l] - zeta_up[l,:].sum() - zeta_do[l,:].sum() + ptdf[l,:] @ gen - ptdf[l,:] @ demand <= cap_line[l] for l in range(nlin))\n",
        "  m.addConstrs(-var[n] + alpha + beta_up[n] >= 0 for n in range(nbus))\n",
        "  m.addConstrs(var[n] + alpha + beta_do[n] >= 0 for n in range(nbus))\n",
        "  m.addConstrs(-var[b]*ptdf[:,b] + gamma + delta_up[:,b] >= 0 for b in range(nbus))\n",
        "  m.addConstrs(var[b]*ptdf[:,b] + gamma + delta_do[:,b] >= 0 for b in range(nbus))\n",
        "  m.addConstrs(-var[b]*ptdf[:,b] + epsilon + zeta_up[:,b] >= 0 for b in range(nbus))\n",
        "  m.addConstrs(var[b]*ptdf[:,b] + epsilon + zeta_do[:,b] >= 0 for b in range(nbus))\n",
        "  # solve\n",
        "  m.setParam('OutputFlag',0)\n",
        "  m.write('robust_ldr.lp')\n",
        "  m.optimize()\n",
        "  status(m)\n",
        "  # results\n",
        "  print('dispatch =',gen.X)\n",
        "  return gen.X"
      ],
      "metadata": {
        "id": "Go2pOVETkkwJ"
      },
      "execution_count": null,
      "outputs": []
    },
    {
      "cell_type": "markdown",
      "source": [
        "# Evaluate robust dispatch (Gamma=2, var=10)"
      ],
      "metadata": {
        "id": "zvqzu2clkNC_"
      }
    },
    {
      "cell_type": "code",
      "source": [
        "#@title\n",
        "gen_robust = dc_opf_robust_budget(demand,var_10,2)\n",
        "evaluate_scenarios(gen_robust,scen_10)"
      ],
      "metadata": {
        "colab": {
          "base_uri": "https://localhost:8080/"
        },
        "id": "Wlmu3E9AkZXd",
        "outputId": "36d22725-9b76-4060-d024-1a735bfb1273"
      },
      "execution_count": null,
      "outputs": [
        {
          "output_type": "stream",
          "name": "stdout",
          "text": [
            "Status = optimal\n",
            "dispatch = [165.00045  54.99955 100.     ]\n",
            "minimum cost = 6861.685640419908\n",
            "average cost = 7295.302803884724\n",
            "maximum cost = 7966.979865795695\n"
          ]
        }
      ]
    },
    {
      "cell_type": "markdown",
      "source": [
        "# Evaluate robust dispatch (Gamma=2, var=20)"
      ],
      "metadata": {
        "id": "S-tIQHSzk8ST"
      }
    },
    {
      "cell_type": "code",
      "source": [
        "#@title\n",
        "gen_robust = dc_opf_robust_budget(demand,var_20,2)\n",
        "evaluate_scenarios(gen_robust,scen_20)"
      ],
      "metadata": {
        "colab": {
          "base_uri": "https://localhost:8080/"
        },
        "outputId": "ddfd5987-3d44-4469-b29b-7ec75252582f",
        "id": "_s-hk3zqk8ST"
      },
      "execution_count": null,
      "outputs": [
        {
          "output_type": "stream",
          "name": "stdout",
          "text": [
            "Status = optimal\n",
            "dispatch = [155.00015  84.99985 100.     ]\n",
            "minimum cost = 6597.246511248685\n",
            "average cost = 7453.1699082678515\n",
            "maximum cost = 8610.339745249385\n"
          ]
        }
      ]
    },
    {
      "cell_type": "markdown",
      "source": [
        "# Evaluate robust dispatch (Gamma=2, var=30)"
      ],
      "metadata": {
        "id": "O7W_ob4MlBNj"
      }
    },
    {
      "cell_type": "code",
      "source": [
        "#@title\n",
        "gen_robust = dc_opf_robust_budget(demand,var_30,2)\n",
        "evaluate_scenarios(gen_robust,scen_30)"
      ],
      "metadata": {
        "colab": {
          "base_uri": "https://localhost:8080/"
        },
        "outputId": "850361f9-3803-46aa-f06b-e01cdf5ec173",
        "id": "2bMHtVcHlBNj"
      },
      "execution_count": null,
      "outputs": [
        {
          "output_type": "stream",
          "name": "stdout",
          "text": [
            "Status = optimal\n",
            "dispatch = [144.99985 115.00015 100.     ]\n",
            "minimum cost = 6412.512336522224\n",
            "average cost = 7646.824258149024\n",
            "maximum cost = 9559.24795348586\n"
          ]
        }
      ]
    },
    {
      "cell_type": "markdown",
      "source": [
        "# Evaluate robust dispatch (Gamma=1, var=10)"
      ],
      "metadata": {
        "id": "TDUSQcS0lJrv"
      }
    },
    {
      "cell_type": "code",
      "source": [
        "#@title\n",
        "gen_robust = dc_opf_robust_budget(demand,var_10,1)\n",
        "evaluate_scenarios(gen_robust,scen_10)"
      ],
      "metadata": {
        "colab": {
          "base_uri": "https://localhost:8080/"
        },
        "outputId": "31dfee16-f8ca-4ce7-e608-ee6f27201fd4",
        "id": "GqeKG1O-lJrw"
      },
      "execution_count": null,
      "outputs": [
        {
          "output_type": "stream",
          "name": "stdout",
          "text": [
            "Status = optimal\n",
            "dispatch = [165.00045  44.99955 100.     ]\n",
            "minimum cost = 6761.685640419908\n",
            "average cost = 7241.97596163932\n",
            "maximum cost = 8066.979865795695\n"
          ]
        }
      ]
    },
    {
      "cell_type": "markdown",
      "source": [
        "# Evaluate robust dispatch (Gamma=1, var=20)"
      ],
      "metadata": {
        "id": "KrgkOgV9l7kN"
      }
    },
    {
      "cell_type": "code",
      "source": [
        "#@title\n",
        "gen_robust = dc_opf_robust_budget(demand,var_20,1)\n",
        "evaluate_scenarios(gen_robust,scen_20)"
      ],
      "metadata": {
        "colab": {
          "base_uri": "https://localhost:8080/"
        },
        "outputId": "1eb72274-953d-4c04-930b-f10b9a8cf76d",
        "id": "2JcOa33vl7kT"
      },
      "execution_count": null,
      "outputs": [
        {
          "output_type": "stream",
          "name": "stdout",
          "text": [
            "Status = optimal\n",
            "dispatch = [155.00015  64.99985 100.     ]\n",
            "minimum cost = 6397.246511248686\n",
            "average cost = 7346.571007370666\n",
            "maximum cost = 8810.339745249386\n"
          ]
        }
      ]
    },
    {
      "cell_type": "markdown",
      "source": [
        "# Evaluate robust dispatch (Gamma=1, var=30)"
      ],
      "metadata": {
        "id": "zy2PxWpsl9iL"
      }
    },
    {
      "cell_type": "code",
      "source": [
        "#@title\n",
        "gen_robust = dc_opf_robust_budget(demand,var_30,1)\n",
        "evaluate_scenarios(gen_robust,scen_30)"
      ],
      "metadata": {
        "colab": {
          "base_uri": "https://localhost:8080/"
        },
        "outputId": "6ec4e16d-ac68-4c33-aa53-327ffd952ccf",
        "id": "CR416Hyyl9iL"
      },
      "execution_count": null,
      "outputs": [
        {
          "output_type": "stream",
          "name": "stdout",
          "text": [
            "Status = optimal\n",
            "dispatch = [144.99985  85.00015 100.     ]\n",
            "minimum cost = 6112.512336522224\n",
            "average cost = 7494.11343446798\n",
            "maximum cost = 9859.247953485861\n"
          ]
        }
      ]
    },
    {
      "cell_type": "markdown",
      "source": [
        "# Linear decision rules\n",
        "\n",
        "We define $\\Omega = \\sum_n \\overline{e}_n\\eta_n$, $\\underline{\\Omega}=-\\sum_n\\overline{e}_n$, and $\\overline{\\Omega}=\\sum_n\\overline{e}_n$. We use a linear decision rule so that the output of each unit is determined by $g_n-\\beta_n\\Omega$. We first minimize the expected cost\n",
        "\n",
        "$$\n",
        "\\begin{align}\n",
        "\\underset{g_n,\\beta_n}{\\min} \\quad & \\mathbb{E} \\left[ \\sum_n c_n (g_n-\\beta_n \\Omega) \\right] + c^u_n r^u_n + c^d_n r^d_n \\\\\n",
        "\\text{s.t.} \\quad & \\sum_n g_n-\\beta_n\\Omega = \\sum_n \\hat{d}_n + \\overline{e}_n\\eta_n \\\\\n",
        "& 0 \\leq g_n - \\beta_n\\Omega \\leq \\overline{g}_n, \\quad \\forall n\\\\\n",
        "& -\\overline{f}_l \\leq \\underset{\\eta_n\\in[-1,1]}{\\min} \\sum_n b_{ln}(g_n - \\beta_n\\Omega -\\hat{d}_n - \\overline{e}_n \\eta_n), \\quad \\forall l \\\\\n",
        "&  \\underset{\\eta_n\\in[-1,1]}{\\max} \\sum_n b_{ln}(g_n - \\beta_n\\Omega -\\hat{d}_n - \\overline{e}_n \\eta_n) \\leq \\overline{f}_l, \\quad \\forall l \\\\\n",
        "& -r^d_n \\leq \\underset{\\Omega\\in[\\underline{\\Omega},\\overline{\\Omega}]}{\\min} -\\beta_n \\Omega, \\quad \\forall n \\\\\n",
        "& \\underset{\\Omega\\in[\\underline{\\Omega},\\overline{\\Omega}]}{\\max} -\\beta_n \\Omega \\leq r^u_n, \\quad \\forall n \\\\\n",
        "& \\beta_n \\geq 0\n",
        "\\end{align}\n",
        "$$"
      ],
      "metadata": {
        "id": "ZnVIEigIicOa"
      }
    },
    {
      "cell_type": "markdown",
      "source": [
        "We can reformulate as \n",
        "\n",
        "$$\n",
        "\\begin{align}\n",
        "\\underset{g_n,\\beta_n}{\\min} \\quad &  \\sum_n c_n g_n + c^u_n r^u_n + c^d_n r^d_n \\\\\n",
        "\\text{s.t.} \\quad & \\sum_n g_n = \\sum_n \\hat{d}_n \\\\\n",
        "& \\sum_n \\beta_n = 1 \\\\\n",
        "& 0 \\leq g_n - \\underset{\\Omega\\in[\\underline{\\Omega},\\overline{\\Omega}]}{\\max}\\beta_n\\Omega, \\quad \\forall n\\\\\n",
        "& g_n - \\underset{\\Omega\\in[\\underline{\\Omega},\\overline{\\Omega}]}{\\min}\\beta_n\\Omega \\leq \\overline{g}_n, \\quad \\forall n\\\\\n",
        "& -\\overline{f}_l \\leq \\underset{\\eta_n\\in[-1,1]}{\\min} \\sum_n b_{ln}(g_n - \\beta_n\\Omega -\\hat{d}_n - \\overline{e}_n \\eta_n), \\quad \\forall l \\\\\n",
        "&  \\underset{\\eta_n\\in[-1,1]}{\\max} \\sum_n b_{ln}(g_n - \\beta_n\\Omega -\\hat{d}_n - \\overline{e}_n \\eta_n) \\leq \\overline{f}_l, \\quad \\forall l \\\\\n",
        "& -r^d_n \\leq \\underset{\\Omega\\in[\\underline{\\Omega},\\overline{\\Omega}]}{\\min} -\\beta_n \\Omega, \\quad \\forall n \\\\\n",
        "& \\underset{\\Omega\\in[\\underline{\\Omega},\\overline{\\Omega}]}{\\max} -\\beta_n \\Omega \\leq r^u_n, \\quad \\forall n \\\\\n",
        "& \\beta_n \\geq 0\n",
        "\\end{align}\n",
        "$$"
      ],
      "metadata": {
        "id": "ndZTjdICzt-1"
      }
    },
    {
      "cell_type": "markdown",
      "source": [
        "And therefore\n",
        "\n",
        "$$\n",
        "\\begin{align}\n",
        "\\underset{g_n,\\beta_n}{\\min} \\quad &  \\sum_n c_n g_n + c^u_n r^u_n + c^d_n r^d_n  \\\\\n",
        "\\text{s.t.} \\quad & \\sum_n g_n = \\sum_n \\hat{d}_n \\\\\n",
        "& \\sum_n \\beta_n = 1 \\\\\n",
        "& 0 \\leq g_n - \\beta_n\\overline{\\Omega}, \\quad \\forall n\\\\\n",
        "& g_n - \\beta_n\\underline{\\Omega} \\leq \\overline{g}_n, \\quad \\forall n\\\\\n",
        "& -\\overline{f}_l \\leq \\sum_{n\\in\\mathcal{N}^+_l} b_{ln}(g_n - \\beta_n\\overline{\\Omega} -\\hat{d}_n - \\overline{e}_n) + \\sum_{n\\in\\mathcal{N}^-_l} b_{ln}(g_n - \\beta_n\\underline{\\Omega} -\\hat{d}_n + \\overline{e}_n), \\quad \\forall l \\\\\n",
        "&  \\sum_{n\\in\\mathcal{N}^+_l} b_{ln}(g_n - \\beta_n\\underline{\\Omega} -\\hat{d}_n + \\overline{e}_n) + \\sum_{n\\in\\mathcal{N}^-_l} b_{ln}(g_n - \\beta_n\\overline{\\Omega} -\\hat{d}_n - \\overline{e}_n ) \\leq \\overline{f}_l, \\quad \\forall l \\\\\n",
        "& -r^d_n \\leq -\\beta_n \\overline{\\Omega}, \\quad \\forall n \\\\\n",
        "& -\\beta_n \\underline{\\Omega} \\leq r^u_n, \\quad \\forall n \\\\\n",
        "& \\beta_n \\geq 0\n",
        "\\end{align}\n",
        "$$"
      ],
      "metadata": {
        "id": "n0-2aDGH0Pg9"
      }
    },
    {
      "cell_type": "code",
      "source": [
        "#@title\n",
        "def dc_opf_ldr(demand,var):\n",
        "  # model\n",
        "  m = gp.Model()\n",
        "  # variables\n",
        "  gen = m.addMVar(nbus,name='gen')\n",
        "  #res_up = m.addMVar(nbus,name='res_up')\n",
        "  #res_do = m.addMVar(nbus,name='res_do')\n",
        "  beta = m.addMVar(nbus,name='beta')\n",
        "  # objective function\n",
        "  #m.setObjective(cost_bus @ gen + cost_up_bus @ res_up + cost_do_bus @ res_do, GRB.MINIMIZE)\n",
        "  m.setObjective(cost_bus @ gen + 0.25 * var.sum() * cost_up_bus @ beta + 0.25 * var.sum() * cost_do_bus @ beta, GRB.MINIMIZE)\n",
        "  # constraints\n",
        "  m.addConstr(gen.sum() == demand.sum())\n",
        "  m.addConstr(beta.sum() == 1)\n",
        "  m.addConstr(0 <= gen - var.sum()*beta)\n",
        "  m.addConstr(gen + var.sum()*beta <= pmax_bus)\n",
        "  m.addConstr(ptdf @ gen - var.sum() * ptdf @ beta >= -cap_line + ptdf @ demand + np.multiply(ptdf,pos_neg) @ var)\n",
        "  m.addConstr(ptdf @ gen - var.sum() * ptdf @ beta <= cap_line + ptdf @ demand - np.multiply(ptdf,pos_neg) @ var)\n",
        "  #m.addConstr(-res_do <= -var.sum()*beta)\n",
        "  #m.addConstr(var.sum()*beta <= res_up)\n",
        "  # solve\n",
        "  m.setParam('OutputFlag',0)\n",
        "  m.write('ldr.lp')\n",
        "  m.optimize()\n",
        "  status(m) \n",
        "  # results\n",
        "  print('dispatch =',gen.X,beta.X)\n",
        "  return gen.X"
      ],
      "metadata": {
        "id": "BRkU0J2W6b1t"
      },
      "execution_count": null,
      "outputs": []
    },
    {
      "cell_type": "markdown",
      "source": [
        "# Evaluate LDR dispatch with var = 10"
      ],
      "metadata": {
        "id": "JgNUlzhItho4"
      }
    },
    {
      "cell_type": "code",
      "source": [
        "#@title\n",
        "gen_robust_ldr = dc_opf_ldr(demand,var_10)\n",
        "evaluate_scenarios(gen_robust_ldr,scen_10)"
      ],
      "metadata": {
        "colab": {
          "base_uri": "https://localhost:8080/"
        },
        "id": "bIXvgSHGtZHw",
        "outputId": "4f61fb36-a879-42a2-abb3-22a3f56691f1"
      },
      "execution_count": null,
      "outputs": [
        {
          "output_type": "stream",
          "name": "stdout",
          "text": [
            "Status = optimal\n",
            "dispatch = [145.00045  54.99955 100.     ] [1. 0. 0.]\n",
            "minimum cost = 6617.854936685488\n",
            "average cost = 7316.832793348991\n",
            "maximum cost = 8266.979865795696\n"
          ]
        }
      ]
    },
    {
      "cell_type": "markdown",
      "source": [
        "# Evaluate LDR dispatch with var = 20"
      ],
      "metadata": {
        "id": "I6PZfDSCyzzh"
      }
    },
    {
      "cell_type": "code",
      "source": [
        "#@title\n",
        "gen_robust_ldr = dc_opf_ldr(demand,var_20)\n",
        "evaluate_scenarios(gen_robust_ldr,scen_20)"
      ],
      "metadata": {
        "colab": {
          "base_uri": "https://localhost:8080/"
        },
        "outputId": "80b8822e-695d-4f44-ff84-5b67c5150879",
        "id": "lFj_z48Wyzzp"
      },
      "execution_count": null,
      "outputs": [
        {
          "output_type": "stream",
          "name": "stdout",
          "text": [
            "Status = optimal\n",
            "dispatch = [115.00015  84.99985 100.     ] [1. 0. 0.]\n",
            "minimum cost = 6059.150418431221\n",
            "average cost = 7497.745360044772\n",
            "maximum cost = 9210.339745249385\n"
          ]
        }
      ]
    },
    {
      "cell_type": "markdown",
      "source": [
        "# Evaluate LDR dispatch with var = 30\n"
      ],
      "metadata": {
        "id": "edcNZEmly9M-"
      }
    },
    {
      "cell_type": "code",
      "source": [
        "#@title\n",
        "#gen_robust_ldr = dc_opf_ldr(demand,var_30)\n",
        "#evaluate_scenarios(gen_robust_ldr,scen_30)"
      ],
      "metadata": {
        "id": "gzQetVI7y9NA"
      },
      "execution_count": null,
      "outputs": []
    },
    {
      "cell_type": "markdown",
      "source": [
        "First primal\n",
        "\n",
        "$$\n",
        "\\begin{align}\n",
        "\\underset{\\eta^+_n,\\eta^-_n}{\\max} \\quad & \\beta_n\\sum_m \\overline{e}_m(\\eta^+_m-\\eta^-_m)  \\\\\n",
        "\\text{s.t.} \\quad & \\sum_m \\eta^+_m+\\eta^-_m \\leq \\Gamma: \\tau \\\\\n",
        "& \\eta^+_m \\leq 1: \\rho^+_{m}, \\quad \\forall m\\\\\n",
        "& \\eta^-_m \\leq 1: \\rho^-_{m}, \\quad \\forall m\\\\\n",
        "& \\eta^+_m,\\eta^-_m\\geq 0\n",
        "\\end{align}\n",
        "$$\n"
      ],
      "metadata": {
        "id": "Ecs3e9nAR6-6"
      }
    },
    {
      "cell_type": "markdown",
      "source": [
        "First dual\n",
        "\n",
        "$$\n",
        "\\begin{align}\n",
        "\\underset{\\tau,\\rho^+_m,\\rho^-_m}{\\min} \\quad & \\Gamma\\tau + \\sum_m \\rho^+_m + \\rho^-_m  \\\\\n",
        "\\text{s.t.} \\quad & -\\beta_n\\overline{e}_m + \\tau + \\rho^+_m \\geq 0, \\quad \\forall m \\\\\n",
        "& \\beta_n\\overline{e}_m + \\tau + \\rho^-_m \\geq 0, \\quad \\forall m\\\\\n",
        "& \\tau,\\rho^+_m,\\rho^-_m \\geq 0\n",
        "\\end{align}\n",
        "$$"
      ],
      "metadata": {
        "id": "WzaZIigmSvNi"
      }
    },
    {
      "cell_type": "markdown",
      "source": [
        "Second primal\n",
        "\n",
        "$$\n",
        "\\begin{align}\n",
        "\\underset{\\eta^+_m,\\eta^-_m}{\\min} \\quad & \\beta_n \\sum_m \\overline{e}_m (\\eta^+_m-\\eta^-_m)  \\\\\n",
        "\\text{s.t.} \\quad & \\sum_m \\eta^+_m+\\eta^-_m \\leq \\Gamma: \\kappa \\\\\n",
        "& \\eta^+_m \\leq 1: \\mu^+_{m}, \\quad \\forall m\\\\\n",
        "& \\eta^-_m \\leq 1: \\mu^-_{m}, \\quad \\forall m\\\\\n",
        "& \\eta^+_m,\\eta^-_m\\geq 0\n",
        "\\end{align}\n",
        "$$"
      ],
      "metadata": {
        "id": "Sc4itgtBTjKP"
      }
    },
    {
      "cell_type": "markdown",
      "source": [
        "Second dual\n",
        "\n",
        "$$\n",
        "\\begin{align}\n",
        "\\underset{\\kappa,\\mu^+_n,\\mu^-_n}{\\max} \\quad & -\\Gamma\\kappa - \\sum_m \\mu^+_m + \\mu^-_m  \\\\\n",
        "\\text{s.t.} \\quad & \\beta_n\\overline{e}_m + \\kappa + \\mu^+_m \\geq 0, \\quad \\forall m \\\\\n",
        "& -\\beta_n\\overline{e}_m + \\kappa + \\mu^-_m \\geq 0, \\quad \\forall m\\\\\n",
        "& \\kappa,\\mu^+_m,\\mu^-_m \\geq 0\n",
        "\\end{align}\n",
        "$$"
      ],
      "metadata": {
        "id": "hHJd9YI_Tu3I"
      }
    },
    {
      "cell_type": "markdown",
      "source": [
        "Third primal\n",
        "\n",
        "$$\n",
        "\\begin{align}\n",
        "\\underset{\\Omega,\\eta^+_n,\\eta^-_n}{\\min} \\quad & \\sum_n -b_{ln}\\beta_n\\Omega -b_{ln}\\overline{e}_n (\\eta^+_n-\\eta^-_n)  \\\\\n",
        "\\text{s.t.} \\quad & \\Omega = \\sum_n \\overline{e}_n (\\eta^+_n-\\eta^-_n): \\alpha_l \\\\\n",
        "& \\sum_n \\eta^+_n+\\eta^-_n \\leq \\Gamma: \\gamma_l \\\\\n",
        "& \\eta^+_n \\leq 1: \\delta^+_{ln}, \\quad \\forall n\\\\\n",
        "& \\eta^-_n \\leq 1: \\delta^-_{ln}, \\quad \\forall n\\\\\n",
        "& \\eta^+_n,\\eta^-_n\\geq 0\n",
        "\\end{align}\n",
        "$$"
      ],
      "metadata": {
        "id": "VWXfGWko2bX2"
      }
    },
    {
      "cell_type": "markdown",
      "source": [
        "Third dual\n",
        "\n",
        "$$\n",
        "\\begin{align}\n",
        "\\underset{\\alpha_l, \\gamma_l, \\delta^+_{ln},\\delta^-_{ln}}{\\max} \\quad & - \\gamma_l\\Gamma - \\sum_n  \\delta^+_{ln}+\\delta^-_{ln}  \\\\\n",
        "\\text{s.t.} \\quad & \\sum_n b_{ln}\\beta_n - \\alpha_l = 0 \\\\\n",
        "& -b_{ln}\\overline{e}_n + \\alpha_l\\overline{e}_n + \\gamma_l + \\delta^+_{ln} \\geq 0, \\quad \\forall n \\\\\n",
        "& b_{ln}\\overline{e}_n - \\alpha_l \\overline{e}_n+ \\gamma_l + \\delta^-_{ln} \\geq 0, \\quad \\forall n \\\\\n",
        "& \\gamma_l, \\delta^+_{ln},\\delta^-_{ln}\\geq 0\n",
        "\\end{align}\n",
        "$$"
      ],
      "metadata": {
        "id": "wmaHiqrt56PV"
      }
    },
    {
      "cell_type": "markdown",
      "source": [
        "Four primal\n",
        "\n",
        "$$\n",
        "\\begin{align}\n",
        "\\underset{\\Omega,\\eta^+_n,\\eta^-_n}{\\max} \\quad & \\sum_n -b_{ln}\\beta_n\\Omega -b_{ln}\\overline{e}_n (\\eta^+_n-\\eta^-_n)  \\\\\n",
        "\\text{s.t.} \\quad & \\Omega = \\sum_n \\overline{e}_n (\\eta^+_n-\\eta^-_n): \\lambda_l \\\\\n",
        "& \\sum_n \\eta^+_n+\\eta^-_n \\leq \\Gamma: \\epsilon_l \\\\\n",
        "& \\eta^+_n \\leq 1: \\zeta^+_{ln}, \\quad \\forall n\\\\\n",
        "& \\eta^-_n \\leq 1: \\zeta^-_{ln}, \\quad \\forall n\\\\\n",
        "& \\eta^+_n,\\eta^-_n\\geq 0\n",
        "\\end{align}\n",
        "$$"
      ],
      "metadata": {
        "id": "FrA2KtEc7jSr"
      }
    },
    {
      "cell_type": "markdown",
      "source": [
        "Four dual\n",
        "\n",
        "$$\n",
        "\\begin{align}\n",
        "\\underset{\\lambda_l, \\epsilon_l, \\zeta^+_{ln},\\zeta^-_{ln}}{\\min} \\quad & - \\epsilon_l\\Gamma - \\sum_n  \\zeta^+_{ln}+\\zeta^-_{ln}  \\\\\n",
        "\\text{s.t.} \\quad & \\sum_n b_{ln}\\beta_n - \\lambda_l = 0 \\\\\n",
        "& -b_{ln}\\overline{e}_n + \\lambda_l\\overline{e}_n + \\epsilon_l + \\zeta^+_{ln} \\geq 0, \\quad \\forall n \\\\\n",
        "& b_{ln}\\overline{e}_n - \\lambda_l \\overline{e}_n+ \\epsilon_l + \\zeta^-_{ln} \\geq 0, \\quad \\forall n \\\\\n",
        "& \\epsilon_l, \\zeta^+_{ln},\\zeta^-_{ln}\\geq 0\n",
        "\\end{align}\n",
        "$$"
      ],
      "metadata": {
        "id": "ARy3Tg5A7-5Z"
      }
    },
    {
      "cell_type": "markdown",
      "source": [
        "By using the dual formulation we obtain\n",
        "\n",
        "$$\n",
        "\\begin{align}\n",
        "\\underset{g_n,\\beta_n,\\tau,\\rho^+_n,\\rho^-_n,\\kappa,\\mu^+_n,\\mu^-_n,\\alpha_l,\\gamma_l, \\delta^+_{ln},\\delta^-_{ln}, \\lambda_l,\\epsilon_l, \\zeta^+_{ln},\\zeta^-_{ln}}{\\min} \\quad &  \\sum_n c_n g_n \\\\\n",
        "\\text{s.t.} \\quad & \\sum_n g_n = \\sum_n \\hat{d}_n \\\\\n",
        "& \\sum_n \\beta_n = 1 \\\\\n",
        "& 0 \\leq g_n - \\Gamma\\tau - \\sum_n \\rho^+_n - \\rho^-_n, \\quad \\forall n\\\\\n",
        "& -\\beta_n\\overline{e}_m + \\tau + \\rho^+_m \\geq 0, \\quad \\forall n,m \\\\\n",
        "& \\beta_n\\overline{e}_m + \\tau + \\rho^-_m \\geq 0, \\quad \\forall n,m\\\\\n",
        "& g_n + \\Gamma\\kappa + \\sum_n \\mu^+_n + \\mu^-_n \\leq \\overline{g}_n, \\quad \\forall n\\\\\n",
        "& \\beta_n\\overline{e}_m + \\kappa + \\mu^+_m \\geq 0, \\quad \\forall n,m \\\\\n",
        "& -\\beta_n\\overline{e}_m + \\kappa + \\mu^-_m \\geq 0, \\quad \\forall n,m\\\\\n",
        "& -\\overline{f}_l \\leq -\\gamma_l\\Gamma - \\sum_n \\delta^+_{ln} + \\delta^-_{ln}, \\quad \\forall l \\\\\n",
        "& \\sum_n b_{ln}\\beta_n - \\alpha_l = 0, \\quad \\forall l \\\\\n",
        "& -b_{ln}\\overline{e}_n + \\alpha_l\\overline{e}_n + \\gamma_l + \\delta^+_{ln} \\geq 0, \\quad \\forall n,l \\\\\n",
        "& b_{ln}\\overline{e}_n - \\alpha_l \\overline{e}_n+ \\gamma_l + \\delta^-_{ln} \\geq 0, \\quad \\forall n,l \\\\\n",
        "&  -\\epsilon_l\\Gamma - \\sum_n \\zeta^+_{ln}+\\zeta^-_{ln} \\leq \\overline{f}_l, \\quad \\forall l \\\\\n",
        "& \\sum_n b_{ln}\\beta_n - \\lambda_l = 0, \\quad \\forall l \\\\\n",
        "& -b_{ln}\\overline{e}_n + \\lambda_l\\overline{e}_n + \\epsilon_l + \\zeta^+_{ln} \\geq 0, \\quad \\forall n,l \\\\\n",
        "& b_{ln}\\overline{e}_n - \\lambda_l \\overline{e}_n+ \\epsilon_l + \\zeta^-_{ln} \\geq 0, \\quad \\forall n,l \\\\\n",
        "& \\beta_n, \\tau,\\rho^+_n,\\rho^-_n, \\kappa,\\mu^+_n,\\mu^-_n,\\gamma_l, \\delta^+_{ln},\\delta^-_{ln}, \\epsilon_l, \\zeta^+_{ln},\\zeta^-_{ln} \\geq 0\n",
        "\\end{align}\n",
        "$$"
      ],
      "metadata": {
        "id": "j5AYK4Ve9TyH"
      }
    },
    {
      "cell_type": "code",
      "source": [
        "def dc_opf_ldr_budget(demand,var,budget):\n",
        "  # model\n",
        "  m = gp.Model()\n",
        "  m.Params.Threads = 1\n",
        "  # variables\n",
        "  gen = m.addMVar(nbus,name='gen')\n",
        "  beta = m.addMVar(nbus,name='beta')\n",
        "  tau = m.addVar(name='tau')\n",
        "  rho_up = m.addMVar(nbus,name='rho_up')\n",
        "  rho_do = m.addMVar(nbus,name='rho_do')\n",
        "  kappa = m.addVar(name='kappa')\n",
        "  mu_up = m.addMVar(nbus,name='mu_up')\n",
        "  mu_do = m.addMVar(nbus,name='mu_do')\n",
        "  alpha = m.addMVar(nlin,lb=-GRB.INFINITY,name='alpha')\n",
        "  gamma = m.addMVar(nlin,name='gamma')  \n",
        "  delta_up = m.addMVar((nlin,nbus),name='delta_up')\n",
        "  delta_do = m.addMVar((nlin,nbus),name='delta_do')\n",
        "  lamda = m.addMVar(nlin,lb=-GRB.INFINITY,name='lambda')\n",
        "  epsilon = m.addMVar(nlin,name='epsilon')\n",
        "  zeta_up = m.addMVar((nlin,nbus),name='zeta_up')\n",
        "  zeta_do = m.addMVar((nlin,nbus),name='zeta_do')\n",
        "  # objective function\n",
        "  m.setObjective(cost_bus @ gen + 0.5 * var.sum() * var.sum() * cost_up_bus @ beta + 0.5 * var.sum() * var.sum() * cost_do_bus @ beta, GRB.MINIMIZE)\n",
        "  #m.setObjective(cost_bus @ gen, GRB.MINIMIZE)\n",
        "  # constraints\n",
        "  m.addConstr(gen.sum() == demand.sum())\n",
        "  m.addConstr(beta.sum() == 1)\n",
        "  m.addConstrs(0 <= gen[n] - budget*tau - rho_up.sum() - rho_do.sum() for n in range(nbus))\n",
        "  m.addConstrs(-beta[n]*var[m] + tau + rho_up[m] >= 0 for n in range(nbus) for m in range(nbus))\n",
        "  m.addConstrs(beta[n]*var[m] + tau + rho_do[m] >= 0 for n in range(nbus) for m in range(nbus))\n",
        "  m.addConstrs(gen[n] + budget*kappa + mu_up.sum() + mu_do.sum() <= pmax_bus[n] for n in range(nbus))\n",
        "  m.addConstrs(beta[n]*var[m] + kappa + mu_up[m] >= 0 for n in range(nbus) for m in range(nbus))\n",
        "  m.addConstrs(-beta[n]*var[m] + kappa + mu_do[m] >= 0 for n in range(nbus) for m in range(nbus))\n",
        "  m.addConstrs(-cap_line[l] <= -budget*gamma[l] - delta_up[l,:].sum() - delta_do[l,:].sum() for l in range(nlin))\n",
        "  m.addConstr(ptdf @ beta - alpha == 0)\n",
        "  m.addConstrs(-ptdf[l,n]*var[n] + alpha[l]*var[n] + gamma[l] + delta_up[l,n] >= 0 for n in range(nbus) for l in range(nlin))\n",
        "  m.addConstrs(ptdf[l,n]*var[n] - alpha[l]*var[n] + gamma[l] + delta_do[l,n] >= 0 for n in range(nbus) for l in range(nlin))\n",
        "  m.addConstrs(-budget*epsilon[l] - zeta_up[l,:].sum() - zeta_do[l,:].sum() <= cap_line[l] for l in range(nlin))\n",
        "  m.addConstr(ptdf @ beta - lamda == 0)\n",
        "  m.addConstrs(-ptdf[l,n]*var[n] + lamda[l]*var[n] + epsilon[l] + zeta_up[l,n] >= 0 for n in range(nbus) for l in range(nlin))\n",
        "  m.addConstrs(ptdf[l,n]*var[n] - lamda[l]*var[n] + epsilon[l] + zeta_do[l,n] >= 0 for n in range(nbus) for l in range(nlin))  \n",
        "  # solve\n",
        "  m.setParam('OutputFlag',0)  \n",
        "  m.optimize()\n",
        "  status(m)   \n",
        "  m.write('ldr_budget.lp')\n",
        "  # results\n",
        "  print('dispatch =',gen.X,beta.X)\n",
        "  print('kappa=',kappa.X)\n",
        "  print('mu_up=',mu_up.X)\n",
        "  print('mu_do=',mu_do.X)\n",
        "  return gen.X"
      ],
      "metadata": {
        "id": "ygKSTljlAHrP"
      },
      "execution_count": null,
      "outputs": []
    },
    {
      "cell_type": "markdown",
      "source": [
        ""
      ],
      "metadata": {
        "id": "UiekpIKErQjf"
      }
    },
    {
      "cell_type": "markdown",
      "source": [
        "# Evaluate LDR dispatch (Gamma=2, var=10)"
      ],
      "metadata": {
        "id": "d3nWx6GfrU7U"
      }
    },
    {
      "cell_type": "code",
      "source": [
        "#@title\n",
        "gen_ldr_budget = dc_opf_ldr_budget(demand,var_10,3)\n",
        "evaluate_scenarios(gen_ldr_budget,scen_10)"
      ],
      "metadata": {
        "colab": {
          "base_uri": "https://localhost:8080/"
        },
        "id": "es_gnwpBrfI2",
        "outputId": "6ea3665c-8d98-4a89-da2f-95c62eb41bb7"
      },
      "execution_count": null,
      "outputs": [
        {
          "output_type": "stream",
          "name": "stdout",
          "text": [
            "Set parameter Threads to value 1\n",
            "Status = optimal\n",
            "dispatch = [170. 100.  30.] [1. 0. 0.]\n",
            "kappa= 0.0\n",
            "mu_up= [0. 0. 0.]\n",
            "mu_do= [10. 10. 10.]\n",
            "minimum cost = 7434.164886861534\n",
            "average cost = 7936.277854814781\n",
            "maximum cost = 8448.780527314091\n"
          ]
        }
      ]
    },
    {
      "cell_type": "markdown",
      "source": [
        "# Evaluate LDR dispatch (Gamma=2, var=20)"
      ],
      "metadata": {
        "id": "8bbcK_kIsNxf"
      }
    },
    {
      "cell_type": "code",
      "source": [
        "#@title\n",
        "gen_ldr_budget = dc_opf_ldr_budget(demand,var_20,2)\n",
        "evaluate_scenarios(gen_ldr_budget,scen_20)"
      ],
      "metadata": {
        "colab": {
          "base_uri": "https://localhost:8080/"
        },
        "id": "Y6hsiNA8sZES",
        "outputId": "944b6a72-c10c-4734-96f4-e2fd667bb3f3"
      },
      "execution_count": null,
      "outputs": [
        {
          "output_type": "stream",
          "name": "stdout",
          "text": [
            "Set parameter Threads to value 1\n",
            "Status = optimal\n",
            "dispatch = [180. 100.  20.] [1. 0. 0.]\n",
            "minimum cost = 7203.360949349592\n",
            "average cost = 8170.2376477602775\n",
            "maximum cost = 9222.615642532528\n"
          ]
        }
      ]
    },
    {
      "cell_type": "markdown",
      "source": [
        "# Evaluate LDR dispatch (Gamma=2, var=30)"
      ],
      "metadata": {
        "id": "nToqxPuhsPYG"
      }
    },
    {
      "cell_type": "code",
      "source": [
        "#@title\n",
        "gen_ldr_budget = dc_opf_ldr_budget(demand,var_30,2)\n",
        "evaluate_scenarios(gen_ldr_budget,scen_30)"
      ],
      "metadata": {
        "colab": {
          "base_uri": "https://localhost:8080/"
        },
        "id": "gKkI0BaOsb7B",
        "outputId": "2b09e8e4-6288-4f81-fd6d-fc389d8ffb7e"
      },
      "execution_count": null,
      "outputs": [
        {
          "output_type": "stream",
          "name": "stdout",
          "text": [
            "Set parameter Threads to value 1\n",
            "Status = optimal\n",
            "dispatch = [172.5 100.   27.5] [0.83333333 0.08333333 0.08333333]\n",
            "minimum cost = 6530.3724145596925\n",
            "average cost = 8025.5189891839755\n",
            "maximum cost = 9750.066111938793\n"
          ]
        }
      ]
    },
    {
      "cell_type": "markdown",
      "source": [
        "# Evaluate LDR dispatch (Gamma=1, var=10)"
      ],
      "metadata": {
        "id": "Q_1_KRM1sRZY"
      }
    },
    {
      "cell_type": "code",
      "source": [
        "#@title\n",
        "gen_ldr_budget = dc_opf_ldr_budget(demand,var_10,1)\n",
        "evaluate_scenarios(gen_ldr_budget,scen_10)"
      ],
      "metadata": {
        "colab": {
          "base_uri": "https://localhost:8080/"
        },
        "id": "x4iy8TuMseYj",
        "outputId": "290c986b-5833-422c-cdc8-99a034abf88f"
      },
      "execution_count": null,
      "outputs": [
        {
          "output_type": "stream",
          "name": "stdout",
          "text": [
            "Set parameter Threads to value 1\n",
            "Status = optimal\n",
            "dispatch = [190. 100.  10.] [1. 0. 0.]\n",
            "minimum cost = 7934.164886861534\n",
            "average cost = 8436.277854814782\n",
            "maximum cost = 8948.780527314091\n"
          ]
        }
      ]
    },
    {
      "cell_type": "markdown",
      "source": [
        "# Evaluate LDR dispatch (Gamma=1, var=20)"
      ],
      "metadata": {
        "id": "thI-hwXmsT7l"
      }
    },
    {
      "cell_type": "code",
      "source": [
        "#@title\n",
        "gen_ldr_budget = dc_opf_ldr_budget(demand,var_20,1)\n",
        "evaluate_scenarios(gen_ldr_budget,scen_20)"
      ],
      "metadata": {
        "colab": {
          "base_uri": "https://localhost:8080/"
        },
        "id": "54QsO6UJsiCX",
        "outputId": "b11d566f-4408-4747-faf6-27d1eabf05f6"
      },
      "execution_count": null,
      "outputs": [
        {
          "output_type": "stream",
          "name": "stdout",
          "text": [
            "Set parameter Threads to value 1\n",
            "Status = optimal\n",
            "dispatch = [180. 100.  20.] [1. 0. 0.]\n",
            "minimum cost = 7203.360949349592\n",
            "average cost = 8170.2376477602775\n",
            "maximum cost = 9222.615642532528\n"
          ]
        }
      ]
    },
    {
      "cell_type": "markdown",
      "source": [
        "# Evaluate LDR dispatch (Gamma=1, var=30)"
      ],
      "metadata": {
        "id": "vBK_LYp5sVkf"
      }
    },
    {
      "cell_type": "code",
      "source": [
        "#@title\n",
        "gen_ldr_budget = dc_opf_ldr_budget(demand,var_30,1)\n",
        "evaluate_scenarios(gen_ldr_budget,scen_30)"
      ],
      "metadata": {
        "colab": {
          "base_uri": "https://localhost:8080/"
        },
        "id": "fPcW0Ge1slTw",
        "outputId": "d8f67490-82ea-4371-aa42-999069067155"
      },
      "execution_count": null,
      "outputs": [
        {
          "output_type": "stream",
          "name": "stdout",
          "text": [
            "Set parameter Threads to value 1\n",
            "Status = optimal\n",
            "dispatch = [170. 100.  30.] [1. 0. 0.]\n",
            "minimum cost = 6480.371289548442\n",
            "average cost = 7966.334846547034\n",
            "maximum cost = 9687.566111938793\n"
          ]
        }
      ]
    },
    {
      "cell_type": "markdown",
      "source": [
        "# Stochastic programming\n",
        "\n",
        "We use the index $w$ for scenarios and $\\pi_w$ for scenario probability. First stage decision are $g_n$ while second stage decisions are $r_{nw}$. The two-stage optimization problem is formulated as follows:\n",
        "\n",
        "$$\n",
        "\\begin{align}\n",
        "\\underset{g_n,r_{nw},r^u_n, r^d_n}{\\min} \\quad &  \\sum_w \\pi_w\\left( \\sum_n c_n (g_n+r_{nw}) + c^u_n r^u_n + c^d_n r^d_n\\right)  \\\\\n",
        "\\text{s.t.} \\quad & \\sum_n g_n+r_{nw} = \\sum_n \\hat{d}_n + \\overline{e}_n\\eta_{nw}, \\quad \\forall w \\\\\n",
        "& 0 \\leq g_n + r_{nw} \\leq \\overline{g}_n, \\quad \\forall n,w\\\\\n",
        "& -\\overline{f}_l \\leq \\sum_n b_{ln}(g_n +r_{nw} -\\hat{d}_n - \\overline{e}_n \\eta_{nw}) \\leq \\overline{f}_l, \\quad \\forall l,w \\\\\n",
        "& -r^d_n \\leq r_{nw} \\leq r^u_n, \\quad \\forall n,w \\\\\n",
        "& r^u_n, r^d_n\\geq 0\n",
        "\\end{align}\n",
        "$$"
      ],
      "metadata": {
        "id": "zekepkXC-x9c"
      }
    },
    {
      "cell_type": "code",
      "source": [
        "#@title\n",
        "def sto(demand,var,nscen):\n",
        "  # generate scenarios\n",
        "  eta = np.zeros((nbus,nscen))\n",
        "  for n in range(nbus):\n",
        "    for s in range(nscen):\n",
        "      eta[n,s] = var[n]*np.random.uniform(-1,1)\n",
        "  # model\n",
        "  m = gp.Model()  \n",
        "  # variables\n",
        "  gen = m.addMVar(nbus)\n",
        "  #res = m.addMVar((nbus,nscen),lb=-GRB.INFINITY)\n",
        "  res_up = m.addMVar((nbus,nscen))\n",
        "  res_do = m.addMVar((nbus,nscen))\n",
        "  # objective function\n",
        "  m.setObjective(cost_bus @ gen + sum(cost_up_bus @ res_up[:,s] for s in range(nscen))/nscen - sum(cost_do_bus @ res_do[:,s] for s in range(nscen))/nscen, GRB.MINIMIZE)\n",
        "  # constraints\n",
        "  m.addConstrs(gen.sum() + res_up[:,s].sum() - res_do[:,s].sum() == demand.sum() + eta[:,s].sum() for s in range(nscen))\n",
        "  m.addConstrs(gen + res_up[:,s] - res_do[:,s] >= 0 for s in range(nscen))\n",
        "  m.addConstrs(gen + res_up[:,s] - res_do[:,s] <= pmax_bus for s in range(nscen))\n",
        "  m.addConstrs(ptdf @ gen + ptdf @ res_up[:,s] - ptdf @ res_do[:,s] >= -cap_line + ptdf @ demand + ptdf @ eta[:,s]  for s in range(nscen))\n",
        "  m.addConstrs(ptdf @ gen + ptdf @ res_up[:,s] - ptdf @ res_do[:,s] <= cap_line + ptdf @ demand + ptdf @ eta[:,s] for s in range(nscen))\n",
        "  #m.addConstrs(res[:,s] >= -res_do for s in range(nscen))\n",
        "  #m.addConstrs(res[:,s] <= res_up for s in range(nscen))\n",
        "  # solve\n",
        "  m.setParam('OutputFlag',0)  \n",
        "  m.optimize()\n",
        "  status(m)     \n",
        "  # results\n",
        "  print('dispatch =',gen.X)  \n",
        "  return gen.X"
      ],
      "metadata": {
        "id": "E-Q0vTVCGhDd"
      },
      "execution_count": null,
      "outputs": []
    },
    {
      "cell_type": "markdown",
      "source": [
        "# Evaluate stochastic dispatch with var=10"
      ],
      "metadata": {
        "id": "V3xXxSlUtrEX"
      }
    },
    {
      "cell_type": "code",
      "source": [
        "#@title\n",
        "gen_sto = sto(demand,var_10,100)\n",
        "evaluate_scenarios(gen_sto,scen_10)"
      ],
      "metadata": {
        "colab": {
          "base_uri": "https://localhost:8080/"
        },
        "id": "JDAiL5ojtSjQ",
        "outputId": "b8d2f776-fdc5-4c31-acec-eaed6baa213b"
      },
      "execution_count": null,
      "outputs": [
        {
          "output_type": "stream",
          "name": "stdout",
          "text": [
            "Status = optimal\n",
            "dispatch = [162.18539285  44.51136314  94.91935967]\n",
            "minimum cost = 6689.1755574607605\n",
            "average cost = 7230.122765325561\n",
            "maximum cost = 8139.490793255101\n"
          ]
        }
      ]
    },
    {
      "cell_type": "markdown",
      "source": [
        "# Evaluate stochastic dispatch with var=20"
      ],
      "metadata": {
        "id": "T4ynLBN7tx2K"
      }
    },
    {
      "cell_type": "code",
      "source": [
        "#@title\n",
        "gen_sto = sto(demand,var_20,100)\n",
        "evaluate_scenarios(gen_sto,scen_20)"
      ],
      "metadata": {
        "colab": {
          "base_uri": "https://localhost:8080/"
        },
        "id": "xRvXIWlut2SP",
        "outputId": "a1d3b33d-0ce9-4172-ffcd-f9961ff81e46"
      },
      "execution_count": null,
      "outputs": [
        {
          "output_type": "stream",
          "name": "stdout",
          "text": [
            "Status = optimal\n",
            "dispatch = [153.83876068  59.41710786  91.30535274]\n",
            "minimum cost = 6280.525362108894\n",
            "average cost = 7324.3678506458045\n",
            "maximum cost = 8927.061242799009\n"
          ]
        }
      ]
    },
    {
      "cell_type": "markdown",
      "source": [
        "# Evaluate stochastic dispatch with var=30"
      ],
      "metadata": {
        "id": "0fpZ9qJEtzF9"
      }
    },
    {
      "cell_type": "code",
      "source": [
        "#@title\n",
        "gen_sto = sto(demand,var_30,100)\n",
        "evaluate_scenarios(gen_sto,scen_30)"
      ],
      "metadata": {
        "colab": {
          "base_uri": "https://localhost:8080/"
        },
        "id": "en02MAkut5LW",
        "outputId": "9eac6889-0866-4425-d911-00cecbd85c03"
      },
      "execution_count": null,
      "outputs": [
        {
          "output_type": "stream",
          "name": "stdout",
          "text": [
            "Status = optimal\n",
            "dispatch = [130.35653804 103.04585573  75.50725923]\n",
            "minimum cost = 5950.86040343634\n",
            "average cost = 7457.936657505991\n",
            "maximum cost = 10031.156904072644\n"
          ]
        }
      ]
    }
  ]
}