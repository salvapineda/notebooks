{
  "nbformat": 4,
  "nbformat_minor": 0,
  "metadata": {
    "colab": {
      "name": "UnitCommitment(single_period).ipynb",
      "provenance": [],
      "authorship_tag": "ABX9TyN6dLBndq18eQstT5QWlEhK",
      "include_colab_link": true
    },
    "kernelspec": {
      "name": "python3",
      "display_name": "Python 3"
    }
  },
  "cells": [
    {
      "cell_type": "markdown",
      "metadata": {
        "id": "view-in-github",
        "colab_type": "text"
      },
      "source": [
        "<a href=\"https://colab.research.google.com/github/salvapineda/notebooks/blob/main/UnitCommitment(single_period).ipynb\" target=\"_parent\"><img src=\"https://colab.research.google.com/assets/colab-badge.svg\" alt=\"Open In Colab\"/></a>"
      ]
    },
    {
      "cell_type": "markdown",
      "metadata": {
        "id": "ZIEfHxwno5u5"
      },
      "source": [
        "# Unit Commitment (single period)\n",
        "\n",
        "This Jupyter Notebook solves an instance of the Unit Commitment Problem for a single period described in XXX"
      ]
    },
    {
      "cell_type": "markdown",
      "metadata": {
        "id": "-1vOQpFioj3O"
      },
      "source": [
        "## Requirements"
      ]
    },
    {
      "cell_type": "code",
      "metadata": {
        "id": "OHOKuwI6UisB",
        "colab": {
          "base_uri": "https://localhost:8080/"
        },
        "outputId": "d60e205b-c6f5-4010-d7c3-757a4c194ed6"
      },
      "source": [
        "!pip install -q pyomo\n",
        "!wget -N -q \"https://ampl.com/dl/open/bonmin/bonmin-linux64.zip\"\n",
        "!unzip -o -q bonmin-linux64\n",
        "import pandas as pd\n",
        "import pyomo.environ as pe\n",
        "bonmin = pe.SolverFactory('bonmin', executable='/content/bonmin')"
      ],
      "execution_count": null,
      "outputs": [
        {
          "output_type": "stream",
          "text": [
            "\u001b[K     |████████████████████████████████| 8.9MB 10.0MB/s \n",
            "\u001b[K     |████████████████████████████████| 51kB 5.7MB/s \n",
            "\u001b[?25h"
          ],
          "name": "stdout"
        }
      ]
    },
    {
      "cell_type": "markdown",
      "metadata": {
        "id": "o4jSX0peop7j"
      },
      "source": [
        "## Input Data"
      ]
    },
    {
      "cell_type": "code",
      "metadata": {
        "id": "sLj2JfYhTWyT"
      },
      "source": [
        "gen = pd.DataFrame({\n",
        "       'unit': [1,   2], \n",
        "       'cost': [10,  20], \n",
        "       'pmin': [60,  20], \n",
        "       'pmax': [100, 100]})\n",
        "dem = 50\n",
        "ngen = len(gen)"
      ],
      "execution_count": null,
      "outputs": []
    },
    {
      "cell_type": "markdown",
      "metadata": {
        "id": "HS_EfbXuowM9"
      },
      "source": [
        "## Solving the Unit Commitment"
      ]
    },
    {
      "cell_type": "code",
      "metadata": {
        "id": "HdyhOqpGWMfC",
        "colab": {
          "base_uri": "https://localhost:8080/"
        },
        "outputId": "ac1ade27-f1d5-47b6-ad4b-2d95a4c11b4c"
      },
      "source": [
        "# Model\n",
        "m = pe.ConcreteModel()\n",
        "# Sets\n",
        "m.g = pe.Set(initialize=list(range(ngen)))\n",
        "# Variables\n",
        "m.p = pe.Var(m.g,within=pe.NonNegativeReals)\n",
        "m.u = pe.Var(m.g,within=pe.Binary)\n",
        "def obj_rule(m):\n",
        "  return sum(gen.loc[g,'cost']*m.p[g] for g in m.g)\n",
        "m.obj = pe.Objective(rule=obj_rule)\n",
        "# Energy balance\n",
        "def bal_rule(m):\n",
        "  return sum(m.p[g] for g in m.g) == dem\n",
        "m.bal = pe.Constraint(rule=bal_rule)\n",
        "# Minimum generation\n",
        "def min_gen_rule(m,g):\n",
        "  return m.p[g] >= m.u[g]*gen.loc[g,'pmin']\n",
        "m.min_gen = pe.Constraint(m.g, rule=min_gen_rule)\n",
        "# Maximum generation\n",
        "def max_gen_rule(m,g):\n",
        "  return m.p[g] <= m.u[g]*gen.loc[g,'pmax']\n",
        "m.max_gen = pe.Constraint(m.g, rule=max_gen_rule)\n",
        "# We solve the optimization problem using GLPK\n",
        "bonmin.solve(m).write()"
      ],
      "execution_count": null,
      "outputs": [
        {
          "output_type": "stream",
          "text": [
            "# ==========================================================\n",
            "# = Solver Results                                         =\n",
            "# ==========================================================\n",
            "# ----------------------------------------------------------\n",
            "#   Problem Information\n",
            "# ----------------------------------------------------------\n",
            "Problem: \n",
            "- Lower bound: -inf\n",
            "  Upper bound: inf\n",
            "  Number of objectives: 1\n",
            "  Number of constraints: 0\n",
            "  Number of variables: 4\n",
            "  Sense: unknown\n",
            "# ----------------------------------------------------------\n",
            "#   Solver Information\n",
            "# ----------------------------------------------------------\n",
            "Solver: \n",
            "- Status: ok\n",
            "  Message: bonmin\\x3a Optimal\n",
            "  Termination condition: optimal\n",
            "  Id: 3\n",
            "  Error rc: 0\n",
            "  Time: 0.02567434310913086\n",
            "# ----------------------------------------------------------\n",
            "#   Solution Information\n",
            "# ----------------------------------------------------------\n",
            "Solution: \n",
            "- number of solutions: 0\n",
            "  number of solutions displayed: 0\n"
          ],
          "name": "stdout"
        }
      ]
    },
    {
      "cell_type": "markdown",
      "metadata": {
        "id": "5zEAqcOEo0NV"
      },
      "source": [
        "## Solution Output"
      ]
    },
    {
      "cell_type": "code",
      "metadata": {
        "id": "iSp-Sn1AmVxd",
        "colab": {
          "base_uri": "https://localhost:8080/"
        },
        "outputId": "d33b8731-5e35-40e6-d715-25820bf30378"
      },
      "source": [
        "# Print results\n",
        "print('obj =',m.obj())\n",
        "print('p1 =',m.p[0].value)\n",
        "print('p2 =',m.p[1].value)"
      ],
      "execution_count": null,
      "outputs": [
        {
          "output_type": "stream",
          "text": [
            "obj = 999.9999999044458\n",
            "p1 = 9.555419965740217e-09\n",
            "p2 = 49.99999999044458\n"
          ],
          "name": "stdout"
        }
      ]
    }
  ]
}