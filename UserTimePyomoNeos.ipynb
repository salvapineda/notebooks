{
  "nbformat": 4,
  "nbformat_minor": 0,
  "metadata": {
    "colab": {
      "name": "UserTimePyomoNeos.ipynb",
      "provenance": [],
      "include_colab_link": true
    },
    "kernelspec": {
      "name": "python3",
      "display_name": "Python 3"
    }
  },
  "cells": [
    {
      "cell_type": "markdown",
      "metadata": {
        "id": "view-in-github",
        "colab_type": "text"
      },
      "source": [
        "<a href=\"https://colab.research.google.com/github/salvapineda/notebooks/blob/main/UserTimePyomoNeos.ipynb\" target=\"_parent\"><img src=\"https://colab.research.google.com/assets/colab-badge.svg\" alt=\"Open In Colab\"/></a>"
      ]
    },
    {
      "cell_type": "markdown",
      "metadata": {
        "id": "EC_ix0MdPi0z"
      },
      "source": [
        "# Accessing computational time in PYOMO with NEOS"
      ]
    },
    {
      "cell_type": "markdown",
      "metadata": {
        "id": "w_4l3akpStLh"
      },
      "source": [
        "## Requirements"
      ]
    },
    {
      "cell_type": "code",
      "metadata": {
        "id": "1ICsgrng7ceo"
      },
      "source": [
        "!pip install -q pyomo\n",
        "!apt-get install -y -qq coinor-cbc\n",
        "import os\n",
        "import random\n",
        "import pyomo.environ as pe\n",
        "os.environ['NEOS_EMAIL'] = 'salvapineda2@gmail.com'"
      ],
      "execution_count": 6,
      "outputs": []
    },
    {
      "cell_type": "markdown",
      "metadata": {
        "id": "COVwNBd2RxTM"
      },
      "source": [
        "## Create the optimization model in pyomo"
      ]
    },
    {
      "cell_type": "code",
      "metadata": {
        "id": "QJGq_nF47k0-"
      },
      "source": [
        "# Dimensions\n",
        "nvar = 10\n",
        "ncon = 5\n",
        "# Random vector and matrixes\n",
        "c = [round(random.uniform(0,1),2) for i in range(nvar)]\n",
        "A = [[round(random.uniform(-1,1),2) for i in range(nvar)] for j in range(ncon)]\n",
        "b = [round(random.uniform(-10,10),2) for j in range(ncon)]\n",
        "# Model\n",
        "m = pe.ConcreteModel()\n",
        "# Sets\n",
        "m.i = pe.Set(initialize=range(nvar),ordered=True)\n",
        "m.j = pe.Set(initialize=range(ncon),ordered=True)\n",
        "# Variables\n",
        "m.x = pe.Var(m.i,within=pe.NonNegativeIntegers)\n",
        "# Objective function\n",
        "def obj_rule(m):\n",
        "  return sum(c[i]*m.x[i] for i in m.i)\n",
        "m.obj = pe.Objective(rule=obj_rule)\n",
        "# Constraints\n",
        "def con_rule(m,j):\n",
        "  return sum(A[j][i]*m.x[i] for i in m.i) <= b[j]\n",
        "m.con = pe.Constraint(m.j,rule=con_rule)"
      ],
      "execution_count": 7,
      "outputs": []
    },
    {
      "cell_type": "markdown",
      "metadata": {
        "id": "-7NZ4fztSHcD"
      },
      "source": [
        "## Solve the model using CBC without NEOS"
      ]
    },
    {
      "cell_type": "code",
      "metadata": {
        "id": "n3DTMRrsR_EG",
        "colab": {
          "base_uri": "https://localhost:8080/"
        },
        "outputId": "24b8013e-b855-420e-ccc1-9d8e18c9dd9c"
      },
      "source": [
        "pe.SolverFactory('cbc', executable='/usr/bin/cbc').solve(m).write()"
      ],
      "execution_count": 8,
      "outputs": [
        {
          "output_type": "stream",
          "text": [
            "# ==========================================================\n",
            "# = Solver Results                                         =\n",
            "# ==========================================================\n",
            "# ----------------------------------------------------------\n",
            "#   Problem Information\n",
            "# ----------------------------------------------------------\n",
            "Problem: \n",
            "- Name: unknown\n",
            "  Lower bound: 3.49\n",
            "  Upper bound: 3.49\n",
            "  Number of objectives: 1\n",
            "  Number of constraints: 5\n",
            "  Number of variables: 10\n",
            "  Number of binary variables: 0\n",
            "  Number of integer variables: 10\n",
            "  Number of nonzeros: 10\n",
            "  Sense: minimize\n",
            "# ----------------------------------------------------------\n",
            "#   Solver Information\n",
            "# ----------------------------------------------------------\n",
            "Solver: \n",
            "- Status: ok\n",
            "  User time: -1.0\n",
            "  System time: 0.0\n",
            "  Wallclock time: 0.01\n",
            "  Termination condition: optimal\n",
            "  Termination message: Model was solved to optimality (subject to tolerances), and an optimal solution is available.\n",
            "  Statistics: \n",
            "    Branch and bound: \n",
            "      Number of bounded subproblems: 0\n",
            "      Number of created subproblems: 0\n",
            "    Black box: \n",
            "      Number of iterations: 2\n",
            "  Error rc: 0\n",
            "  Time: 0.024751901626586914\n",
            "# ----------------------------------------------------------\n",
            "#   Solution Information\n",
            "# ----------------------------------------------------------\n",
            "Solution: \n",
            "- number of solutions: 0\n",
            "  number of solutions displayed: 0\n"
          ],
          "name": "stdout"
        }
      ]
    },
    {
      "cell_type": "markdown",
      "metadata": {
        "id": "jT0PQ8NwR42e"
      },
      "source": [
        "## Solve the model using CBC and NEOS"
      ]
    },
    {
      "cell_type": "code",
      "metadata": {
        "id": "GZQPBsz9R1fl",
        "colab": {
          "base_uri": "https://localhost:8080/"
        },
        "outputId": "e699aae2-582e-436e-86a9-9138bf8387a3"
      },
      "source": [
        "pe.SolverManagerFactory('neos').solve(m,opt='cbc').write()"
      ],
      "execution_count": 9,
      "outputs": [
        {
          "output_type": "stream",
          "text": [
            "# ==========================================================\n",
            "# = Solver Results                                         =\n",
            "# ==========================================================\n",
            "# ----------------------------------------------------------\n",
            "#   Problem Information\n",
            "# ----------------------------------------------------------\n",
            "Problem: \n",
            "- Lower bound: -inf\n",
            "  Upper bound: inf\n",
            "  Number of objectives: 1\n",
            "  Number of constraints: 5\n",
            "  Number of variables: 10\n",
            "  Sense: unknown\n",
            "# ----------------------------------------------------------\n",
            "#   Solver Information\n",
            "# ----------------------------------------------------------\n",
            "Solver: \n",
            "- Status: ok\n",
            "  Message: CBC 2.10.3 optimal, objective 3.49; 0 nodes, 2 iterations, 0.00389 seconds\n",
            "  Termination condition: optimal\n",
            "  Id: 0\n",
            "# ----------------------------------------------------------\n",
            "#   Solution Information\n",
            "# ----------------------------------------------------------\n",
            "Solution: \n",
            "- number of solutions: 0\n",
            "  number of solutions displayed: 0\n"
          ],
          "name": "stdout"
        }
      ]
    }
  ]
}