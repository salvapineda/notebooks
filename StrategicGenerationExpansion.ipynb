{
  "nbformat": 4,
  "nbformat_minor": 0,
  "metadata": {
    "colab": {
      "provenance": [],
      "authorship_tag": "ABX9TyPTsUoHWHoIxFvYzfq9G+hy",
      "include_colab_link": true
    },
    "kernelspec": {
      "name": "python3",
      "display_name": "Python 3"
    }
  },
  "cells": [
    {
      "cell_type": "markdown",
      "metadata": {
        "id": "view-in-github",
        "colab_type": "text"
      },
      "source": [
        "<a href=\"https://colab.research.google.com/github/salvapineda/notebooks/blob/main/StrategicGenerationExpansion.ipynb\" target=\"_parent\"><img src=\"https://colab.research.google.com/assets/colab-badge.svg\" alt=\"Open In Colab\"/></a>"
      ]
    },
    {
      "cell_type": "markdown",
      "metadata": {
        "id": "ZIEfHxwno5u5"
      },
      "source": [
        "# Strategic Generation Expansion\n",
        "\n",
        "This Jupyter Notebook solves an instance of the Strategic Generation Expansion described in XXX"
      ]
    },
    {
      "cell_type": "markdown",
      "metadata": {
        "id": "-1vOQpFioj3O"
      },
      "source": [
        "## Requirements"
      ]
    },
    {
      "cell_type": "code",
      "metadata": {
        "id": "OHOKuwI6UisB",
        "colab": {
          "base_uri": "https://localhost:8080/"
        },
        "outputId": "4b1ae837-8001-4434-cd7d-4a2c1d8715aa"
      },
      "source": [
        "# PYOMO\n",
        "!pip install pyomo \n",
        "import pyomo.environ as pe\n",
        "# IPOPT\n",
        "!wget -N -q \"https://matematica.unipv.it/gualandi/solvers/ipopt-linux64.zip\"\n",
        "!unzip -o -q ipopt-linux64\n",
        "ipopt = pe.SolverFactory('ipopt')\n",
        "# OTHER\n",
        "import numpy as np\n",
        "import pandas as pd"
      ],
      "execution_count": 1,
      "outputs": [
        {
          "output_type": "stream",
          "name": "stdout",
          "text": [
            "Looking in indexes: https://pypi.org/simple, https://us-python.pkg.dev/colab-wheels/public/simple/\n",
            "Collecting pyomo\n",
            "  Downloading Pyomo-6.5.0-cp39-cp39-manylinux_2_17_x86_64.manylinux2014_x86_64.whl (11.0 MB)\n",
            "\u001b[2K     \u001b[90m━━━━━━━━━━━━━━━━━━━━━━━━━━━━━━━━━━━━━━━━\u001b[0m \u001b[32m11.0/11.0 MB\u001b[0m \u001b[31m40.4 MB/s\u001b[0m eta \u001b[36m0:00:00\u001b[0m\n",
            "\u001b[?25hCollecting ply\n",
            "  Downloading ply-3.11-py2.py3-none-any.whl (49 kB)\n",
            "\u001b[2K     \u001b[90m━━━━━━━━━━━━━━━━━━━━━━━━━━━━━━━━━━━━━━━━\u001b[0m \u001b[32m49.6/49.6 KB\u001b[0m \u001b[31m2.8 MB/s\u001b[0m eta \u001b[36m0:00:00\u001b[0m\n",
            "\u001b[?25hInstalling collected packages: ply, pyomo\n",
            "Successfully installed ply-3.11 pyomo-6.5.0\n"
          ]
        }
      ]
    },
    {
      "cell_type": "markdown",
      "metadata": {
        "id": "o4jSX0peop7j"
      },
      "source": [
        "## Input Data"
      ]
    },
    {
      "cell_type": "code",
      "metadata": {
        "id": "sLj2JfYhTWyT"
      },
      "source": [
        "gen = pd.DataFrame({\n",
        "       'unit': [1,   2], \n",
        "       'q_cost': [0.01,  0.02], \n",
        "       'l_cost': [10,  20],\n",
        "       'pmax': [200, 200]})\n",
        "inv_cost = 5\n",
        "dem = [50,100,150]\n",
        "ngen = len(gen)\n",
        "ntime = len(dem)"
      ],
      "execution_count": 2,
      "outputs": []
    },
    {
      "cell_type": "markdown",
      "metadata": {
        "id": "HS_EfbXuowM9"
      },
      "source": [
        "## Solving the Expansion Planning Model"
      ]
    },
    {
      "cell_type": "code",
      "metadata": {
        "id": "HdyhOqpGWMfC",
        "colab": {
          "base_uri": "https://localhost:8080/"
        },
        "outputId": "e4213e46-3101-489f-93e5-35e398cab7d5"
      },
      "source": [
        "# Model\n",
        "m = pe.ConcreteModel()\n",
        "# Sets\n",
        "m.g = pe.Set(initialize=list(range(ngen)))\n",
        "m.t = pe.Set(initialize=list(range(ntime)))\n",
        "# Variables\n",
        "m.p = pe.Var(m.g,m.t,within=pe.NonNegativeReals)\n",
        "m.cap = pe.Var(m.g,within=pe.NonNegativeReals)\n",
        "m.alpha = pe.Var(m.g,m.t,within=pe.NonNegativeReals)\n",
        "m.beta = pe.Var(m.g,m.t,within=pe.NonNegativeReals)\n",
        "m.lamda = pe.Var(m.t)\n",
        "def obj_rule(m):\n",
        "  return inv_cost*m.cap[0] + sum(gen.loc[0,'q_cost']*m.p[0,t]*m.p[0,t] + gen.loc[0,'l_cost']*m.p[0,t] - m.lamda[t]*m.p[0,t]  for t in m.t)\n",
        "m.obj = pe.Objective(rule=obj_rule)\n",
        "# Energy balance\n",
        "def bal_rule(m,t):\n",
        "  return sum(m.p[g,t] for g in m.g) == dem[t]\n",
        "m.bal = pe.Constraint(m.t,rule=bal_rule)\n",
        "# Maximum generation\n",
        "def max_gen_rule(m,g,t):\n",
        "  return m.p[g,t] <= m.cap[g]\n",
        "m.max_gen = pe.Constraint(m.g,m.t, rule=max_gen_rule)\n",
        "# Stationarity\n",
        "def stat_rule(m,g,t):\n",
        "  return 2*gen.loc[g,'q_cost']*m.p[g,t] + gen.loc[g,'l_cost'] - m.lamda[t] - m.alpha[g,t] + m.beta[g,t] == 0\n",
        "m.stat = pe.Constraint(m.g,m.t,rule=stat_rule)\n",
        "# Complementarity 1\n",
        "def com1_rule(m,g,t):\n",
        "  return m.p[g,t]*m.alpha[g,t] <= 0\n",
        "m.com1 = pe.Constraint(m.g,m.t,rule=com1_rule)\n",
        "# Complementarity 2\n",
        "def com2_rule(m,g,t):\n",
        "  return (m.cap[g]-m.p[g,t])*m.beta[g,t] <= 0\n",
        "m.com2 = pe.Constraint(m.g,m.t,rule=com2_rule)\n",
        "# Fix capacity unit 2\n",
        "def fix_cap_rule(m):\n",
        "  return m.cap[1] == gen.loc[1,'pmax']\n",
        "m.fix_cap = pe.Constraint(rule=fix_cap_rule)\n",
        "# We solve the optimization problem using IPOPT\n",
        "pe.SolverFactory('ipopt').solve(m,tee=True).write()"
      ],
      "execution_count": 3,
      "outputs": [
        {
          "output_type": "stream",
          "name": "stdout",
          "text": [
            "Ipopt 3.12.13: \n",
            "\n",
            "******************************************************************************\n",
            "This program contains Ipopt, a library for large-scale nonlinear optimization.\n",
            " Ipopt is released as open source code under the Eclipse Public License (EPL).\n",
            "         For more information visit http://projects.coin-or.org/Ipopt\n",
            "******************************************************************************\n",
            "\n",
            "This is Ipopt version 3.12.13, running with linear solver mumps.\n",
            "NOTE: Other linear solvers might be more efficient (see Ipopt documentation).\n",
            "\n",
            "Number of nonzeros in equality constraint Jacobian...:       31\n",
            "Number of nonzeros in inequality constraint Jacobian.:       42\n",
            "Number of nonzeros in Lagrangian Hessian.............:       24\n",
            "\n",
            "Total number of variables............................:       23\n",
            "                     variables with only lower bounds:       20\n",
            "                variables with lower and upper bounds:        0\n",
            "                     variables with only upper bounds:        0\n",
            "Total number of equality constraints.................:       10\n",
            "Total number of inequality constraints...............:       18\n",
            "        inequality constraints with only lower bounds:        0\n",
            "   inequality constraints with lower and upper bounds:        0\n",
            "        inequality constraints with only upper bounds:       18\n",
            "\n",
            "iter    objective    inf_pr   inf_du lg(mu)  ||d||  lg(rg) alpha_du alpha_pr  ls\n",
            "   0  3.5000265e-01 2.00e+02 3.15e+00  -1.0 0.00e+00    -  0.00e+00 0.00e+00   0\n",
            "   1  3.5180605e-01 2.00e+02 7.48e+00  -1.0 2.00e+02    -  4.95e-05 3.96e-04f  1\n",
            "   2  3.9723736e-01 1.99e+02 9.09e+00  -1.0 2.00e+02    -  3.94e-04 2.09e-03f  1\n",
            "   3  4.0188100e-01 1.99e+02 9.07e+00  -1.0 1.99e+02    -  1.57e-03 1.85e-03h  1\n",
            "   4  4.0376443e-01 1.98e+02 9.01e+00  -1.0 1.99e+02    -  2.07e-03 4.19e-03f  1\n",
            "   5  4.2258771e-01 1.97e+02 8.95e+00  -1.0 1.98e+02    -  5.77e-03 5.71e-03h  1\n",
            "   6  4.7971688e-01 1.95e+02 8.85e+00  -1.0 1.97e+02    -  1.54e-02 1.16e-02f  1\n",
            "   7  7.1959799e-01 1.91e+02 4.20e+01  -1.0 1.95e+02    -  1.99e-02 2.20e-02h  1\n",
            "   8  1.2189475e+00 1.85e+02 1.82e+01  -1.0 1.91e+02    -  3.98e-02 2.68e-02h  1\n",
            "   9  6.1991224e+00 1.75e+02 7.35e+02  -1.0 1.85e+02    -  1.27e-02 5.45e-02h  1\n",
            "iter    objective    inf_pr   inf_du lg(mu)  ||d||  lg(rg) alpha_du alpha_pr  ls\n",
            "  10  2.4470484e+01 1.74e+02 1.17e+03  -1.0 2.01e+02    -  3.49e-03 1.04e-02h  1\n",
            "  11  1.0194139e+02 1.69e+02 1.56e+03  -1.0 2.52e+02    -  1.80e-02 2.64e-02h  1\n",
            "  12  1.6783923e+02 1.65e+02 6.66e+02  -1.0 2.47e+02    -  7.40e-02 2.51e-02h  1\n",
            "  13  2.1809892e+02 1.61e+02 4.55e+03  -1.0 2.41e+02    -  1.05e-01 2.14e-02h  1\n",
            "  14  2.2021342e+02 1.60e+02 8.76e+03  -1.0 1.65e+02    -  5.93e-02 4.39e-03h  1\n",
            "  15  1.9023122e+02 1.22e+02 1.48e+04  -1.0 1.60e+02    -  5.34e-01 2.43e-01h  1\n",
            "  16 -6.0000603e+01 8.50e+01 1.39e+05  -1.0 1.22e+02    -  7.19e-01 3.01e-01f  1\n",
            "  17 -5.6114265e+02 4.62e+01 4.04e+05  -1.0 8.50e+01    -  1.00e+00 4.56e-01f  1\n",
            "  18 -9.3184005e+02 2.53e+01 1.45e+06  -1.0 4.62e+01    -  1.00e+00 4.52e-01f  1\n",
            "  19 -1.2392436e+03 1.04e+01 1.85e+06  -1.0 2.53e+01    -  1.00e+00 5.89e-01f  1\n",
            "iter    objective    inf_pr   inf_du lg(mu)  ||d||  lg(rg) alpha_du alpha_pr  ls\n",
            "  20 -1.3671245e+03 4.66e+00 3.21e+06  -1.0 1.04e+01    -  1.00e+00 5.52e-01f  1\n",
            "  21 -1.4330768e+03 1.79e+00 2.87e+06  -1.0 4.66e+00    -  1.00e+00 6.16e-01f  1\n",
            "  22 -1.4592680e+03 6.69e-01 1.80e+06  -1.0 1.79e+00    -  1.00e+00 6.27e-01f  1\n",
            "  23 -1.4704978e+03 1.90e-01 1.55e+06  -1.0 6.69e-01    -  1.00e+00 7.15e-01f  1\n",
            "  24 -1.4738114e+03 4.97e-02 2.10e+06  -1.0 1.91e-01    -  1.00e+00 7.39e-01f  1\n",
            "  25 -1.4745731e+03 1.76e-02 3.01e+06  -1.0 5.00e-02    -  1.00e+00 6.46e-01h  1\n",
            "  26 -1.4747053e+03 1.21e-02 5.84e+06  -1.0 1.77e-02    -  1.00e+00 3.15e-01f  2\n",
            "  27 -1.4749873e+03 2.84e-04 1.93e+05  -1.0 1.22e-02    -  1.00e+00 9.76e-01h  1\n",
            "  28 -1.4749879e+03 2.62e-04 7.33e+06  -1.0 3.03e-04    -  1.00e+00 7.78e-02f  2\n",
            "  29 -1.4749954e+03 7.11e-15 2.86e+02  -1.0 2.91e-04    -  1.00e+00 1.00e+00h  1\n",
            "iter    objective    inf_pr   inf_du lg(mu)  ||d||  lg(rg) alpha_du alpha_pr  ls\n",
            "  30 -1.4749955e+03 3.55e-15 3.87e+01  -3.8 2.39e-06    -  1.00e+00 1.00e+00f  1\n",
            "  31 -1.4749967e+03 2.84e-14 1.88e+05  -3.8 3.37e-05    -  7.11e-01 1.00e+00f  1\n",
            "  32 -1.4750000e+03 3.55e-15 1.43e+05  -3.8 2.19e-04    -  1.00e+00 3.10e-01f  1\n",
            "  33 -1.4749998e+03 1.78e-15 4.72e-01  -3.8 3.39e-06    -  1.00e+00 1.00e+00f  1\n",
            "  34 -1.4749997e+03 0.00e+00 2.80e-03  -3.8 3.46e-06    -  1.00e+00 1.00e+00f  1\n",
            "  35 -1.4750000e+03 1.93e-12 1.01e-01  -5.7 6.74e-06    -  1.00e+00 1.00e+00f  1\n",
            "  36 -1.4750000e+03 1.78e-15 1.54e-06  -5.7 6.67e-08    -  1.00e+00 1.00e+00h  1\n",
            "  37 -1.4750000e+03 7.11e-15 2.14e+01  -8.6 8.39e-08    -  9.41e-01 1.00e+00f  1\n",
            "  38 -1.4750000e+03 1.78e-15 5.05e+00  -8.6 8.58e-07    -  7.61e-01 1.00e+00f  1\n",
            "  39 -1.4750000e+03 3.55e-15 9.26e-01  -8.6 4.20e-08    -  8.17e-01 1.00e+00h  1\n",
            "iter    objective    inf_pr   inf_du lg(mu)  ||d||  lg(rg) alpha_du alpha_pr  ls\n",
            "  40 -1.4750000e+03 3.55e-15 3.98e-11  -8.6 8.01e-09    -  1.00e+00 1.00e+00h  1\n",
            "\n",
            "Number of Iterations....: 40\n",
            "\n",
            "                                   (scaled)                 (unscaled)\n",
            "Objective...............:  -1.4750000019228955e+03   -1.4750000019228955e+03\n",
            "Dual infeasibility......:   3.9813883561850891e-11    3.9813883561850891e-11\n",
            "Constraint violation....:   3.5527136788005009e-15    3.5527136788005009e-15\n",
            "Complementarity.........:   2.6897158178490803e-09    2.6897158178490803e-09\n",
            "Overall NLP error.......:   2.6897158178490803e-09    2.6897158178490803e-09\n",
            "\n",
            "\n",
            "Number of objective function evaluations             = 43\n",
            "Number of objective gradient evaluations             = 41\n",
            "Number of equality constraint evaluations            = 43\n",
            "Number of inequality constraint evaluations          = 43\n",
            "Number of equality constraint Jacobian evaluations   = 41\n",
            "Number of inequality constraint Jacobian evaluations = 41\n",
            "Number of Lagrangian Hessian evaluations             = 40\n",
            "Total CPU secs in IPOPT (w/o function evaluations)   =      0.022\n",
            "Total CPU secs in NLP function evaluations           =      0.001\n",
            "\n",
            "EXIT: Optimal Solution Found.\n",
            "\b\b\b\b\b\b\b\b\b\b\b\b\b\b\b# ==========================================================\n",
            "# = Solver Results                                         =\n",
            "# ==========================================================\n",
            "# ----------------------------------------------------------\n",
            "#   Problem Information\n",
            "# ----------------------------------------------------------\n",
            "Problem: \n",
            "- Lower bound: -inf\n",
            "  Upper bound: inf\n",
            "  Number of objectives: 1\n",
            "  Number of constraints: 28\n",
            "  Number of variables: 23\n",
            "  Sense: unknown\n",
            "# ----------------------------------------------------------\n",
            "#   Solver Information\n",
            "# ----------------------------------------------------------\n",
            "Solver: \n",
            "- Status: ok\n",
            "  Message: Ipopt 3.12.13\\x3a Optimal Solution Found\n",
            "  Termination condition: optimal\n",
            "  Id: 0\n",
            "  Error rc: 0\n",
            "  Time: 0.06299376487731934\n",
            "# ----------------------------------------------------------\n",
            "#   Solution Information\n",
            "# ----------------------------------------------------------\n",
            "Solution: \n",
            "- number of solutions: 0\n",
            "  number of solutions displayed: 0\n"
          ]
        }
      ]
    },
    {
      "cell_type": "markdown",
      "metadata": {
        "id": "5zEAqcOEo0NV"
      },
      "source": [
        "## Solution Output"
      ]
    },
    {
      "cell_type": "code",
      "metadata": {
        "id": "iSp-Sn1AmVxd",
        "colab": {
          "base_uri": "https://localhost:8080/"
        },
        "outputId": "80afe285-052e-4c44-ac0f-676051b8f6cf"
      },
      "source": [
        "# Print results\n",
        "print('obj = ',m.obj())\n",
        "print('cap = ',m.cap[0].value)"
      ],
      "execution_count": 4,
      "outputs": [
        {
          "output_type": "stream",
          "name": "stdout",
          "text": [
            "obj =  -1475.0000019228955\n",
            "cap =  50.0000000108328\n"
          ]
        }
      ]
    }
  ]
}