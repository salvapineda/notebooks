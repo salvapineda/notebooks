{
  "nbformat": 4,
  "nbformat_minor": 0,
  "metadata": {
    "colab": {
      "name": "LinearProgrammingPyomo.ipynb",
      "provenance": [],
      "authorship_tag": "ABX9TyNgsSo6nvc9BoeBd5KmtquF",
      "include_colab_link": true
    },
    "kernelspec": {
      "name": "python3",
      "display_name": "Python 3"
    }
  },
  "cells": [
    {
      "cell_type": "markdown",
      "metadata": {
        "id": "view-in-github",
        "colab_type": "text"
      },
      "source": [
        "<a href=\"https://colab.research.google.com/github/salvapineda/notebooks/blob/main/LinearProgrammingPyomo.ipynb\" target=\"_parent\"><img src=\"https://colab.research.google.com/assets/colab-badge.svg\" alt=\"Open In Colab\"/></a>"
      ]
    },
    {
      "cell_type": "markdown",
      "metadata": {
        "id": "21rXZnamoWlz"
      },
      "source": [
        "# Linear Programming in Pyomo"
      ]
    },
    {
      "cell_type": "markdown",
      "metadata": {
        "id": "bmyKHC66opCZ"
      },
      "source": [
        "## Requirements"
      ]
    },
    {
      "cell_type": "code",
      "metadata": {
        "id": "nlLoj5JcokpP"
      },
      "source": [
        "# Install\n",
        "!pip install pyomo\n",
        "# Import\n",
        "import os\n",
        "import pyomo.environ as pe\n",
        "import random"
      ],
      "execution_count": null,
      "outputs": []
    },
    {
      "cell_type": "markdown",
      "metadata": {
        "id": "8JasgY3iQTnj"
      },
      "source": [
        "## Motivation Example"
      ]
    },
    {
      "cell_type": "markdown",
      "metadata": {
        "id": "Wmq8LYufVYM3"
      },
      "source": [
        "We want to maximize the energy production benefits of running 2 generators. The benefit of producing with generator 1 and 2 are 3&euro;/MWh and 5&euro;/MWh, respectively. The maximum capacity of generator 1 and 2 are 4MW and 6MW, respectively. Both generators share the same water cooling system. Generator 1 needs 3 units of water per MW, while generator 2 needs 2 units of water per MW. The maximum units of water available is 18.\n",
        "\n",
        "This optimization model is formulated as follows:\n",
        "\n",
        "$$\n",
        "\\begin{align}\n",
        "\\underset{x_1,x_2}{\\max} \\quad & 3x_1+5x_2 \\\\\n",
        "\\text{s.t.} \\quad & 0 \\leq x_1 \\leq 4\\\\\n",
        "& 0 \\leq x_2 \\leq 6\\\\\n",
        "& 3x_1 + 2x_2 \\leq 18\n",
        "\\end{align}\n",
        "$$\n",
        "\n",
        "Below we provide the Pyomo code to solve this optimization problem:"
      ]
    },
    {
      "cell_type": "code",
      "metadata": {
        "id": "WnX-z9LQNgsa"
      },
      "source": [
        "# Model\n",
        "m = pe.ConcreteModel()\n",
        "# Variables\n",
        "m.x1 = pe.Var(within=pe.NonNegativeReals,bounds=(0,4))\n",
        "m.x2 = pe.Var(within=pe.NonNegativeReals,bounds=(0,6))\n",
        "# Objective function\n",
        "def obj_rule(m):\n",
        "  return 3*m.x1 + 5*m.x2\n",
        "m.obj = pe.Objective(rule=obj_rule,sense=pe.maximize)\n",
        "# Constraints\n",
        "def con_rule(m):\n",
        "  return 3*m.x1 + 2*m.x2 <= 18\n",
        "m.con = pe.Constraint(rule=con_rule)\n",
        "# Solve problem using NEOS server\n",
        "os.environ['NEOS_EMAIL'] = 'xxx@gmail.com'\n",
        "res = pe.SolverManagerFactory('neos').solve(m,opt='cplex')\n",
        "# Print results\n",
        "m.pprint()\n",
        "print(res['Solver'][0])\n",
        "print('x1 =',m.x1.value)\n",
        "print('x2 =',m.x2.value)\n",
        "print('Optimal value =',m.obj())"
      ],
      "execution_count": null,
      "outputs": []
    },
    {
      "cell_type": "markdown",
      "metadata": {
        "id": "jDvMRF6FouDG"
      },
      "source": [
        "## General LP"
      ]
    },
    {
      "cell_type": "markdown",
      "metadata": {
        "id": "_mNsyQcipOqs"
      },
      "source": [
        "We create a function to solve a general linear programming problem formulated below\n",
        "\n",
        "$$\n",
        "\\begin{align}\n",
        "\\underset{x\\geq 0}{\\min} \\quad & c^Tx \\\\\n",
        "\\text{s.t.} \\quad & Ax \\leq b\\\n",
        "\\end{align}\n",
        "$$\n",
        "\n",
        "where $x\\in\\mathbb{R}^n$, $c\\in\\mathbb{R}^n$, $A\\in\\mathbb{R}^{m\\times n}$, $b\\in\\mathbb{R}^m$. Elements of $A,b,c$ are randomly generating using standard normal distributions."
      ]
    },
    {
      "cell_type": "code",
      "metadata": {
        "id": "eAcotqCzoyUu"
      },
      "source": [
        "def lp(nvar=10,ncon=5):\n",
        "  # Random vectors and matrix of linear problem\n",
        "  c = [round(abs(random.gauss(0,1)),2) for i in range(nvar)]\n",
        "  A = [[round(random.gauss(0,1),2) for i in range(nvar)] for j in range(ncon)]\n",
        "  b = [round(random.gauss(0,1),2) for j in range(ncon)]\n",
        "  # Model\n",
        "  m = pe.ConcreteModel()\n",
        "  # Sets\n",
        "  m.i = pe.Set(initialize=range(nvar),ordered=True)\n",
        "  m.j = pe.Set(initialize=range(ncon),ordered=True)\n",
        "  # Variables\n",
        "  m.z = pe.Var()\n",
        "  m.x = pe.Var(m.i,within=pe.NonNegativeReals)\n",
        "  # Objective function\n",
        "  def obj_rule(m):\n",
        "    return sum(c[i]*m.x[i] for i in m.i)\n",
        "  m.obj = pe.Objective(rule=obj_rule)\n",
        "  # Constraints\n",
        "  def con_rule(m,j):\n",
        "    return sum(A[j][i]*m.x[i] for i in m.i) <= b[j]\n",
        "  m.con = pe.Constraint(m.j,rule=con_rule)\n",
        "  # Solve problem using NEOS server\n",
        "  os.environ['NEOS_EMAIL'] = 'xxx@gmail.com'\n",
        "  res = pe.SolverManagerFactory('neos').solve(m,opt=pe.SolverFactory('cplex'))\n",
        "  print(res)\n",
        "\n",
        "lp(nvar=10,ncon=5)"
      ],
      "execution_count": null,
      "outputs": []
    }
  ]
}