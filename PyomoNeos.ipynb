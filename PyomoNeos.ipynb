{
  "nbformat": 4,
  "nbformat_minor": 0,
  "metadata": {
    "colab": {
      "name": "PyomoNeos.ipynb",
      "provenance": [],
      "include_colab_link": true
    },
    "kernelspec": {
      "name": "python3",
      "display_name": "Python 3"
    }
  },
  "cells": [
    {
      "cell_type": "markdown",
      "metadata": {
        "id": "view-in-github",
        "colab_type": "text"
      },
      "source": [
        "<a href=\"https://colab.research.google.com/github/salvapineda/notebooks/blob/main/PyomoNeos.ipynb\" target=\"_parent\"><img src=\"https://colab.research.google.com/assets/colab-badge.svg\" alt=\"Open In Colab\"/></a>"
      ]
    },
    {
      "cell_type": "markdown",
      "metadata": {
        "id": "EC_ix0MdPi0z"
      },
      "source": [
        "# Accessing computational time in PYOMO with NEOS"
      ]
    },
    {
      "cell_type": "markdown",
      "metadata": {
        "id": "w_4l3akpStLh"
      },
      "source": [
        "## Requirements"
      ]
    },
    {
      "cell_type": "code",
      "metadata": {
        "id": "1ICsgrng7ceo",
        "colab": {
          "base_uri": "https://localhost:8080/"
        },
        "outputId": "69090d03-51d8-4e69-dd94-6be5adfc2b54"
      },
      "source": [
        "!pip install -q pyomo\n",
        "!apt-get install -y -qq coinor-cbc\n",
        "import os\n",
        "import random\n",
        "import pyomo.environ as pe\n",
        "os.environ['NEOS_EMAIL'] = 'salvapineda@gmail.com'"
      ],
      "execution_count": 1,
      "outputs": [
        {
          "output_type": "stream",
          "text": [
            "\u001b[K     |████████████████████████████████| 8.9MB 6.7MB/s \n",
            "\u001b[K     |████████████████████████████████| 51kB 5.6MB/s \n",
            "\u001b[?25hSelecting previously unselected package coinor-libcoinutils3v5.\n",
            "(Reading database ... 160815 files and directories currently installed.)\n",
            "Preparing to unpack .../0-coinor-libcoinutils3v5_2.10.14+repack1-1_amd64.deb ...\n",
            "Unpacking coinor-libcoinutils3v5 (2.10.14+repack1-1) ...\n",
            "Selecting previously unselected package coinor-libosi1v5.\n",
            "Preparing to unpack .../1-coinor-libosi1v5_0.107.9+repack1-1_amd64.deb ...\n",
            "Unpacking coinor-libosi1v5 (0.107.9+repack1-1) ...\n",
            "Selecting previously unselected package coinor-libclp1.\n",
            "Preparing to unpack .../2-coinor-libclp1_1.16.11+repack1-1_amd64.deb ...\n",
            "Unpacking coinor-libclp1 (1.16.11+repack1-1) ...\n",
            "Selecting previously unselected package coinor-libcgl1.\n",
            "Preparing to unpack .../3-coinor-libcgl1_0.59.10+repack1-1_amd64.deb ...\n",
            "Unpacking coinor-libcgl1 (0.59.10+repack1-1) ...\n",
            "Selecting previously unselected package coinor-libcbc3.\n",
            "Preparing to unpack .../4-coinor-libcbc3_2.9.9+repack1-1_amd64.deb ...\n",
            "Unpacking coinor-libcbc3 (2.9.9+repack1-1) ...\n",
            "Selecting previously unselected package coinor-cbc.\n",
            "Preparing to unpack .../5-coinor-cbc_2.9.9+repack1-1_amd64.deb ...\n",
            "Unpacking coinor-cbc (2.9.9+repack1-1) ...\n",
            "Setting up coinor-libcoinutils3v5 (2.10.14+repack1-1) ...\n",
            "Setting up coinor-libosi1v5 (0.107.9+repack1-1) ...\n",
            "Setting up coinor-libclp1 (1.16.11+repack1-1) ...\n",
            "Setting up coinor-libcgl1 (0.59.10+repack1-1) ...\n",
            "Setting up coinor-libcbc3 (2.9.9+repack1-1) ...\n",
            "Setting up coinor-cbc (2.9.9+repack1-1) ...\n",
            "Processing triggers for man-db (2.8.3-2ubuntu0.1) ...\n",
            "Processing triggers for libc-bin (2.27-3ubuntu1.2) ...\n",
            "/sbin/ldconfig.real: /usr/local/lib/python3.7/dist-packages/ideep4py/lib/libmkldnn.so.0 is not a symbolic link\n",
            "\n"
          ],
          "name": "stdout"
        }
      ]
    },
    {
      "cell_type": "markdown",
      "metadata": {
        "id": "COVwNBd2RxTM"
      },
      "source": [
        "## Create the optimization model in pyomo"
      ]
    },
    {
      "cell_type": "code",
      "metadata": {
        "id": "QJGq_nF47k0-"
      },
      "source": [
        "# Dimensions\n",
        "nvar = 10\n",
        "ncon = 5\n",
        "# Random vector and matrixes\n",
        "c = [round(random.uniform(0,1),2) for i in range(nvar)]\n",
        "A = [[round(random.uniform(-1,1),2) for i in range(nvar)] for j in range(ncon)]\n",
        "b = [round(random.uniform(-10,10),2) for j in range(ncon)]\n",
        "# Model\n",
        "m = pe.ConcreteModel()\n",
        "# Sets\n",
        "m.i = pe.Set(initialize=range(nvar),ordered=True)\n",
        "m.j = pe.Set(initialize=range(ncon),ordered=True)\n",
        "# Variables\n",
        "m.x = pe.Var(m.i,within=pe.NonNegativeIntegers)\n",
        "# Objective function\n",
        "def obj_rule(m):\n",
        "  return sum(c[i]*m.x[i] for i in m.i)\n",
        "m.obj = pe.Objective(rule=obj_rule)\n",
        "# Constraints\n",
        "def con_rule(m,j):\n",
        "  return sum(A[j][i]*m.x[i] for i in m.i) <= b[j]\n",
        "m.con = pe.Constraint(m.j,rule=con_rule)"
      ],
      "execution_count": 2,
      "outputs": []
    },
    {
      "cell_type": "markdown",
      "metadata": {
        "id": "-7NZ4fztSHcD"
      },
      "source": [
        "## Solve the model using CBC without NEOS"
      ]
    },
    {
      "cell_type": "code",
      "metadata": {
        "id": "n3DTMRrsR_EG",
        "colab": {
          "base_uri": "https://localhost:8080/"
        },
        "outputId": "b89b7788-6ab9-41ce-81bf-9e98e133ff9f"
      },
      "source": [
        "pe.SolverFactory('cbc', executable='/usr/bin/cbc').solve(m).write()"
      ],
      "execution_count": 3,
      "outputs": [
        {
          "output_type": "stream",
          "text": [
            "# ==========================================================\n",
            "# = Solver Results                                         =\n",
            "# ==========================================================\n",
            "# ----------------------------------------------------------\n",
            "#   Problem Information\n",
            "# ----------------------------------------------------------\n",
            "Problem: \n",
            "- Name: unknown\n",
            "  Lower bound: 34.7\n",
            "  Upper bound: 34.7\n",
            "  Number of objectives: 1\n",
            "  Number of constraints: 5\n",
            "  Number of variables: 10\n",
            "  Number of binary variables: 0\n",
            "  Number of integer variables: 10\n",
            "  Number of nonzeros: 10\n",
            "  Sense: minimize\n",
            "# ----------------------------------------------------------\n",
            "#   Solver Information\n",
            "# ----------------------------------------------------------\n",
            "Solver: \n",
            "- Status: ok\n",
            "  User time: -1.0\n",
            "  System time: 0.04\n",
            "  Wallclock time: 0.05\n",
            "  Termination condition: optimal\n",
            "  Termination message: Model was solved to optimality (subject to tolerances), and an optimal solution is available.\n",
            "  Statistics: \n",
            "    Branch and bound: \n",
            "      Number of bounded subproblems: 2\n",
            "      Number of created subproblems: 2\n",
            "    Black box: \n",
            "      Number of iterations: 338\n",
            "  Error rc: 0\n",
            "  Time: 0.06909966468811035\n",
            "# ----------------------------------------------------------\n",
            "#   Solution Information\n",
            "# ----------------------------------------------------------\n",
            "Solution: \n",
            "- number of solutions: 0\n",
            "  number of solutions displayed: 0\n"
          ],
          "name": "stdout"
        }
      ]
    },
    {
      "cell_type": "markdown",
      "metadata": {
        "id": "jT0PQ8NwR42e"
      },
      "source": [
        "## Solve the model using CBC and NEOS"
      ]
    },
    {
      "cell_type": "code",
      "metadata": {
        "id": "GZQPBsz9R1fl",
        "colab": {
          "base_uri": "https://localhost:8080/"
        },
        "outputId": "382e9e75-7048-443a-afa7-f5796ad6b245"
      },
      "source": [
        "pe.SolverManagerFactory('neos').solve(m,opt='cbc').write()"
      ],
      "execution_count": 4,
      "outputs": [
        {
          "output_type": "stream",
          "text": [
            "# ==========================================================\n",
            "# = Solver Results                                         =\n",
            "# ==========================================================\n",
            "# ----------------------------------------------------------\n",
            "#   Problem Information\n",
            "# ----------------------------------------------------------\n",
            "Problem: \n",
            "- Lower bound: -inf\n",
            "  Upper bound: inf\n",
            "  Number of objectives: 1\n",
            "  Number of constraints: 5\n",
            "  Number of variables: 10\n",
            "  Sense: unknown\n",
            "# ----------------------------------------------------------\n",
            "#   Solver Information\n",
            "# ----------------------------------------------------------\n",
            "Solver: \n",
            "- Status: ok\n",
            "  Message: CBC 2.10.5 optimal, objective 34.7; 6 nodes, 430 iterations, 0.029251 seconds\n",
            "  Termination condition: optimal\n",
            "  Id: 0\n",
            "# ----------------------------------------------------------\n",
            "#   Solution Information\n",
            "# ----------------------------------------------------------\n",
            "Solution: \n",
            "- number of solutions: 0\n",
            "  number of solutions displayed: 0\n"
          ],
          "name": "stdout"
        }
      ]
    }
  ]
}