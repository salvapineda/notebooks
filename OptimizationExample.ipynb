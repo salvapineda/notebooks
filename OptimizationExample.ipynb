{
  "nbformat": 4,
  "nbformat_minor": 0,
  "metadata": {
    "colab": {
      "name": "OptimizationExample.ipynb",
      "provenance": [],
      "authorship_tag": "ABX9TyM8OZl3T9FyBnc8AOjDyw2i",
      "include_colab_link": true
    },
    "kernelspec": {
      "name": "python3",
      "display_name": "Python 3"
    }
  },
  "cells": [
    {
      "cell_type": "markdown",
      "metadata": {
        "id": "view-in-github",
        "colab_type": "text"
      },
      "source": [
        "<a href=\"https://colab.research.google.com/github/salvapineda/notebooks/blob/main/OptimizationExample.ipynb\" target=\"_parent\"><img src=\"https://colab.research.google.com/assets/colab-badge.svg\" alt=\"Open In Colab\"/></a>"
      ]
    },
    {
      "cell_type": "markdown",
      "metadata": {
        "id": "21rXZnamoWlz"
      },
      "source": [
        "# Optimization example\n",
        "\n",
        "We want to maximize the energy production benefits of running 2 generators. The benefit of producing with generator 1 and 2 are 3&euro;/MWh and 5&euro;/MWh, respectively. The maximum capacity of generator 1 and 2 are 4MW and 6MW, respectively. Both generators share the same water cooling system. Generator 1 needs 3 units of water per MW, while generator 2 needs 2 units of water per MW. The maximum units of water available is 18.\n",
        "\n",
        "This optimization model is formulated as follows:\n",
        "\n",
        "$$\n",
        "\\begin{align}\n",
        "\\underset{x_1,x_2}{\\max} \\quad & 3x_1+5x_2 \\\\\n",
        "\\text{s.t.} \\quad & 0 \\leq x_1 \\leq 4\\\\\n",
        "& 0 \\leq x_2 \\leq 6\\\\\n",
        "& 3x_1 + 2x_2 \\leq 18\n",
        "\\end{align}\n",
        "$$\n"
      ]
    },
    {
      "cell_type": "markdown",
      "metadata": {
        "id": "M5FfTrOdOFZA"
      },
      "source": [
        "## PYOMO + GLPK ([link](https://pyomo.readthedocs.io/en/stable/))"
      ]
    },
    {
      "cell_type": "code",
      "metadata": {
        "id": "WnX-z9LQNgsa"
      },
      "source": [
        "# Requirements\n",
        "!pip install -q pyomo\n",
        "import pyomo.environ as pe\n",
        "!apt-get install -y -qq glpk-utils\n",
        "glpk = pe.SolverFactory('glpk', executable='/usr/bin/glpsol')\n",
        "# Model\n",
        "m = pe.ConcreteModel()\n",
        "# Variables\n",
        "m.x1 = pe.Var(within=pe.NonNegativeReals,bounds=(0,4))\n",
        "m.x2 = pe.Var(within=pe.NonNegativeReals,bounds=(0,6))\n",
        "# Objective function\n",
        "m.obj = pe.Objective(expr = 3*m.x1 + 5*m.x2,sense=pe.maximize)\n",
        "# Constraints\n",
        "m.con = pe.Constraint(expr = 3*m.x1 + 2*m.x2 <= 18)\n",
        "# Solve problem using GLPK solver\n",
        "glpk.solve(m).write()\n",
        "# Print results\n",
        "print('x1 =',m.x1.value)\n",
        "print('x2 =',m.x2.value)\n",
        "print('Optimal value =',m.obj())"
      ],
      "execution_count": null,
      "outputs": []
    },
    {
      "cell_type": "markdown",
      "metadata": {
        "id": "AFJ6XFZkOj4v"
      },
      "source": [
        "## GUROBIPY ([link](https://pypi.org/project/gurobipy/))"
      ]
    },
    {
      "cell_type": "code",
      "metadata": {
        "id": "fQBTIQAaOufI"
      },
      "source": [
        "# Requirements\n",
        "!pip install -q gurobipy\n",
        "import gurobipy as gp\n",
        "from gurobipy import GRB\n",
        "# Model\n",
        "m = gp.Model()\n",
        "# Variables\n",
        "x1 = m.addVar(vtype=GRB.CONTINUOUS,lb=0,ub=4)\n",
        "x2 = m.addVar(vtype=GRB.CONTINUOUS,lb=0,ub=6)\n",
        "# Objective function\n",
        "m.setObjective(3*x1 + 5*x2, GRB.MAXIMIZE)\n",
        "# Constraints\n",
        "m.addConstr(3*x1 + 2*x2 <= 18)\n",
        "# Solve problem using GLPK solver\n",
        "m.optimize()\n",
        "# Print results\n",
        "print('x1 =',x1.X)\n",
        "print('x2 =',x2.X)\n",
        "print('Optimal value =',m.ObjVal)"
      ],
      "execution_count": null,
      "outputs": []
    }
  ]
}