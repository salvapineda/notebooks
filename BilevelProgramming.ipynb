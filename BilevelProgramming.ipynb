{
  "nbformat": 4,
  "nbformat_minor": 0,
  "metadata": {
    "colab": {
      "name": "BilevelProgramming.ipynb",
      "provenance": [],
      "authorship_tag": "ABX9TyNorm/tkVHmiPMHiAbcaOW+",
      "include_colab_link": true
    },
    "kernelspec": {
      "name": "python3",
      "display_name": "Python 3"
    }
  },
  "cells": [
    {
      "cell_type": "markdown",
      "metadata": {
        "id": "view-in-github",
        "colab_type": "text"
      },
      "source": [
        "<a href=\"https://colab.research.google.com/github/salvapineda/notebooks/blob/main/BilevelProgramming.ipynb\" target=\"_parent\"><img src=\"https://colab.research.google.com/assets/colab-badge.svg\" alt=\"Open In Colab\"/></a>"
      ]
    },
    {
      "cell_type": "markdown",
      "metadata": {
        "id": "HBz0gRJkBqsY"
      },
      "source": [
        "# Bilevel programming in Python\n",
        "\n",
        "This notebook presents two different strategies to solve the generic linear bilevel problem formulated below. \n",
        "\n",
        "```\n",
        "   min_x   A*x + B*y\n",
        "    s.t.   C*x <= D\n",
        "           x >= 0\n",
        "           min_y E*y\n",
        "           s.t.  F*y <= g  \n",
        "                 H*x + I*y <= J\n",
        "                 y >= 0\n",
        "```\n",
        "\n",
        "The first methodology is based on the regularization of the complementarity conditions and is solved iteratively. The second methodology uses large enough constaints. More details can be found in the paper below.\n",
        "\n",
        "Pineda, S., Bylling, H. & Morales, J.M. Efficiently solving linear bilevel programming problems using off-the-shelf optimization software. Optim Eng 19, 187–211 (2018). ([link](https://link.springer.com/article/10.1007/s11081-017-9369-y?shared-article-renderer))"
      ]
    },
    {
      "cell_type": "markdown",
      "metadata": {
        "id": "mPs_V2r3BuZq"
      },
      "source": [
        "## Requirements"
      ]
    },
    {
      "cell_type": "code",
      "metadata": {
        "id": "5WU2A1iLBlbA"
      },
      "source": [
        "!pip install pyomo\n",
        "import os\n",
        "import random\n",
        "import numpy as np\n",
        "import pandas as pd\n",
        "import pyomo.environ as pe"
      ],
      "execution_count": null,
      "outputs": []
    },
    {
      "cell_type": "markdown",
      "metadata": {
        "id": "UsKI4ii7B6tL"
      },
      "source": [
        "## Input data"
      ]
    },
    {
      "cell_type": "code",
      "metadata": {
        "id": "z59D6eg8B74a"
      },
      "source": [
        "nvar = 10\n",
        "ncon = 5\n",
        "A = [round(abs(random.gauss(0,1)),2) for i in range(nvar)]\n",
        "B = [round(abs(random.gauss(0,1)),2) for i in range(nvar)]\n",
        "C = [[round(random.gauss(0,1),2) for i in range(nvar)] for j in range(ncon)]\n",
        "D = [round(random.gauss(0,1),2) for j in range(ncon)]\n",
        "E = [round(abs(random.gauss(0,1)),2) for i in range(nvar)]\n",
        "F = [[round(random.gauss(0,1),2) for i in range(nvar)] for j in range(ncon)]\n",
        "G = [round(random.gauss(0,1),2) for j in range(ncon)]\n",
        "H = [[round(random.gauss(0,1),2) for i in range(nvar)] for j in range(ncon)]\n",
        "I = [[round(random.gauss(0,1),2) for i in range(nvar)] for j in range(ncon)]\n",
        "J = [round(random.gauss(0,1),2) for j in range(ncon)]"
      ],
      "execution_count": 31,
      "outputs": []
    },
    {
      "cell_type": "markdown",
      "metadata": {
        "id": "FdSQU8fwJTc9"
      },
      "source": [
        "## Lower-level optimization problem"
      ]
    },
    {
      "cell_type": "code",
      "metadata": {
        "id": "WuB0r-unIy2s"
      },
      "source": [
        "def solve_ll(vector_x):\n",
        "    m = pe.ConcreteModel()\n",
        "    # Sets\n",
        "    m.i = pe.Set(initialize=range(nvar),ordered=True)\n",
        "    m.j = pe.Set(initialize=range(ncon),ordered=True)\n",
        "    # Variables\n",
        "    m.y = pe.Var(m.i,within=pe.NonNegativeReals)\n",
        "    # Objective function\n",
        "    def obj_rule(m):\n",
        "      return sum(E[i]*m.y[i] for i in m.i)\n",
        "    m.obj = pe.Objective(rule=obj_rule)\n",
        "    # Constraints\n",
        "    def con1_rule(m,j):\n",
        "      return sum(F[j][i]*m.y[i] for i in m.i) <= G[j]\n",
        "    m.con1 = pe.Constraint(m.j,rule=con1_rule)\n",
        "    def con2_rule(m,j):\n",
        "      return sum(H[j][i]*vector_x[i] for i in m.i) + sum(I[j][i]*m.y[i] for i in m.i) <= J[j]\n",
        "    m.con2 = pe.Constraint(m.j,rule=con2_rule)\n",
        "    # Solve the lower level problem\n",
        "    os.environ['NEOS_EMAIL'] = 'xxx@gmail.com'\n",
        "    pe.SolverManagerFactory('neos').solve(m,opt=pe.SolverFactory('cplex'),symbolic_solver_labels=True,tee=True)\n",
        "    # Returns the objective value of the bilevel problem\n",
        "    return sum(A[i]*vector_x[i] + B[i]*m.y[i].value for i in m.i)   "
      ],
      "execution_count": 32,
      "outputs": []
    },
    {
      "cell_type": "markdown",
      "metadata": {
        "id": "KsEf555VCPAk"
      },
      "source": [
        "## Solving the bilevel problem using regularization"
      ]
    },
    {
      "cell_type": "code",
      "metadata": {
        "id": "1BCVv9BaCSZu"
      },
      "source": [
        "# Values of epsilon\n",
        "vector_ep = [10**6,10**4,10**2,1,0.1,0.01,0]\n",
        "# Model\n",
        "m = pe.ConcreteModel()\n",
        "# Sets\n",
        "m.i = pe.Set(initialize=range(nvar),ordered=True)\n",
        "m.j = pe.Set(initialize=range(ncon),ordered=True)\n",
        "# Parameters\n",
        "m.ep = pe.Param(initialize=10**6,mutable=True)\n",
        "# Variables\n",
        "m.x = pe.Var(m.i,within=pe.NonNegativeReals)\n",
        "m.y = pe.Var(m.i,within=pe.NonNegativeReals)\n",
        "m.al = pe.Var(m.j,within=pe.NonNegativeReals)\n",
        "m.be = pe.Var(m.j,within=pe.NonNegativeReals)\n",
        "m.ga = pe.Var(m.i,within=pe.NonNegativeReals)\n",
        "# Objective function\n",
        "def obj_rule(m):\n",
        "  return sum(A[i]*m.x[i] for i in m.i) + sum(B[i]*m.y[i] for i in m.i)\n",
        "m.obj = pe.Objective(rule=obj_rule)\n",
        "# Constraints\n",
        "def con1_rule(m,j):\n",
        "  return sum(C[j][i]*m.x[i] for i in m.i) <= D[j]\n",
        "m.con1 = pe.Constraint(m.j,rule=con1_rule)\n",
        "def con2_rule(m,j):\n",
        "  return sum(F[j][i]*m.y[i] for i in m.i) <= G[j]\n",
        "m.con2 = pe.Constraint(m.j,rule=con2_rule)\n",
        "def con3_rule(m,j):\n",
        "  return sum(H[j][i]*m.x[i] for i in m.i) + sum(I[j][i]*m.y[i] for i in m.i) <= J[j]\n",
        "m.con3 = pe.Constraint(m.j,rule=con3_rule)\n",
        "def con4_rule(m,i):\n",
        "  return e[i] + sum(F[j][i]*m.al[j] for j in m.j) + sum(I[j][i]*m.be[j] for j in m.j) - m.ga[i] == 0\n",
        "m.con4 = pe.Constraint(m.i,rule=con4_rule)\n",
        "def con5_rule(m):\n",
        "  return sum((G[j] - sum(F[j][i]*m.y[i] for i in m.i))*m.al[j] for j in m.j) + sum((J[j] - sum(H[j][i]*m.x[i] for i in m.i) - sum(I[j][i]*m.y[i] for i in m.i))*m.be[j] for j in m.j) + sum(m.y[i]*m.ga[i] for i in m.i) <= m.ep\n",
        "m.con5 = pe.Constraint(rule=con5_rule)\n",
        "# Solve the model iteratively\n",
        "os.environ['NEOS_EMAIL'] = 'xxx@gmail.com'\n",
        "for ep in vector_ep:\n",
        "  m.ep = ep\n",
        "  res = pe.SolverManagerFactory('neos').solve(m,opt=pe.SolverFactory('conopt'),symbolic_solver_labels=True,tee=True)\n",
        "# Output solution\n",
        "x_reg = [m.x[i].value for i in m.i]\n",
        "of_reg = solve_ll(x_reg)\n",
        "print('Optimal solution:',x_reg)\n",
        "print('Optimal value:',of_reg)"
      ],
      "execution_count": null,
      "outputs": []
    },
    {
      "cell_type": "markdown",
      "metadata": {
        "id": "7in1kRZIITPF"
      },
      "source": [
        "## Solving the bilevel problem using bigM"
      ]
    },
    {
      "cell_type": "code",
      "metadata": {
        "id": "lj31KIVNGWLB"
      },
      "source": [
        "# Big M\n",
        "BigM = 10**6\n",
        "# Model\n",
        "m = pe.ConcreteModel()\n",
        "# Sets\n",
        "m.i = pe.Set(initialize=range(nvar),ordered=True)\n",
        "m.j = pe.Set(initialize=range(ncon),ordered=True)\n",
        "# Variables\n",
        "m.x = pe.Var(m.i,within=pe.NonNegativeReals)\n",
        "m.y = pe.Var(m.i,within=pe.NonNegativeReals)\n",
        "m.al = pe.Var(m.j,within=pe.NonNegativeReals)\n",
        "m.be = pe.Var(m.j,within=pe.NonNegativeReals)\n",
        "m.ga = pe.Var(m.i,within=pe.NonNegativeReals)\n",
        "m.u1 = pe.Var(m.j,within=pe.Binary)\n",
        "m.u2 = pe.Var(m.j,within=pe.Binary)\n",
        "m.u3 = pe.Var(m.i,within=pe.Binary)\n",
        "# Objective function\n",
        "def obj_rule(m):\n",
        "  return sum(A[i]*m.x[i] for i in m.i) + sum(B[i]*m.y[i] for i in m.i)\n",
        "m.obj = pe.Objective(rule=obj_rule)\n",
        "# Constraints\n",
        "def con1_rule(m,j):\n",
        "  return sum(C[j][i]*m.x[i] for i in m.i) <= D[j]\n",
        "m.con1 = pe.Constraint(m.j,rule=con1_rule)\n",
        "def con2_rule(m,j):\n",
        "  return sum(F[j][i]*m.y[i] for i in m.i) <= G[j]\n",
        "m.con2 = pe.Constraint(m.j,rule=con2_rule)\n",
        "def con3_rule(m,j):\n",
        "  return sum(H[j][i]*m.x[i] for i in m.i) + sum(I[j][i]*m.y[i] for i in m.i) <= J[j]\n",
        "m.con3 = pe.Constraint(m.j,rule=con3_rule)\n",
        "def con4_rule(m,i):\n",
        "  return E[i] + sum(F[j][i]*m.al[j] for j in m.j) + sum(I[j][i]*m.be[j] for j in m.j) - m.ga[i] == 0\n",
        "m.con4 = pe.Constraint(m.i,rule=con4_rule)\n",
        "def con5_rule(m,j):\n",
        "  return G[j] - sum(F[j][i]*m.y[i] for i in m.i) <= m.u1[j]*BigM\n",
        "m.con5 = pe.Constraint(m.j,rule=con5_rule)\n",
        "def con6_rule(m,j):\n",
        "  return m.al[j] <= (1-m.u1[j])*BigM\n",
        "m.con6 = pe.Constraint(m.j,rule=con6_rule)\n",
        "def con7_rule(m,j):\n",
        "  return J[j] - sum(H[j][i]*m.x[i] for i in m.i) - sum(I[j][i]*m.y[i] for i in m.i) <= m.u2[j]*BigM\n",
        "m.con7 = pe.Constraint(m.j,rule=con7_rule)\n",
        "def con8_rule(m,j):\n",
        "  return m.be[j] <= (1-m.u2[j])*BigM\n",
        "m.con8 = pe.Constraint(m.j,rule=con8_rule)\n",
        "def con9_rule(m,i):\n",
        "  return m.y[i] <= m.u3[i]*BigM\n",
        "m.con9 = pe.Constraint(m.i,rule=con9_rule)\n",
        "def con10_rule(m,i):\n",
        "  return m.ga[i] <= (1-m.u3[i])*BigM\n",
        "m.con10 = pe.Constraint(m.i,rule=con10_rule)\n",
        "# Solve the model\n",
        "os.environ['NEOS_EMAIL'] = 'xxx@gmail.com'\n",
        "opt = pe.SolverFactory('cplex')\n",
        "opt.options['mipgap'] = 1e-8\n",
        "res = pe.SolverManagerFactory('neos').solve(m,opt=opt,symbolic_solver_labels=True,tee=True)\n",
        "# Output solution\n",
        "x_BigM = [m.x[i].value for i in m.i]\n",
        "of_BigM = solve_ll(x_BigM)\n",
        "print('Optimal solution:',x_BigM)\n",
        "print('Optimal value:',of_BigM)"
      ],
      "execution_count": null,
      "outputs": []
    }
  ]
}