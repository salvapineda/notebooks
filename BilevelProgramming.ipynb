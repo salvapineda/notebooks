{
  "nbformat": 4,
  "nbformat_minor": 0,
  "metadata": {
    "colab": {
      "provenance": [],
      "authorship_tag": "ABX9TyPM+I9wl1rCMRocACqNyvek",
      "include_colab_link": true
    },
    "kernelspec": {
      "name": "python3",
      "display_name": "Python 3"
    }
  },
  "cells": [
    {
      "cell_type": "markdown",
      "metadata": {
        "id": "view-in-github",
        "colab_type": "text"
      },
      "source": [
        "<a href=\"https://colab.research.google.com/github/salvapineda/notebooks/blob/main/BilevelProgramming.ipynb\" target=\"_parent\"><img src=\"https://colab.research.google.com/assets/colab-badge.svg\" alt=\"Open In Colab\"/></a>"
      ]
    },
    {
      "cell_type": "markdown",
      "metadata": {
        "id": "HBz0gRJkBqsY"
      },
      "source": [
        "# Bilevel programming in Python\n",
        "\n",
        "This notebook presents two different strategies to solve the generic linear bilevel problem formulated below. \n",
        "\n",
        "```\n",
        "   min_x   A*x + B*y\n",
        "    s.t.   C*x <= D\n",
        "           x >= 0\n",
        "           min_y E*y\n",
        "           s.t.  F*y <= g  \n",
        "                 H*x + I*y <= J\n",
        "                 y >= 0\n",
        "```\n",
        "\n",
        "The first methodology is based on the regularization of the complementarity conditions and is solved iteratively. The second methodology uses large enough constaints. More details can be found in the paper below.\n",
        "\n",
        "Pineda, S., Bylling, H. & Morales, J.M. Efficiently solving linear bilevel programming problems using off-the-shelf optimization software. Optim Eng 19, 187–211 (2018). ([link](https://link.springer.com/article/10.1007/s11081-017-9369-y?shared-article-renderer))"
      ]
    },
    {
      "cell_type": "markdown",
      "metadata": {
        "id": "mPs_V2r3BuZq"
      },
      "source": [
        "## Requirements"
      ]
    },
    {
      "cell_type": "code",
      "source": [
        "# PYOMO\n",
        "!pip install pyomo \n",
        "import pyomo.environ as pe\n",
        "# GLPK\n",
        "!apt-get install -y -qq glpk-utils\n",
        "glpk = pe.SolverFactory('glpk', executable='/usr/bin/glpsol')\n",
        "# CBC\n",
        "!apt-get install -y -qq coinor-cbc\n",
        "cbc = pe.SolverFactory('cbc', executable='/usr/bin/cbc')\n",
        "# IPOPT\n",
        "!wget -N -q \"https://matematica.unipv.it/gualandi/solvers/ipopt-linux64.zip\"\n",
        "!unzip -o -q ipopt-linux64\n",
        "ipopt = pe.SolverFactory('ipopt')\n",
        "# OTHER\n",
        "import matplotlib.pyplot as plt\n",
        "import random"
      ],
      "metadata": {
        "colab": {
          "base_uri": "https://localhost:8080/"
        },
        "id": "SWM_UrU1B_jO",
        "outputId": "2830a266-d9a4-4497-8cf4-8164149a7b5d"
      },
      "execution_count": 1,
      "outputs": [
        {
          "output_type": "stream",
          "name": "stdout",
          "text": [
            "Looking in indexes: https://pypi.org/simple, https://us-python.pkg.dev/colab-wheels/public/simple/\n",
            "Collecting pyomo\n",
            "  Downloading Pyomo-6.5.0-cp39-cp39-manylinux_2_17_x86_64.manylinux2014_x86_64.whl (11.0 MB)\n",
            "\u001b[2K     \u001b[90m━━━━━━━━━━━━━━━━━━━━━━━━━━━━━━━━━━━━━━━━\u001b[0m \u001b[32m11.0/11.0 MB\u001b[0m \u001b[31m46.7 MB/s\u001b[0m eta \u001b[36m0:00:00\u001b[0m\n",
            "\u001b[?25hCollecting ply\n",
            "  Downloading ply-3.11-py2.py3-none-any.whl (49 kB)\n",
            "\u001b[2K     \u001b[90m━━━━━━━━━━━━━━━━━━━━━━━━━━━━━━━━━━━━━━━━\u001b[0m \u001b[32m49.6/49.6 KB\u001b[0m \u001b[31m2.4 MB/s\u001b[0m eta \u001b[36m0:00:00\u001b[0m\n",
            "\u001b[?25hInstalling collected packages: ply, pyomo\n",
            "Successfully installed ply-3.11 pyomo-6.5.0\n",
            "Selecting previously unselected package libsuitesparseconfig5:amd64.\n",
            "(Reading database ... 128275 files and directories currently installed.)\n",
            "Preparing to unpack .../libsuitesparseconfig5_1%3a5.7.1+dfsg-2_amd64.deb ...\n",
            "Unpacking libsuitesparseconfig5:amd64 (1:5.7.1+dfsg-2) ...\n",
            "Selecting previously unselected package libamd2:amd64.\n",
            "Preparing to unpack .../libamd2_1%3a5.7.1+dfsg-2_amd64.deb ...\n",
            "Unpacking libamd2:amd64 (1:5.7.1+dfsg-2) ...\n",
            "Selecting previously unselected package libcolamd2:amd64.\n",
            "Preparing to unpack .../libcolamd2_1%3a5.7.1+dfsg-2_amd64.deb ...\n",
            "Unpacking libcolamd2:amd64 (1:5.7.1+dfsg-2) ...\n",
            "Selecting previously unselected package libglpk40:amd64.\n",
            "Preparing to unpack .../libglpk40_4.65-2_amd64.deb ...\n",
            "Unpacking libglpk40:amd64 (4.65-2) ...\n",
            "Selecting previously unselected package glpk-utils.\n",
            "Preparing to unpack .../glpk-utils_4.65-2_amd64.deb ...\n",
            "Unpacking glpk-utils (4.65-2) ...\n",
            "Setting up libsuitesparseconfig5:amd64 (1:5.7.1+dfsg-2) ...\n",
            "Setting up libamd2:amd64 (1:5.7.1+dfsg-2) ...\n",
            "Setting up libcolamd2:amd64 (1:5.7.1+dfsg-2) ...\n",
            "Setting up libglpk40:amd64 (4.65-2) ...\n",
            "Setting up glpk-utils (4.65-2) ...\n",
            "Processing triggers for man-db (2.9.1-1) ...\n",
            "Processing triggers for libc-bin (2.31-0ubuntu9.9) ...\n",
            "Selecting previously unselected package coinor-libcoinutils3v5.\n",
            "(Reading database ... 128479 files and directories currently installed.)\n",
            "Preparing to unpack .../0-coinor-libcoinutils3v5_2.11.4+repack1-1_amd64.deb ...\n",
            "Unpacking coinor-libcoinutils3v5 (2.11.4+repack1-1) ...\n",
            "Selecting previously unselected package coinor-libosi1v5.\n",
            "Preparing to unpack .../1-coinor-libosi1v5_0.108.6+repack1-1_amd64.deb ...\n",
            "Unpacking coinor-libosi1v5 (0.108.6+repack1-1) ...\n",
            "Selecting previously unselected package coinor-libclp1.\n",
            "Preparing to unpack .../2-coinor-libclp1_1.17.5+repack1-1_amd64.deb ...\n",
            "Unpacking coinor-libclp1 (1.17.5+repack1-1) ...\n",
            "Selecting previously unselected package coinor-libcgl1.\n",
            "Preparing to unpack .../3-coinor-libcgl1_0.60.3+repack1-2_amd64.deb ...\n",
            "Unpacking coinor-libcgl1 (0.60.3+repack1-2) ...\n",
            "Selecting previously unselected package coinor-libcbc3.\n",
            "Preparing to unpack .../4-coinor-libcbc3_2.10.3+repack1-1build1_amd64.deb ...\n",
            "Unpacking coinor-libcbc3 (2.10.3+repack1-1build1) ...\n",
            "Selecting previously unselected package coinor-cbc.\n",
            "Preparing to unpack .../5-coinor-cbc_2.10.3+repack1-1build1_amd64.deb ...\n",
            "Unpacking coinor-cbc (2.10.3+repack1-1build1) ...\n",
            "Setting up coinor-libcoinutils3v5 (2.11.4+repack1-1) ...\n",
            "Setting up coinor-libosi1v5 (0.108.6+repack1-1) ...\n",
            "Setting up coinor-libclp1 (1.17.5+repack1-1) ...\n",
            "Setting up coinor-libcgl1 (0.60.3+repack1-2) ...\n",
            "Setting up coinor-libcbc3 (2.10.3+repack1-1build1) ...\n",
            "Setting up coinor-cbc (2.10.3+repack1-1build1) ...\n",
            "Processing triggers for man-db (2.9.1-1) ...\n",
            "Processing triggers for libc-bin (2.31-0ubuntu9.9) ...\n"
          ]
        }
      ]
    },
    {
      "cell_type": "markdown",
      "metadata": {
        "id": "UsKI4ii7B6tL"
      },
      "source": [
        "## Input data"
      ]
    },
    {
      "cell_type": "code",
      "metadata": {
        "id": "z59D6eg8B74a"
      },
      "source": [
        "nvar = 10\n",
        "ncon = 5\n",
        "A = [round(abs(random.gauss(0,1)),2) for i in range(nvar)]\n",
        "B = [round(abs(random.gauss(0,1)),2) for i in range(nvar)]\n",
        "C = [[round(random.gauss(0,1),2) for i in range(nvar)] for j in range(ncon)]\n",
        "D = [round(random.gauss(0,1),2) for j in range(ncon)]\n",
        "E = [round(abs(random.gauss(0,1)),2) for i in range(nvar)]\n",
        "F = [[round(random.gauss(0,1),2) for i in range(nvar)] for j in range(ncon)]\n",
        "G = [round(random.gauss(0,1),2) for j in range(ncon)]\n",
        "H = [[round(random.gauss(0,1),2) for i in range(nvar)] for j in range(ncon)]\n",
        "I = [[round(random.gauss(0,1),2) for i in range(nvar)] for j in range(ncon)]\n",
        "J = [round(random.gauss(0,1),2) for j in range(ncon)]"
      ],
      "execution_count": 2,
      "outputs": []
    },
    {
      "cell_type": "markdown",
      "metadata": {
        "id": "FdSQU8fwJTc9"
      },
      "source": [
        "## Lower-level optimization problem"
      ]
    },
    {
      "cell_type": "code",
      "metadata": {
        "id": "WuB0r-unIy2s"
      },
      "source": [
        "def solve_ll(vector_x):\n",
        "    m = pe.ConcreteModel()\n",
        "    # Sets\n",
        "    m.i = pe.Set(initialize=range(nvar),ordered=True)\n",
        "    m.j = pe.Set(initialize=range(ncon),ordered=True)\n",
        "    # Variables\n",
        "    m.y = pe.Var(m.i,within=pe.NonNegativeReals)\n",
        "    # Objective function\n",
        "    def obj_rule(m):\n",
        "      return sum(E[i]*m.y[i] for i in m.i)\n",
        "    m.obj = pe.Objective(rule=obj_rule)\n",
        "    # Constraints\n",
        "    def con1_rule(m,j):\n",
        "      return sum(F[j][i]*m.y[i] for i in m.i) <= G[j]\n",
        "    m.con1 = pe.Constraint(m.j,rule=con1_rule)\n",
        "    def con2_rule(m,j):\n",
        "      return sum(H[j][i]*vector_x[i] for i in m.i) + sum(I[j][i]*m.y[i] for i in m.i) <= J[j]\n",
        "    m.con2 = pe.Constraint(m.j,rule=con2_rule)\n",
        "    # Solve the lower level problem\n",
        "    glpk.solve(m).write()\n",
        "    # Returns the objective value of the bilevel problem\n",
        "    return sum(A[i]*vector_x[i] + B[i]*m.y[i].value for i in m.i)   "
      ],
      "execution_count": 3,
      "outputs": []
    },
    {
      "cell_type": "markdown",
      "metadata": {
        "id": "KsEf555VCPAk"
      },
      "source": [
        "## Solving the bilevel problem using regularization"
      ]
    },
    {
      "cell_type": "code",
      "metadata": {
        "id": "1BCVv9BaCSZu",
        "colab": {
          "base_uri": "https://localhost:8080/"
        },
        "outputId": "5f338519-dd2a-4dac-cb55-0364c1e1576b"
      },
      "source": [
        "# Values of epsilon\n",
        "vector_ep = [10**6,10**4,10**2,1,0.1,0.01,0]\n",
        "# Model\n",
        "m = pe.ConcreteModel()\n",
        "# Sets\n",
        "m.i = pe.Set(initialize=range(nvar),ordered=True)\n",
        "m.j = pe.Set(initialize=range(ncon),ordered=True)\n",
        "# Parameters\n",
        "m.ep = pe.Param(initialize=10**6,mutable=True)\n",
        "# Variables\n",
        "m.x = pe.Var(m.i,within=pe.NonNegativeReals)\n",
        "m.y = pe.Var(m.i,within=pe.NonNegativeReals)\n",
        "m.al = pe.Var(m.j,within=pe.NonNegativeReals)\n",
        "m.be = pe.Var(m.j,within=pe.NonNegativeReals)\n",
        "m.ga = pe.Var(m.i,within=pe.NonNegativeReals)\n",
        "# Objective function\n",
        "def obj_rule(m):\n",
        "  return sum(A[i]*m.x[i] for i in m.i) + sum(B[i]*m.y[i] for i in m.i)\n",
        "m.obj = pe.Objective(rule=obj_rule)\n",
        "# Constraints\n",
        "def con1_rule(m,j):\n",
        "  return sum(C[j][i]*m.x[i] for i in m.i) <= D[j]\n",
        "m.con1 = pe.Constraint(m.j,rule=con1_rule)\n",
        "def con2_rule(m,j):\n",
        "  return sum(F[j][i]*m.y[i] for i in m.i) <= G[j]\n",
        "m.con2 = pe.Constraint(m.j,rule=con2_rule)\n",
        "def con3_rule(m,j):\n",
        "  return sum(H[j][i]*m.x[i] for i in m.i) + sum(I[j][i]*m.y[i] for i in m.i) <= J[j]\n",
        "m.con3 = pe.Constraint(m.j,rule=con3_rule)\n",
        "def con4_rule(m,i):\n",
        "  return E[i] + sum(F[j][i]*m.al[j] for j in m.j) + sum(I[j][i]*m.be[j] for j in m.j) - m.ga[i] == 0\n",
        "m.con4 = pe.Constraint(m.i,rule=con4_rule)\n",
        "def con5_rule(m):\n",
        "  return sum((G[j] - sum(F[j][i]*m.y[i] for i in m.i))*m.al[j] for j in m.j) + sum((J[j] - sum(H[j][i]*m.x[i] for i in m.i) - sum(I[j][i]*m.y[i] for i in m.i))*m.be[j] for j in m.j) + sum(m.y[i]*m.ga[i] for i in m.i) <= m.ep\n",
        "m.con5 = pe.Constraint(rule=con5_rule)\n",
        "# Solve the model iteratively\n",
        "for ep in vector_ep:\n",
        "  m.ep = ep\n",
        "ipopt.solve(m).write()\n",
        "# Output solution\n",
        "x_reg = [m.x[i].value for i in m.i]\n",
        "of_reg = solve_ll(x_reg)\n",
        "print('Optimal solution:',x_reg)\n",
        "print('Optimal value:',of_reg)"
      ],
      "execution_count": 4,
      "outputs": [
        {
          "output_type": "stream",
          "name": "stdout",
          "text": [
            "# ==========================================================\n",
            "# = Solver Results                                         =\n",
            "# ==========================================================\n",
            "# ----------------------------------------------------------\n",
            "#   Problem Information\n",
            "# ----------------------------------------------------------\n",
            "Problem: \n",
            "- Lower bound: -inf\n",
            "  Upper bound: inf\n",
            "  Number of objectives: 1\n",
            "  Number of constraints: 26\n",
            "  Number of variables: 40\n",
            "  Sense: unknown\n",
            "# ----------------------------------------------------------\n",
            "#   Solver Information\n",
            "# ----------------------------------------------------------\n",
            "Solver: \n",
            "- Status: ok\n",
            "  Message: Ipopt 3.12.13\\x3a Optimal Solution Found\n",
            "  Termination condition: optimal\n",
            "  Id: 0\n",
            "  Error rc: 0\n",
            "  Time: 0.10225105285644531\n",
            "# ----------------------------------------------------------\n",
            "#   Solution Information\n",
            "# ----------------------------------------------------------\n",
            "Solution: \n",
            "- number of solutions: 0\n",
            "  number of solutions displayed: 0\n",
            "# ==========================================================\n",
            "# = Solver Results                                         =\n",
            "# ==========================================================\n",
            "# ----------------------------------------------------------\n",
            "#   Problem Information\n",
            "# ----------------------------------------------------------\n",
            "Problem: \n",
            "- Name: unknown\n",
            "  Lower bound: 2.64586750908925\n",
            "  Upper bound: 2.64586750908925\n",
            "  Number of objectives: 1\n",
            "  Number of constraints: 11\n",
            "  Number of variables: 11\n",
            "  Number of nonzeros: 100\n",
            "  Sense: minimize\n",
            "# ----------------------------------------------------------\n",
            "#   Solver Information\n",
            "# ----------------------------------------------------------\n",
            "Solver: \n",
            "- Status: ok\n",
            "  Termination condition: optimal\n",
            "  Statistics: \n",
            "    Branch and bound: \n",
            "      Number of bounded subproblems: 0\n",
            "      Number of created subproblems: 0\n",
            "  Error rc: 0\n",
            "  Time: 0.017073869705200195\n",
            "# ----------------------------------------------------------\n",
            "#   Solution Information\n",
            "# ----------------------------------------------------------\n",
            "Solution: \n",
            "- number of solutions: 0\n",
            "  number of solutions displayed: 0\n",
            "Optimal solution: [0.0, 0.0, 0.0, 0.7575805159462516, 0.0, 0.0, 0.02364146380381307, 0.10777886566549666, 2.692989579747692e-08, 0.03421964691221637]\n",
            "Optimal value: 2.2939489149663226\n"
          ]
        }
      ]
    },
    {
      "cell_type": "markdown",
      "metadata": {
        "id": "7in1kRZIITPF"
      },
      "source": [
        "## Solving the bilevel problem using bigM"
      ]
    },
    {
      "cell_type": "code",
      "metadata": {
        "id": "lj31KIVNGWLB",
        "colab": {
          "base_uri": "https://localhost:8080/"
        },
        "outputId": "2cd921d5-7296-49a1-e639-dab7912da9e1"
      },
      "source": [
        "# Big M\n",
        "BigM = 10**6\n",
        "# Model\n",
        "m = pe.ConcreteModel()\n",
        "# Sets\n",
        "m.i = pe.Set(initialize=range(nvar),ordered=True)\n",
        "m.j = pe.Set(initialize=range(ncon),ordered=True)\n",
        "# Variables\n",
        "m.x = pe.Var(m.i,within=pe.NonNegativeReals)\n",
        "m.y = pe.Var(m.i,within=pe.NonNegativeReals)\n",
        "m.al = pe.Var(m.j,within=pe.NonNegativeReals)\n",
        "m.be = pe.Var(m.j,within=pe.NonNegativeReals)\n",
        "m.ga = pe.Var(m.i,within=pe.NonNegativeReals)\n",
        "m.u1 = pe.Var(m.j,within=pe.Binary)\n",
        "m.u2 = pe.Var(m.j,within=pe.Binary)\n",
        "m.u3 = pe.Var(m.i,within=pe.Binary)\n",
        "# Objective function\n",
        "def obj_rule(m):\n",
        "  return sum(A[i]*m.x[i] for i in m.i) + sum(B[i]*m.y[i] for i in m.i)\n",
        "m.obj = pe.Objective(rule=obj_rule)\n",
        "# Constraints\n",
        "def con1_rule(m,j):\n",
        "  return sum(C[j][i]*m.x[i] for i in m.i) <= D[j]\n",
        "m.con1 = pe.Constraint(m.j,rule=con1_rule)\n",
        "def con2_rule(m,j):\n",
        "  return sum(F[j][i]*m.y[i] for i in m.i) <= G[j]\n",
        "m.con2 = pe.Constraint(m.j,rule=con2_rule)\n",
        "def con3_rule(m,j):\n",
        "  return sum(H[j][i]*m.x[i] for i in m.i) + sum(I[j][i]*m.y[i] for i in m.i) <= J[j]\n",
        "m.con3 = pe.Constraint(m.j,rule=con3_rule)\n",
        "def con4_rule(m,i):\n",
        "  return E[i] + sum(F[j][i]*m.al[j] for j in m.j) + sum(I[j][i]*m.be[j] for j in m.j) - m.ga[i] == 0\n",
        "m.con4 = pe.Constraint(m.i,rule=con4_rule)\n",
        "def con5_rule(m,j):\n",
        "  return G[j] - sum(F[j][i]*m.y[i] for i in m.i) <= m.u1[j]*BigM\n",
        "m.con5 = pe.Constraint(m.j,rule=con5_rule)\n",
        "def con6_rule(m,j):\n",
        "  return m.al[j] <= (1-m.u1[j])*BigM\n",
        "m.con6 = pe.Constraint(m.j,rule=con6_rule)\n",
        "def con7_rule(m,j):\n",
        "  return J[j] - sum(H[j][i]*m.x[i] for i in m.i) - sum(I[j][i]*m.y[i] for i in m.i) <= m.u2[j]*BigM\n",
        "m.con7 = pe.Constraint(m.j,rule=con7_rule)\n",
        "def con8_rule(m,j):\n",
        "  return m.be[j] <= (1-m.u2[j])*BigM\n",
        "m.con8 = pe.Constraint(m.j,rule=con8_rule)\n",
        "def con9_rule(m,i):\n",
        "  return m.y[i] <= m.u3[i]*BigM\n",
        "m.con9 = pe.Constraint(m.i,rule=con9_rule)\n",
        "def con10_rule(m,i):\n",
        "  return m.ga[i] <= (1-m.u3[i])*BigM\n",
        "m.con10 = pe.Constraint(m.i,rule=con10_rule)\n",
        "# Solve the model\n",
        "cbc.solve(m).write()\n",
        "# Output solution\n",
        "x_BigM = [m.x[i].value for i in m.i]\n",
        "of_BigM = solve_ll(x_BigM)\n",
        "print('Optimal solution:',x_BigM)\n",
        "print('Optimal value:',of_BigM)"
      ],
      "execution_count": 5,
      "outputs": [
        {
          "output_type": "stream",
          "name": "stdout",
          "text": [
            "# ==========================================================\n",
            "# = Solver Results                                         =\n",
            "# ==========================================================\n",
            "# ----------------------------------------------------------\n",
            "#   Problem Information\n",
            "# ----------------------------------------------------------\n",
            "Problem: \n",
            "- Name: unknown\n",
            "  Lower bound: 2.29394772\n",
            "  Upper bound: 2.29394772\n",
            "  Number of objectives: 1\n",
            "  Number of constraints: 65\n",
            "  Number of variables: 60\n",
            "  Number of binary variables: 20\n",
            "  Number of integer variables: 20\n",
            "  Number of nonzeros: 20\n",
            "  Sense: minimize\n",
            "# ----------------------------------------------------------\n",
            "#   Solver Information\n",
            "# ----------------------------------------------------------\n",
            "Solver: \n",
            "- Status: ok\n",
            "  User time: -1.0\n",
            "  System time: 0.07\n",
            "  Wallclock time: 0.07\n",
            "  Termination condition: optimal\n",
            "  Termination message: Model was solved to optimality (subject to tolerances), and an optimal solution is available.\n",
            "  Statistics: \n",
            "    Branch and bound: \n",
            "      Number of bounded subproblems: 0\n",
            "      Number of created subproblems: 0\n",
            "    Black box: \n",
            "      Number of iterations: 0\n",
            "  Error rc: 0\n",
            "  Time: 0.13031864166259766\n",
            "# ----------------------------------------------------------\n",
            "#   Solution Information\n",
            "# ----------------------------------------------------------\n",
            "Solution: \n",
            "- number of solutions: 0\n",
            "  number of solutions displayed: 0\n",
            "# ==========================================================\n",
            "# = Solver Results                                         =\n",
            "# ==========================================================\n",
            "# ----------------------------------------------------------\n",
            "#   Problem Information\n",
            "# ----------------------------------------------------------\n",
            "Problem: \n",
            "- Name: unknown\n",
            "  Lower bound: 2.64586626592435\n",
            "  Upper bound: 2.64586626592435\n",
            "  Number of objectives: 1\n",
            "  Number of constraints: 11\n",
            "  Number of variables: 11\n",
            "  Number of nonzeros: 100\n",
            "  Sense: minimize\n",
            "# ----------------------------------------------------------\n",
            "#   Solver Information\n",
            "# ----------------------------------------------------------\n",
            "Solver: \n",
            "- Status: ok\n",
            "  Termination condition: optimal\n",
            "  Statistics: \n",
            "    Branch and bound: \n",
            "      Number of bounded subproblems: 0\n",
            "      Number of created subproblems: 0\n",
            "  Error rc: 0\n",
            "  Time: 0.015018224716186523\n",
            "# ----------------------------------------------------------\n",
            "#   Solution Information\n",
            "# ----------------------------------------------------------\n",
            "Solution: \n",
            "- number of solutions: 0\n",
            "  number of solutions displayed: 0\n",
            "Optimal solution: [0.0, 0.0, 0.0, 0.75758057, 0.0, 0.0, 0.023641488, 0.10777889, 0.0, 0.034219647]\n",
            "Optimal value: 2.2939476665499257\n"
          ]
        }
      ]
    }
  ]
}