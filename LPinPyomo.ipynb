{
  "nbformat": 4,
  "nbformat_minor": 0,
  "metadata": {
    "colab": {
      "name": "LPinPyomo.ipynb",
      "provenance": [],
      "authorship_tag": "ABX9TyOgCZk8REeNDv1HCBNpk/ZT",
      "include_colab_link": true
    },
    "kernelspec": {
      "name": "python3",
      "display_name": "Python 3"
    }
  },
  "cells": [
    {
      "cell_type": "markdown",
      "metadata": {
        "id": "view-in-github",
        "colab_type": "text"
      },
      "source": [
        "<a href=\"https://colab.research.google.com/github/salvapineda/notebooks/blob/main/LPinPyomo.ipynb\" target=\"_parent\"><img src=\"https://colab.research.google.com/assets/colab-badge.svg\" alt=\"Open In Colab\"/></a>"
      ]
    },
    {
      "cell_type": "markdown",
      "metadata": {
        "id": "8JasgY3iQTnj"
      },
      "source": [
        "# Motivation Example of Linear Programming in Pyomo\n",
        "\n",
        "We want to maximize the energy production benefits of running 2 generators. The benefit of producing with generator 1 and 2 are 3&euro;/MWh and 5&euro;/MWh, respectively. The maximum capacity of generator 1 and 2 are 4MW and 6MW, respectively. Both generators share the same water cooling system. Generator 1 needs 3 units of water per MW, while generator 2 needs 2 units of water per MW. The maximum units of water available is 18.\n",
        "\n",
        "This optimization model is formulated as follows:\n",
        "\n",
        "$$\n",
        "\\begin{align}\n",
        "\\underset{x_1,x_2}{\\max} \\quad & 3x_1+5x_2 \\\\\n",
        "\\text{s.t.} \\quad & 0 \\leq x_1 \\leq 4\\\\\n",
        "& 0 \\leq x_2 \\leq 6\\\\\n",
        "& 3x_1 + 2x_2 \\leq 18\n",
        "\\end{align}\n",
        "$$\n",
        "\n",
        "Below we provide the Pyomo code to solve this optimization problem:"
      ]
    },
    {
      "cell_type": "code",
      "metadata": {
        "id": "MLpGyM-aTXP6"
      },
      "source": [
        ""
      ],
      "execution_count": null,
      "outputs": []
    },
    {
      "cell_type": "code",
      "metadata": {
        "colab": {
          "base_uri": "https://localhost:8080/"
        },
        "id": "WnX-z9LQNgsa",
        "outputId": "4af6723f-8c62-439a-a854-ebe1cbac69cf"
      },
      "source": [
        "# Install\n",
        "!pip install pyomo\n",
        "# Import\n",
        "import os\n",
        "import pyomo.environ as pe\n",
        "# Model\n",
        "m = pe.ConcreteModel()\n",
        "# Variables\n",
        "m.x1 = pe.Var(within=pe.NonNegativeReals,bounds=(0,4))\n",
        "m.x2 = pe.Var(within=pe.NonNegativeReals,bounds=(0,6))\n",
        "# Objective function\n",
        "def obj_rule(m):\n",
        "  return 3*m.x1 + 5*m.x2\n",
        "m.obj = pe.Objective(rule=obj_rule,sense=pe.maximize)\n",
        "# Constraints\n",
        "def con_rule(m):\n",
        "  return 3*m.x1 + 2*m.x2 <= 18\n",
        "m.con = pe.Constraint(rule=con_rule)\n",
        "# Solve problem using NEOS server\n",
        "os.environ['NEOS_EMAIL'] = 'xxx@gmail.com'\n",
        "res = pe.SolverManagerFactory('neos').solve(m,opt=pe.SolverFactory('cplex'))\n",
        "# Print results\n",
        "print(res['Solver'][0])\n",
        "print('x1 =',m.x1.value)\n",
        "print('x2 =',m.x2.value)\n",
        "print('Optimal value =',m.obj())"
      ],
      "execution_count": 7,
      "outputs": [
        {
          "output_type": "stream",
          "text": [
            "Requirement already satisfied: pyomo in /usr/local/lib/python3.6/dist-packages (5.7.3)\n",
            "Requirement already satisfied: six>=1.4 in /usr/local/lib/python3.6/dist-packages (from pyomo) (1.15.0)\n",
            "Requirement already satisfied: ply in /usr/local/lib/python3.6/dist-packages (from pyomo) (3.11)\n",
            "Requirement already satisfied: PyUtilib>=6.0.0 in /usr/local/lib/python3.6/dist-packages (from pyomo) (6.0.0)\n",
            "Requirement already satisfied: nose in /usr/local/lib/python3.6/dist-packages (from PyUtilib>=6.0.0->pyomo) (1.3.7)\n",
            "\n",
            "Status: ok\n",
            "Message: CPLEX 12.10.0.0\\x3a optimal solution; objective 36; 1 dual simplex iterations (0 in phase I)\n",
            "Termination condition: optimal\n",
            "Id: 0\n",
            "\n",
            "x1 = 2.0\n",
            "x2 = 6.0\n",
            "Optimal value = 36.0\n"
          ],
          "name": "stdout"
        }
      ]
    }
  ]
}