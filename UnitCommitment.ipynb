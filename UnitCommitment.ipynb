{
  "nbformat": 4,
  "nbformat_minor": 0,
  "metadata": {
    "colab": {
      "name": "UnitCommitment.ipynb",
      "provenance": [],
      "authorship_tag": "ABX9TyPNMtgeslP4O9cKtp+UDeY5",
      "include_colab_link": true
    },
    "kernelspec": {
      "name": "python3",
      "display_name": "Python 3"
    }
  },
  "cells": [
    {
      "cell_type": "markdown",
      "metadata": {
        "id": "view-in-github",
        "colab_type": "text"
      },
      "source": [
        "<a href=\"https://colab.research.google.com/github/salvapineda/notebooks/blob/main/UnitCommitment.ipynb\" target=\"_parent\"><img src=\"https://colab.research.google.com/assets/colab-badge.svg\" alt=\"Open In Colab\"/></a>"
      ]
    },
    {
      "cell_type": "markdown",
      "metadata": {
        "id": "ZIEfHxwno5u5"
      },
      "source": [
        "# Unit Commitment in Python"
      ]
    },
    {
      "cell_type": "markdown",
      "metadata": {
        "id": "-1vOQpFioj3O"
      },
      "source": [
        "## Requirements"
      ]
    },
    {
      "cell_type": "code",
      "metadata": {
        "colab": {
          "base_uri": "https://localhost:8080/"
        },
        "id": "OHOKuwI6UisB",
        "outputId": "fedb9dd4-1064-4e03-eddc-bc3816ee615e"
      },
      "source": [
        "!pip install pyomo\n",
        "import os\n",
        "import pandas as pd\n",
        "import numpy as np\n",
        "import pyomo.environ as pe"
      ],
      "execution_count": 63,
      "outputs": [
        {
          "output_type": "stream",
          "text": [
            "Requirement already satisfied: pyomo in /usr/local/lib/python3.6/dist-packages (5.7.3)\n",
            "Requirement already satisfied: PyUtilib>=6.0.0 in /usr/local/lib/python3.6/dist-packages (from pyomo) (6.0.0)\n",
            "Requirement already satisfied: six>=1.4 in /usr/local/lib/python3.6/dist-packages (from pyomo) (1.15.0)\n",
            "Requirement already satisfied: ply in /usr/local/lib/python3.6/dist-packages (from pyomo) (3.11)\n",
            "Requirement already satisfied: nose in /usr/local/lib/python3.6/dist-packages (from PyUtilib>=6.0.0->pyomo) (1.3.7)\n"
          ],
          "name": "stdout"
        }
      ]
    },
    {
      "cell_type": "markdown",
      "metadata": {
        "id": "o4jSX0peop7j"
      },
      "source": [
        "## Input Data"
      ]
    },
    {
      "cell_type": "code",
      "metadata": {
        "colab": {
          "base_uri": "https://localhost:8080/"
        },
        "id": "sLj2JfYhTWyT",
        "outputId": "bfaf4ee7-e14f-4061-c451-ebce67045f8e"
      },
      "source": [
        "print('==============================')\n",
        "print('Unit data')\n",
        "print('==============================')\n",
        "data_gen = [[0,0.1,10,0,400],[1,0.1,20,0,400]]\n",
        "ng = len(data_gen)\n",
        "gen = pd.DataFrame(data_gen,index=['g'+str(i) for i in range(ng)],columns=['bus','a','b','min','max'])\n",
        "print(gen)\n",
        "print('==============================')\n",
        "print('Line data')\n",
        "print('==============================')\n",
        "data_lin = [[0,1,1,1000],[0,2,2,70],[1,2,3,1000]]\n",
        "nl = len(data_lin)\n",
        "lin = pd.DataFrame(data_lin,index=['l'+str(i) for i in range(nl)],columns=['from','to','sus','cap'])\n",
        "print(lin)\n",
        "print('==============================')\n",
        "print('Demand data')\n",
        "print('==============================')\n",
        "data_dem = [[49.4, 105.81, 0.0], [146.81, 159.56, 0.0], [104.2, 148.69, 0.0], [222.75, 134.48, 0.0], [61.84, 163.19, 0.0], [65.81, 102.29, 0.0], \n",
        "            [177.4, 160.33, 0.0], [9.66, 136.83, 0.0], [29.6, 141.61, 0.0], [186.57, 161.3, 0.0], [127.28, 115.28, 0.0], [248.79, 141.13, 0.0], \n",
        "            [46.01, 114.35, 0.0], [148.17, 117.66, 0.0], [131.89, 153.54, 0.0], [75.98, 165.17, 0.0], [184.68, 129.26, 0.0], [102.42, 156.23, 0.0],\n",
        "            [89.28, 176.49, 0.0], [183.79, 148.23, 0.0], [111.95, 158.81, 0.0], [61.15, 102.98, 0.0], [174.65, 107.03, 0.0], [168.12, 124.58, 0.0]]\n",
        "dem = pd.DataFrame(data_dem,index=['t'+str(i) for i in range(nt)],columns=['b'+str(i) for i in range(nb)])\n",
        "print(dem)\n",
        "print('==============================')\n",
        "print('Renewable data')\n",
        "print('==============================')\n",
        "data_ren = [[0.0, 0.0, 39.07], [0.0, 0.0, 24.72], [0.0, 0.0, 22.42], [0.0, 0.0, 39.75], [0.0, 0.0, 43.6], [0.0, 0.0, 21.09], [0.0, 0.0, 37.59], \n",
        "            [0.0, 0.0, 41.89], [0.0, 0.0, 26.53], [0.0, 0.0, 41.02], [0.0, 0.0, 15.55], [0.0, 0.0, 7.09], [0.0, 0.0, 38.47], [0.0, 0.0, 29.11], \n",
        "            [0.0, 0.0, 9.49], [0.0, 0.0, 24.97], [0.0, 0.0, 34.4], [0.0, 0.0, 23.69], [0.0, 0.0, 26.87], [0.0, 0.0, 0.37], [0.0, 0.0, 11.89], \n",
        "            [0.0, 0.0, 34.84], [0.0, 0.0, 39.26], [0.0, 0.0, 33.43]]\n",
        "nt = len(data_ren)\n",
        "nb = len(data_ren[0])\n",
        "ren = pd.DataFrame(data_ren,index=['t'+str(i) for i in range(nt)],columns=['b'+str(i) for i in range(nb)])\n",
        "print(ren)"
      ],
      "execution_count": 60,
      "outputs": [
        {
          "output_type": "stream",
          "text": [
            "==============================\n",
            "Unit data\n",
            "==============================\n",
            "    bus    a   b  min  max\n",
            "g0    0  0.1  10    0  400\n",
            "g1    1  0.1  20    0  400\n",
            "==============================\n",
            "Line data\n",
            "==============================\n",
            "    from  to  sus   cap\n",
            "l0     0   1    1  1000\n",
            "l1     0   2    2    70\n",
            "l2     1   2    3  1000\n",
            "==============================\n",
            "Demand data\n",
            "==============================\n",
            "         b0      b1   b2\n",
            "t0    49.40  105.81  0.0\n",
            "t1   146.81  159.56  0.0\n",
            "t2   104.20  148.69  0.0\n",
            "t3   222.75  134.48  0.0\n",
            "t4    61.84  163.19  0.0\n",
            "t5    65.81  102.29  0.0\n",
            "t6   177.40  160.33  0.0\n",
            "t7     9.66  136.83  0.0\n",
            "t8    29.60  141.61  0.0\n",
            "t9   186.57  161.30  0.0\n",
            "t10  127.28  115.28  0.0\n",
            "t11  248.79  141.13  0.0\n",
            "t12   46.01  114.35  0.0\n",
            "t13  148.17  117.66  0.0\n",
            "t14  131.89  153.54  0.0\n",
            "t15   75.98  165.17  0.0\n",
            "t16  184.68  129.26  0.0\n",
            "t17  102.42  156.23  0.0\n",
            "t18   89.28  176.49  0.0\n",
            "t19  183.79  148.23  0.0\n",
            "t20  111.95  158.81  0.0\n",
            "t21   61.15  102.98  0.0\n",
            "t22  174.65  107.03  0.0\n",
            "t23  168.12  124.58  0.0\n",
            "==============================\n",
            "Renewable data\n",
            "==============================\n",
            "      b0   b1     b2\n",
            "t0   0.0  0.0  39.07\n",
            "t1   0.0  0.0  24.72\n",
            "t2   0.0  0.0  22.42\n",
            "t3   0.0  0.0  39.75\n",
            "t4   0.0  0.0  43.60\n",
            "t5   0.0  0.0  21.09\n",
            "t6   0.0  0.0  37.59\n",
            "t7   0.0  0.0  41.89\n",
            "t8   0.0  0.0  26.53\n",
            "t9   0.0  0.0  41.02\n",
            "t10  0.0  0.0  15.55\n",
            "t11  0.0  0.0   7.09\n",
            "t12  0.0  0.0  38.47\n",
            "t13  0.0  0.0  29.11\n",
            "t14  0.0  0.0   9.49\n",
            "t15  0.0  0.0  24.97\n",
            "t16  0.0  0.0  34.40\n",
            "t17  0.0  0.0  23.69\n",
            "t18  0.0  0.0  26.87\n",
            "t19  0.0  0.0   0.37\n",
            "t20  0.0  0.0  11.89\n",
            "t21  0.0  0.0  34.84\n",
            "t22  0.0  0.0  39.26\n",
            "t23  0.0  0.0  33.43\n"
          ],
          "name": "stdout"
        }
      ]
    },
    {
      "cell_type": "markdown",
      "metadata": {
        "id": "HS_EfbXuowM9"
      },
      "source": [
        "## Solving Unit Commitment"
      ]
    },
    {
      "cell_type": "code",
      "metadata": {
        "colab": {
          "base_uri": "https://localhost:8080/"
        },
        "id": "HdyhOqpGWMfC",
        "outputId": "249ee5d1-dc62-4549-e2e6-e8e5c256554e"
      },
      "source": [
        "# Model\n",
        "m = pe.ConcreteModel()\n",
        "# Sets\n",
        "m.g = pe.Set(initialize=list(range(ng)),ordered=True)\n",
        "m.l = pe.Set(initialize=list(range(nl)),ordered=True)\n",
        "m.b = pe.Set(initialize=list(range(nb)),ordered=True)\n",
        "m.t = pe.Set(initialize=list(range(nt)),ordered=True)\n",
        "# Variables\n",
        "m.z = pe.Var()\n",
        "m.pro = pe.Var(m.g,m.t,within=pe.NonNegativeReals)\n",
        "m.u = pe.Var(m.g,m.t,within=pe.Binary)\n",
        "m.shd = pe.Var(m.b,m.t,within=pe.NonNegativeReals)\n",
        "m.spl = pe.Var(m.b,m.t,within=pe.NonNegativeReals)\n",
        "m.ang = pe.Var(m.b,m.t)\n",
        "m.flw = pe.Var(m.l,m.t)\n",
        "# Objective function\n",
        "def obj_rule(m):\n",
        "  return m.z\n",
        "m.obj = pe.Objective(rule=obj_rule)\n",
        "# Definition cost\n",
        "def cost_def_rule(m):\n",
        "  return m.z == sum(gen['a'][g]*m.pro[g,t]*m.pro[g,t] + gen['b'][g]*m.pro[g,t] for g in m.g for t in m.t) + sum(cs*m.shd[b,t] for b in m.b for t in m.t)\n",
        "m.cost_def = pe.Constraint(rule=cost_def_rule)\n",
        "# Energy balance\n",
        "def bal_rule(m,b,t):\n",
        "  return sum(m.pro[g,t] for g in m.g if gen['bus'][g] == b) + ren.iloc[t,b] + m.shd[b,t] + sum(m.flw[l,t] for l in m.l if lin['to'][l] == b) == dem.iloc[t,b] + m.spl[b,t] + sum(m.flw[l,t] for l in m.l if lin['from'][l] == b)\n",
        "m.bal = pe.Constraint(m.b, m.t, rule=bal_rule)\n",
        "# Minimum generation\n",
        "def min_gen_rule(m,g,t):\n",
        "  return m.pro[g,t] >= m.u[g,t]*gen['min'][g]\n",
        "m.min_gen = pe.Constraint(m.g, m.t, rule=min_gen_rule)\n",
        "# Maximum generation\n",
        "def max_gen_rule(m,g,t):\n",
        "  return m.pro[g,t] <= m.u[g,t]*gen['max'][g]\n",
        "m.max_gen = pe.Constraint(m.g, m.t, rule=max_gen_rule)\n",
        "# Maximum spilage\n",
        "def max_spil_rule(m,b,t):\n",
        "  return m.spl[b,t] <= ren.iloc[t,b]\n",
        "m.max_spil = pe.Constraint(m.b, m.t, rule=max_spil_rule)\n",
        "# Maximum shedding\n",
        "def max_shed_rule(m,b,t):\n",
        "  return m.shd[b,t] <= dem.iloc[t,b]\n",
        "m.max_shed = pe.Constraint(m.b, m.t, rule=max_shed_rule)\n",
        "# Power flow definition\n",
        "def flow_rule(m,l,t):\n",
        "  return m.flw[l,t] == lin['sus'][l]*(m.ang[lin['from'][l],t] - m.ang[lin['to'][l],t])\n",
        "m.flow = pe.Constraint(m.l, m.t, rule=flow_rule)\n",
        "# Max power flow\n",
        "def max_flow_rule(m,l,t):\n",
        "  return m.flw[l,t] <= lin['cap'][l]\n",
        "m.max_flow = pe.Constraint(m.l, m.t, rule=max_flow_rule)\n",
        "# Min power flow\n",
        "def min_flow_rule(m,l,t):\n",
        "  return m.flw[l,t] >= -lin['cap'][l]\n",
        "m.min_flow = pe.Constraint(m.l, m.t, rule=min_flow_rule)\n",
        "# We solve the optimization problem\n",
        "os.environ['NEOS_EMAIL'] = 'xxx@gmail.com'\n",
        "solver_manager = pe.SolverManagerFactory('neos')\n",
        "opt = pe.SolverFactory('cplex')\n",
        "opt.options['threads'] = 1\n",
        "opt.options['mipgap'] = 1e-9\n",
        "res = solver_manager.solve(m,opt=opt,symbolic_solver_labels=True,tee=True)\n",
        "print(res['Solver'][0])"
      ],
      "execution_count": 61,
      "outputs": [
        {
          "output_type": "stream",
          "text": [
            "\n",
            "Status: ok\n",
            "Message: CPLEX 12.10.0.0\\x3a optimal integer solution; objective 151456.93271999998; 10 MIP simplex iterations; 0 branch-and-bound nodes; absmipgap = 2.91038e-11, relmipgap = 1.92159e-16; No basis.\n",
            "Termination condition: optimal\n",
            "Id: 2\n",
            "\n"
          ],
          "name": "stdout"
        }
      ]
    },
    {
      "cell_type": "markdown",
      "metadata": {
        "id": "5zEAqcOEo0NV"
      },
      "source": [
        "## Solution Output"
      ]
    },
    {
      "cell_type": "code",
      "metadata": {
        "colab": {
          "base_uri": "https://localhost:8080/",
          "height": 1000
        },
        "id": "iSp-Sn1AmVxd",
        "outputId": "49a43c3b-2a4f-43a6-add6-34b52bc3a17a"
      },
      "source": [
        "# Print output\n",
        "print('==============================')\n",
        "print('Unit commitment')\n",
        "print('==============================')\n",
        "u = pd.DataFrame([[round(m.u[g,t].value,2) for g in m.g] for t in m.t],index=['t'+str(i) for i in range(nt)],columns=['g'+str(i) for i in range(ng)])\n",
        "print(u)\n",
        "pro = pd.DataFrame([[round(m.pro[g,t].value,2) for g in m.g] for t in m.t],index=['t'+str(i) for i in range(nt)],columns=['g'+str(i) for i in range(ng)])\n",
        "print('==============================')\n",
        "print('Unit production')\n",
        "print('==============================')\n",
        "print(pro)\n",
        "flw = pd.DataFrame([[round(m.flw[l,t].value,2) for l in m.l] for t in m.t],index=['t'+str(i) for i in range(nt)],columns=['l'+str(i) for i in range(nl)])\n",
        "print('==============================')\n",
        "print('Power flows')\n",
        "print('==============================')\n",
        "print(flw)\n",
        "shd = pd.DataFrame([[round(m.shd[b,t].value,2) for b in m.b] for t in m.t],index=['t'+str(i) for i in range(nt)],columns=['l'+str(i) for i in range(nb)])\n",
        "print('==============================')\n",
        "print('Load shedding')\n",
        "print('==============================')\n",
        "print(shd)\n",
        "spl = pd.DataFrame([[round(m.spl[l,t].value,2) for b in m.b] for t in m.t],index=['t'+str(i) for i in range(nt)],columns=['l'+str(i) for i in range(nb)])\n",
        "print('==============================')\n",
        "print('Wind spillage')\n",
        "print('==============================')\n",
        "print(spl)"
      ],
      "execution_count": 62,
      "outputs": [
        {
          "output_type": "stream",
          "text": [
            "==============================\n",
            "Unit commitment\n",
            "==============================\n",
            "      g0   g1\n",
            "t0   1.0  1.0\n",
            "t1   1.0  1.0\n",
            "t2   1.0  1.0\n",
            "t3   1.0  1.0\n",
            "t4   1.0  1.0\n",
            "t5   1.0  1.0\n",
            "t6   1.0  1.0\n",
            "t7   1.0  1.0\n",
            "t8   1.0  1.0\n",
            "t9   1.0  1.0\n",
            "t10  1.0  1.0\n",
            "t11  1.0  1.0\n",
            "t12  1.0  1.0\n",
            "t13  1.0  1.0\n",
            "t14  1.0  1.0\n",
            "t15  1.0  1.0\n",
            "t16  1.0  1.0\n",
            "t17  1.0  1.0\n",
            "t18  1.0  1.0\n",
            "t19  1.0  1.0\n",
            "t20  1.0  1.0\n",
            "t21  1.0  1.0\n",
            "t22  1.0  1.0\n",
            "t23  1.0  1.0\n",
            "==============================\n",
            "Unit production\n",
            "==============================\n",
            "         g0      g1\n",
            "t0    83.07   33.07\n",
            "t1   165.82  115.83\n",
            "t2   140.23   90.23\n",
            "t3   183.74  133.74\n",
            "t4   115.72   65.71\n",
            "t5    98.51   48.50\n",
            "t6   175.07  125.07\n",
            "t7    77.30   27.30\n",
            "t8    97.34   47.34\n",
            "t9   178.42  128.42\n",
            "t10  138.50   88.50\n",
            "t11  216.41  166.42\n",
            "t12   85.94   35.95\n",
            "t13  143.36   93.36\n",
            "t14  162.97  112.97\n",
            "t15  133.09   83.09\n",
            "t16  164.77  114.77\n",
            "t17  142.48   92.48\n",
            "t18  144.45   94.45\n",
            "t19  190.82  140.83\n",
            "t20  154.43  104.43\n",
            "t21   89.64   39.65\n",
            "t22  146.21   96.21\n",
            "t23  154.63  104.63\n",
            "==============================\n",
            "Power flows\n",
            "==============================\n",
            "        l0     l1     l2\n",
            "t0   22.41  11.26 -50.33\n",
            "t1   13.14   5.88 -30.60\n",
            "t2   20.46  15.58 -38.00\n",
            "t3  -10.50 -28.51 -11.24\n",
            "t4   32.42  21.46 -65.06\n",
            "t5   18.70  14.00 -35.09\n",
            "t6    5.78  -8.11 -29.48\n",
            "t7   38.36  29.28 -71.17\n",
            "t8   35.61  32.13 -58.66\n",
            "t9    3.76 -11.90 -29.12\n",
            "t10   7.93   3.30 -18.85\n",
            "t11 -13.43 -18.95  11.86\n",
            "t12  25.15  14.79 -53.26\n",
            "t13   3.11  -7.92 -21.19\n",
            "t14  15.85  15.23 -24.72\n",
            "t15  30.50  26.61 -51.58\n",
            "t16  -2.80 -17.11 -17.29\n",
            "t17  22.52  17.54 -41.23\n",
            "t18  29.96  25.21 -52.08\n",
            "t19   3.26   3.77  -4.14\n",
            "t20  21.47  21.01 -32.90\n",
            "t21  19.29   9.21 -44.05\n",
            "t22  -5.79 -22.65 -16.61\n",
            "t23  -0.05 -13.43 -20.00\n",
            "==============================\n",
            "Load shedding\n",
            "==============================\n",
            "      l0   l1   l2\n",
            "t0   0.0  0.0  0.0\n",
            "t1   0.0  0.0  0.0\n",
            "t2   0.0  0.0  0.0\n",
            "t3   0.0  0.0  0.0\n",
            "t4   0.0  0.0  0.0\n",
            "t5   0.0  0.0  0.0\n",
            "t6   0.0  0.0  0.0\n",
            "t7   0.0  0.0  0.0\n",
            "t8   0.0  0.0  0.0\n",
            "t9   0.0  0.0  0.0\n",
            "t10  0.0  0.0  0.0\n",
            "t11  0.0  0.0  0.0\n",
            "t12  0.0  0.0  0.0\n",
            "t13  0.0  0.0  0.0\n",
            "t14  0.0  0.0  0.0\n",
            "t15  0.0  0.0  0.0\n",
            "t16  0.0  0.0  0.0\n",
            "t17  0.0  0.0  0.0\n",
            "t18  0.0  0.0  0.0\n",
            "t19  0.0  0.0  0.0\n",
            "t20  0.0  0.0  0.0\n",
            "t21  0.0  0.0  0.0\n",
            "t22  0.0  0.0  0.0\n",
            "t23  0.0  0.0  0.0\n"
          ],
          "name": "stdout"
        },
        {
          "output_type": "error",
          "ename": "NameError",
          "evalue": "ignored",
          "traceback": [
            "\u001b[0;31m---------------------------------------------------------------------------\u001b[0m",
            "\u001b[0;31mNameError\u001b[0m                                 Traceback (most recent call last)",
            "\u001b[0;32m<ipython-input-62-f6e98848e3f0>\u001b[0m in \u001b[0;36m<module>\u001b[0;34m()\u001b[0m\n\u001b[1;32m     20\u001b[0m \u001b[0mprint\u001b[0m\u001b[0;34m(\u001b[0m\u001b[0;34m'=============================='\u001b[0m\u001b[0;34m)\u001b[0m\u001b[0;34m\u001b[0m\u001b[0;34m\u001b[0m\u001b[0m\n\u001b[1;32m     21\u001b[0m \u001b[0mprint\u001b[0m\u001b[0;34m(\u001b[0m\u001b[0mshd\u001b[0m\u001b[0;34m)\u001b[0m\u001b[0;34m\u001b[0m\u001b[0;34m\u001b[0m\u001b[0m\n\u001b[0;32m---> 22\u001b[0;31m \u001b[0mspl\u001b[0m \u001b[0;34m=\u001b[0m \u001b[0mpd\u001b[0m\u001b[0;34m.\u001b[0m\u001b[0mDataFrame\u001b[0m\u001b[0;34m(\u001b[0m\u001b[0;34m[\u001b[0m\u001b[0;34m[\u001b[0m\u001b[0mround\u001b[0m\u001b[0;34m(\u001b[0m\u001b[0mm\u001b[0m\u001b[0;34m.\u001b[0m\u001b[0mspl\u001b[0m\u001b[0;34m[\u001b[0m\u001b[0ml\u001b[0m\u001b[0;34m,\u001b[0m\u001b[0mt\u001b[0m\u001b[0;34m]\u001b[0m\u001b[0;34m.\u001b[0m\u001b[0mvalue\u001b[0m\u001b[0;34m,\u001b[0m\u001b[0;36m2\u001b[0m\u001b[0;34m)\u001b[0m \u001b[0;32mfor\u001b[0m \u001b[0mb\u001b[0m \u001b[0;32min\u001b[0m \u001b[0mm\u001b[0m\u001b[0;34m.\u001b[0m\u001b[0mb\u001b[0m\u001b[0;34m]\u001b[0m \u001b[0;32mfor\u001b[0m \u001b[0mt\u001b[0m \u001b[0;32min\u001b[0m \u001b[0mm\u001b[0m\u001b[0;34m.\u001b[0m\u001b[0mt\u001b[0m\u001b[0;34m]\u001b[0m\u001b[0;34m,\u001b[0m\u001b[0mindex\u001b[0m\u001b[0;34m=\u001b[0m\u001b[0;34m[\u001b[0m\u001b[0;34m't'\u001b[0m\u001b[0;34m+\u001b[0m\u001b[0mstr\u001b[0m\u001b[0;34m(\u001b[0m\u001b[0mi\u001b[0m\u001b[0;34m)\u001b[0m \u001b[0;32mfor\u001b[0m \u001b[0mi\u001b[0m \u001b[0;32min\u001b[0m \u001b[0mrange\u001b[0m\u001b[0;34m(\u001b[0m\u001b[0mnt\u001b[0m\u001b[0;34m)\u001b[0m\u001b[0;34m]\u001b[0m\u001b[0;34m,\u001b[0m\u001b[0mcolumns\u001b[0m\u001b[0;34m=\u001b[0m\u001b[0;34m[\u001b[0m\u001b[0;34m'l'\u001b[0m\u001b[0;34m+\u001b[0m\u001b[0mstr\u001b[0m\u001b[0;34m(\u001b[0m\u001b[0mi\u001b[0m\u001b[0;34m)\u001b[0m \u001b[0;32mfor\u001b[0m \u001b[0mi\u001b[0m \u001b[0;32min\u001b[0m \u001b[0mrange\u001b[0m\u001b[0;34m(\u001b[0m\u001b[0mnb\u001b[0m\u001b[0;34m)\u001b[0m\u001b[0;34m]\u001b[0m\u001b[0;34m)\u001b[0m\u001b[0;34m\u001b[0m\u001b[0;34m\u001b[0m\u001b[0m\n\u001b[0m\u001b[1;32m     23\u001b[0m \u001b[0mprint\u001b[0m\u001b[0;34m(\u001b[0m\u001b[0;34m'=============================='\u001b[0m\u001b[0;34m)\u001b[0m\u001b[0;34m\u001b[0m\u001b[0;34m\u001b[0m\u001b[0m\n\u001b[1;32m     24\u001b[0m \u001b[0mprint\u001b[0m\u001b[0;34m(\u001b[0m\u001b[0;34m'Wind spillage'\u001b[0m\u001b[0;34m)\u001b[0m\u001b[0;34m\u001b[0m\u001b[0;34m\u001b[0m\u001b[0m\n",
            "\u001b[0;32m<ipython-input-62-f6e98848e3f0>\u001b[0m in \u001b[0;36m<listcomp>\u001b[0;34m(.0)\u001b[0m\n\u001b[1;32m     20\u001b[0m \u001b[0mprint\u001b[0m\u001b[0;34m(\u001b[0m\u001b[0;34m'=============================='\u001b[0m\u001b[0;34m)\u001b[0m\u001b[0;34m\u001b[0m\u001b[0;34m\u001b[0m\u001b[0m\n\u001b[1;32m     21\u001b[0m \u001b[0mprint\u001b[0m\u001b[0;34m(\u001b[0m\u001b[0mshd\u001b[0m\u001b[0;34m)\u001b[0m\u001b[0;34m\u001b[0m\u001b[0;34m\u001b[0m\u001b[0m\n\u001b[0;32m---> 22\u001b[0;31m \u001b[0mspl\u001b[0m \u001b[0;34m=\u001b[0m \u001b[0mpd\u001b[0m\u001b[0;34m.\u001b[0m\u001b[0mDataFrame\u001b[0m\u001b[0;34m(\u001b[0m\u001b[0;34m[\u001b[0m\u001b[0;34m[\u001b[0m\u001b[0mround\u001b[0m\u001b[0;34m(\u001b[0m\u001b[0mm\u001b[0m\u001b[0;34m.\u001b[0m\u001b[0mspl\u001b[0m\u001b[0;34m[\u001b[0m\u001b[0ml\u001b[0m\u001b[0;34m,\u001b[0m\u001b[0mt\u001b[0m\u001b[0;34m]\u001b[0m\u001b[0;34m.\u001b[0m\u001b[0mvalue\u001b[0m\u001b[0;34m,\u001b[0m\u001b[0;36m2\u001b[0m\u001b[0;34m)\u001b[0m \u001b[0;32mfor\u001b[0m \u001b[0mb\u001b[0m \u001b[0;32min\u001b[0m \u001b[0mm\u001b[0m\u001b[0;34m.\u001b[0m\u001b[0mb\u001b[0m\u001b[0;34m]\u001b[0m \u001b[0;32mfor\u001b[0m \u001b[0mt\u001b[0m \u001b[0;32min\u001b[0m \u001b[0mm\u001b[0m\u001b[0;34m.\u001b[0m\u001b[0mt\u001b[0m\u001b[0;34m]\u001b[0m\u001b[0;34m,\u001b[0m\u001b[0mindex\u001b[0m\u001b[0;34m=\u001b[0m\u001b[0;34m[\u001b[0m\u001b[0;34m't'\u001b[0m\u001b[0;34m+\u001b[0m\u001b[0mstr\u001b[0m\u001b[0;34m(\u001b[0m\u001b[0mi\u001b[0m\u001b[0;34m)\u001b[0m \u001b[0;32mfor\u001b[0m \u001b[0mi\u001b[0m \u001b[0;32min\u001b[0m \u001b[0mrange\u001b[0m\u001b[0;34m(\u001b[0m\u001b[0mnt\u001b[0m\u001b[0;34m)\u001b[0m\u001b[0;34m]\u001b[0m\u001b[0;34m,\u001b[0m\u001b[0mcolumns\u001b[0m\u001b[0;34m=\u001b[0m\u001b[0;34m[\u001b[0m\u001b[0;34m'l'\u001b[0m\u001b[0;34m+\u001b[0m\u001b[0mstr\u001b[0m\u001b[0;34m(\u001b[0m\u001b[0mi\u001b[0m\u001b[0;34m)\u001b[0m \u001b[0;32mfor\u001b[0m \u001b[0mi\u001b[0m \u001b[0;32min\u001b[0m \u001b[0mrange\u001b[0m\u001b[0;34m(\u001b[0m\u001b[0mnb\u001b[0m\u001b[0;34m)\u001b[0m\u001b[0;34m]\u001b[0m\u001b[0;34m)\u001b[0m\u001b[0;34m\u001b[0m\u001b[0;34m\u001b[0m\u001b[0m\n\u001b[0m\u001b[1;32m     23\u001b[0m \u001b[0mprint\u001b[0m\u001b[0;34m(\u001b[0m\u001b[0;34m'=============================='\u001b[0m\u001b[0;34m)\u001b[0m\u001b[0;34m\u001b[0m\u001b[0;34m\u001b[0m\u001b[0m\n\u001b[1;32m     24\u001b[0m \u001b[0mprint\u001b[0m\u001b[0;34m(\u001b[0m\u001b[0;34m'Wind spillage'\u001b[0m\u001b[0;34m)\u001b[0m\u001b[0;34m\u001b[0m\u001b[0;34m\u001b[0m\u001b[0m\n",
            "\u001b[0;32m<ipython-input-62-f6e98848e3f0>\u001b[0m in \u001b[0;36m<listcomp>\u001b[0;34m(.0)\u001b[0m\n\u001b[1;32m     20\u001b[0m \u001b[0mprint\u001b[0m\u001b[0;34m(\u001b[0m\u001b[0;34m'=============================='\u001b[0m\u001b[0;34m)\u001b[0m\u001b[0;34m\u001b[0m\u001b[0;34m\u001b[0m\u001b[0m\n\u001b[1;32m     21\u001b[0m \u001b[0mprint\u001b[0m\u001b[0;34m(\u001b[0m\u001b[0mshd\u001b[0m\u001b[0;34m)\u001b[0m\u001b[0;34m\u001b[0m\u001b[0;34m\u001b[0m\u001b[0m\n\u001b[0;32m---> 22\u001b[0;31m \u001b[0mspl\u001b[0m \u001b[0;34m=\u001b[0m \u001b[0mpd\u001b[0m\u001b[0;34m.\u001b[0m\u001b[0mDataFrame\u001b[0m\u001b[0;34m(\u001b[0m\u001b[0;34m[\u001b[0m\u001b[0;34m[\u001b[0m\u001b[0mround\u001b[0m\u001b[0;34m(\u001b[0m\u001b[0mm\u001b[0m\u001b[0;34m.\u001b[0m\u001b[0mspl\u001b[0m\u001b[0;34m[\u001b[0m\u001b[0ml\u001b[0m\u001b[0;34m,\u001b[0m\u001b[0mt\u001b[0m\u001b[0;34m]\u001b[0m\u001b[0;34m.\u001b[0m\u001b[0mvalue\u001b[0m\u001b[0;34m,\u001b[0m\u001b[0;36m2\u001b[0m\u001b[0;34m)\u001b[0m \u001b[0;32mfor\u001b[0m \u001b[0mb\u001b[0m \u001b[0;32min\u001b[0m \u001b[0mm\u001b[0m\u001b[0;34m.\u001b[0m\u001b[0mb\u001b[0m\u001b[0;34m]\u001b[0m \u001b[0;32mfor\u001b[0m \u001b[0mt\u001b[0m \u001b[0;32min\u001b[0m \u001b[0mm\u001b[0m\u001b[0;34m.\u001b[0m\u001b[0mt\u001b[0m\u001b[0;34m]\u001b[0m\u001b[0;34m,\u001b[0m\u001b[0mindex\u001b[0m\u001b[0;34m=\u001b[0m\u001b[0;34m[\u001b[0m\u001b[0;34m't'\u001b[0m\u001b[0;34m+\u001b[0m\u001b[0mstr\u001b[0m\u001b[0;34m(\u001b[0m\u001b[0mi\u001b[0m\u001b[0;34m)\u001b[0m \u001b[0;32mfor\u001b[0m \u001b[0mi\u001b[0m \u001b[0;32min\u001b[0m \u001b[0mrange\u001b[0m\u001b[0;34m(\u001b[0m\u001b[0mnt\u001b[0m\u001b[0;34m)\u001b[0m\u001b[0;34m]\u001b[0m\u001b[0;34m,\u001b[0m\u001b[0mcolumns\u001b[0m\u001b[0;34m=\u001b[0m\u001b[0;34m[\u001b[0m\u001b[0;34m'l'\u001b[0m\u001b[0;34m+\u001b[0m\u001b[0mstr\u001b[0m\u001b[0;34m(\u001b[0m\u001b[0mi\u001b[0m\u001b[0;34m)\u001b[0m \u001b[0;32mfor\u001b[0m \u001b[0mi\u001b[0m \u001b[0;32min\u001b[0m \u001b[0mrange\u001b[0m\u001b[0;34m(\u001b[0m\u001b[0mnb\u001b[0m\u001b[0;34m)\u001b[0m\u001b[0;34m]\u001b[0m\u001b[0;34m)\u001b[0m\u001b[0;34m\u001b[0m\u001b[0;34m\u001b[0m\u001b[0m\n\u001b[0m\u001b[1;32m     23\u001b[0m \u001b[0mprint\u001b[0m\u001b[0;34m(\u001b[0m\u001b[0;34m'=============================='\u001b[0m\u001b[0;34m)\u001b[0m\u001b[0;34m\u001b[0m\u001b[0;34m\u001b[0m\u001b[0m\n\u001b[1;32m     24\u001b[0m \u001b[0mprint\u001b[0m\u001b[0;34m(\u001b[0m\u001b[0;34m'Wind spillage'\u001b[0m\u001b[0;34m)\u001b[0m\u001b[0;34m\u001b[0m\u001b[0;34m\u001b[0m\u001b[0m\n",
            "\u001b[0;31mNameError\u001b[0m: name 'l' is not defined"
          ]
        }
      ]
    }
  ]
}