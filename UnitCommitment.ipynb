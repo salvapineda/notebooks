{
  "nbformat": 4,
  "nbformat_minor": 0,
  "metadata": {
    "colab": {
      "name": "UnitCommitment.ipynb",
      "provenance": [],
      "authorship_tag": "ABX9TyPNMtgeslP4O9cKtp+UDeY5",
      "include_colab_link": true
    },
    "kernelspec": {
      "name": "python3",
      "display_name": "Python 3"
    }
  },
  "cells": [
    {
      "cell_type": "markdown",
      "metadata": {
        "id": "view-in-github",
        "colab_type": "text"
      },
      "source": [
        "<a href=\"https://colab.research.google.com/github/salvapineda/notebooks/blob/main/UnitCommitment.ipynb\" target=\"_parent\"><img src=\"https://colab.research.google.com/assets/colab-badge.svg\" alt=\"Open In Colab\"/></a>"
      ]
    },
    {
      "cell_type": "markdown",
      "metadata": {
        "id": "ZIEfHxwno5u5"
      },
      "source": [
        "# Unit Commitment in Python"
      ]
    },
    {
      "cell_type": "markdown",
      "metadata": {
        "id": "-1vOQpFioj3O"
      },
      "source": [
        "## Requirements"
      ]
    },
    {
      "cell_type": "code",
      "metadata": {
        "colab": {
          "base_uri": "https://localhost:8080/"
        },
        "id": "OHOKuwI6UisB",
        "outputId": "b3d5c29c-af10-4272-df1e-aec2f01e0530"
      },
      "source": [
        "!pip install pyomo\n",
        "import os\n",
        "import pandas as pd\n",
        "import numpy as np\n",
        "import pyomo.environ as pe"
      ],
      "execution_count": 1,
      "outputs": [
        {
          "output_type": "stream",
          "text": [
            "Collecting pyomo\n",
            "\u001b[?25l  Downloading https://files.pythonhosted.org/packages/f5/3d/17250365ad9c1dd19389a260871b66fbd1ba18df3bf74ed25eef07e1a8cc/Pyomo-5.7.3-cp36-cp36m-manylinux2010_x86_64.whl (9.5MB)\n",
            "\u001b[K     |████████████████████████████████| 9.5MB 6.7MB/s \n",
            "\u001b[?25hRequirement already satisfied: six>=1.4 in /usr/local/lib/python3.6/dist-packages (from pyomo) (1.15.0)\n",
            "Collecting PyUtilib>=6.0.0\n",
            "\u001b[?25l  Downloading https://files.pythonhosted.org/packages/e1/e7/c3e5994b4e5c90280b5c14ffef409875ec5436d1d0d9f8585794993a7d77/PyUtilib-6.0.0-py2.py3-none-any.whl (254kB)\n",
            "\u001b[K     |████████████████████████████████| 256kB 42.8MB/s \n",
            "\u001b[?25hCollecting ply\n",
            "\u001b[?25l  Downloading https://files.pythonhosted.org/packages/a3/58/35da89ee790598a0700ea49b2a66594140f44dec458c07e8e3d4979137fc/ply-3.11-py2.py3-none-any.whl (49kB)\n",
            "\u001b[K     |████████████████████████████████| 51kB 5.8MB/s \n",
            "\u001b[?25hCollecting nose\n",
            "\u001b[?25l  Downloading https://files.pythonhosted.org/packages/15/d8/dd071918c040f50fa1cf80da16423af51ff8ce4a0f2399b7bf8de45ac3d9/nose-1.3.7-py3-none-any.whl (154kB)\n",
            "\u001b[K     |████████████████████████████████| 163kB 38.7MB/s \n",
            "\u001b[?25hInstalling collected packages: nose, PyUtilib, ply, pyomo\n",
            "Successfully installed PyUtilib-6.0.0 nose-1.3.7 ply-3.11 pyomo-5.7.3\n"
          ],
          "name": "stdout"
        }
      ]
    },
    {
      "cell_type": "markdown",
      "metadata": {
        "id": "o4jSX0peop7j"
      },
      "source": [
        "## Input Data"
      ]
    },
    {
      "cell_type": "code",
      "metadata": {
        "colab": {
          "base_uri": "https://localhost:8080/",
          "height": 532
        },
        "id": "sLj2JfYhTWyT",
        "outputId": "36b5e64c-d666-4b42-ea39-2d657f8a10ea"
      },
      "source": [
        "print('==============================')\n",
        "print('Unit data')\n",
        "print('==============================')\n",
        "data_gen = [[0,0.1,10,0,400],[1,0.1,20,0,400]]\n",
        "ng = len(data_gen)\n",
        "gen = pd.DataFrame(data_gen,index=['g'+str(i) for i in range(ng)],columns=['bus','a','b','min','max'])\n",
        "print(gen)\n",
        "print('==============================')\n",
        "print('Line data')\n",
        "print('==============================')\n",
        "data_lin = [[0,1,1,1000],[0,2,2,70],[1,2,3,1000]]\n",
        "nl = len(data_lin)\n",
        "lin = pd.DataFrame(data_lin,index=['l'+str(i) for i in range(nl)],columns=['from','to','sus','cap'])\n",
        "print(lin)\n",
        "print('==============================')\n",
        "print('Demand data')\n",
        "print('==============================')\n",
        "data_dem = [[49.4, 105.81, 0.0], [146.81, 159.56, 0.0], [104.2, 148.69, 0.0], [222.75, 134.48, 0.0], [61.84, 163.19, 0.0], [65.81, 102.29, 0.0], \n",
        "            [177.4, 160.33, 0.0], [9.66, 136.83, 0.0], [29.6, 141.61, 0.0], [186.57, 161.3, 0.0], [127.28, 115.28, 0.0], [248.79, 141.13, 0.0], \n",
        "            [46.01, 114.35, 0.0], [148.17, 117.66, 0.0], [131.89, 153.54, 0.0], [75.98, 165.17, 0.0], [184.68, 129.26, 0.0], [102.42, 156.23, 0.0],\n",
        "            [89.28, 176.49, 0.0], [183.79, 148.23, 0.0], [111.95, 158.81, 0.0], [61.15, 102.98, 0.0], [174.65, 107.03, 0.0], [168.12, 124.58, 0.0]]\n",
        "dem = pd.DataFrame(data_dem,index=['t'+str(i) for i in range(nt)],columns=['b'+str(i) for i in range(nb)])\n",
        "print(dem)\n",
        "print('==============================')\n",
        "print('Renewable data')\n",
        "print('==============================')\n",
        "data_ren = [[0.0, 0.0, 39.07], [0.0, 0.0, 24.72], [0.0, 0.0, 22.42], [0.0, 0.0, 39.75], [0.0, 0.0, 43.6], [0.0, 0.0, 21.09], [0.0, 0.0, 37.59], \n",
        "            [0.0, 0.0, 41.89], [0.0, 0.0, 26.53], [0.0, 0.0, 41.02], [0.0, 0.0, 15.55], [0.0, 0.0, 7.09], [0.0, 0.0, 38.47], [0.0, 0.0, 29.11], \n",
        "            [0.0, 0.0, 9.49], [0.0, 0.0, 24.97], [0.0, 0.0, 34.4], [0.0, 0.0, 23.69], [0.0, 0.0, 26.87], [0.0, 0.0, 0.37], [0.0, 0.0, 11.89], \n",
        "            [0.0, 0.0, 34.84], [0.0, 0.0, 39.26], [0.0, 0.0, 33.43]]\n",
        "nt = len(data_ren)\n",
        "nb = len(data_ren[0])\n",
        "ren = pd.DataFrame(data_ren,index=['t'+str(i) for i in range(nt)],columns=['b'+str(i) for i in range(nb)])\n",
        "print(ren)"
      ],
      "execution_count": 2,
      "outputs": [
        {
          "output_type": "stream",
          "text": [
            "==============================\n",
            "Unit data\n",
            "==============================\n",
            "    bus    a   b  min  max\n",
            "g0    0  0.1  10    0  400\n",
            "g1    1  0.1  20    0  400\n",
            "==============================\n",
            "Line data\n",
            "==============================\n",
            "    from  to  sus   cap\n",
            "l0     0   1    1  1000\n",
            "l1     0   2    2    70\n",
            "l2     1   2    3  1000\n",
            "==============================\n",
            "Demand data\n",
            "==============================\n"
          ],
          "name": "stdout"
        },
        {
          "output_type": "error",
          "ename": "NameError",
          "evalue": "ignored",
          "traceback": [
            "\u001b[0;31m---------------------------------------------------------------------------\u001b[0m",
            "\u001b[0;31mNameError\u001b[0m                                 Traceback (most recent call last)",
            "\u001b[0;32m<ipython-input-2-15b1d81cae7c>\u001b[0m in \u001b[0;36m<module>\u001b[0;34m()\u001b[0m\n\u001b[1;32m     20\u001b[0m             \u001b[0;34m[\u001b[0m\u001b[0;36m46.01\u001b[0m\u001b[0;34m,\u001b[0m \u001b[0;36m114.35\u001b[0m\u001b[0;34m,\u001b[0m \u001b[0;36m0.0\u001b[0m\u001b[0;34m]\u001b[0m\u001b[0;34m,\u001b[0m \u001b[0;34m[\u001b[0m\u001b[0;36m148.17\u001b[0m\u001b[0;34m,\u001b[0m \u001b[0;36m117.66\u001b[0m\u001b[0;34m,\u001b[0m \u001b[0;36m0.0\u001b[0m\u001b[0;34m]\u001b[0m\u001b[0;34m,\u001b[0m \u001b[0;34m[\u001b[0m\u001b[0;36m131.89\u001b[0m\u001b[0;34m,\u001b[0m \u001b[0;36m153.54\u001b[0m\u001b[0;34m,\u001b[0m \u001b[0;36m0.0\u001b[0m\u001b[0;34m]\u001b[0m\u001b[0;34m,\u001b[0m \u001b[0;34m[\u001b[0m\u001b[0;36m75.98\u001b[0m\u001b[0;34m,\u001b[0m \u001b[0;36m165.17\u001b[0m\u001b[0;34m,\u001b[0m \u001b[0;36m0.0\u001b[0m\u001b[0;34m]\u001b[0m\u001b[0;34m,\u001b[0m \u001b[0;34m[\u001b[0m\u001b[0;36m184.68\u001b[0m\u001b[0;34m,\u001b[0m \u001b[0;36m129.26\u001b[0m\u001b[0;34m,\u001b[0m \u001b[0;36m0.0\u001b[0m\u001b[0;34m]\u001b[0m\u001b[0;34m,\u001b[0m \u001b[0;34m[\u001b[0m\u001b[0;36m102.42\u001b[0m\u001b[0;34m,\u001b[0m \u001b[0;36m156.23\u001b[0m\u001b[0;34m,\u001b[0m \u001b[0;36m0.0\u001b[0m\u001b[0;34m]\u001b[0m\u001b[0;34m,\u001b[0m\u001b[0;34m\u001b[0m\u001b[0;34m\u001b[0m\u001b[0m\n\u001b[1;32m     21\u001b[0m             [89.28, 176.49, 0.0], [183.79, 148.23, 0.0], [111.95, 158.81, 0.0], [61.15, 102.98, 0.0], [174.65, 107.03, 0.0], [168.12, 124.58, 0.0]]\n\u001b[0;32m---> 22\u001b[0;31m \u001b[0mdem\u001b[0m \u001b[0;34m=\u001b[0m \u001b[0mpd\u001b[0m\u001b[0;34m.\u001b[0m\u001b[0mDataFrame\u001b[0m\u001b[0;34m(\u001b[0m\u001b[0mdata_dem\u001b[0m\u001b[0;34m,\u001b[0m\u001b[0mindex\u001b[0m\u001b[0;34m=\u001b[0m\u001b[0;34m[\u001b[0m\u001b[0;34m't'\u001b[0m\u001b[0;34m+\u001b[0m\u001b[0mstr\u001b[0m\u001b[0;34m(\u001b[0m\u001b[0mi\u001b[0m\u001b[0;34m)\u001b[0m \u001b[0;32mfor\u001b[0m \u001b[0mi\u001b[0m \u001b[0;32min\u001b[0m \u001b[0mrange\u001b[0m\u001b[0;34m(\u001b[0m\u001b[0mnt\u001b[0m\u001b[0;34m)\u001b[0m\u001b[0;34m]\u001b[0m\u001b[0;34m,\u001b[0m\u001b[0mcolumns\u001b[0m\u001b[0;34m=\u001b[0m\u001b[0;34m[\u001b[0m\u001b[0;34m'b'\u001b[0m\u001b[0;34m+\u001b[0m\u001b[0mstr\u001b[0m\u001b[0;34m(\u001b[0m\u001b[0mi\u001b[0m\u001b[0;34m)\u001b[0m \u001b[0;32mfor\u001b[0m \u001b[0mi\u001b[0m \u001b[0;32min\u001b[0m \u001b[0mrange\u001b[0m\u001b[0;34m(\u001b[0m\u001b[0mnb\u001b[0m\u001b[0;34m)\u001b[0m\u001b[0;34m]\u001b[0m\u001b[0;34m)\u001b[0m\u001b[0;34m\u001b[0m\u001b[0;34m\u001b[0m\u001b[0m\n\u001b[0m\u001b[1;32m     23\u001b[0m \u001b[0mprint\u001b[0m\u001b[0;34m(\u001b[0m\u001b[0mdem\u001b[0m\u001b[0;34m)\u001b[0m\u001b[0;34m\u001b[0m\u001b[0;34m\u001b[0m\u001b[0m\n\u001b[1;32m     24\u001b[0m \u001b[0mprint\u001b[0m\u001b[0;34m(\u001b[0m\u001b[0;34m'=============================='\u001b[0m\u001b[0;34m)\u001b[0m\u001b[0;34m\u001b[0m\u001b[0;34m\u001b[0m\u001b[0m\n",
            "\u001b[0;31mNameError\u001b[0m: name 'nt' is not defined"
          ]
        }
      ]
    },
    {
      "cell_type": "markdown",
      "metadata": {
        "id": "HS_EfbXuowM9"
      },
      "source": [
        "## Solving Unit Commitment"
      ]
    },
    {
      "cell_type": "code",
      "metadata": {
        "id": "HdyhOqpGWMfC"
      },
      "source": [
        "# Model\n",
        "m = pe.ConcreteModel()\n",
        "# Sets\n",
        "m.g = pe.Set(initialize=list(range(ng)),ordered=True)\n",
        "m.l = pe.Set(initialize=list(range(nl)),ordered=True)\n",
        "m.b = pe.Set(initialize=list(range(nb)),ordered=True)\n",
        "m.t = pe.Set(initialize=list(range(nt)),ordered=True)\n",
        "# Variables\n",
        "m.z = pe.Var()\n",
        "m.pro = pe.Var(m.g,m.t,within=pe.NonNegativeReals)\n",
        "m.u = pe.Var(m.g,m.t,within=pe.Binary)\n",
        "m.shd = pe.Var(m.b,m.t,within=pe.NonNegativeReals)\n",
        "m.spl = pe.Var(m.b,m.t,within=pe.NonNegativeReals)\n",
        "m.ang = pe.Var(m.b,m.t)\n",
        "m.flw = pe.Var(m.l,m.t)\n",
        "# Objective function\n",
        "def obj_rule(m):\n",
        "  return m.z\n",
        "m.obj = pe.Objective(rule=obj_rule)\n",
        "# Definition cost\n",
        "def cost_def_rule(m):\n",
        "  return m.z == sum(gen['a'][g]*m.pro[g,t]*m.pro[g,t] + gen['b'][g]*m.pro[g,t] for g in m.g for t in m.t) + sum(cs*m.shd[b,t] for b in m.b for t in m.t)\n",
        "m.cost_def = pe.Constraint(rule=cost_def_rule)\n",
        "# Energy balance\n",
        "def bal_rule(m,b,t):\n",
        "  return sum(m.pro[g,t] for g in m.g if gen['bus'][g] == b) + ren.iloc[t,b] + m.shd[b,t] + sum(m.flw[l,t] for l in m.l if lin['to'][l] == b) == dem.iloc[t,b] + m.spl[b,t] + sum(m.flw[l,t] for l in m.l if lin['from'][l] == b)\n",
        "m.bal = pe.Constraint(m.b, m.t, rule=bal_rule)\n",
        "# Minimum generation\n",
        "def min_gen_rule(m,g,t):\n",
        "  return m.pro[g,t] >= m.u[g,t]*gen['min'][g]\n",
        "m.min_gen = pe.Constraint(m.g, m.t, rule=min_gen_rule)\n",
        "# Maximum generation\n",
        "def max_gen_rule(m,g,t):\n",
        "  return m.pro[g,t] <= m.u[g,t]*gen['max'][g]\n",
        "m.max_gen = pe.Constraint(m.g, m.t, rule=max_gen_rule)\n",
        "# Maximum spilage\n",
        "def max_spil_rule(m,b,t):\n",
        "  return m.spl[b,t] <= ren.iloc[t,b]\n",
        "m.max_spil = pe.Constraint(m.b, m.t, rule=max_spil_rule)\n",
        "# Maximum shedding\n",
        "def max_shed_rule(m,b,t):\n",
        "  return m.shd[b,t] <= dem.iloc[t,b]\n",
        "m.max_shed = pe.Constraint(m.b, m.t, rule=max_shed_rule)\n",
        "# Power flow definition\n",
        "def flow_rule(m,l,t):\n",
        "  return m.flw[l,t] == lin['sus'][l]*(m.ang[lin['from'][l],t] - m.ang[lin['to'][l],t])\n",
        "m.flow = pe.Constraint(m.l, m.t, rule=flow_rule)\n",
        "# Max power flow\n",
        "def max_flow_rule(m,l,t):\n",
        "  return m.flw[l,t] <= lin['cap'][l]\n",
        "m.max_flow = pe.Constraint(m.l, m.t, rule=max_flow_rule)\n",
        "# Min power flow\n",
        "def min_flow_rule(m,l,t):\n",
        "  return m.flw[l,t] >= -lin['cap'][l]\n",
        "m.min_flow = pe.Constraint(m.l, m.t, rule=min_flow_rule)\n",
        "# We solve the optimization problem\n",
        "os.environ['NEOS_EMAIL'] = 'xxx@gmail.com'\n",
        "solver_manager = pe.SolverManagerFactory('neos')\n",
        "opt = pe.SolverFactory('cplex')\n",
        "opt.options['threads'] = 1\n",
        "opt.options['mipgap'] = 1e-9\n",
        "res = solver_manager.solve(m,opt=opt,symbolic_solver_labels=True,tee=True)\n",
        "print(res['Solver'][0])"
      ],
      "execution_count": null,
      "outputs": []
    },
    {
      "cell_type": "markdown",
      "metadata": {
        "id": "5zEAqcOEo0NV"
      },
      "source": [
        "## Solution Output"
      ]
    },
    {
      "cell_type": "code",
      "metadata": {
        "id": "iSp-Sn1AmVxd"
      },
      "source": [
        "# Print output\n",
        "print('==============================')\n",
        "print('Unit commitment')\n",
        "print('==============================')\n",
        "u = pd.DataFrame([[round(m.u[g,t].value,2) for g in m.g] for t in m.t],index=['t'+str(i) for i in range(nt)],columns=['g'+str(i) for i in range(ng)])\n",
        "print(u)\n",
        "pro = pd.DataFrame([[round(m.pro[g,t].value,2) for g in m.g] for t in m.t],index=['t'+str(i) for i in range(nt)],columns=['g'+str(i) for i in range(ng)])\n",
        "print('==============================')\n",
        "print('Unit production')\n",
        "print('==============================')\n",
        "print(pro)\n",
        "flw = pd.DataFrame([[round(m.flw[l,t].value,2) for l in m.l] for t in m.t],index=['t'+str(i) for i in range(nt)],columns=['l'+str(i) for i in range(nl)])\n",
        "print('==============================')\n",
        "print('Power flows')\n",
        "print('==============================')\n",
        "print(flw)\n",
        "shd = pd.DataFrame([[round(m.shd[b,t].value,2) for b in m.b] for t in m.t],index=['t'+str(i) for i in range(nt)],columns=['l'+str(i) for i in range(nb)])\n",
        "print('==============================')\n",
        "print('Load shedding')\n",
        "print('==============================')\n",
        "print(shd)\n",
        "spl = pd.DataFrame([[round(m.spl[l,t].value,2) for b in m.b] for t in m.t],index=['t'+str(i) for i in range(nt)],columns=['l'+str(i) for i in range(nb)])\n",
        "print('==============================')\n",
        "print('Wind spillage')\n",
        "print('==============================')\n",
        "print(spl)"
      ],
      "execution_count": null,
      "outputs": []
    }
  ]
}