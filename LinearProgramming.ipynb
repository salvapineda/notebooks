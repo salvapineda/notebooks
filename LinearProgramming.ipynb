{
  "nbformat": 4,
  "nbformat_minor": 0,
  "metadata": {
    "colab": {
      "name": "LinearProgramming.ipynb",
      "provenance": [],
      "authorship_tag": "ABX9TyPuRbUJen6tlDh5U7loEKtl",
      "include_colab_link": true
    },
    "kernelspec": {
      "name": "python3",
      "display_name": "Python 3"
    }
  },
  "cells": [
    {
      "cell_type": "markdown",
      "metadata": {
        "id": "view-in-github",
        "colab_type": "text"
      },
      "source": [
        "<a href=\"https://colab.research.google.com/github/salvapineda/notebooks/blob/main/LinearProgramming.ipynb\" target=\"_parent\"><img src=\"https://colab.research.google.com/assets/colab-badge.svg\" alt=\"Open In Colab\"/></a>"
      ]
    },
    {
      "cell_type": "markdown",
      "metadata": {
        "id": "vjSEzfYjDcXK"
      },
      "source": [
        "# Linear Programming in Python\n",
        "\n",
        "This notebook compares different alternatives to solve optimization problems in Python\n",
        "\n",
        "We solve a standard linear programming problem of the form\n",
        "\n",
        "```\n",
        "min  c*x\n",
        "s.t. A*x <= b\n",
        "     x >= 0\n",
        "```"
      ]
    },
    {
      "cell_type": "markdown",
      "metadata": {
        "id": "PpXaM39N_dLj"
      },
      "source": [
        "## Import basic packages"
      ]
    },
    {
      "cell_type": "code",
      "metadata": {
        "id": "Dj9hYeXY8PFw"
      },
      "source": [
        "# Import \n",
        "import os\n",
        "import numpy as np\n",
        "import pandas as pd"
      ],
      "execution_count": 45,
      "outputs": []
    },
    {
      "cell_type": "markdown",
      "metadata": {
        "id": "BT3FQmJt_gin"
      },
      "source": [
        "## Create random vectors and matrix of linear problem"
      ]
    },
    {
      "cell_type": "code",
      "metadata": {
        "id": "P5Areoe857kc"
      },
      "source": [
        "# Import\n",
        "import random\n",
        "# Number of variables and constraints\n",
        "nvar = 10\n",
        "ncon = 5\n",
        "# Random vectors and matrix of linear problem\n",
        "c = [round(abs(random.gauss(0,1)),2) for i in range(nvar)]\n",
        "A = [[round(random.gauss(0,1),2) for i in range(nvar)] for j in range(ncon)]\n",
        "b = [round(random.gauss(0,1),2) for j in range(ncon)]"
      ],
      "execution_count": 46,
      "outputs": []
    },
    {
      "cell_type": "markdown",
      "metadata": {
        "id": "cBRj109D_m6N"
      },
      "source": [
        "## Solve linear problem using SCIPY"
      ]
    },
    {
      "cell_type": "code",
      "metadata": {
        "colab": {
          "base_uri": "https://localhost:8080/"
        },
        "id": "i1RuqhGs6SKS",
        "outputId": "a34f9b40-4743-48cb-ba7a-d00f6d620346"
      },
      "source": [
        "# Import\n",
        "from scipy.optimize import linprog\n",
        "# Solve problem\n",
        "res = linprog(c, A_ub=A, b_ub=b)\n",
        "# Print results\n",
        "print(res)"
      ],
      "execution_count": 47,
      "outputs": [
        {
          "output_type": "stream",
          "text": [
            "     con: array([], dtype=float64)\n",
            "     fun: 0.2783561784705329\n",
            " message: 'Optimization terminated successfully.'\n",
            "     nit: 6\n",
            "   slack: array([4.69118725e+00, 3.54852459e-09, 2.33652944e-01, 2.55927485e-08,\n",
            "       1.45757996e+00])\n",
            "  status: 0\n",
            " success: True\n",
            "       x: array([4.54300147e-10, 1.41552515e+00, 1.35616438e+00, 7.29481261e-10,\n",
            "       1.74503854e-09, 1.00451776e-09, 1.42214492e-09, 7.28699108e-10,\n",
            "       2.11997761e-09, 1.16566039e-09])\n"
          ],
          "name": "stdout"
        },
        {
          "output_type": "stream",
          "text": [
            "/usr/local/lib/python3.6/dist-packages/numpy/core/fromnumeric.py:87: VisibleDeprecationWarning: Creating an ndarray from ragged nested sequences (which is a list-or-tuple of lists-or-tuples-or ndarrays with different lengths or shapes) is deprecated. If you meant to do this, you must specify 'dtype=object' when creating the ndarray\n",
            "  return ufunc.reduce(obj, axis, dtype, out, **passkwargs)\n"
          ],
          "name": "stderr"
        }
      ]
    },
    {
      "cell_type": "markdown",
      "metadata": {
        "id": "s7G8_UyA_rDY"
      },
      "source": [
        "## Solve linear problem using PULP"
      ]
    },
    {
      "cell_type": "code",
      "metadata": {
        "colab": {
          "base_uri": "https://localhost:8080/"
        },
        "id": "aaPSPO1Y6pEo",
        "outputId": "15d96f26-b4d3-4213-af67-65b5ff72ea2a"
      },
      "source": [
        "# Install\n",
        "!pip install pulp\n",
        "# Import\n",
        "import pulp as pu\n",
        "# Model\n",
        "m = pu.LpProblem('LinearProblem',pu.LpMinimize)\n",
        "# Variables\n",
        "x = pu.LpVariable.dicts('x', list(range(nvar)), lowBound=0, cat=\"Continuous\")\n",
        "# Objective function\n",
        "m += sum(c[i]*x[i] for i in range(nvar))\n",
        "# Constraints\n",
        "for j in range(ncon):\n",
        "  m += sum(A[j][i]*x[i] for i in range(nvar)) <= b[j]\n",
        "# Solve problem\n",
        "m.solve()\n",
        "# Princ results\n",
        "print('Status:', pu.LpStatus[m.status])\n",
        "print('Optimal value:',pu.value(m.objective))\n",
        "print('Optimal solution:',[x[i].varValue for i in range(nvar)])"
      ],
      "execution_count": 48,
      "outputs": [
        {
          "output_type": "stream",
          "text": [
            "Requirement already satisfied: pulp in /usr/local/lib/python3.6/dist-packages (2.4)\n",
            "Requirement already satisfied: amply>=0.1.2 in /usr/local/lib/python3.6/dist-packages (from pulp) (0.1.4)\n",
            "Requirement already satisfied: docutils>=0.3 in /usr/local/lib/python3.6/dist-packages (from amply>=0.1.2->pulp) (0.16)\n",
            "Requirement already satisfied: pyparsing in /usr/local/lib/python3.6/dist-packages (from amply>=0.1.2->pulp) (2.4.7)\n",
            "Status: Optimal\n",
            "Optimal value: 0.27835616399999996\n",
            "Optimal solution: [0.0, 1.4155251, 1.3561644, 0.0, 0.0, 0.0, 0.0, 0.0, 0.0, 0.0]\n"
          ],
          "name": "stdout"
        }
      ]
    },
    {
      "cell_type": "markdown",
      "metadata": {
        "id": "ffF4QCfKCklH"
      },
      "source": [
        "## Solve linear problem using PYOMO"
      ]
    },
    {
      "cell_type": "code",
      "metadata": {
        "colab": {
          "base_uri": "https://localhost:8080/"
        },
        "id": "p4l5jqeB_wtC",
        "outputId": "8d07f873-9979-43a5-a243-a311b3c608cd"
      },
      "source": [
        "# Install\n",
        "!pip install pyomo\n",
        "# Import\n",
        "import pyomo.environ as pe\n",
        "# Model\n",
        "m = pe.ConcreteModel()\n",
        "# Sets\n",
        "m.i = pe.Set(initialize=range(nvar),ordered=True)\n",
        "m.j = pe.Set(initialize=range(ncon),ordered=True)\n",
        "# Variables\n",
        "m.z = pe.Var()\n",
        "m.x = pe.Var(m.i,within=pe.NonNegativeReals)\n",
        "# Objective function\n",
        "def obj_rule(m):\n",
        "  return sum(c[i]*m.x[i] for i in m.i)\n",
        "m.obj = pe.Objective(rule=obj_rule)\n",
        "# Constraints\n",
        "def con_rule(m,j):\n",
        "  return sum(A[j][i]*m.x[i] for i in m.i) <= b[j]\n",
        "m.con = pe.Constraint(m.j,rule=con_rule)\n",
        "# Solve problem using NEOS server\n",
        "os.environ['NEOS_EMAIL'] = 'xxx@gmail.com'\n",
        "res = pe.SolverManagerFactory('neos').solve(m,opt=pe.SolverFactory('cplex'))\n",
        "print(res['Solver'][0])\n",
        "# Print results\n",
        "print('Optimal value:',m.obj())\n",
        "print('Optimal solution:',[m.x[i].value for i in m.i])"
      ],
      "execution_count": 49,
      "outputs": [
        {
          "output_type": "stream",
          "text": [
            "Requirement already satisfied: pyomo in /usr/local/lib/python3.6/dist-packages (5.7.3)\n",
            "Requirement already satisfied: ply in /usr/local/lib/python3.6/dist-packages (from pyomo) (3.11)\n",
            "Requirement already satisfied: PyUtilib>=6.0.0 in /usr/local/lib/python3.6/dist-packages (from pyomo) (6.0.0)\n",
            "Requirement already satisfied: six>=1.4 in /usr/local/lib/python3.6/dist-packages (from pyomo) (1.15.0)\n",
            "Requirement already satisfied: nose in /usr/local/lib/python3.6/dist-packages (from PyUtilib>=6.0.0->pyomo) (1.3.7)\n",
            "\n",
            "Status: ok\n",
            "Message: CPLEX 12.10.0.0\\x3a optimal solution; objective 0.27835616438356164; 2 dual simplex iterations (0 in phase I)\n",
            "Termination condition: optimal\n",
            "Id: 0\n",
            "\n",
            "Optimal value: 0.27835616438356164\n",
            "Optimal solution: [0.0, 1.4155251141552512, 1.3561643835616437, 0.0, 0.0, 0.0, 0.0, 0.0, 0.0, 0.0]\n"
          ],
          "name": "stdout"
        }
      ]
    }
  ]
}