{
  "nbformat": 4,
  "nbformat_minor": 0,
  "metadata": {
    "colab": {
      "name": "LinearProgramming.ipynb",
      "provenance": [],
      "authorship_tag": "ABX9TyMg1zOshAGO/eRrikPTx6fw",
      "include_colab_link": true
    },
    "kernelspec": {
      "name": "python3",
      "display_name": "Python 3"
    }
  },
  "cells": [
    {
      "cell_type": "markdown",
      "metadata": {
        "id": "view-in-github",
        "colab_type": "text"
      },
      "source": [
        "<a href=\"https://colab.research.google.com/github/salvapineda/notebooks/blob/main/LinearProgramming.ipynb\" target=\"_parent\"><img src=\"https://colab.research.google.com/assets/colab-badge.svg\" alt=\"Open In Colab\"/></a>"
      ]
    },
    {
      "cell_type": "markdown",
      "metadata": {
        "id": "vjSEzfYjDcXK"
      },
      "source": [
        "# Solving linear problems in Python\n",
        "\n",
        "This notebook compares different alternatives to solve optimization problems in Python\n",
        "\n",
        "We solve a standard linear programming problem of the form\n",
        "\n",
        "```\n",
        "min  c*x\n",
        "s.t. A*x <= b\n",
        "     x >= 0\n",
        "```"
      ]
    },
    {
      "cell_type": "markdown",
      "metadata": {
        "id": "PpXaM39N_dLj"
      },
      "source": [
        "## Import basic packages"
      ]
    },
    {
      "cell_type": "code",
      "metadata": {
        "id": "Dj9hYeXY8PFw"
      },
      "source": [
        "# Import \n",
        "import os\n",
        "import numpy as np\n",
        "import pandas as pd"
      ],
      "execution_count": 16,
      "outputs": []
    },
    {
      "cell_type": "markdown",
      "metadata": {
        "id": "BT3FQmJt_gin"
      },
      "source": [
        "## Create random vectors and matrix of linear problem"
      ]
    },
    {
      "cell_type": "code",
      "metadata": {
        "id": "P5Areoe857kc"
      },
      "source": [
        "# Import\n",
        "import random\n",
        "# Number of variables and constraints\n",
        "nvar = 10\n",
        "ncon = 5\n",
        "# Random vectors and matrix of linear problem\n",
        "c = [round(abs(random.gauss(0,1)),2) for i in range(nvar)]\n",
        "A = [[round(random.gauss(0,1),2) for i in range(nvar)] for j in range(ncon)]\n",
        "b = [round(random.gauss(0,1),2) for j in range(ncon)]"
      ],
      "execution_count": 43,
      "outputs": []
    },
    {
      "cell_type": "markdown",
      "metadata": {
        "id": "cBRj109D_m6N"
      },
      "source": [
        "## Solve linear problem using scipy"
      ]
    },
    {
      "cell_type": "code",
      "metadata": {
        "colab": {
          "base_uri": "https://localhost:8080/"
        },
        "id": "i1RuqhGs6SKS",
        "outputId": "4a002ec8-b3e2-4f19-9d7d-944b2f85623e"
      },
      "source": [
        "# Import\n",
        "from scipy.optimize import linprog\n",
        "# Solve problem\n",
        "res = linprog(c, A_ub=A, b_ub=b)\n",
        "# Print results\n",
        "print(res)"
      ],
      "execution_count": 29,
      "outputs": [
        {
          "output_type": "stream",
          "text": [
            "     con: array([], dtype=float64)\n",
            "     fun: 0.7654054054074841\n",
            " message: 'Optimization terminated successfully.'\n",
            "     nit: 7\n",
            "   slack: array([2.26594595e+00, 3.72797297e+00, 5.32907052e-13, 8.74594595e-01,\n",
            "       3.36216216e-01])\n",
            "  status: 0\n",
            " success: True\n",
            "       x: array([5.85579428e-13, 2.39189189e+00, 1.86099448e-13, 5.97607163e-13,\n",
            "       5.23603797e-13, 1.33538571e-13, 8.57285335e-14, 2.12200317e-13,\n",
            "       1.34743901e-13, 1.32345031e-11])\n"
          ],
          "name": "stdout"
        },
        {
          "output_type": "stream",
          "text": [
            "/usr/local/lib/python3.6/dist-packages/numpy/core/fromnumeric.py:87: VisibleDeprecationWarning: Creating an ndarray from ragged nested sequences (which is a list-or-tuple of lists-or-tuples-or ndarrays with different lengths or shapes) is deprecated. If you meant to do this, you must specify 'dtype=object' when creating the ndarray\n",
            "  return ufunc.reduce(obj, axis, dtype, out, **passkwargs)\n"
          ],
          "name": "stderr"
        }
      ]
    },
    {
      "cell_type": "markdown",
      "metadata": {
        "id": "s7G8_UyA_rDY"
      },
      "source": [
        "## Solve linear problem using pulp"
      ]
    },
    {
      "cell_type": "code",
      "metadata": {
        "colab": {
          "base_uri": "https://localhost:8080/"
        },
        "id": "aaPSPO1Y6pEo",
        "outputId": "c8f1a30b-9fc4-4426-fdb2-2c87d0c1a7aa"
      },
      "source": [
        "# Install\n",
        "!pip install pulp\n",
        "# Import\n",
        "import pulp as pu\n",
        "# Model\n",
        "m = pu.LpProblem('LinearProblem',pu.LpMinimize)\n",
        "# Variables\n",
        "x = pu.LpVariable.dicts('x', list(range(nvar)), lowBound=0, cat=\"Continuous\")\n",
        "# Objective function\n",
        "m += sum(c[i]*x[i] for i in range(nvar))\n",
        "# Constraints\n",
        "for j in range(ncon):\n",
        "  m += sum(A[j][i]*x[i] for i in range(nvar)) <= b[j]\n",
        "# Solve problem\n",
        "m.solve()\n",
        "# Princ results\n",
        "print('Status:', pu.LpStatus[m.status])\n",
        "print('Optimal value:',pu.value(m.objective))\n",
        "print('Optimal solution:',[x[i].varValue for i in range(nvar)])"
      ],
      "execution_count": 33,
      "outputs": [
        {
          "output_type": "stream",
          "text": [
            "Requirement already satisfied: pulp in /usr/local/lib/python3.6/dist-packages (2.4)\n",
            "Requirement already satisfied: amply>=0.1.2 in /usr/local/lib/python3.6/dist-packages (from pulp) (0.1.4)\n",
            "Requirement already satisfied: docutils>=0.3 in /usr/local/lib/python3.6/dist-packages (from amply>=0.1.2->pulp) (0.16)\n",
            "Requirement already satisfied: pyparsing in /usr/local/lib/python3.6/dist-packages (from amply>=0.1.2->pulp) (2.4.7)\n",
            "Status: Optimal\n",
            "Optimal value: 0.765405408\n",
            "Optimal solution: [0.0, 2.3918919, 0.0, 0.0, 0.0, 0.0, 0.0, 0.0, 0.0, 0.0]\n"
          ],
          "name": "stdout"
        }
      ]
    },
    {
      "cell_type": "markdown",
      "metadata": {
        "id": "ffF4QCfKCklH"
      },
      "source": [
        "## Solve linear problem using Pyomo"
      ]
    },
    {
      "cell_type": "code",
      "metadata": {
        "colab": {
          "base_uri": "https://localhost:8080/"
        },
        "id": "p4l5jqeB_wtC",
        "outputId": "035208a4-2d7b-498a-d7fd-1b8164542532"
      },
      "source": [
        "# Install\n",
        "!pip install pyomo\n",
        "# Import\n",
        "import pyomo.environ as pe\n",
        "# Model\n",
        "m = pe.ConcreteModel()\n",
        "# Sets\n",
        "m.i = pe.Set(initialize=range(nvar),ordered=True)\n",
        "m.j = pe.Set(initialize=range(ncon),ordered=True)\n",
        "# Variables\n",
        "m.z = pe.Var()\n",
        "m.x = pe.Var(m.i,within=pe.NonNegativeReals)\n",
        "# Objective function\n",
        "def obj_rule(m):\n",
        "  return sum(c[i]*m.x[i] for i in m.i)\n",
        "m.obj = pe.Objective(rule=obj_rule)\n",
        "# Constraints\n",
        "def con_rule(m,j):\n",
        "  return sum(A[j][i]*m.x[i] for i in m.i) <= b[j]\n",
        "m.con = pe.Constraint(m.j,rule=con_rule)\n",
        "# Solve problem using NEOS server\n",
        "os.environ['NEOS_EMAIL'] = 'xxx@gmail.com'\n",
        "res = pe.SolverManagerFactory('neos').solve(m,opt=pe.SolverFactory('cplex'))\n",
        "print(res['Solver'][0])\n",
        "# Print results\n",
        "print('Optimal value:',m.obj())\n",
        "print('Optimal solution:',[m.x[i].value for i in m.i])"
      ],
      "execution_count": 44,
      "outputs": [
        {
          "output_type": "stream",
          "text": [
            "Requirement already satisfied: pyomo in /usr/local/lib/python3.6/dist-packages (5.7.3)\n",
            "Requirement already satisfied: ply in /usr/local/lib/python3.6/dist-packages (from pyomo) (3.11)\n",
            "Requirement already satisfied: PyUtilib>=6.0.0 in /usr/local/lib/python3.6/dist-packages (from pyomo) (6.0.0)\n",
            "Requirement already satisfied: six>=1.4 in /usr/local/lib/python3.6/dist-packages (from pyomo) (1.15.0)\n",
            "Requirement already satisfied: nose in /usr/local/lib/python3.6/dist-packages (from PyUtilib>=6.0.0->pyomo) (1.3.7)\n",
            "\n",
            "Status: ok\n",
            "Message: CPLEX 12.10.0.0\\x3a optimal solution; objective 1.965689993159713; 4 dual simplex iterations (0 in phase I)\n",
            "Termination condition: optimal\n",
            "Id: 0\n",
            "\n",
            "Optimal value: 1.965689993159713\n",
            "Optimal solution: [0.0, 0.20698960609953482, 1.8609711540065732, 0.24795208461936313, 0.0, 0.0, 0.0, 0.0, 0.0, 0.0]\n"
          ],
          "name": "stdout"
        }
      ]
    }
  ]
}