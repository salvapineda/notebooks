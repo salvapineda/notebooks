{
  "nbformat": 4,
  "nbformat_minor": 0,
  "metadata": {
    "colab": {
      "name": "LinearProgramming.ipynb",
      "provenance": [],
      "authorship_tag": "ABX9TyMdvOU50Xk2uUVJfnsWb0zi",
      "include_colab_link": true
    },
    "kernelspec": {
      "name": "python3",
      "display_name": "Python 3"
    }
  },
  "cells": [
    {
      "cell_type": "markdown",
      "metadata": {
        "id": "view-in-github",
        "colab_type": "text"
      },
      "source": [
        "<a href=\"https://colab.research.google.com/github/salvapineda/notebooks/blob/main/LinearProgramming.ipynb\" target=\"_parent\"><img src=\"https://colab.research.google.com/assets/colab-badge.svg\" alt=\"Open In Colab\"/></a>"
      ]
    },
    {
      "cell_type": "markdown",
      "metadata": {
        "id": "vjSEzfYjDcXK"
      },
      "source": [
        "# Linear Programming in Python\n",
        "\n",
        "This notebook compares different alternatives to solve optimization problems in Python\n",
        "\n",
        "We solve a standard linear programming problem of the form\n",
        "\n",
        "```\n",
        "min  c*x\n",
        "s.t. A*x <= b\n",
        "     x >= 0\n",
        "```"
      ]
    },
    {
      "cell_type": "markdown",
      "metadata": {
        "id": "BT3FQmJt_gin"
      },
      "source": [
        "## Create random vectors and matrix of linear problem"
      ]
    },
    {
      "cell_type": "code",
      "metadata": {
        "id": "P5Areoe857kc"
      },
      "source": [
        "# Import\n",
        "import random\n",
        "# Number of variables and constraints\n",
        "nvar = 10\n",
        "ncon = 5\n",
        "# Random vectors and matrix of linear problem\n",
        "c = [round(abs(random.gauss(0,1)),2) for i in range(nvar)]\n",
        "A = [[round(random.gauss(0,1),2) for i in range(nvar)] for j in range(ncon)]\n",
        "b = [round(random.gauss(0,1),2) for j in range(ncon)]"
      ],
      "execution_count": 46,
      "outputs": []
    },
    {
      "cell_type": "markdown",
      "metadata": {
        "id": "cBRj109D_m6N"
      },
      "source": [
        "## Solve linear problem using SCIPY"
      ]
    },
    {
      "cell_type": "code",
      "metadata": {
        "id": "i1RuqhGs6SKS"
      },
      "source": [
        "# Import\n",
        "from scipy.optimize import linprog\n",
        "# Solve problem\n",
        "res = linprog(c, A_ub=A, b_ub=b)\n",
        "# Print results\n",
        "print(res)"
      ],
      "execution_count": null,
      "outputs": []
    },
    {
      "cell_type": "markdown",
      "metadata": {
        "id": "s7G8_UyA_rDY"
      },
      "source": [
        "## Solve linear problem using PULP"
      ]
    },
    {
      "cell_type": "code",
      "metadata": {
        "id": "aaPSPO1Y6pEo"
      },
      "source": [
        "# Install\n",
        "!pip install pulp\n",
        "# Import\n",
        "import pulp as pu\n",
        "# Model\n",
        "m = pu.LpProblem('LinearProblem',pu.LpMinimize)\n",
        "# Variables\n",
        "x = pu.LpVariable.dicts('x', list(range(nvar)), lowBound=0, cat=\"Continuous\")\n",
        "# Objective function\n",
        "m += sum(c[i]*x[i] for i in range(nvar))\n",
        "# Constraints\n",
        "for j in range(ncon):\n",
        "  m += sum(A[j][i]*x[i] for i in range(nvar)) <= b[j]\n",
        "# Solve problem\n",
        "m.solve()\n",
        "# Princ results\n",
        "print('Status:', pu.LpStatus[m.status])\n",
        "print('Optimal value:',pu.value(m.objective))\n",
        "print('Optimal solution:',[x[i].varValue for i in range(nvar)])"
      ],
      "execution_count": null,
      "outputs": []
    },
    {
      "cell_type": "markdown",
      "metadata": {
        "id": "ffF4QCfKCklH"
      },
      "source": [
        "## Solve linear problem using PYOMO"
      ]
    },
    {
      "cell_type": "code",
      "metadata": {
        "id": "p4l5jqeB_wtC"
      },
      "source": [
        "# Install\n",
        "!pip install pyomo\n",
        "# Import\n",
        "import os\n",
        "import pyomo.environ as pe\n",
        "# Model\n",
        "m = pe.ConcreteModel()\n",
        "# Sets\n",
        "m.i = pe.Set(initialize=range(nvar),ordered=True)\n",
        "m.j = pe.Set(initialize=range(ncon),ordered=True)\n",
        "# Variables\n",
        "m.z = pe.Var()\n",
        "m.x = pe.Var(m.i,within=pe.NonNegativeReals)\n",
        "# Objective function\n",
        "def obj_rule(m):\n",
        "  return sum(c[i]*m.x[i] for i in m.i)\n",
        "m.obj = pe.Objective(rule=obj_rule)\n",
        "# Constraints\n",
        "def con_rule(m,j):\n",
        "  return sum(A[j][i]*m.x[i] for i in m.i) <= b[j]\n",
        "m.con = pe.Constraint(m.j,rule=con_rule)\n",
        "# Solve problem using NEOS server\n",
        "os.environ['NEOS_EMAIL'] = 'xxx@gmail.com'\n",
        "res = pe.SolverManagerFactory('neos').solve(m,opt=pe.SolverFactory('cplex'))\n",
        "print(res['Solver'][0])\n",
        "# Print results\n",
        "print('Optimal value:',m.obj())\n",
        "print('Optimal solution:',[m.x[i].value for i in m.i])"
      ],
      "execution_count": null,
      "outputs": []
    }
  ]
}