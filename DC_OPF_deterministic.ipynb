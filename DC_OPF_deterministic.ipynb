{
  "nbformat": 4,
  "nbformat_minor": 0,
  "metadata": {
    "colab": {
      "name": "DC_OPF_deterministic",
      "provenance": [],
      "include_colab_link": true
    },
    "kernelspec": {
      "name": "python3",
      "display_name": "Python 3"
    },
    "language_info": {
      "name": "python"
    }
  },
  "cells": [
    {
      "cell_type": "markdown",
      "metadata": {
        "id": "view-in-github",
        "colab_type": "text"
      },
      "source": [
        "<a href=\"https://colab.research.google.com/github/salvapineda/notebooks/blob/main/DC_OPF_deterministic.ipynb\" target=\"_parent\"><img src=\"https://colab.research.google.com/assets/colab-badge.svg\" alt=\"Open In Colab\"/></a>"
      ]
    },
    {
      "cell_type": "markdown",
      "source": [
        "This is the code for the deterministic DC optimal power flow."
      ],
      "metadata": {
        "id": "SBUrIBPAEAn4"
      }
    },
    {
      "cell_type": "markdown",
      "source": [
        "#Requirements"
      ],
      "metadata": {
        "id": "5tMquUgkM4DO"
      }
    },
    {
      "cell_type": "code",
      "source": [
        "!pip install -q gurobipy\n",
        "import gurobipy as gp\n",
        "from gurobipy import GRB\n",
        "import numpy as np\n",
        "import pandas as pd"
      ],
      "metadata": {
        "id": "OMWAYVLpwHWL"
      },
      "execution_count": null,
      "outputs": []
    },
    {
      "cell_type": "markdown",
      "source": [
        "# Data"
      ],
      "metadata": {
        "id": "52NZV8GtwQLe"
      }
    },
    {
      "cell_type": "code",
      "source": [
        "# generation data\n",
        "gen = pd.DataFrame({        \n",
        "       'bus':       [0,    1, 2],\n",
        "       'cost':      [20,   30, 0], \n",
        "       'cost_up':   [30,   35, 0], \n",
        "       'cost_do':   [10,   25, 0], \n",
        "       'pmin':      [0,   0, 0], \n",
        "       'pmax':      [100,  50, 0]})\n",
        "\n",
        "lin = pd.DataFrame({\n",
        "       'line': [0,   1,   2], \n",
        "       'from': [0,   0,   1],\n",
        "       'to':   [1,   2,   2], \n",
        "       'b':    [1,  1,  1], \n",
        "       'cap':  [60, 60, 60]})\n",
        "\n",
        "# Number of elements in the system\n",
        "nbus = max(max(lin['from']),max(lin['to']))+1\n",
        "ngen = nbus\n",
        "nlin = len(lin)\n",
        "\n",
        "# Power Transfer Distribution Factor\n",
        "A_max = np.zeros((nlin,nbus))\n",
        "for l in range(nlin): \n",
        "    A_max[l,lin.loc[l,'from']] = 1\n",
        "    A_max[l,lin.loc[l,'to']]   = -1 \n",
        "node_ref = 0\n",
        "A_m  = np.delete(A_max,node_ref,axis=1)\n",
        "X_m  = np.diag(1/lin['b'].values)\n",
        "B_m  = np.linalg.multi_dot([A_m.T,np.linalg.inv(X_m),A_m])\n",
        "ptdf = np.linalg.multi_dot([np.linalg.inv(X_m),A_m,np.linalg.inv(B_m)])\n",
        "PTDF = np.round(np.insert(ptdf,node_ref,np.zeros(nlin),axis=1),5)\n",
        "\n",
        "# State of the system\n",
        "demand = np.array([0,0,90])\n",
        "var = np.array([0,0,20])      \n",
        "scen = np.zeros((len(demand),11))\n",
        "scen[2,:] = np.array([-1,-0.8,-0.6,-0.4,-0.2,0,0.2,0.4,0.6,0.8,1])\n",
        "scen20    = 20*scen\n",
        "demand_scenarios = np.reshape(demand,(3,1)) + scen20"
      ],
      "metadata": {
        "id": "8p78d7ifwSSE"
      },
      "execution_count": null,
      "outputs": []
    },
    {
      "cell_type": "markdown",
      "source": [
        "# Deterministic DC-OPF\n",
        "\\begin{align}\n",
        "\\min_{p_n} \\quad &  \\sum_n c_n p_n  \\\\\n",
        "\\text{s.t.} \\quad &  \\sum_n p_n - d_n =0 \\\\\n",
        "& \\underline{p}_n \\leq p_n \\leq \\overline{p}_n, \\quad \\forall n \\\\\n",
        "& -\\overline{f}_l \\leq \\sum_n B_{ln}\\left(p_n-d_n\\right) \\leq \\overline{f}_l, \\quad \\forall l\n",
        "\\end{align}"
      ],
      "metadata": {
        "id": "R9fetpvywXIX"
      }
    },
    {
      "cell_type": "code",
      "source": [
        "def dc_opf_det(demand):\n",
        "  # model\n",
        "  m = gp.Model() \n",
        "  # variables\n",
        "  power = m.addMVar(ngen,name='gen')\n",
        "  # objective function\n",
        "  m.setObjective(gen['cost'].values @ power, GRB.MINIMIZE)\n",
        "  # constraints\n",
        "  m.addConstr(power.sum() == demand.sum())\n",
        "  m.addConstr(power >= gen['pmin'].values)\n",
        "  m.addConstr(power <= gen['pmax'].values)\n",
        "  m.addConstr(PTDF @ power >= -lin['cap'].values + PTDF @ demand)\n",
        "  m.addConstr(PTDF @ power <=  lin['cap'].values + PTDF @ demand)\n",
        "  # solve\n",
        "  m.setParam('OutputFlag',0)\n",
        "  m.optimize()\n",
        "  # results\n",
        "  print('########## Deterministic #############')\n",
        "  print('cost =',round(m.ObjVal,1))\n",
        "  print('dispatch =',np.round(power.X,2))\n",
        "  print('flow =',np.round(PTDF @ power.X - PTDF @ demand,2))\n",
        "  return power.X"
      ],
      "metadata": {
        "id": "yzHYrxKRwcqu"
      },
      "execution_count": null,
      "outputs": []
    },
    {
      "cell_type": "markdown",
      "source": [
        "# Real time operation\n",
        "\n",
        "\\begin{align}\n",
        "\\underset{r^u_n\\geq 0,r^d_n\\geq 0}{\\min} \\quad & \\sum_n c_n p^*_n + c^u_n r^u_n - c^d_n r^d_n \\\\\n",
        "\\text{s.t.} \\quad & \\sum_n p^*_n+r^u_n-r^d_n = \\sum_n \\tilde{d}_n - e \\eta_n\\\\\n",
        "& \\underline{p} \\leq p^*_n + r^u_n-r^d_n \\leq \\overline{p}_n, \\quad \\forall n\\\\\n",
        "& -\\overline{f}_l \\leq \\sum_n b_{ln}(p^*_n + r^u_n-r^d_n -\\tilde{d}_n) \\leq \\overline{f}_l, \\quad \\forall l \\\\\n",
        "\\end{align}"
      ],
      "metadata": {
        "id": "uvGh5O_mw4gJ"
      }
    },
    {
      "cell_type": "code",
      "source": [
        "def real_time(demand,dispatch):\n",
        "  # model\n",
        "  m = gp.Model()\n",
        "  # variables\n",
        "  res_up = m.addMVar(ngen)\n",
        "  res_do = m.addMVar(ngen)\n",
        "  # objective function\n",
        "  m.setObjective(gen['cost'].values @ dispatch + gen['cost_up'].values @ res_up - gen['cost_do'].values @ res_do, GRB.MINIMIZE)\n",
        "  # constraints\n",
        "  m.addConstr(dispatch.sum() + res_up.sum() - res_do.sum() == demand.sum())\n",
        "  m.addConstr(dispatch + res_up - res_do >= gen['pmin'].values)\n",
        "  m.addConstr(dispatch + res_up - res_do <= gen['pmax'].values)\n",
        "  m.addConstr(PTDF @ dispatch + PTDF @ res_up - PTDF @ res_do - PTDF @ demand >= -lin['cap'].values)\n",
        "  m.addConstr(PTDF @ dispatch + PTDF @ res_up - PTDF @ res_do - PTDF @ demand <=  lin['cap'].values)\n",
        "  # solve\n",
        "  m.setParam('OutputFlag',0)\n",
        "  m.optimize()\n",
        "  return m.ObjVal"
      ],
      "metadata": {
        "id": "5apYbyPBxZt3"
      },
      "execution_count": null,
      "outputs": []
    },
    {
      "cell_type": "code",
      "source": [
        "def evaluate_scenarios(dispatch,demand_scenarios):\n",
        "  v_cost = []\n",
        "  for s in range(demand_scenarios.shape[1]):\n",
        "    obj = real_time(demand_scenarios[:,s],dispatch)\n",
        "    v_cost.append(obj)    \n",
        "  print('minimum cost =',round(np.min(v_cost),1))\n",
        "  print('average cost =',round(np.mean(v_cost),1))\n",
        "  print('maximum cost =',round(np.max(v_cost),1))"
      ],
      "metadata": {
        "id": "KZ-701RexivM"
      },
      "execution_count": null,
      "outputs": []
    },
    {
      "cell_type": "markdown",
      "source": [
        "# Evaluate the deterministic DC-OPF"
      ],
      "metadata": {
        "id": "qma7elbjxoz4"
      }
    },
    {
      "cell_type": "code",
      "source": [
        "gen_det = dc_opf_det(demand)\n",
        "evaluate_scenarios(np.round(gen_det,2), demand_scenarios)"
      ],
      "metadata": {
        "colab": {
          "base_uri": "https://localhost:8080/"
        },
        "id": "GxJ6LHjnxzoF",
        "outputId": "536cf9dc-4f8d-43a7-ef7d-131e4457d56c"
      },
      "execution_count": null,
      "outputs": [
        {
          "output_type": "stream",
          "name": "stdout",
          "text": [
            "Restricted license - for non-production use only - expires 2023-10-25\n",
            "########## Deterministic #############\n",
            "cost = 1800.0\n",
            "dispatch = [90.  0.  0.]\n",
            "flow = [30. 60. 30.]\n",
            "minimum cost = 1600.0\n",
            "average cost = 2072.7\n",
            "maximum cost = 3000.0\n"
          ]
        }
      ]
    }
  ]
}